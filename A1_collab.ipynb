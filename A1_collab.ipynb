{
 "cells": [
  {
   "cell_type": "markdown",
   "metadata": {},
   "source": [
    "# Task 1"
   ]
  },
  {
   "cell_type": "markdown",
   "metadata": {},
   "source": [
    "# TASK 1A: EXPLORATORY DATA ANALYSIS"
   ]
  },
  {
   "cell_type": "code",
   "execution_count": 1,
   "metadata": {
    "id": "dIqxVbTkHLsa"
   },
   "outputs": [],
   "source": [
    "import pandas as pd\n",
    "import numpy as np\n",
    "import re\n",
    "import random\n",
    "import string\n",
    "import seaborn as sns\n",
    "from datetime import datetime\n",
    "import matplotlib.pyplot as plt"
   ]
  },
  {
   "cell_type": "code",
   "execution_count": 2,
   "metadata": {
    "id": "D8jddiXcHYHA"
   },
   "outputs": [],
   "source": [
    "df = pd.read_csv('./data/ODI-adapted2.csv', sep=';')"
   ]
  },
  {
   "cell_type": "code",
   "execution_count": 3,
   "metadata": {
    "colab": {
     "base_uri": "https://localhost:8080/"
    },
    "id": "-g6RKUTnKRiq",
    "outputId": "a45fc9dc-b67e-419e-f71d-1eb5ee4786d4"
   },
   "outputs": [
    {
     "data": {
      "text/plain": [
       "Index(['send_date', 'program', 'taken_machine_learning_course',\n",
       "       'taken_information_retrieval_course', 'taken_statistics_course',\n",
       "       'taken_database_course', 'gender', 'have_used_chatgpt', 'birthdate',\n",
       "       'students_in_the_room_gamble', 'stood_up', 'stresslevel',\n",
       "       'hours_of_sports_week', 'random_number', 'time_to_bed', 'good_day_1',\n",
       "       'good_day_2'],\n",
       "      dtype='object')"
      ]
     },
     "execution_count": 3,
     "metadata": {},
     "output_type": "execute_result"
    }
   ],
   "source": [
    "df = df.rename(columns={'Tijdstempel': 'send_date', 'What programme are you in?': 'program', 'Have you taken a course on machine learning?': \n",
    "                        'taken_machine_learning_course', 'Have you taken a course on information retrieval?': 'taken_information_retrieval_course', \n",
    "                        'Have you taken a course on statistics?': 'taken_statistics_course', 'Have you taken a course on databases?': \n",
    "                        'taken_database_course', 'What is your gender?': 'gender', 'I have used ChatGPT to help me with some of my study assignments ': \n",
    "                        'have_used_chatgpt', 'When is your birthday (date)?': 'birthdate', 'How many students do you estimate there are in the room?':\n",
    "                        'students_in_the_room_gamble', 'Did you stand up to come to your previous answer    ?': 'stood_up', 'Give a random number': 'random_number', \n",
    "                        'What is your stress level (0-100)?':'stresslevel', 'How many hours per week do you do sports (in whole hours)? ': 'hours_of_sports_week', \n",
    "                        'Time you went to bed Yesterday': 'time_to_bed', 'What makes a good day for you (1)?': 'good_day_1', 'What makes a good day for you (2)?': \n",
    "                        'good_day_2'})\n",
    "df.columns"
   ]
  },
  {
   "cell_type": "code",
   "execution_count": 4,
   "metadata": {
    "colab": {
     "base_uri": "https://localhost:8080/",
     "height": 363
    },
    "id": "RwRBfPITMfDg",
    "outputId": "c74184db-05ee-463e-ed8e-b3ff49f83256"
   },
   "outputs": [
    {
     "data": {
      "text/html": [
       "<div>\n",
       "<style scoped>\n",
       "    .dataframe tbody tr th:only-of-type {\n",
       "        vertical-align: middle;\n",
       "    }\n",
       "\n",
       "    .dataframe tbody tr th {\n",
       "        vertical-align: top;\n",
       "    }\n",
       "\n",
       "    .dataframe thead th {\n",
       "        text-align: right;\n",
       "    }\n",
       "</style>\n",
       "<table border=\"1\" class=\"dataframe\">\n",
       "  <thead>\n",
       "    <tr style=\"text-align: right;\">\n",
       "      <th></th>\n",
       "      <th>send_date</th>\n",
       "      <th>program</th>\n",
       "      <th>taken_machine_learning_course</th>\n",
       "      <th>taken_information_retrieval_course</th>\n",
       "      <th>taken_statistics_course</th>\n",
       "      <th>taken_database_course</th>\n",
       "      <th>gender</th>\n",
       "      <th>have_used_chatgpt</th>\n",
       "      <th>birthdate</th>\n",
       "      <th>students_in_the_room_gamble</th>\n",
       "      <th>stood_up</th>\n",
       "      <th>stresslevel</th>\n",
       "      <th>hours_of_sports_week</th>\n",
       "      <th>random_number</th>\n",
       "      <th>time_to_bed</th>\n",
       "      <th>good_day_1</th>\n",
       "      <th>good_day_2</th>\n",
       "    </tr>\n",
       "  </thead>\n",
       "  <tbody>\n",
       "    <tr>\n",
       "      <th>0</th>\n",
       "      <td>4-4-2023 12:08:33</td>\n",
       "      <td>Masters - AI</td>\n",
       "      <td>yes</td>\n",
       "      <td>0</td>\n",
       "      <td>mu</td>\n",
       "      <td>nee</td>\n",
       "      <td>gender fluid</td>\n",
       "      <td>yes</td>\n",
       "      <td>23/11/1997</td>\n",
       "      <td>319</td>\n",
       "      <td>unknown</td>\n",
       "      <td>100</td>\n",
       "      <td>0</td>\n",
       "      <td>69</td>\n",
       "      <td>11:30</td>\n",
       "      <td>Ashes</td>\n",
       "      <td>Not ashes</td>\n",
       "    </tr>\n",
       "    <tr>\n",
       "      <th>1</th>\n",
       "      <td>4-4-2023 12:08:36</td>\n",
       "      <td>Artificial Intelligence</td>\n",
       "      <td>no</td>\n",
       "      <td>0</td>\n",
       "      <td>sigma</td>\n",
       "      <td>nee</td>\n",
       "      <td>male</td>\n",
       "      <td>not willing to say</td>\n",
       "      <td>5th August, 1995</td>\n",
       "      <td>600</td>\n",
       "      <td>no</td>\n",
       "      <td>60</td>\n",
       "      <td>2</td>\n",
       "      <td>42</td>\n",
       "      <td>23:00</td>\n",
       "      <td>good food</td>\n",
       "      <td>good sleep</td>\n",
       "    </tr>\n",
       "    <tr>\n",
       "      <th>2</th>\n",
       "      <td>4-4-2023 12:08:38</td>\n",
       "      <td>AI</td>\n",
       "      <td>no</td>\n",
       "      <td>0</td>\n",
       "      <td>mu</td>\n",
       "      <td>nee</td>\n",
       "      <td>female</td>\n",
       "      <td>no</td>\n",
       "      <td>21/09</td>\n",
       "      <td>220</td>\n",
       "      <td>no</td>\n",
       "      <td>20</td>\n",
       "      <td>5</td>\n",
       "      <td>17</td>\n",
       "      <td>23:30</td>\n",
       "      <td>Sports</td>\n",
       "      <td>Friends</td>\n",
       "    </tr>\n",
       "    <tr>\n",
       "      <th>3</th>\n",
       "      <td>4-4-2023 12:08:52</td>\n",
       "      <td>Data mining</td>\n",
       "      <td>yes</td>\n",
       "      <td>1</td>\n",
       "      <td>mu</td>\n",
       "      <td>ja</td>\n",
       "      <td>male</td>\n",
       "      <td>yes</td>\n",
       "      <td>25-06-1996</td>\n",
       "      <td>100</td>\n",
       "      <td>unknown</td>\n",
       "      <td>50</td>\n",
       "      <td>5</td>\n",
       "      <td>12</td>\n",
       "      <td>23:00</td>\n",
       "      <td>Gym</td>\n",
       "      <td>Piano</td>\n",
       "    </tr>\n",
       "    <tr>\n",
       "      <th>4</th>\n",
       "      <td>4-4-2023 12:08:59</td>\n",
       "      <td>Quantitative Risk Management</td>\n",
       "      <td>no</td>\n",
       "      <td>0</td>\n",
       "      <td>mu</td>\n",
       "      <td>nee</td>\n",
       "      <td>male</td>\n",
       "      <td>yes</td>\n",
       "      <td>18-08-1998</td>\n",
       "      <td>300</td>\n",
       "      <td>no</td>\n",
       "      <td>65</td>\n",
       "      <td>10</td>\n",
       "      <td>874</td>\n",
       "      <td>23:00</td>\n",
       "      <td>Relax</td>\n",
       "      <td>Sun</td>\n",
       "    </tr>\n",
       "  </tbody>\n",
       "</table>\n",
       "</div>"
      ],
      "text/plain": [
       "           send_date                       program  \\\n",
       "0  4-4-2023 12:08:33                  Masters - AI   \n",
       "1  4-4-2023 12:08:36       Artificial Intelligence   \n",
       "2  4-4-2023 12:08:38                            AI   \n",
       "3  4-4-2023 12:08:52                   Data mining   \n",
       "4  4-4-2023 12:08:59  Quantitative Risk Management   \n",
       "\n",
       "  taken_machine_learning_course taken_information_retrieval_course  \\\n",
       "0                           yes                                  0   \n",
       "1                            no                                  0   \n",
       "2                            no                                  0   \n",
       "3                           yes                                  1   \n",
       "4                            no                                  0   \n",
       "\n",
       "  taken_statistics_course taken_database_course        gender  \\\n",
       "0                      mu                   nee  gender fluid   \n",
       "1                   sigma                   nee          male   \n",
       "2                      mu                   nee        female   \n",
       "3                      mu                    ja          male   \n",
       "4                      mu                   nee          male   \n",
       "\n",
       "    have_used_chatgpt         birthdate students_in_the_room_gamble stood_up  \\\n",
       "0                 yes        23/11/1997                         319  unknown   \n",
       "1  not willing to say  5th August, 1995                         600       no   \n",
       "2                  no             21/09                         220       no   \n",
       "3                 yes        25-06-1996                         100  unknown   \n",
       "4                 yes        18-08-1998                         300       no   \n",
       "\n",
       "  stresslevel hours_of_sports_week random_number time_to_bed good_day_1  \\\n",
       "0         100                    0            69       11:30      Ashes   \n",
       "1          60                    2            42       23:00  good food   \n",
       "2          20                    5            17       23:30     Sports   \n",
       "3          50                    5            12       23:00        Gym   \n",
       "4          65                   10           874       23:00      Relax   \n",
       "\n",
       "   good_day_2  \n",
       "0   Not ashes  \n",
       "1  good sleep  \n",
       "2     Friends  \n",
       "3       Piano  \n",
       "4         Sun  "
      ]
     },
     "execution_count": 4,
     "metadata": {},
     "output_type": "execute_result"
    }
   ],
   "source": [
    "pd.set_option('display.max_columns', None)\n",
    "df.head()"
   ]
  },
  {
   "cell_type": "code",
   "execution_count": 5,
   "metadata": {
    "colab": {
     "base_uri": "https://localhost:8080/"
    },
    "id": "Ek6LKiJCMzfM",
    "outputId": "02a94922-0e02-4a96-9764-346c97cc0673"
   },
   "outputs": [
    {
     "data": {
      "text/plain": [
       "(305, 17)"
      ]
     },
     "execution_count": 5,
     "metadata": {},
     "output_type": "execute_result"
    }
   ],
   "source": [
    "# Print how many rows/columns there are\n",
    "df.shape"
   ]
  },
  {
   "cell_type": "code",
   "execution_count": 6,
   "metadata": {
    "colab": {
     "base_uri": "https://localhost:8080/",
     "height": 427
    },
    "id": "PXS2zgGUhBKN",
    "outputId": "6f2d0005-c43e-4585-8e94-8ac01894c2c4"
   },
   "outputs": [
    {
     "data": {
      "image/png": "[encoded data removed]",
      "text/plain": [
       "<Figure size 432x288 with 1 Axes>"
      ]
     },
     "metadata": {},
     "output_type": "display_data"
    }
   ],
   "source": [
    "# count the number of occurrences of each program in the program column\n",
    "program_counts = df['program'].value_counts()\n",
    "\n",
    "# create a pie chart of the program counts with smaller labels\n",
    "plt.pie(program_counts, labels=program_counts.index, autopct='%1.1f%%', textprops={'fontsize': 8})\n",
    "\n",
    "# add title\n",
    "plt.title('Pie Chart of Programs')\n",
    "\n",
    "# show the plot\n",
    "plt.show()"
   ]
  },
  {
   "cell_type": "code",
   "execution_count": 7,
   "metadata": {
    "colab": {
     "base_uri": "https://localhost:8080/",
     "height": 511
    },
    "id": "4FOZBf5Q2AbP",
    "outputId": "6b15beb3-304c-46a8-f1c2-38d72fe40f0c"
   },
   "outputs": [
    {
     "data": {
      "image/png": "[encoded data removed]",
      "text/plain": [
       "<Figure size 720x360 with 2 Axes>"
      ]
     },
     "metadata": {},
     "output_type": "display_data"
    }
   ],
   "source": [
    "# create a 1x2 grid of subplots\n",
    "fig, axs = plt.subplots(1, 2, figsize=(10, 5))\n",
    "\n",
    "# plot the pie chart of the taken_machine_learning_course column in the left subplot\n",
    "ml_counts = df['taken_machine_learning_course'].value_counts()\n",
    "axs[0].pie(ml_counts, labels=ml_counts.index, autopct='%1.1f%%')\n",
    "axs[0].set_title('Machine Learning Course')\n",
    "\n",
    "# plot the pie chart of the taken_statistics_course column in the right subplot\n",
    "stats_counts = df['taken_statistics_course'].value_counts()\n",
    "axs[1].pie(stats_counts, labels=stats_counts.index, autopct='%1.1f%%')\n",
    "axs[1].set_title('Statistics Course')\n",
    "\n",
    "# add overall title to the plot\n",
    "fig.suptitle('Pie Charts of ML and Statistics Courses')\n",
    "\n",
    "# adjust layout\n",
    "plt.tight_layout()\n",
    "\n",
    "# show the plot\n",
    "plt.show()"
   ]
  },
  {
   "cell_type": "code",
   "execution_count": 8,
   "metadata": {
    "id": "osU16rd7NdqY"
   },
   "outputs": [],
   "source": [
    "# create a regular expression pattern to match all values referring to AI\n",
    "pattern1 = r'(.*Artificial Intelligence.*|.*AI.*|.*Ai.*|.*Artificial.*|.*Artifscial Intelligense.*)'\n",
    "pattern2 = r'(.*CS.*|.*Computer Science.*|.*Computer science.*|.*Masters cs.*|.*computer science.*)'\n",
    "pattern3 = r'(.*Bioinformatics.*|.*Systems Biology.*|.*Bio-informatics.*|.*bioinformatics.*|.*Bionformatics.*)'\n",
    "pattern16 = r'(.*operations research.*|.*& Operations Research.*)'\n",
    "pattern4 = r'(.*Econometrics(?! and Operations Research).*|.*Econometrics MSc.*)'\n",
    "pattern5 = r'(.*Business Analytics.*|.*Master Business Analytics.*|.*BA.*|.*business analytics.*|.*Business analytics.*)'\n",
    "pattern6 = r'(.*PhD.*)'\n",
    "pattern7 = r'(.*Biomedical Sciences.*|.*Biomedical sciences.*)'\n",
    "pattern8 = r'(.*Human Language Technology.*)'\n",
    "pattern9 = r'(.*computational.*|.*Computational Science.*|.*Computational.*)'\n",
    "pattern10 = r'(.*Information Sciences.*)'\n",
    "pattern11 = r'(.*Human language.*)'\n",
    "pattern12 = r'(.*Finance and Technology.*|.*finance and technology.*|.*Finance & Technology.*|.*fintech.*|.*FinTech.*|.*finance & technology.*)'\n",
    "pattern13 = r'(.*Finance.*|.*Economics.*)'\n",
    "pattern14 = r'(.*Digital Business and Innovation.*)'\n",
    "pattern15 = r'(.*Quantitative Risk Management.*|.*QRM.*)'\n",
    "pattern17 = r'(.*exchange.*|.*Exchange.*)'\n",
    "\n",
    "# replace all values matching the pattern with \"AI\" in the program column\n",
    "df['program'].replace(pattern1, 'Artificial Intelligence', regex=True, inplace=True)\n",
    "df['program'].replace(pattern2, 'Computer Science', regex=True, inplace=True)\n",
    "df['program'].replace(pattern3, 'Bioinformatics and Systems Biology', regex=True, inplace=True)\n",
    "df['program'].replace(pattern16, 'Econometrics and Operations Research', regex=True, inplace=True)\n",
    "df['program'].replace(pattern4, 'Econometrics', regex=True, inplace=True)\n",
    "df['program'].replace(pattern5, 'Business Analytics', regex=True, inplace=True)\n",
    "df['program'].replace(pattern6, 'PhD', regex=True, inplace=True)\n",
    "df['program'].replace(pattern7, 'Biomedical Sciences', regex=True, inplace=True)\n",
    "df['program'].replace(pattern8, 'Human Language Technology', regex=True, inplace=True)\n",
    "df['program'].replace(pattern9, 'Computational Science', regex=True, inplace=True)\n",
    "df['program'].replace(pattern10, 'Information Sciences', regex=True, inplace=True)\n",
    "df['program'].replace(pattern11, 'Human Language Technology', regex=True, inplace=True)\n",
    "df['program'].replace(pattern12, 'Finance and Technology', regex=True, inplace=True)\n",
    "df['program'].replace(pattern13, 'Finance', regex=True, inplace=True)\n",
    "df['program'].replace(pattern14, 'Digital Business and Innovation', regex=True, inplace=True)\n",
    "df['program'].replace(pattern15, 'Quantitative Risk Management', regex=True, inplace=True)\n",
    "df['program'].replace(pattern17, 'Exchange', regex=True, inplace=True)"
   ]
  },
  {
   "cell_type": "code",
   "execution_count": 9,
   "metadata": {
    "colab": {
     "base_uri": "https://localhost:8080/"
    },
    "id": "BChdRrTANgDS",
    "outputId": "2c0eaf42-660b-496c-b1c1-8c39dc8899eb"
   },
   "outputs": [
    {
     "data": {
      "text/plain": [
       "28"
      ]
     },
     "execution_count": 9,
     "metadata": {},
     "output_type": "execute_result"
    }
   ],
   "source": [
    "# Plot unique values for programs \n",
    "len(df['program'].unique())"
   ]
  },
  {
   "cell_type": "code",
   "execution_count": 10,
   "metadata": {},
   "outputs": [],
   "source": [
    "# List of unwanted values\n",
    "unwanted_values = ['aryamaan710@gmail.com', '116', 'CLS', 'Exchange', 'Hyperbolic Time Chamber', 'High school 3rd grade', 'Data thingy']\n",
    "\n",
    "# Replace unwanted values with NaN\n",
    "df['program'] = df['program'].replace(unwanted_values, np.nan)"
   ]
  },
  {
   "cell_type": "code",
   "execution_count": 11,
   "metadata": {},
   "outputs": [
    {
     "ename": "SyntaxError",
     "evalue": "invalid syntax (<ipython-input-11-d41b023a53ae>, line 1)",
     "output_type": "error",
     "traceback": [
      "\u001b[0;36m  Input \u001b[0;32mIn [11]\u001b[0;36m\u001b[0m\n\u001b[0;31m    Get the three most frequent values in the column\u001b[0m\n\u001b[0m        ^\u001b[0m\n\u001b[0;31mSyntaxError\u001b[0m\u001b[0;31m:\u001b[0m invalid syntax\n"
     ]
    }
   ],
   "source": [
    "Get the three most frequent values in the column\n",
    "top_three_values = df['program'].value_counts().head(3).index.tolist()\n",
    "\n",
    "# Replace NaN values with random choice among the top three values\n",
    "df['program'] = df['program'].fillna(pd.Series(np.random.choice(top_three_values, size=len(df['program'].index))))\n"
   ]
  },
  {
   "cell_type": "code",
   "execution_count": null,
   "metadata": {
    "colab": {
     "base_uri": "https://localhost:8080/"
    },
    "id": "wFbJu8aSJ5S1",
    "outputId": "29e1b9d3-2e6c-4024-8379-900969bbfc2f",
    "scrolled": true
   },
   "outputs": [],
   "source": [
    "# Plot unique values for programs \n",
    "df['program'].unique()"
   ]
  },
  {
   "cell_type": "markdown",
   "metadata": {
    "id": "omyl_72-JbS0"
   },
   "source": [
    "# TASK 1B: DATA CLEANING\n"
   ]
  },
  {
   "cell_type": "markdown",
   "metadata": {
    "id": "xFbycL60w7V5"
   },
   "source": [
    "Clean the student gamble column"
   ]
  },
  {
   "cell_type": "code",
   "execution_count": null,
   "metadata": {
    "id": "Wk8ti5YBtbP5"
   },
   "outputs": [],
   "source": [
    "# Clean the gamble on amount of students in the room by removi\n",
    "for i in range(len(df['students_in_the_room_gamble'])):\n",
    "    try:\n",
    "        df['students_in_the_room_gamble'][i] = pd.to_numeric(df['students_in_the_room_gamble'][i], errors='raise')\n",
    "    except:\n",
    "        df['students_in_the_room_gamble'][i] = np.nan\n",
    "\n",
    "gamble = np.asarray(df['students_in_the_room_gamble'])"
   ]
  },
  {
   "cell_type": "code",
   "execution_count": null,
   "metadata": {
    "id": "qDF7hcrAvhnH"
   },
   "outputs": [],
   "source": [
    "# Clean the student gamble outliers, and replace with the mean\n",
    "# calculate the z-scores for the 'students_in_the_room_gamble' column\n",
    "z_scores = np.abs((df['students_in_the_room_gamble'] - np.mean(df['students_in_the_room_gamble'])) / np.std(df['students_in_the_room_gamble']))\n",
    "\n",
    "# define a threshold for identifying outliers (z-score > 3 for example)\n",
    "threshold = 3\n",
    "\n",
    "# identify the outliers and replace with the mean value\n",
    "df['students_in_the_room_gamble'][z_scores > threshold] = np.mean(df['students_in_the_room_gamble'])"
   ]
  },
  {
   "cell_type": "code",
   "execution_count": null,
   "metadata": {
    "id": "GYe80xXmwio9"
   },
   "outputs": [],
   "source": [
    "# calculate the mean value of the 'students_in_the_room_gamble' column\n",
    "mean_value = np.mean(df['students_in_the_room_gamble'])\n",
    "\n",
    "# replace NaN values with the mean value\n",
    "df['students_in_the_room_gamble'] = df['students_in_the_room_gamble'].fillna(mean_value)"
   ]
  },
  {
   "cell_type": "code",
   "execution_count": null,
   "metadata": {
    "colab": {
     "base_uri": "https://localhost:8080/",
     "height": 471
    },
    "id": "kFhu-Nl7xHI0",
    "outputId": "a0348e4f-7b89-4002-80d3-748961d28729"
   },
   "outputs": [],
   "source": [
    "# plot the 'students_in_the_room_gamble' column\n",
    "plt.hist(df['students_in_the_room_gamble'], bins=20)\n",
    "plt.title('Distribution of Students in the Room Gamble')\n",
    "plt.xlabel('Number of Students')\n",
    "plt.ylabel('Frequency')\n",
    "plt.show()"
   ]
  },
  {
   "cell_type": "markdown",
   "metadata": {
    "id": "ap0Ce0ELxtG9"
   },
   "source": [
    "Clean the stress level column"
   ]
  },
  {
   "cell_type": "code",
   "execution_count": null,
   "metadata": {
    "colab": {
     "base_uri": "https://localhost:8080/"
    },
    "id": "cgnMb7rYxw8v",
    "outputId": "23635925-edd4-45d3-b676-bf6ca20d44c0"
   },
   "outputs": [],
   "source": [
    "# Clean the gamble on amount of students in the room by removi\n",
    "for i in range(len(df['stresslevel'])):\n",
    "    try:\n",
    "        df['stresslevel'][i] = pd.to_numeric(df['stresslevel'][i], errors='raise')\n",
    "    except:\n",
    "        df['stresslevel'][i] = np.nan"
   ]
  },
  {
   "cell_type": "code",
   "execution_count": null,
   "metadata": {
    "colab": {
     "base_uri": "https://localhost:8080/"
    },
    "id": "Cn96fKNKyA_k",
    "outputId": "c248bf1b-4744-4b90-ebb2-a92a4a1ed7e4"
   },
   "outputs": [],
   "source": [
    "# Clean the student gamble outliers, and replace with the mean\n",
    "# calculate the z-scores for the 'students_in_the_room_gamble' column\n",
    "z_scores = np.abs((df['stresslevel'] - np.mean(df['stresslevel'])) / np.std(df['stresslevel']))\n",
    "\n",
    "# define a threshold for identifying outliers (z-score > 3 for example)\n",
    "threshold = 3\n",
    "\n",
    "# identify the outliers and replace with the mean value\n",
    "df['stresslevel'][z_scores > threshold] = np.mean(df['stresslevel'])"
   ]
  },
  {
   "cell_type": "code",
   "execution_count": null,
   "metadata": {
    "id": "q5a5Kr5GyXPu"
   },
   "outputs": [],
   "source": [
    "# set a range of 0 to 100 for the stresslevel, and replace outliers with the median (mean was outside of max and min due to outliers)\n",
    "min_value = 0\n",
    "max_value = 100\n",
    "\n",
    "median_value = np.median(df['stresslevel'])\n",
    "\n",
    "replace_value = min_value if median_value < min_value else max_value if median_value > max_value else median_value\n",
    "df['stresslevel'] = np.where((df['stresslevel'] < min_value) | (df['stresslevel'] > max_value), replace_value, df['stresslevel'])"
   ]
  },
  {
   "cell_type": "code",
   "execution_count": null,
   "metadata": {
    "id": "VSkrZq43zJYq"
   },
   "outputs": [],
   "source": [
    "# replace NaN values with a random value between 0 and 100\n",
    "df['stresslevel'] = df['stresslevel'].apply(lambda x: np.random.randint(0, 101) if pd.isna(x) else x)"
   ]
  },
  {
   "cell_type": "code",
   "execution_count": null,
   "metadata": {
    "colab": {
     "base_uri": "https://localhost:8080/",
     "height": 471
    },
    "id": "Pb5chP3orcvP",
    "outputId": "44111952-5d41-461c-8290-4f874dab68b5"
   },
   "outputs": [],
   "source": [
    "plt.hist(df['stresslevel'], bins=20)\n",
    "plt.title('Stresslevel')\n",
    "plt.xlabel('Stresslevel')\n",
    "plt.ylabel('Frequency')\n",
    "plt.show()"
   ]
  },
  {
   "cell_type": "markdown",
   "metadata": {
    "id": "7K7lIT7SzzeW"
   },
   "source": [
    "Clean the amount of hours per week of sports column"
   ]
  },
  {
   "cell_type": "code",
   "execution_count": null,
   "metadata": {
    "colab": {
     "base_uri": "https://localhost:8080/"
    },
    "id": "rp4QiQv90B0Q",
    "outputId": "76ac33d1-9fa3-4ebe-b3d5-34c054451cee"
   },
   "outputs": [],
   "source": [
    "# Clean the gamble on amount of students in the room by replacing every value that cannot be transformed to numeric to nan\n",
    "for i in range(len(df['hours_of_sports_week'])):\n",
    "    try:\n",
    "        df['hours_of_sports_week'][i] = pd.to_numeric(df['hours_of_sports_week'][i], errors='raise')\n",
    "    except:\n",
    "        df['hours_of_sports_week'][i] = np.nan\n",
    "    \n",
    "    # If the amount of sports in hours is smaller than 0, set to nan\n",
    "    if df['hours_of_sports_week'][i] < 0:\n",
    "        df['hours_of_sports_week'][i] = np.nan    "
   ]
  },
  {
   "cell_type": "code",
   "execution_count": null,
   "metadata": {
    "colab": {
     "base_uri": "https://localhost:8080/"
    },
    "id": "9C0ncc6Y0ZW3",
    "outputId": "dd678385-6fa1-423a-bcb0-e16cbe0f9e62"
   },
   "outputs": [],
   "source": [
    "# Clean the student gamble outliers, and replace with the mean\n",
    "# calculate the z-scores for the 'students_in_the_room_gamble' column\n",
    "z_scores = np.abs((df['hours_of_sports_week'] - np.mean(df['hours_of_sports_week'])) / np.std(df['hours_of_sports_week']))\n",
    "\n",
    "# define a threshold for identifying outliers (z-score > 3 for example)\n",
    "threshold = 3\n",
    "\n",
    "# identify the outliers and replace with the mean value\n",
    "df['hours_of_sports_week'][z_scores > threshold] = np.mean(df['hours_of_sports_week'])"
   ]
  },
  {
   "cell_type": "code",
   "execution_count": null,
   "metadata": {
    "id": "UNjNXFUy0fOX"
   },
   "outputs": [],
   "source": [
    "# calculate the mean value of the 'students_in_the_room_gamble' column\n",
    "mean_value = np.mean(df['hours_of_sports_week'])\n",
    "\n",
    "# replace NaN values with the mean value\n",
    "df['hours_of_sports_week'] = df['hours_of_sports_week'].fillna(mean_value)"
   ]
  },
  {
   "cell_type": "code",
   "execution_count": null,
   "metadata": {
    "colab": {
     "base_uri": "https://localhost:8080/",
     "height": 471
    },
    "id": "uKzOtueb05Dd",
    "outputId": "c8739a41-c989-449c-c0f0-afcaae9f8a0e",
    "scrolled": false
   },
   "outputs": [],
   "source": [
    "# plot the 'students_in_the_room_gamble' column\n",
    "plt.hist(df['hours_of_sports_week'], bins=20)\n",
    "plt.title('Hours of sports of students')\n",
    "plt.xlabel('Hours of sports')\n",
    "plt.ylabel('Frequency')\n",
    "plt.show()"
   ]
  },
  {
   "cell_type": "markdown",
   "metadata": {},
   "source": [
    "Cleaning the time to bed column"
   ]
  },
  {
   "cell_type": "code",
   "execution_count": null,
   "metadata": {},
   "outputs": [],
   "source": [
    "print(np.asarray(df['time_to_bed']))"
   ]
  },
  {
   "cell_type": "code",
   "execution_count": null,
   "metadata": {
    "id": "qpUHOqMN4xnE"
   },
   "outputs": [],
   "source": [
    "try:\n",
    "  df['time_to_bed'] = pd.to_datetime(df['time_to_bed'], format='%H:%M').dt.time\n",
    "except:\n",
    "  pass"
   ]
  },
  {
   "cell_type": "code",
   "execution_count": null,
   "metadata": {
    "id": "1uOGVg2B5CvG"
   },
   "outputs": [],
   "source": [
    "time_pattern = r\"^(0?[0-9]|1[0-9]|2[0-3]):[0-5][0-9]$\"\n",
    "\n",
    "valid_times = [time for time in df['time_to_bed'] if re.match(time_pattern, time)]\n",
    "mean_time = pd.Series(valid_times).apply(lambda x: pd.to_datetime(x, format='%H:%M')).mean().strftime('%H:%M')\n",
    "\n",
    "# Replace each value that does not match the pattern with the mean time value\n",
    "df['time_to_bed'] = df['time_to_bed'].apply(lambda x: mean_time if not re.match(time_pattern, x) else x)\n"
   ]
  },
  {
   "cell_type": "code",
   "execution_count": null,
   "metadata": {
    "colab": {
     "base_uri": "https://localhost:8080/",
     "height": 467
    },
    "id": "2mgg_g7VVdcW",
    "outputId": "7fc08795-41b5-4b07-f313-2c7fad4d23f0",
    "scrolled": true
   },
   "outputs": [],
   "source": [
    "print(np.asarray(df['time_to_bed']))"
   ]
  },
  {
   "cell_type": "markdown",
   "metadata": {},
   "source": [
    "Cleaning the date of birth column, extracting the year of birth to a new column"
   ]
  },
  {
   "cell_type": "code",
   "execution_count": null,
   "metadata": {},
   "outputs": [],
   "source": [
    "df['year_of_birth'] = df['birthdate'].str.extract(r'(\\d{4})')\n",
    "df['year_of_birth'].unique()"
   ]
  },
  {
   "cell_type": "markdown",
   "metadata": {},
   "source": [
    "Clean the good_day_1 and good_day_2 column of punctuation marks for further analysis "
   ]
  },
  {
   "cell_type": "code",
   "execution_count": null,
   "metadata": {},
   "outputs": [],
   "source": [
    "def _remove_punctuation(x):\n",
    "    # Remove punctuation marks (excluding whitespace) using regular expressions\n",
    "    clean_text = re.sub(rf\"[{string.punctuation}]\",\"\", str(x))\n",
    "    return clean_text\n",
    "\n",
    "df['good_day_1'] = df['good_day_1'].apply(_remove_punctuation)\n",
    "df['good_day_2'] = df['good_day_2'].apply(_remove_punctuation)"
   ]
  },
  {
   "cell_type": "markdown",
   "metadata": {},
   "source": [
    "# TASK 1C: FEATURE ENGINEERING"
   ]
  },
  {
   "cell_type": "markdown",
   "metadata": {},
   "source": [
    "Creating age column"
   ]
  },
  {
   "cell_type": "code",
   "execution_count": null,
   "metadata": {},
   "outputs": [],
   "source": [
    "def _extract_age(x):\n",
    "    try:\n",
    "        return 2023 - int(x)\n",
    "    except:\n",
    "        return 0\n",
    "\n",
    "df['age'] = df['year_of_birth'].apply(_extract_age)\n"
   ]
  },
  {
   "cell_type": "code",
   "execution_count": null,
   "metadata": {
    "scrolled": false
   },
   "outputs": [],
   "source": [
    "df.head()"
   ]
  },
  {
   "cell_type": "code",
   "execution_count": null,
   "metadata": {},
   "outputs": [],
   "source": [
    "# convert the 'year_of_birth' column to numerical format\n",
    "df['year_of_birth'] = pd.to_numeric(df['year_of_birth'], errors='coerce')"
   ]
  },
  {
   "cell_type": "code",
   "execution_count": null,
   "metadata": {},
   "outputs": [],
   "source": [
    "# Clean the student gamble outliers, and replace with the mean\n",
    "# calculate the z-scores for the 'students_in_the_room_gamble' column\n",
    "z_scores = np.abs((df['year_of_birth'] - np.mean(df['year_of_birth'])) / np.std(df['year_of_birth']))\n",
    "\n",
    "# define a threshold for identifying outliers (z-score > 3 for example)\n",
    "threshold = 3\n",
    "\n",
    "# identify the outliers and replace with the mean value\n",
    "df['year_of_birth'][z_scores > threshold] = np.median(df['year_of_birth'])"
   ]
  },
  {
   "cell_type": "code",
   "execution_count": null,
   "metadata": {},
   "outputs": [],
   "source": [
    "# fill missing values with the mean value of the column\n",
    "median_birth_year = int(df['year_of_birth'].median())\n",
    "# Choose median, because mean was "
   ]
  },
  {
   "cell_type": "code",
   "execution_count": null,
   "metadata": {
    "scrolled": true
   },
   "outputs": [],
   "source": [
    "df['year_of_birth'] = df['year_of_birth'].fillna(median_birth_year)"
   ]
  },
  {
   "cell_type": "code",
   "execution_count": null,
   "metadata": {},
   "outputs": [],
   "source": [
    "print(np.asarray(df['year_of_birth']))"
   ]
  },
  {
   "cell_type": "markdown",
   "metadata": {},
   "source": [
    "Analysing the good_day_1 and 2 column , to examine the possible general category "
   ]
  },
  {
   "cell_type": "code",
   "execution_count": null,
   "metadata": {
    "scrolled": true
   },
   "outputs": [],
   "source": [
    "df['good_day_1'].unique()"
   ]
  },
  {
   "cell_type": "code",
   "execution_count": null,
   "metadata": {},
   "outputs": [],
   "source": [
    "import nltk\n",
    "# run below only once to download the wordnet if not present on system\n",
    "# nltk.download('wordnet')\n",
    "from nltk.corpus import wordnet as wn\n",
    "from nltk.stem import WordNetLemmatizer\n"
   ]
  },
  {
   "cell_type": "code",
   "execution_count": null,
   "metadata": {},
   "outputs": [],
   "source": [
    "# In this example, we use the WordNet ontology to find synsets (sets of synonyms) for each word in the group of words. \n",
    "# We then check each lemma (a specific word form) in each synset to see if it matches any of the related terms for each hobby category. \n",
    "# We keep a count of how many matches each category has, and choose the category with the most matches as the predicted category.\n",
    "\n",
    "# Preprocess the group of words to be classified\n",
    "# words_to_classify = \"I love making lasagna\"\n",
    "# preprocessed_words = [word.lower() for word in words_to_classify.split()]\n",
    "\n",
    "def _extract_category(x):\n",
    "    try:\n",
    "        # The keys in below dictionary is a generic categorical aspect of life to which the text entered by user in the good day column is mapped\n",
    "        # The values are list of words that are mapped to the category\n",
    "        generic_category = {\n",
    "            \"weather\": [\"warm\", \"weather\", \"sunny\", \"skies\", \"sun\", \"air\", \"sunset\"],\n",
    "            \"socializing\" : [\"friend\",\"sex\", \"family\", \"people\", \"love\", \"person\", \"socializing\", \"gossiping\", \"company\", \"relationship\", \"you\", \"alone\", \"cat\", \"dog\"],\n",
    "            \"food\" : [\"meal\", \"coffee\", \"tea\", \"food\", \"breakfast\", \"bread\", \"eat\", \"oatmeal\",\"snacks\", \"pizza\", \"lunch\", \"cake\", \"cook\", \"bake\", \"grill\"],\n",
    "            \"drinking\": [\"wine\", \"beer\",  \"drink\",\"alcohol\"],\n",
    "            \"vacation\": [\"holiday\", \"free time\", \"leisure\", \"vacation\", \"weekend\", \"friday\", \"saturday\", \"sunday\"],\n",
    "            \"relaxation\" : [\"sleep\", \"sleeping\", \"nap\", \"rest\", \"relax\", \"experience\", \"no\", \"stress\",\"fun\", \"mood\", \"nothing\", \"chill\", \"free\"],\n",
    "            \"entertainment\" : [\"tv\", \"netflix\", \"music\", \"cricket\", \"ashes\", \"video\", \"game\",\"movie\", \"reading\", \"read\", \"paint\", \"draw\", \"sketch\"], \n",
    "            \"productivity\" :[\"work\", \"done\",\"productive\", \"code\", \"morning\", \"routine\", \"timetable\", \"results\", \"winning\", \"progress\", \"grade\", \"money\", \"successful\", \"productivity\"],\n",
    "            \"physical_exercise\" : [\"yoga\", \"football\", \"gym\",\"sports\", \"active\", \"workout\", \"bike\", \"hike\", \"travel\"]\n",
    "        }\n",
    "\n",
    "        x = x.strip()\n",
    "        preprocessed_words = [word.lower() for word in x.split()]\n",
    "\n",
    "\n",
    "        # Map the preprocessed words to a category using the WordNet ontology\n",
    "        category_counts = {}\n",
    "        for word in preprocessed_words:\n",
    "            # get all the synonyms for the word from wordnet\n",
    "            synsets = wn.synsets(word)\n",
    "            for synset in synsets:\n",
    "                # for each lemma / root form of sysnonmy check if it exists in the list corresponding to each generic_category key\n",
    "                for lemma in synset.lemmas():\n",
    "                    for category, related_terms in generic_category.items():\n",
    "                        if lemma.name() in related_terms:\n",
    "                            category_counts[category] = category_counts.get(category, 0) + 1\n",
    "\n",
    "        # Choose the hobby category with the most matches\n",
    "        predicted_category = max(category_counts, key=category_counts.get)\n",
    "        return predicted_category\n",
    "    except:\n",
    "        return \"NA\""
   ]
  },
  {
   "cell_type": "code",
   "execution_count": null,
   "metadata": {},
   "outputs": [],
   "source": [
    "df['good_things_1'] = df['good_day_1'].apply(_extract_category)\n",
    "df['good_things_1'].value_counts()"
   ]
  },
  {
   "cell_type": "code",
   "execution_count": null,
   "metadata": {},
   "outputs": [],
   "source": [
    "df['good_things_2'] = df['good_day_2'].apply(_extract_category)\n",
    "df['good_things_2'].value_counts()"
   ]
  },
  {
   "cell_type": "code",
   "execution_count": null,
   "metadata": {},
   "outputs": [],
   "source": [
    "# df[df['good_things_2'] == 'NA']['good_day_2'].tolist()"
   ]
  },
  {
   "cell_type": "code",
   "execution_count": null,
   "metadata": {},
   "outputs": [],
   "source": [
    "df[['stresslevel', 'good_things_1','good_things_2']]"
   ]
  },
  {
   "cell_type": "code",
   "execution_count": null,
   "metadata": {},
   "outputs": [],
   "source": [
    "# Create a frequency plot\n",
    "sns.histplot(data = df['good_things_1'], kde=False)\n",
    "\n",
    "# Set plot title and axis labels\n",
    "plt.title('Distribution of good things 1')\n",
    "plt.xlabel('Value')\n",
    "plt.ylabel('Frequency')\n",
    "plt.xticks(rotation=60)\n",
    "plt.show()"
   ]
  },
  {
   "cell_type": "code",
   "execution_count": null,
   "metadata": {},
   "outputs": [],
   "source": [
    "# Create a frequency plot\n",
    "sns.histplot(data = df['good_things_2'], kde=False)\n",
    "\n",
    "# Set plot title and axis labels\n",
    "plt.title('Distribution of good things 2')\n",
    "plt.xlabel('Value')\n",
    "plt.ylabel('Frequency')\n",
    "plt.xticks(rotation=60)\n",
    "plt.show()"
   ]
  },
  {
   "cell_type": "markdown",
   "metadata": {},
   "source": [
    "Need to further 1 hot encode these for classification and regression tasks"
   ]
  },
  {
   "cell_type": "code",
   "execution_count": null,
   "metadata": {},
   "outputs": [],
   "source": [
    "df.head()"
   ]
  },
  {
   "cell_type": "markdown",
   "metadata": {},
   "source": [
    "Replace NA values for the good_things columns"
   ]
  },
  {
   "cell_type": "code",
   "execution_count": null,
   "metadata": {},
   "outputs": [],
   "source": [
    "'''Replace NA values for good_things_1'''\n",
    "df['good_things_1'] = df['good_things_1'].replace('NA', np.nan)\n",
    "\n",
    "# find the frequency of each category in the column\n",
    "freq_dict = df['good_things_1'].value_counts(normalize=True).to_dict()\n",
    "\n",
    "# remove NaN from the dictionary\n",
    "freq_dict = {k:v for k,v in freq_dict.items() if not pd.isna(k)}\n",
    "\n",
    "# find the top 3 categories\n",
    "top_categories = sorted(freq_dict, key=freq_dict.get, reverse=True)[:3]\n",
    "\n",
    "# randomly choose one of the top 3 categories for each NaN value\n",
    "df['good_things_1'] = df['good_things_1'].apply(lambda x: random.choice(top_categories) if pd.isna(x) else x)"
   ]
  },
  {
   "cell_type": "code",
   "execution_count": null,
   "metadata": {},
   "outputs": [],
   "source": [
    "'''Replace NA values for good_things_2'''\n",
    "df['good_things_2'] = df['good_things_2'].replace('NA', np.nan)\n",
    "\n",
    "# find the frequency of each category in the column\n",
    "freq_dict = df['good_things_2'].value_counts(normalize=True).to_dict()\n",
    "\n",
    "# remove NaN from the dictionary\n",
    "freq_dict = {k:v for k,v in freq_dict.items() if not pd.isna(k)}\n",
    "\n",
    "# find the top 3 categories\n",
    "top_categories = sorted(freq_dict, key=freq_dict.get, reverse=True)[:3]\n",
    "\n",
    "# randomly choose one of the top 3 categories for each NaN value\n",
    "df['good_things_2'] = df['good_things_2'].apply(lambda x: random.choice(top_categories) if pd.isna(x) else x)"
   ]
  },
  {
   "cell_type": "code",
   "execution_count": null,
   "metadata": {
    "scrolled": true
   },
   "outputs": [],
   "source": [
    "df.head()"
   ]
  },
  {
   "cell_type": "markdown",
   "metadata": {},
   "source": [
    "Clean the age column"
   ]
  },
  {
   "cell_type": "code",
   "execution_count": null,
   "metadata": {},
   "outputs": [],
   "source": [
    "# select the number of rows where the age is 0\n",
    "num_rows = df[df['age'] == 0].shape[0]\n",
    "\n",
    "print(num_rows)"
   ]
  },
  {
   "cell_type": "code",
   "execution_count": null,
   "metadata": {},
   "outputs": [],
   "source": [
    "# plot a histogram of the age column\n",
    "plt.hist(df['age'])\n",
    "\n",
    "# add labels to the plot\n",
    "plt.title('Age Distribution')\n",
    "plt.xlabel('Age')\n",
    "plt.ylabel('Count')\n",
    "\n",
    "# show the plot\n",
    "plt.show()"
   ]
  },
  {
   "cell_type": "code",
   "execution_count": null,
   "metadata": {},
   "outputs": [],
   "source": [
    "# Clean the student gamble outliers, and replace with the mean\n",
    "# calculate the z-scores for the 'students_in_the_room_gamble' column\n",
    "z_scores = np.abs((df['age'] - np.mean(df['age'])) / np.std(df['age']))\n",
    "\n",
    "# define a threshold for identifying outliers (z-score > 3 for example)\n",
    "threshold = 3\n",
    "\n",
    "# identify the outliers and replace with the mean value\n",
    "df['age'][z_scores > threshold] = np.mean(df['age'])"
   ]
  },
  {
   "cell_type": "code",
   "execution_count": null,
   "metadata": {},
   "outputs": [],
   "source": [
    "# replace 0 values in the age column with the mean age\n",
    "mean_age = df['age'].mean()\n",
    "df['age'] = df['age'].replace(0, int(mean_age))"
   ]
  },
  {
   "cell_type": "code",
   "execution_count": null,
   "metadata": {
    "scrolled": false
   },
   "outputs": [],
   "source": [
    "# plot a histogram of the age column\n",
    "plt.hist(df['age'])\n",
    "\n",
    "# add labels to the plot\n",
    "plt.title('Age Distribution')\n",
    "plt.xlabel('Age')\n",
    "plt.ylabel('Count')\n",
    "\n",
    "# show the plot\n",
    "plt.show()"
   ]
  },
  {
   "cell_type": "code",
   "execution_count": null,
   "metadata": {},
   "outputs": [],
   "source": [
    "# eliminating the outlier age\n",
    "ages  = df[df['age'] < 100]['age']\n",
    "sns.distplot(ages)\n"
   ]
  },
  {
   "cell_type": "markdown",
   "metadata": {},
   "source": [
    "Get number of background courses as column"
   ]
  },
  {
   "cell_type": "code",
   "execution_count": null,
   "metadata": {},
   "outputs": [],
   "source": [
    "df['taken_information_retrieval_course'] = df['taken_information_retrieval_course'].replace({'1': 'yes', '0': 'no'})\n",
    "df['taken_statistics_course'] = df['taken_statistics_course'].replace({'mu': 'yes', 'sigma': 'no'})\n",
    "df['taken_database_course'] = df['taken_database_course'].replace({'ja': 'yes', 'nee': 'no'})"
   ]
  },
  {
   "cell_type": "code",
   "execution_count": null,
   "metadata": {},
   "outputs": [],
   "source": [
    "# Create the column of number of background columns\n",
    "df['background_knowledge'] = df[['taken_machine_learning_course', 'taken_information_retrieval_course', 'taken_statistics_course', 'taken_database_course']].apply(lambda row: row.str.count('yes').sum(), axis=1)"
   ]
  },
  {
   "cell_type": "code",
   "execution_count": null,
   "metadata": {
    "scrolled": true
   },
   "outputs": [],
   "source": [
    "df.head()"
   ]
  },
  {
   "cell_type": "code",
   "execution_count": null,
   "metadata": {},
   "outputs": [],
   "source": [
    "# Drop the original good_day_x columns\n",
    "df = df.drop(['good_day_1', 'good_day_2', 'birthdate', 'year_of_birth'], axis=1)"
   ]
  },
  {
   "cell_type": "code",
   "execution_count": null,
   "metadata": {},
   "outputs": [],
   "source": [
    "# Convert float type columns to int which should be int\n",
    "df['age'] = df['age'].astype(int)\n",
    "\n",
    "df['students_in_the_room_gamble'] = df['students_in_the_room_gamble'].astype(int)\n",
    "\n",
    "df['hours_of_sports_week'] = df['hours_of_sports_week'].astype(int)"
   ]
  },
  {
   "cell_type": "code",
   "execution_count": null,
   "metadata": {
    "scrolled": true
   },
   "outputs": [],
   "source": [
    "df.head()"
   ]
  },
  {
   "cell_type": "code",
   "execution_count": null,
   "metadata": {},
   "outputs": [],
   "source": [
    "# Move column background_knowledge to a more appropriate position\n",
    "column = df.pop('background_knowledge')\n",
    "new_position = 6\n",
    "df.insert(new_position, 'background_knowledge', column) "
   ]
  },
  {
   "cell_type": "code",
   "execution_count": null,
   "metadata": {},
   "outputs": [],
   "source": [
    "df.head()"
   ]
  },
  {
   "cell_type": "code",
   "execution_count": null,
   "metadata": {},
   "outputs": [],
   "source": []
  }
 ],
 "metadata": {
  "colab": {
   "provenance": []
  },
  "kernelspec": {
   "display_name": "Python 3",
   "language": "python",
   "name": "python3"
  },
  "language_info": {
   "codemirror_mode": {
    "name": "ipython",
    "version": 3
   },
   "file_extension": ".py",
   "mimetype": "text/x-python",
   "name": "python",
   "nbconvert_exporter": "python",
   "pygments_lexer": "ipython3",
   "version": "3.9.12"
  }
 },
 "nbformat": 4,
 "nbformat_minor": 1
}
