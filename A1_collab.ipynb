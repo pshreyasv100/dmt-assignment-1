{
 "cells": [
  {
   "cell_type": "markdown",
   "metadata": {},
   "source": [
    "# Task 1"
   ]
  },
  {
   "cell_type": "markdown",
   "metadata": {},
   "source": [
    "# TASK 1A: EXPLORATORY DATA ANALYSIS"
   ]
  },
  {
   "cell_type": "code",
   "execution_count": 15,
   "metadata": {
    "id": "dIqxVbTkHLsa"
   },
   "outputs": [],
   "source": [
    "import pandas as pd\n",
    "import numpy as np\n",
    "import re\n",
    "import random\n",
    "import string\n",
    "import seaborn as sns\n",
    "from datetime import datetime\n",
    "import matplotlib.pyplot as plt"
   ]
  },
  {
   "cell_type": "code",
   "execution_count": 16,
   "metadata": {
    "id": "D8jddiXcHYHA"
   },
   "outputs": [],
   "source": [
    "df = pd.read_csv('./data/ODI-adapted2.csv', sep=';')"
   ]
  },
  {
   "cell_type": "code",
   "execution_count": 17,
   "metadata": {
    "colab": {
     "base_uri": "https://localhost:8080/"
    },
    "id": "-g6RKUTnKRiq",
    "outputId": "a45fc9dc-b67e-419e-f71d-1eb5ee4786d4"
   },
   "outputs": [
    {
     "data": {
      "text/plain": [
       "Index(['send_date', 'program', 'taken_machine_learning_course',\n",
       "       'taken_information_retrieval_course', 'taken_statistics_course',\n",
       "       'taken_database_course', 'gender', 'have_used_chatgpt', 'birthdate',\n",
       "       'students_in_the_room_gamble', 'stood_up', 'stresslevel',\n",
       "       'hours_of_sports_week', 'random_number', 'time_to_bed', 'good_day_1',\n",
       "       'good_day_2'],\n",
       "      dtype='object')"
      ]
     },
     "execution_count": 17,
     "metadata": {},
     "output_type": "execute_result"
    }
   ],
   "source": [
    "df = df.rename(columns={'Tijdstempel': 'send_date', 'What programme are you in?': 'program', 'Have you taken a course on machine learning?': \n",
    "                        'taken_machine_learning_course', 'Have you taken a course on information retrieval?': 'taken_information_retrieval_course', \n",
    "                        'Have you taken a course on statistics?': 'taken_statistics_course', 'Have you taken a course on databases?': \n",
    "                        'taken_database_course', 'What is your gender?': 'gender', 'I have used ChatGPT to help me with some of my study assignments ': \n",
    "                        'have_used_chatgpt', 'When is your birthday (date)?': 'birthdate', 'How many students do you estimate there are in the room?':\n",
    "                        'students_in_the_room_gamble', 'Did you stand up to come to your previous answer    ?': 'stood_up', 'Give a random number': 'random_number', \n",
    "                        'What is your stress level (0-100)?':'stresslevel', 'How many hours per week do you do sports (in whole hours)? ': 'hours_of_sports_week', \n",
    "                        'Time you went to bed Yesterday': 'time_to_bed', 'What makes a good day for you (1)?': 'good_day_1', 'What makes a good day for you (2)?': \n",
    "                        'good_day_2'})\n",
    "df.columns"
   ]
  },
  {
   "cell_type": "code",
   "execution_count": 18,
   "metadata": {
    "colab": {
     "base_uri": "https://localhost:8080/",
     "height": 363
    },
    "id": "RwRBfPITMfDg",
    "outputId": "c74184db-05ee-463e-ed8e-b3ff49f83256"
   },
   "outputs": [
    {
     "data": {
      "text/html": [
       "<div>\n",
       "<style scoped>\n",
       "    .dataframe tbody tr th:only-of-type {\n",
       "        vertical-align: middle;\n",
       "    }\n",
       "\n",
       "    .dataframe tbody tr th {\n",
       "        vertical-align: top;\n",
       "    }\n",
       "\n",
       "    .dataframe thead th {\n",
       "        text-align: right;\n",
       "    }\n",
       "</style>\n",
       "<table border=\"1\" class=\"dataframe\">\n",
       "  <thead>\n",
       "    <tr style=\"text-align: right;\">\n",
       "      <th></th>\n",
       "      <th>send_date</th>\n",
       "      <th>program</th>\n",
       "      <th>taken_machine_learning_course</th>\n",
       "      <th>taken_information_retrieval_course</th>\n",
       "      <th>taken_statistics_course</th>\n",
       "      <th>taken_database_course</th>\n",
       "      <th>gender</th>\n",
       "      <th>have_used_chatgpt</th>\n",
       "      <th>birthdate</th>\n",
       "      <th>students_in_the_room_gamble</th>\n",
       "      <th>stood_up</th>\n",
       "      <th>stresslevel</th>\n",
       "      <th>hours_of_sports_week</th>\n",
       "      <th>random_number</th>\n",
       "      <th>time_to_bed</th>\n",
       "      <th>good_day_1</th>\n",
       "      <th>good_day_2</th>\n",
       "    </tr>\n",
       "  </thead>\n",
       "  <tbody>\n",
       "    <tr>\n",
       "      <th>0</th>\n",
       "      <td>4-4-2023 12:08:33</td>\n",
       "      <td>Masters - AI</td>\n",
       "      <td>yes</td>\n",
       "      <td>0</td>\n",
       "      <td>mu</td>\n",
       "      <td>nee</td>\n",
       "      <td>gender fluid</td>\n",
       "      <td>yes</td>\n",
       "      <td>23/11/1997</td>\n",
       "      <td>319</td>\n",
       "      <td>unknown</td>\n",
       "      <td>100</td>\n",
       "      <td>0</td>\n",
       "      <td>69</td>\n",
       "      <td>11:30</td>\n",
       "      <td>Ashes</td>\n",
       "      <td>Not ashes</td>\n",
       "    </tr>\n",
       "    <tr>\n",
       "      <th>1</th>\n",
       "      <td>4-4-2023 12:08:36</td>\n",
       "      <td>Artificial Intelligence</td>\n",
       "      <td>no</td>\n",
       "      <td>0</td>\n",
       "      <td>sigma</td>\n",
       "      <td>nee</td>\n",
       "      <td>male</td>\n",
       "      <td>not willing to say</td>\n",
       "      <td>5th August, 1995</td>\n",
       "      <td>600</td>\n",
       "      <td>no</td>\n",
       "      <td>60</td>\n",
       "      <td>2</td>\n",
       "      <td>42</td>\n",
       "      <td>23:00</td>\n",
       "      <td>good food</td>\n",
       "      <td>good sleep</td>\n",
       "    </tr>\n",
       "    <tr>\n",
       "      <th>2</th>\n",
       "      <td>4-4-2023 12:08:38</td>\n",
       "      <td>AI</td>\n",
       "      <td>no</td>\n",
       "      <td>0</td>\n",
       "      <td>mu</td>\n",
       "      <td>nee</td>\n",
       "      <td>female</td>\n",
       "      <td>no</td>\n",
       "      <td>21/09</td>\n",
       "      <td>220</td>\n",
       "      <td>no</td>\n",
       "      <td>20</td>\n",
       "      <td>5</td>\n",
       "      <td>17</td>\n",
       "      <td>23:30</td>\n",
       "      <td>Sports</td>\n",
       "      <td>Friends</td>\n",
       "    </tr>\n",
       "    <tr>\n",
       "      <th>3</th>\n",
       "      <td>4-4-2023 12:08:52</td>\n",
       "      <td>Data mining</td>\n",
       "      <td>yes</td>\n",
       "      <td>1</td>\n",
       "      <td>mu</td>\n",
       "      <td>ja</td>\n",
       "      <td>male</td>\n",
       "      <td>yes</td>\n",
       "      <td>25-06-1996</td>\n",
       "      <td>100</td>\n",
       "      <td>unknown</td>\n",
       "      <td>50</td>\n",
       "      <td>5</td>\n",
       "      <td>12</td>\n",
       "      <td>23:00</td>\n",
       "      <td>Gym</td>\n",
       "      <td>Piano</td>\n",
       "    </tr>\n",
       "    <tr>\n",
       "      <th>4</th>\n",
       "      <td>4-4-2023 12:08:59</td>\n",
       "      <td>Quantitative Risk Management</td>\n",
       "      <td>no</td>\n",
       "      <td>0</td>\n",
       "      <td>mu</td>\n",
       "      <td>nee</td>\n",
       "      <td>male</td>\n",
       "      <td>yes</td>\n",
       "      <td>18-08-1998</td>\n",
       "      <td>300</td>\n",
       "      <td>no</td>\n",
       "      <td>65</td>\n",
       "      <td>10</td>\n",
       "      <td>874</td>\n",
       "      <td>23:00</td>\n",
       "      <td>Relax</td>\n",
       "      <td>Sun</td>\n",
       "    </tr>\n",
       "  </tbody>\n",
       "</table>\n",
       "</div>"
      ],
      "text/plain": [
       "           send_date                       program  \\\n",
       "0  4-4-2023 12:08:33                  Masters - AI   \n",
       "1  4-4-2023 12:08:36       Artificial Intelligence   \n",
       "2  4-4-2023 12:08:38                            AI   \n",
       "3  4-4-2023 12:08:52                   Data mining   \n",
       "4  4-4-2023 12:08:59  Quantitative Risk Management   \n",
       "\n",
       "  taken_machine_learning_course taken_information_retrieval_course  \\\n",
       "0                           yes                                  0   \n",
       "1                            no                                  0   \n",
       "2                            no                                  0   \n",
       "3                           yes                                  1   \n",
       "4                            no                                  0   \n",
       "\n",
       "  taken_statistics_course taken_database_course        gender  \\\n",
       "0                      mu                   nee  gender fluid   \n",
       "1                   sigma                   nee          male   \n",
       "2                      mu                   nee        female   \n",
       "3                      mu                    ja          male   \n",
       "4                      mu                   nee          male   \n",
       "\n",
       "    have_used_chatgpt         birthdate students_in_the_room_gamble stood_up  \\\n",
       "0                 yes        23/11/1997                         319  unknown   \n",
       "1  not willing to say  5th August, 1995                         600       no   \n",
       "2                  no             21/09                         220       no   \n",
       "3                 yes        25-06-1996                         100  unknown   \n",
       "4                 yes        18-08-1998                         300       no   \n",
       "\n",
       "  stresslevel hours_of_sports_week random_number time_to_bed good_day_1  \\\n",
       "0         100                    0            69       11:30      Ashes   \n",
       "1          60                    2            42       23:00  good food   \n",
       "2          20                    5            17       23:30     Sports   \n",
       "3          50                    5            12       23:00        Gym   \n",
       "4          65                   10           874       23:00      Relax   \n",
       "\n",
       "   good_day_2  \n",
       "0   Not ashes  \n",
       "1  good sleep  \n",
       "2     Friends  \n",
       "3       Piano  \n",
       "4         Sun  "
      ]
     },
     "execution_count": 18,
     "metadata": {},
     "output_type": "execute_result"
    }
   ],
   "source": [
    "pd.set_option('display.max_columns', None)\n",
    "df.head()"
   ]
  },
  {
   "cell_type": "code",
   "execution_count": 19,
   "metadata": {
    "colab": {
     "base_uri": "https://localhost:8080/"
    },
    "id": "Ek6LKiJCMzfM",
    "outputId": "02a94922-0e02-4a96-9764-346c97cc0673"
   },
   "outputs": [
    {
     "data": {
      "text/plain": [
       "(305, 17)"
      ]
     },
     "execution_count": 19,
     "metadata": {},
     "output_type": "execute_result"
    }
   ],
   "source": [
    "# Print how many rows/columns there are\n",
    "df.shape"
   ]
  },
  {
   "cell_type": "code",
   "execution_count": 20,
   "metadata": {
    "colab": {
     "base_uri": "https://localhost:8080/",
     "height": 427
    },
    "id": "PXS2zgGUhBKN",
    "outputId": "6f2d0005-c43e-4585-8e94-8ac01894c2c4"
   },
   "outputs": [
    {
     "data": {
      "image/png": "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\n",
      "text/plain": [
       "<Figure size 432x288 with 1 Axes>"
      ]
     },
     "metadata": {},
     "output_type": "display_data"
    }
   ],
   "source": [
    "# count the number of occurrences of each program in the program column\n",
    "program_counts = df['program'].value_counts()\n",
    "\n",
    "# create a pie chart of the program counts with smaller labels\n",
    "plt.pie(program_counts, labels=program_counts.index, autopct='%1.1f%%', textprops={'fontsize': 8})\n",
    "\n",
    "# add title\n",
    "plt.title('Pie Chart of Programs')\n",
    "\n",
    "# show the plot\n",
    "plt.show()"
   ]
  },
  {
   "cell_type": "code",
   "execution_count": 21,
   "metadata": {
    "colab": {
     "base_uri": "https://localhost:8080/",
     "height": 511
    },
    "id": "4FOZBf5Q2AbP",
    "outputId": "6b15beb3-304c-46a8-f1c2-38d72fe40f0c"
   },
   "outputs": [
    {
     "data": {
      "image/png": "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\n",
      "text/plain": [
       "<Figure size 720x360 with 2 Axes>"
      ]
     },
     "metadata": {},
     "output_type": "display_data"
    }
   ],
   "source": [
    "# create a 1x2 grid of subplots\n",
    "fig, axs = plt.subplots(1, 2, figsize=(10, 5))\n",
    "\n",
    "# plot the pie chart of the taken_machine_learning_course column in the left subplot\n",
    "ml_counts = df['taken_machine_learning_course'].value_counts()\n",
    "axs[0].pie(ml_counts, labels=ml_counts.index, autopct='%1.1f%%')\n",
    "axs[0].set_title('Machine Learning Course')\n",
    "\n",
    "# plot the pie chart of the taken_statistics_course column in the right subplot\n",
    "stats_counts = df['taken_statistics_course'].value_counts()\n",
    "axs[1].pie(stats_counts, labels=stats_counts.index, autopct='%1.1f%%')\n",
    "axs[1].set_title('Statistics Course')\n",
    "\n",
    "# add overall title to the plot\n",
    "fig.suptitle('Pie Charts of ML and Statistics Courses')\n",
    "\n",
    "# adjust layout\n",
    "plt.tight_layout()\n",
    "\n",
    "# show the plot\n",
    "plt.show()"
   ]
  },
  {
   "cell_type": "code",
   "execution_count": 22,
   "metadata": {
    "id": "osU16rd7NdqY"
   },
   "outputs": [],
   "source": [
    "# create a regular expression pattern to match all values referring to AI\n",
    "pattern1 = r'(.*Artificial Intelligence.*|.*AI.*|.*Ai.*|.*Artificial.*|.*Artifscial Intelligense.*)'\n",
    "pattern2 = r'(.*CS.*|.*Computer Science.*|.*Computer science.*|.*Masters cs.*|.*computer science.*)'\n",
    "pattern3 = r'(.*Bioinformatics.*|.*Systems Biology.*|.*Bio-informatics.*|.*bioinformatics.*|.*Bionformatics.*)'\n",
    "pattern16 = r'(.*operations research.*|.*& Operations Research.*)'\n",
    "pattern4 = r'(.*Econometrics(?! and Operations Research).*|.*Econometrics MSc.*)'\n",
    "pattern5 = r'(.*Business Analytics.*|.*Master Business Analytics.*|.*BA.*|.*business analytics.*|.*Business analytics.*)'\n",
    "pattern6 = r'(.*PhD.*)'\n",
    "pattern7 = r'(.*Biomedical Sciences.*|.*Biomedical sciences.*)'\n",
    "pattern8 = r'(.*Human Language Technology.*)'\n",
    "pattern9 = r'(.*computational.*|.*Computational Science.*|.*Computational.*)'\n",
    "pattern10 = r'(.*Information Sciences.*)'\n",
    "pattern11 = r'(.*Human language.*)'\n",
    "pattern12 = r'(.*Finance and Technology.*|.*finance and technology.*|.*Finance & Technology.*|.*fintech.*|.*FinTech.*|.*finance & technology.*)'\n",
    "pattern13 = r'(.*Finance.*|.*Economics.*)'\n",
    "pattern14 = r'(.*Digital Business and Innovation.*)'\n",
    "pattern15 = r'(.*Quantitative Risk Management.*|.*QRM.*)'\n",
    "pattern17 = r'(.*exchange.*|.*Exchange.*)'\n",
    "\n",
    "# replace all values matching the pattern with \"AI\" in the program column\n",
    "df['program'].replace(pattern1, 'Artificial Intelligence', regex=True, inplace=True)\n",
    "df['program'].replace(pattern2, 'Computer Science', regex=True, inplace=True)\n",
    "df['program'].replace(pattern3, 'Bioinformatics and Systems Biology', regex=True, inplace=True)\n",
    "df['program'].replace(pattern16, 'Econometrics and Operations Research', regex=True, inplace=True)\n",
    "df['program'].replace(pattern4, 'Econometrics', regex=True, inplace=True)\n",
    "df['program'].replace(pattern5, 'Business Analytics', regex=True, inplace=True)\n",
    "df['program'].replace(pattern6, 'PhD', regex=True, inplace=True)\n",
    "df['program'].replace(pattern7, 'Biomedical Sciences', regex=True, inplace=True)\n",
    "df['program'].replace(pattern8, 'Human Language Technology', regex=True, inplace=True)\n",
    "df['program'].replace(pattern9, 'Computational Science', regex=True, inplace=True)\n",
    "df['program'].replace(pattern10, 'Information Sciences', regex=True, inplace=True)\n",
    "df['program'].replace(pattern11, 'Human Language Technology', regex=True, inplace=True)\n",
    "df['program'].replace(pattern12, 'Finance and Technology', regex=True, inplace=True)\n",
    "df['program'].replace(pattern13, 'Finance', regex=True, inplace=True)\n",
    "df['program'].replace(pattern14, 'Digital Business and Innovation', regex=True, inplace=True)\n",
    "df['program'].replace(pattern15, 'Quantitative Risk Management', regex=True, inplace=True)\n",
    "df['program'].replace(pattern17, 'Exchange', regex=True, inplace=True)"
   ]
  },
  {
   "cell_type": "code",
   "execution_count": 23,
   "metadata": {
    "colab": {
     "base_uri": "https://localhost:8080/"
    },
    "id": "BChdRrTANgDS",
    "outputId": "2c0eaf42-660b-496c-b1c1-8c39dc8899eb"
   },
   "outputs": [
    {
     "data": {
      "text/plain": [
       "28"
      ]
     },
     "execution_count": 23,
     "metadata": {},
     "output_type": "execute_result"
    }
   ],
   "source": [
    "# Plot unique values for programs \n",
    "len(df['program'].unique())"
   ]
  },
  {
   "cell_type": "code",
<<<<<<< HEAD
   "execution_count": 24,
=======
   "execution_count": 10,
   "metadata": {},
   "outputs": [],
   "source": [
    "# List of unwanted values\n",
    "unwanted_values = ['aryamaan710@gmail.com', '116', 'CLS', 'Exchange', 'Hyperbolic Time Chamber', 'High school 3rd grade', 'Data thingy']\n",
    "\n",
    "# Replace unwanted values with NaN\n",
    "df['program'] = df['program'].replace(unwanted_values, np.nan)"
   ]
  },
  {
   "cell_type": "code",
   "execution_count": 11,
   "metadata": {},
   "outputs": [
    {
     "ename": "SyntaxError",
     "evalue": "invalid syntax (<ipython-input-11-d41b023a53ae>, line 1)",
     "output_type": "error",
     "traceback": [
      "\u001b[0;36m  Input \u001b[0;32mIn [11]\u001b[0;36m\u001b[0m\n\u001b[0;31m    Get the three most frequent values in the column\u001b[0m\n\u001b[0m        ^\u001b[0m\n\u001b[0;31mSyntaxError\u001b[0m\u001b[0;31m:\u001b[0m invalid syntax\n"
     ]
    }
   ],
   "source": [
    "Get the three most frequent values in the column\n",
    "top_three_values = df['program'].value_counts().head(3).index.tolist()\n",
    "\n",
    "# Replace NaN values with random choice among the top three values\n",
    "df['program'] = df['program'].fillna(pd.Series(np.random.choice(top_three_values, size=len(df['program'].index))))\n"
   ]
  },
  {
   "cell_type": "code",
   "execution_count": null,
>>>>>>> 4d326c5e00d9a1bdbb74fe1bc0f669c0cd8de664
   "metadata": {
    "colab": {
     "base_uri": "https://localhost:8080/"
    },
    "id": "wFbJu8aSJ5S1",
    "outputId": "29e1b9d3-2e6c-4024-8379-900969bbfc2f",
    "scrolled": true
   },
<<<<<<< HEAD
   "outputs": [
    {
     "data": {
      "text/plain": [
       "array(['Artificial Intelligence', 'Data mining',\n",
       "       'Quantitative Risk Management', 'Business Analytics',\n",
       "       'Computational Science', 'Computer Science',\n",
       "       'Bioinformatics and Systems Biology', 'aryamaan710@gmail.com',\n",
       "       'Neuroscience', 'Finance', 'Econometrics', '116',\n",
       "       'Human Language Technology', 'CLS',\n",
       "       'Econometrics and Operations Research', 'Masters',\n",
       "       'Information Sciences', 'Data thingy', 'Exchange',\n",
       "       'Biomedical Sciences',\n",
       "       'Management, Policy Analysis and Entrepreneurship in Health and Life Sciences',\n",
       "       'Econometrics and Operations Research ',\n",
       "       'Digital Business and Innovation', 'Hyperbolic Time Chamber',\n",
       "       'PhD', 'Stochastics and financial mathematics',\n",
       "       'High school 3rd grade', 'Big data engineering '], dtype=object)"
      ]
     },
     "execution_count": 24,
     "metadata": {},
     "output_type": "execute_result"
    }
   ],
=======
   "outputs": [],
>>>>>>> 4d326c5e00d9a1bdbb74fe1bc0f669c0cd8de664
   "source": [
    "# Plot unique values for programs \n",
    "df['program'].unique()"
   ]
  },
  {
   "cell_type": "code",
   "execution_count": 25,
   "metadata": {},
   "outputs": [
    {
     "data": {
      "text/plain": [
       "Artificial Intelligence                                                         90\n",
       "Bioinformatics and Systems Biology                                              47\n",
       "Business Analytics                                                              40\n",
       "Computer Science                                                                36\n",
       "Econometrics                                                                    25\n",
       "Computational Science                                                           20\n",
       "Finance                                                                         14\n",
       "Quantitative Risk Management                                                     5\n",
       "CLS                                                                              3\n",
       "Human Language Technology                                                        3\n",
       "Econometrics and Operations Research                                             3\n",
       "PhD                                                                              2\n",
       "Exchange                                                                         2\n",
       "116                                                                              1\n",
       "Management, Policy Analysis and Entrepreneurship in Health and Life Sciences     1\n",
       "High school 3rd grade                                                            1\n",
       "Stochastics and financial mathematics                                            1\n",
       "Hyperbolic Time Chamber                                                          1\n",
       "Digital Business and Innovation                                                  1\n",
       "Econometrics and Operations Research                                             1\n",
       "Biomedical Sciences                                                              1\n",
       "Neuroscience                                                                     1\n",
       "Data thingy                                                                      1\n",
       "Information Sciences                                                             1\n",
       "Masters                                                                          1\n",
       "Data mining                                                                      1\n",
       "aryamaan710@gmail.com                                                            1\n",
       "Big data engineering                                                             1\n",
       "Name: program, dtype: int64"
      ]
     },
     "execution_count": 25,
     "metadata": {},
     "output_type": "execute_result"
    }
   ],
   "source": [
    "df['program'].value_counts()"
   ]
  },
  {
   "cell_type": "markdown",
   "metadata": {
    "id": "omyl_72-JbS0"
   },
   "source": [
    "# TASK 1B: DATA CLEANING\n"
   ]
  },
  {
   "attachments": {},
   "cell_type": "markdown",
   "metadata": {},
   "source": [
    "- dropping rows with course count < 5 for simplifying analysis in future"
   ]
  },
  {
   "cell_type": "code",
   "execution_count": 26,
   "metadata": {},
   "outputs": [
    {
     "data": {
      "text/plain": [
       "Artificial Intelligence               90\n",
       "Bioinformatics and Systems Biology    47\n",
       "Business Analytics                    40\n",
       "Computer Science                      36\n",
       "Econometrics                          25\n",
       "Computational Science                 20\n",
       "Finance                               14\n",
       "Name: program, dtype: int64"
      ]
     },
     "execution_count": 26,
     "metadata": {},
     "output_type": "execute_result"
    }
   ],
   "source": [
    "# Set the minimum group size\n",
    "min_group_size = 6\n",
    "group_sizes = df.groupby('program')['program'].transform('size')\n",
    "\n",
    "# Use boolean indexing to select rows where the group size is at least the minimum\n",
    "df = df[group_sizes >= min_group_size]\n",
    "\n",
    "df['program'].value_counts()\n"
   ]
  },
  {
   "cell_type": "markdown",
   "metadata": {
    "id": "xFbycL60w7V5"
   },
   "source": [
    "Clean the student gamble column"
   ]
  },
  {
   "cell_type": "code",
<<<<<<< HEAD
   "execution_count": 33,
=======
   "execution_count": null,
>>>>>>> 4d326c5e00d9a1bdbb74fe1bc0f669c0cd8de664
   "metadata": {
    "id": "Wk8ti5YBtbP5"
   },
   "outputs": [],
   "source": [
    "# Clean the gamble on amount of students in the room by removi\n",
    "for i in range(len(df['students_in_the_room_gamble'])):\n",
    "    try:\n",
    "        df['students_in_the_room_gamble'][i] = pd.to_numeric(df['students_in_the_room_gamble'][i], errors='raise')\n",
    "    except:\n",
    "        df['students_in_the_room_gamble'][i] = np.nan\n",
    "\n",
    "gamble = np.asarray(df['students_in_the_room_gamble'])"
   ]
  },
  {
   "cell_type": "code",
<<<<<<< HEAD
   "execution_count": 42,
=======
   "execution_count": null,
>>>>>>> 4d326c5e00d9a1bdbb74fe1bc0f669c0cd8de664
   "metadata": {
    "id": "qDF7hcrAvhnH"
   },
   "outputs": [
    {
     "ename": "UFuncTypeError",
     "evalue": "ufunc 'add' did not contain a loop with signature matching types (dtype('float64'), dtype('<U3')) -> None",
     "output_type": "error",
     "traceback": [
      "\u001b[0;31m---------------------------------------------------------------------------\u001b[0m",
      "\u001b[0;31mUFuncTypeError\u001b[0m                            Traceback (most recent call last)",
      "\u001b[1;32m/home/shreyas/masters_vu/DMT/assignment/dmt-assignment-1/A1_collab.ipynb Cell 19\u001b[0m in \u001b[0;36m3\n\u001b[1;32m      <a href='vscode-notebook-cell:/home/shreyas/masters_vu/DMT/assignment/dmt-assignment-1/A1_collab.ipynb#X24sZmlsZQ%3D%3D?line=0'>1</a>\u001b[0m \u001b[39m# Clean the student gamble outliers, and replace with the mean\u001b[39;00m\n\u001b[1;32m      <a href='vscode-notebook-cell:/home/shreyas/masters_vu/DMT/assignment/dmt-assignment-1/A1_collab.ipynb#X24sZmlsZQ%3D%3D?line=1'>2</a>\u001b[0m \u001b[39m# calculate the z-scores for the 'students_in_the_room_gamble' column\u001b[39;00m\n\u001b[0;32m----> <a href='vscode-notebook-cell:/home/shreyas/masters_vu/DMT/assignment/dmt-assignment-1/A1_collab.ipynb#X24sZmlsZQ%3D%3D?line=2'>3</a>\u001b[0m z_scores \u001b[39m=\u001b[39m np\u001b[39m.\u001b[39mabs((df[\u001b[39m'\u001b[39m\u001b[39mstudents_in_the_room_gamble\u001b[39m\u001b[39m'\u001b[39m] \u001b[39m-\u001b[39m np\u001b[39m.\u001b[39;49mnanmean(df[\u001b[39m'\u001b[39;49m\u001b[39mstudents_in_the_room_gamble\u001b[39;49m\u001b[39m'\u001b[39;49m])) \u001b[39m/\u001b[39m np\u001b[39m.\u001b[39mnanstd(df[\u001b[39m'\u001b[39m\u001b[39mstudents_in_the_room_gamble\u001b[39m\u001b[39m'\u001b[39m]))\n\u001b[1;32m      <a href='vscode-notebook-cell:/home/shreyas/masters_vu/DMT/assignment/dmt-assignment-1/A1_collab.ipynb#X24sZmlsZQ%3D%3D?line=4'>5</a>\u001b[0m \u001b[39m# define a threshold for identifying outliers (z-score > 3 for example)\u001b[39;00m\n\u001b[1;32m      <a href='vscode-notebook-cell:/home/shreyas/masters_vu/DMT/assignment/dmt-assignment-1/A1_collab.ipynb#X24sZmlsZQ%3D%3D?line=5'>6</a>\u001b[0m threshold \u001b[39m=\u001b[39m \u001b[39m3\u001b[39m\n",
      "File \u001b[0;32m<__array_function__ internals>:180\u001b[0m, in \u001b[0;36mnanmean\u001b[0;34m(*args, **kwargs)\u001b[0m\n",
      "File \u001b[0;32m~/.local/lib/python3.8/site-packages/numpy/lib/nanfunctions.py:1046\u001b[0m, in \u001b[0;36mnanmean\u001b[0;34m(a, axis, dtype, out, keepdims, where)\u001b[0m\n\u001b[1;32m   1042\u001b[0m     \u001b[39mraise\u001b[39;00m \u001b[39mTypeError\u001b[39;00m(\u001b[39m\"\u001b[39m\u001b[39mIf a is inexact, then out must be inexact\u001b[39m\u001b[39m\"\u001b[39m)\n\u001b[1;32m   1044\u001b[0m cnt \u001b[39m=\u001b[39m np\u001b[39m.\u001b[39msum(\u001b[39m~\u001b[39mmask, axis\u001b[39m=\u001b[39maxis, dtype\u001b[39m=\u001b[39mnp\u001b[39m.\u001b[39mintp, keepdims\u001b[39m=\u001b[39mkeepdims,\n\u001b[1;32m   1045\u001b[0m              where\u001b[39m=\u001b[39mwhere)\n\u001b[0;32m-> 1046\u001b[0m tot \u001b[39m=\u001b[39m np\u001b[39m.\u001b[39;49msum(arr, axis\u001b[39m=\u001b[39;49maxis, dtype\u001b[39m=\u001b[39;49mdtype, out\u001b[39m=\u001b[39;49mout, keepdims\u001b[39m=\u001b[39;49mkeepdims,\n\u001b[1;32m   1047\u001b[0m              where\u001b[39m=\u001b[39;49mwhere)\n\u001b[1;32m   1048\u001b[0m avg \u001b[39m=\u001b[39m _divide_by_count(tot, cnt, out\u001b[39m=\u001b[39mout)\n\u001b[1;32m   1050\u001b[0m isbad \u001b[39m=\u001b[39m (cnt \u001b[39m==\u001b[39m \u001b[39m0\u001b[39m)\n",
      "File \u001b[0;32m<__array_function__ internals>:180\u001b[0m, in \u001b[0;36msum\u001b[0;34m(*args, **kwargs)\u001b[0m\n",
      "File \u001b[0;32m~/.local/lib/python3.8/site-packages/numpy/core/fromnumeric.py:2298\u001b[0m, in \u001b[0;36msum\u001b[0;34m(a, axis, dtype, out, keepdims, initial, where)\u001b[0m\n\u001b[1;32m   2295\u001b[0m         \u001b[39mreturn\u001b[39;00m out\n\u001b[1;32m   2296\u001b[0m     \u001b[39mreturn\u001b[39;00m res\n\u001b[0;32m-> 2298\u001b[0m \u001b[39mreturn\u001b[39;00m _wrapreduction(a, np\u001b[39m.\u001b[39;49madd, \u001b[39m'\u001b[39;49m\u001b[39msum\u001b[39;49m\u001b[39m'\u001b[39;49m, axis, dtype, out, keepdims\u001b[39m=\u001b[39;49mkeepdims,\n\u001b[1;32m   2299\u001b[0m                       initial\u001b[39m=\u001b[39;49minitial, where\u001b[39m=\u001b[39;49mwhere)\n",
      "File \u001b[0;32m~/.local/lib/python3.8/site-packages/numpy/core/fromnumeric.py:86\u001b[0m, in \u001b[0;36m_wrapreduction\u001b[0;34m(obj, ufunc, method, axis, dtype, out, **kwargs)\u001b[0m\n\u001b[1;32m     83\u001b[0m         \u001b[39melse\u001b[39;00m:\n\u001b[1;32m     84\u001b[0m             \u001b[39mreturn\u001b[39;00m reduction(axis\u001b[39m=\u001b[39maxis, out\u001b[39m=\u001b[39mout, \u001b[39m*\u001b[39m\u001b[39m*\u001b[39mpasskwargs)\n\u001b[0;32m---> 86\u001b[0m \u001b[39mreturn\u001b[39;00m ufunc\u001b[39m.\u001b[39;49mreduce(obj, axis, dtype, out, \u001b[39m*\u001b[39;49m\u001b[39m*\u001b[39;49mpasskwargs)\n",
      "\u001b[0;31mUFuncTypeError\u001b[0m: ufunc 'add' did not contain a loop with signature matching types (dtype('float64'), dtype('<U3')) -> None"
     ]
    }
   ],
   "source": [
    "# Clean the student gamble outliers, and replace with the mean\n",
    "# calculate the z-scores for the 'students_in_the_room_gamble' column\n",
    "z_scores = np.abs((df['students_in_the_room_gamble'] - np.nanmean(df['students_in_the_room_gamble'])) / np.nanstd(df['students_in_the_room_gamble']))\n",
    "\n",
    "# define a threshold for identifying outliers (z-score > 3 for example)\n",
    "threshold = 3\n",
    "\n",
    "# identify the outliers and replace with the mean value\n",
    "df['students_in_the_room_gamble'][z_scores > threshold] = np.mean(df['students_in_the_room_gamble'])"
   ]
  },
  {
   "cell_type": "code",
<<<<<<< HEAD
   "execution_count": 36,
=======
   "execution_count": null,
>>>>>>> 4d326c5e00d9a1bdbb74fe1bc0f669c0cd8de664
   "metadata": {
    "id": "GYe80xXmwio9"
   },
   "outputs": [
    {
     "ename": "UFuncTypeError",
     "evalue": "ufunc 'add' did not contain a loop with signature matching types (dtype('float64'), dtype('<U3')) -> None",
     "output_type": "error",
     "traceback": [
      "\u001b[0;31m---------------------------------------------------------------------------\u001b[0m",
      "\u001b[0;31mUFuncTypeError\u001b[0m                            Traceback (most recent call last)",
      "\u001b[1;32m/home/shreyas/masters_vu/DMT/assignment/dmt-assignment-1/A1_collab.ipynb Cell 20\u001b[0m in \u001b[0;36m2\n\u001b[1;32m      <a href='vscode-notebook-cell:/home/shreyas/masters_vu/DMT/assignment/dmt-assignment-1/A1_collab.ipynb#X25sZmlsZQ%3D%3D?line=0'>1</a>\u001b[0m \u001b[39m# calculate the mean value of the 'students_in_the_room_gamble' column\u001b[39;00m\n\u001b[0;32m----> <a href='vscode-notebook-cell:/home/shreyas/masters_vu/DMT/assignment/dmt-assignment-1/A1_collab.ipynb#X25sZmlsZQ%3D%3D?line=1'>2</a>\u001b[0m mean_value \u001b[39m=\u001b[39m np\u001b[39m.\u001b[39;49mmean(df[\u001b[39m'\u001b[39;49m\u001b[39mstudents_in_the_room_gamble\u001b[39;49m\u001b[39m'\u001b[39;49m])\n\u001b[1;32m      <a href='vscode-notebook-cell:/home/shreyas/masters_vu/DMT/assignment/dmt-assignment-1/A1_collab.ipynb#X25sZmlsZQ%3D%3D?line=3'>4</a>\u001b[0m \u001b[39m# replace NaN values with the mean value\u001b[39;00m\n\u001b[1;32m      <a href='vscode-notebook-cell:/home/shreyas/masters_vu/DMT/assignment/dmt-assignment-1/A1_collab.ipynb#X25sZmlsZQ%3D%3D?line=4'>5</a>\u001b[0m df[\u001b[39m'\u001b[39m\u001b[39mstudents_in_the_room_gamble\u001b[39m\u001b[39m'\u001b[39m] \u001b[39m=\u001b[39m df[\u001b[39m'\u001b[39m\u001b[39mstudents_in_the_room_gamble\u001b[39m\u001b[39m'\u001b[39m]\u001b[39m.\u001b[39mfillna(mean_value)\n",
      "File \u001b[0;32m<__array_function__ internals>:180\u001b[0m, in \u001b[0;36mmean\u001b[0;34m(*args, **kwargs)\u001b[0m\n",
      "File \u001b[0;32m~/.local/lib/python3.8/site-packages/numpy/core/fromnumeric.py:3430\u001b[0m, in \u001b[0;36mmean\u001b[0;34m(a, axis, dtype, out, keepdims, where)\u001b[0m\n\u001b[1;32m   3428\u001b[0m         \u001b[39mpass\u001b[39;00m\n\u001b[1;32m   3429\u001b[0m     \u001b[39melse\u001b[39;00m:\n\u001b[0;32m-> 3430\u001b[0m         \u001b[39mreturn\u001b[39;00m mean(axis\u001b[39m=\u001b[39;49maxis, dtype\u001b[39m=\u001b[39;49mdtype, out\u001b[39m=\u001b[39;49mout, \u001b[39m*\u001b[39;49m\u001b[39m*\u001b[39;49mkwargs)\n\u001b[1;32m   3432\u001b[0m \u001b[39mreturn\u001b[39;00m _methods\u001b[39m.\u001b[39m_mean(a, axis\u001b[39m=\u001b[39maxis, dtype\u001b[39m=\u001b[39mdtype,\n\u001b[1;32m   3433\u001b[0m                       out\u001b[39m=\u001b[39mout, \u001b[39m*\u001b[39m\u001b[39m*\u001b[39mkwargs)\n",
      "File \u001b[0;32m~/.local/lib/python3.8/site-packages/pandas/core/generic.py:11124\u001b[0m, in \u001b[0;36mNDFrame._add_numeric_operations.<locals>.mean\u001b[0;34m(self, axis, skipna, level, numeric_only, **kwargs)\u001b[0m\n\u001b[1;32m  11106\u001b[0m \u001b[39m@doc\u001b[39m(\n\u001b[1;32m  11107\u001b[0m     _num_doc,\n\u001b[1;32m  11108\u001b[0m     desc\u001b[39m=\u001b[39m\u001b[39m\"\u001b[39m\u001b[39mReturn the mean of the values over the requested axis.\u001b[39m\u001b[39m\"\u001b[39m,\n\u001b[0;32m   (...)\u001b[0m\n\u001b[1;32m  11122\u001b[0m     \u001b[39m*\u001b[39m\u001b[39m*\u001b[39mkwargs,\n\u001b[1;32m  11123\u001b[0m ):\n\u001b[0;32m> 11124\u001b[0m     \u001b[39mreturn\u001b[39;00m NDFrame\u001b[39m.\u001b[39;49mmean(\u001b[39mself\u001b[39;49m, axis, skipna, level, numeric_only, \u001b[39m*\u001b[39;49m\u001b[39m*\u001b[39;49mkwargs)\n",
      "File \u001b[0;32m~/.local/lib/python3.8/site-packages/pandas/core/generic.py:10694\u001b[0m, in \u001b[0;36mNDFrame.mean\u001b[0;34m(self, axis, skipna, level, numeric_only, **kwargs)\u001b[0m\n\u001b[1;32m  10686\u001b[0m \u001b[39mdef\u001b[39;00m \u001b[39mmean\u001b[39m(\n\u001b[1;32m  10687\u001b[0m     \u001b[39mself\u001b[39m,\n\u001b[1;32m  10688\u001b[0m     axis: Axis \u001b[39m|\u001b[39m \u001b[39mNone\u001b[39;00m \u001b[39m|\u001b[39m lib\u001b[39m.\u001b[39mNoDefault \u001b[39m=\u001b[39m lib\u001b[39m.\u001b[39mno_default,\n\u001b[0;32m   (...)\u001b[0m\n\u001b[1;32m  10692\u001b[0m     \u001b[39m*\u001b[39m\u001b[39m*\u001b[39mkwargs,\n\u001b[1;32m  10693\u001b[0m ) \u001b[39m-\u001b[39m\u001b[39m>\u001b[39m Series \u001b[39m|\u001b[39m \u001b[39mfloat\u001b[39m:\n\u001b[0;32m> 10694\u001b[0m     \u001b[39mreturn\u001b[39;00m \u001b[39mself\u001b[39;49m\u001b[39m.\u001b[39;49m_stat_function(\n\u001b[1;32m  10695\u001b[0m         \u001b[39m\"\u001b[39;49m\u001b[39mmean\u001b[39;49m\u001b[39m\"\u001b[39;49m, nanops\u001b[39m.\u001b[39;49mnanmean, axis, skipna, level, numeric_only, \u001b[39m*\u001b[39;49m\u001b[39m*\u001b[39;49mkwargs\n\u001b[1;32m  10696\u001b[0m     )\n",
      "File \u001b[0;32m~/.local/lib/python3.8/site-packages/pandas/core/generic.py:10646\u001b[0m, in \u001b[0;36mNDFrame._stat_function\u001b[0;34m(self, name, func, axis, skipna, level, numeric_only, **kwargs)\u001b[0m\n\u001b[1;32m  10636\u001b[0m     warnings\u001b[39m.\u001b[39mwarn(\n\u001b[1;32m  10637\u001b[0m         \u001b[39m\"\u001b[39m\u001b[39mUsing the level keyword in DataFrame and Series aggregations is \u001b[39m\u001b[39m\"\u001b[39m\n\u001b[1;32m  10638\u001b[0m         \u001b[39m\"\u001b[39m\u001b[39mdeprecated and will be removed in a future version. Use groupby \u001b[39m\u001b[39m\"\u001b[39m\n\u001b[0;32m   (...)\u001b[0m\n\u001b[1;32m  10641\u001b[0m         stacklevel\u001b[39m=\u001b[39mfind_stack_level(),\n\u001b[1;32m  10642\u001b[0m     )\n\u001b[1;32m  10643\u001b[0m     \u001b[39mreturn\u001b[39;00m \u001b[39mself\u001b[39m\u001b[39m.\u001b[39m_agg_by_level(\n\u001b[1;32m  10644\u001b[0m         name, axis\u001b[39m=\u001b[39maxis, level\u001b[39m=\u001b[39mlevel, skipna\u001b[39m=\u001b[39mskipna, numeric_only\u001b[39m=\u001b[39mnumeric_only\n\u001b[1;32m  10645\u001b[0m     )\n\u001b[0;32m> 10646\u001b[0m \u001b[39mreturn\u001b[39;00m \u001b[39mself\u001b[39;49m\u001b[39m.\u001b[39;49m_reduce(\n\u001b[1;32m  10647\u001b[0m     func, name\u001b[39m=\u001b[39;49mname, axis\u001b[39m=\u001b[39;49maxis, skipna\u001b[39m=\u001b[39;49mskipna, numeric_only\u001b[39m=\u001b[39;49mnumeric_only\n\u001b[1;32m  10648\u001b[0m )\n",
      "File \u001b[0;32m~/.local/lib/python3.8/site-packages/pandas/core/series.py:4471\u001b[0m, in \u001b[0;36mSeries._reduce\u001b[0;34m(self, op, name, axis, skipna, numeric_only, filter_type, **kwds)\u001b[0m\n\u001b[1;32m   4467\u001b[0m     \u001b[39mraise\u001b[39;00m \u001b[39mNotImplementedError\u001b[39;00m(\n\u001b[1;32m   4468\u001b[0m         \u001b[39mf\u001b[39m\u001b[39m\"\u001b[39m\u001b[39mSeries.\u001b[39m\u001b[39m{\u001b[39;00mname\u001b[39m}\u001b[39;00m\u001b[39m does not implement \u001b[39m\u001b[39m{\u001b[39;00mkwd_name\u001b[39m}\u001b[39;00m\u001b[39m.\u001b[39m\u001b[39m\"\u001b[39m\n\u001b[1;32m   4469\u001b[0m     )\n\u001b[1;32m   4470\u001b[0m \u001b[39mwith\u001b[39;00m np\u001b[39m.\u001b[39merrstate(\u001b[39mall\u001b[39m\u001b[39m=\u001b[39m\u001b[39m\"\u001b[39m\u001b[39mignore\u001b[39m\u001b[39m\"\u001b[39m):\n\u001b[0;32m-> 4471\u001b[0m     \u001b[39mreturn\u001b[39;00m op(delegate, skipna\u001b[39m=\u001b[39;49mskipna, \u001b[39m*\u001b[39;49m\u001b[39m*\u001b[39;49mkwds)\n",
      "File \u001b[0;32m~/.local/lib/python3.8/site-packages/pandas/core/nanops.py:93\u001b[0m, in \u001b[0;36mdisallow.__call__.<locals>._f\u001b[0;34m(*args, **kwargs)\u001b[0m\n\u001b[1;32m     91\u001b[0m \u001b[39mtry\u001b[39;00m:\n\u001b[1;32m     92\u001b[0m     \u001b[39mwith\u001b[39;00m np\u001b[39m.\u001b[39merrstate(invalid\u001b[39m=\u001b[39m\u001b[39m\"\u001b[39m\u001b[39mignore\u001b[39m\u001b[39m\"\u001b[39m):\n\u001b[0;32m---> 93\u001b[0m         \u001b[39mreturn\u001b[39;00m f(\u001b[39m*\u001b[39;49margs, \u001b[39m*\u001b[39;49m\u001b[39m*\u001b[39;49mkwargs)\n\u001b[1;32m     94\u001b[0m \u001b[39mexcept\u001b[39;00m \u001b[39mValueError\u001b[39;00m \u001b[39mas\u001b[39;00m e:\n\u001b[1;32m     95\u001b[0m     \u001b[39m# we want to transform an object array\u001b[39;00m\n\u001b[1;32m     96\u001b[0m     \u001b[39m# ValueError message to the more typical TypeError\u001b[39;00m\n\u001b[1;32m     97\u001b[0m     \u001b[39m# e.g. this is normally a disallowed function on\u001b[39;00m\n\u001b[1;32m     98\u001b[0m     \u001b[39m# object arrays that contain strings\u001b[39;00m\n\u001b[1;32m     99\u001b[0m     \u001b[39mif\u001b[39;00m is_object_dtype(args[\u001b[39m0\u001b[39m]):\n",
      "File \u001b[0;32m~/.local/lib/python3.8/site-packages/pandas/core/nanops.py:155\u001b[0m, in \u001b[0;36mbottleneck_switch.__call__.<locals>.f\u001b[0;34m(values, axis, skipna, **kwds)\u001b[0m\n\u001b[1;32m    153\u001b[0m         result \u001b[39m=\u001b[39m alt(values, axis\u001b[39m=\u001b[39maxis, skipna\u001b[39m=\u001b[39mskipna, \u001b[39m*\u001b[39m\u001b[39m*\u001b[39mkwds)\n\u001b[1;32m    154\u001b[0m \u001b[39melse\u001b[39;00m:\n\u001b[0;32m--> 155\u001b[0m     result \u001b[39m=\u001b[39m alt(values, axis\u001b[39m=\u001b[39;49maxis, skipna\u001b[39m=\u001b[39;49mskipna, \u001b[39m*\u001b[39;49m\u001b[39m*\u001b[39;49mkwds)\n\u001b[1;32m    157\u001b[0m \u001b[39mreturn\u001b[39;00m result\n",
      "File \u001b[0;32m~/.local/lib/python3.8/site-packages/pandas/core/nanops.py:410\u001b[0m, in \u001b[0;36m_datetimelike_compat.<locals>.new_func\u001b[0;34m(values, axis, skipna, mask, **kwargs)\u001b[0m\n\u001b[1;32m    407\u001b[0m \u001b[39mif\u001b[39;00m datetimelike \u001b[39mand\u001b[39;00m mask \u001b[39mis\u001b[39;00m \u001b[39mNone\u001b[39;00m:\n\u001b[1;32m    408\u001b[0m     mask \u001b[39m=\u001b[39m isna(values)\n\u001b[0;32m--> 410\u001b[0m result \u001b[39m=\u001b[39m func(values, axis\u001b[39m=\u001b[39;49maxis, skipna\u001b[39m=\u001b[39;49mskipna, mask\u001b[39m=\u001b[39;49mmask, \u001b[39m*\u001b[39;49m\u001b[39m*\u001b[39;49mkwargs)\n\u001b[1;32m    412\u001b[0m \u001b[39mif\u001b[39;00m datetimelike:\n\u001b[1;32m    413\u001b[0m     result \u001b[39m=\u001b[39m _wrap_results(result, orig_values\u001b[39m.\u001b[39mdtype, fill_value\u001b[39m=\u001b[39miNaT)\n",
      "File \u001b[0;32m~/.local/lib/python3.8/site-packages/pandas/core/nanops.py:698\u001b[0m, in \u001b[0;36mnanmean\u001b[0;34m(values, axis, skipna, mask)\u001b[0m\n\u001b[1;32m    695\u001b[0m     dtype_count \u001b[39m=\u001b[39m dtype\n\u001b[1;32m    697\u001b[0m count \u001b[39m=\u001b[39m _get_counts(values\u001b[39m.\u001b[39mshape, mask, axis, dtype\u001b[39m=\u001b[39mdtype_count)\n\u001b[0;32m--> 698\u001b[0m the_sum \u001b[39m=\u001b[39m _ensure_numeric(values\u001b[39m.\u001b[39;49msum(axis, dtype\u001b[39m=\u001b[39;49mdtype_sum))\n\u001b[1;32m    700\u001b[0m \u001b[39mif\u001b[39;00m axis \u001b[39mis\u001b[39;00m \u001b[39mnot\u001b[39;00m \u001b[39mNone\u001b[39;00m \u001b[39mand\u001b[39;00m \u001b[39mgetattr\u001b[39m(the_sum, \u001b[39m\"\u001b[39m\u001b[39mndim\u001b[39m\u001b[39m\"\u001b[39m, \u001b[39mFalse\u001b[39;00m):\n\u001b[1;32m    701\u001b[0m     count \u001b[39m=\u001b[39m cast(np\u001b[39m.\u001b[39mndarray, count)\n",
      "File \u001b[0;32m~/.local/lib/python3.8/site-packages/numpy/core/_methods.py:48\u001b[0m, in \u001b[0;36m_sum\u001b[0;34m(a, axis, dtype, out, keepdims, initial, where)\u001b[0m\n\u001b[1;32m     46\u001b[0m \u001b[39mdef\u001b[39;00m \u001b[39m_sum\u001b[39m(a, axis\u001b[39m=\u001b[39m\u001b[39mNone\u001b[39;00m, dtype\u001b[39m=\u001b[39m\u001b[39mNone\u001b[39;00m, out\u001b[39m=\u001b[39m\u001b[39mNone\u001b[39;00m, keepdims\u001b[39m=\u001b[39m\u001b[39mFalse\u001b[39;00m,\n\u001b[1;32m     47\u001b[0m          initial\u001b[39m=\u001b[39m_NoValue, where\u001b[39m=\u001b[39m\u001b[39mTrue\u001b[39;00m):\n\u001b[0;32m---> 48\u001b[0m     \u001b[39mreturn\u001b[39;00m umr_sum(a, axis, dtype, out, keepdims, initial, where)\n",
      "\u001b[0;31mUFuncTypeError\u001b[0m: ufunc 'add' did not contain a loop with signature matching types (dtype('float64'), dtype('<U3')) -> None"
     ]
    }
   ],
   "source": [
    "# calculate the mean value of the 'students_in_the_room_gamble' column\n",
    "mean_value = np.mean(df['students_in_the_room_gamble'])\n",
    "\n",
    "# replace NaN values with the mean value\n",
    "df['students_in_the_room_gamble'] = df['students_in_the_room_gamble'].fillna(mean_value)"
   ]
  },
  {
   "cell_type": "code",
<<<<<<< HEAD
   "execution_count": 37,
=======
   "execution_count": null,
>>>>>>> 4d326c5e00d9a1bdbb74fe1bc0f669c0cd8de664
   "metadata": {
    "colab": {
     "base_uri": "https://localhost:8080/",
     "height": 471
    },
    "id": "kFhu-Nl7xHI0",
    "outputId": "a0348e4f-7b89-4002-80d3-748961d28729"
   },
<<<<<<< HEAD
   "outputs": [
    {
     "ename": "TypeError",
     "evalue": "'<=' not supported between instances of 'numpy.ndarray' and 'str'",
     "output_type": "error",
     "traceback": [
      "\u001b[0;31m---------------------------------------------------------------------------\u001b[0m",
      "\u001b[0;31mTypeError\u001b[0m                                 Traceback (most recent call last)",
      "\u001b[1;32m/home/shreyas/masters_vu/DMT/assignment/dmt-assignment-1/A1_collab.ipynb Cell 21\u001b[0m in \u001b[0;36m2\n\u001b[1;32m      <a href='vscode-notebook-cell:/home/shreyas/masters_vu/DMT/assignment/dmt-assignment-1/A1_collab.ipynb#X26sZmlsZQ%3D%3D?line=0'>1</a>\u001b[0m \u001b[39m# plot the 'students_in_the_room_gamble' column\u001b[39;00m\n\u001b[0;32m----> <a href='vscode-notebook-cell:/home/shreyas/masters_vu/DMT/assignment/dmt-assignment-1/A1_collab.ipynb#X26sZmlsZQ%3D%3D?line=1'>2</a>\u001b[0m plt\u001b[39m.\u001b[39;49mhist(df[\u001b[39m'\u001b[39;49m\u001b[39mstudents_in_the_room_gamble\u001b[39;49m\u001b[39m'\u001b[39;49m], bins\u001b[39m=\u001b[39;49m\u001b[39m20\u001b[39;49m)\n\u001b[1;32m      <a href='vscode-notebook-cell:/home/shreyas/masters_vu/DMT/assignment/dmt-assignment-1/A1_collab.ipynb#X26sZmlsZQ%3D%3D?line=2'>3</a>\u001b[0m plt\u001b[39m.\u001b[39mtitle(\u001b[39m'\u001b[39m\u001b[39mDistribution of Students in the Room Gamble\u001b[39m\u001b[39m'\u001b[39m)\n\u001b[1;32m      <a href='vscode-notebook-cell:/home/shreyas/masters_vu/DMT/assignment/dmt-assignment-1/A1_collab.ipynb#X26sZmlsZQ%3D%3D?line=3'>4</a>\u001b[0m plt\u001b[39m.\u001b[39mxlabel(\u001b[39m'\u001b[39m\u001b[39mNumber of Students\u001b[39m\u001b[39m'\u001b[39m)\n",
      "File \u001b[0;32m~/.local/lib/python3.8/site-packages/matplotlib/pyplot.py:2645\u001b[0m, in \u001b[0;36mhist\u001b[0;34m(x, bins, range, density, weights, cumulative, bottom, histtype, align, orientation, rwidth, log, color, label, stacked, data, **kwargs)\u001b[0m\n\u001b[1;32m   2639\u001b[0m \u001b[39m@_copy_docstring_and_deprecators\u001b[39m(Axes\u001b[39m.\u001b[39mhist)\n\u001b[1;32m   2640\u001b[0m \u001b[39mdef\u001b[39;00m \u001b[39mhist\u001b[39m(\n\u001b[1;32m   2641\u001b[0m         x, bins\u001b[39m=\u001b[39m\u001b[39mNone\u001b[39;00m, \u001b[39mrange\u001b[39m\u001b[39m=\u001b[39m\u001b[39mNone\u001b[39;00m, density\u001b[39m=\u001b[39m\u001b[39mFalse\u001b[39;00m, weights\u001b[39m=\u001b[39m\u001b[39mNone\u001b[39;00m,\n\u001b[1;32m   2642\u001b[0m         cumulative\u001b[39m=\u001b[39m\u001b[39mFalse\u001b[39;00m, bottom\u001b[39m=\u001b[39m\u001b[39mNone\u001b[39;00m, histtype\u001b[39m=\u001b[39m\u001b[39m'\u001b[39m\u001b[39mbar\u001b[39m\u001b[39m'\u001b[39m, align\u001b[39m=\u001b[39m\u001b[39m'\u001b[39m\u001b[39mmid\u001b[39m\u001b[39m'\u001b[39m,\n\u001b[1;32m   2643\u001b[0m         orientation\u001b[39m=\u001b[39m\u001b[39m'\u001b[39m\u001b[39mvertical\u001b[39m\u001b[39m'\u001b[39m, rwidth\u001b[39m=\u001b[39m\u001b[39mNone\u001b[39;00m, log\u001b[39m=\u001b[39m\u001b[39mFalse\u001b[39;00m, color\u001b[39m=\u001b[39m\u001b[39mNone\u001b[39;00m,\n\u001b[1;32m   2644\u001b[0m         label\u001b[39m=\u001b[39m\u001b[39mNone\u001b[39;00m, stacked\u001b[39m=\u001b[39m\u001b[39mFalse\u001b[39;00m, \u001b[39m*\u001b[39m, data\u001b[39m=\u001b[39m\u001b[39mNone\u001b[39;00m, \u001b[39m*\u001b[39m\u001b[39m*\u001b[39mkwargs):\n\u001b[0;32m-> 2645\u001b[0m     \u001b[39mreturn\u001b[39;00m gca()\u001b[39m.\u001b[39;49mhist(\n\u001b[1;32m   2646\u001b[0m         x, bins\u001b[39m=\u001b[39;49mbins, \u001b[39mrange\u001b[39;49m\u001b[39m=\u001b[39;49m\u001b[39mrange\u001b[39;49m, density\u001b[39m=\u001b[39;49mdensity, weights\u001b[39m=\u001b[39;49mweights,\n\u001b[1;32m   2647\u001b[0m         cumulative\u001b[39m=\u001b[39;49mcumulative, bottom\u001b[39m=\u001b[39;49mbottom, histtype\u001b[39m=\u001b[39;49mhisttype,\n\u001b[1;32m   2648\u001b[0m         align\u001b[39m=\u001b[39;49malign, orientation\u001b[39m=\u001b[39;49morientation, rwidth\u001b[39m=\u001b[39;49mrwidth, log\u001b[39m=\u001b[39;49mlog,\n\u001b[1;32m   2649\u001b[0m         color\u001b[39m=\u001b[39;49mcolor, label\u001b[39m=\u001b[39;49mlabel, stacked\u001b[39m=\u001b[39;49mstacked,\n\u001b[1;32m   2650\u001b[0m         \u001b[39m*\u001b[39;49m\u001b[39m*\u001b[39;49m({\u001b[39m\"\u001b[39;49m\u001b[39mdata\u001b[39;49m\u001b[39m\"\u001b[39;49m: data} \u001b[39mif\u001b[39;49;00m data \u001b[39mis\u001b[39;49;00m \u001b[39mnot\u001b[39;49;00m \u001b[39mNone\u001b[39;49;00m \u001b[39melse\u001b[39;49;00m {}), \u001b[39m*\u001b[39;49m\u001b[39m*\u001b[39;49mkwargs)\n",
      "File \u001b[0;32m~/.local/lib/python3.8/site-packages/matplotlib/__init__.py:1442\u001b[0m, in \u001b[0;36m_preprocess_data.<locals>.inner\u001b[0;34m(ax, data, *args, **kwargs)\u001b[0m\n\u001b[1;32m   1439\u001b[0m \u001b[39m@functools\u001b[39m\u001b[39m.\u001b[39mwraps(func)\n\u001b[1;32m   1440\u001b[0m \u001b[39mdef\u001b[39;00m \u001b[39minner\u001b[39m(ax, \u001b[39m*\u001b[39margs, data\u001b[39m=\u001b[39m\u001b[39mNone\u001b[39;00m, \u001b[39m*\u001b[39m\u001b[39m*\u001b[39mkwargs):\n\u001b[1;32m   1441\u001b[0m     \u001b[39mif\u001b[39;00m data \u001b[39mis\u001b[39;00m \u001b[39mNone\u001b[39;00m:\n\u001b[0;32m-> 1442\u001b[0m         \u001b[39mreturn\u001b[39;00m func(ax, \u001b[39m*\u001b[39;49m\u001b[39mmap\u001b[39;49m(sanitize_sequence, args), \u001b[39m*\u001b[39;49m\u001b[39m*\u001b[39;49mkwargs)\n\u001b[1;32m   1444\u001b[0m     bound \u001b[39m=\u001b[39m new_sig\u001b[39m.\u001b[39mbind(ax, \u001b[39m*\u001b[39margs, \u001b[39m*\u001b[39m\u001b[39m*\u001b[39mkwargs)\n\u001b[1;32m   1445\u001b[0m     auto_label \u001b[39m=\u001b[39m (bound\u001b[39m.\u001b[39marguments\u001b[39m.\u001b[39mget(label_namer)\n\u001b[1;32m   1446\u001b[0m                   \u001b[39mor\u001b[39;00m bound\u001b[39m.\u001b[39mkwargs\u001b[39m.\u001b[39mget(label_namer))\n",
      "File \u001b[0;32m~/.local/lib/python3.8/site-packages/matplotlib/axes/_axes.py:6762\u001b[0m, in \u001b[0;36mAxes.hist\u001b[0;34m(self, x, bins, range, density, weights, cumulative, bottom, histtype, align, orientation, rwidth, log, color, label, stacked, **kwargs)\u001b[0m\n\u001b[1;32m   6758\u001b[0m \u001b[39mfor\u001b[39;00m xi \u001b[39min\u001b[39;00m x:\n\u001b[1;32m   6759\u001b[0m     \u001b[39mif\u001b[39;00m \u001b[39mlen\u001b[39m(xi):\n\u001b[1;32m   6760\u001b[0m         \u001b[39m# python's min/max ignore nan,\u001b[39;00m\n\u001b[1;32m   6761\u001b[0m         \u001b[39m# np.minnan returns nan for all nan input\u001b[39;00m\n\u001b[0;32m-> 6762\u001b[0m         xmin \u001b[39m=\u001b[39m \u001b[39mmin\u001b[39m(xmin, np\u001b[39m.\u001b[39;49mnanmin(xi))\n\u001b[1;32m   6763\u001b[0m         xmax \u001b[39m=\u001b[39m \u001b[39mmax\u001b[39m(xmax, np\u001b[39m.\u001b[39mnanmax(xi))\n\u001b[1;32m   6764\u001b[0m \u001b[39mif\u001b[39;00m xmin \u001b[39m<\u001b[39m\u001b[39m=\u001b[39m xmax:  \u001b[39m# Only happens if we have seen a finite value.\u001b[39;00m\n",
      "File \u001b[0;32m<__array_function__ internals>:180\u001b[0m, in \u001b[0;36mnanmin\u001b[0;34m(*args, **kwargs)\u001b[0m\n",
      "File \u001b[0;32m~/.local/lib/python3.8/site-packages/numpy/lib/nanfunctions.py:350\u001b[0m, in \u001b[0;36mnanmin\u001b[0;34m(a, axis, out, keepdims, initial, where)\u001b[0m\n\u001b[1;32m    347\u001b[0m \u001b[39melse\u001b[39;00m:\n\u001b[1;32m    348\u001b[0m     \u001b[39m# Slow, but safe for subclasses of ndarray\u001b[39;00m\n\u001b[1;32m    349\u001b[0m     a, mask \u001b[39m=\u001b[39m _replace_nan(a, \u001b[39m+\u001b[39mnp\u001b[39m.\u001b[39minf)\n\u001b[0;32m--> 350\u001b[0m     res \u001b[39m=\u001b[39m np\u001b[39m.\u001b[39;49mamin(a, axis\u001b[39m=\u001b[39;49maxis, out\u001b[39m=\u001b[39;49mout, \u001b[39m*\u001b[39;49m\u001b[39m*\u001b[39;49mkwargs)\n\u001b[1;32m    351\u001b[0m     \u001b[39mif\u001b[39;00m mask \u001b[39mis\u001b[39;00m \u001b[39mNone\u001b[39;00m:\n\u001b[1;32m    352\u001b[0m         \u001b[39mreturn\u001b[39;00m res\n",
      "File \u001b[0;32m<__array_function__ internals>:180\u001b[0m, in \u001b[0;36mamin\u001b[0;34m(*args, **kwargs)\u001b[0m\n",
      "File \u001b[0;32m~/.local/lib/python3.8/site-packages/numpy/core/fromnumeric.py:2918\u001b[0m, in \u001b[0;36mamin\u001b[0;34m(a, axis, out, keepdims, initial, where)\u001b[0m\n\u001b[1;32m   2802\u001b[0m \u001b[39m@array_function_dispatch\u001b[39m(_amin_dispatcher)\n\u001b[1;32m   2803\u001b[0m \u001b[39mdef\u001b[39;00m \u001b[39mamin\u001b[39m(a, axis\u001b[39m=\u001b[39m\u001b[39mNone\u001b[39;00m, out\u001b[39m=\u001b[39m\u001b[39mNone\u001b[39;00m, keepdims\u001b[39m=\u001b[39mnp\u001b[39m.\u001b[39m_NoValue, initial\u001b[39m=\u001b[39mnp\u001b[39m.\u001b[39m_NoValue,\n\u001b[1;32m   2804\u001b[0m          where\u001b[39m=\u001b[39mnp\u001b[39m.\u001b[39m_NoValue):\n\u001b[1;32m   2805\u001b[0m     \u001b[39m\"\"\"\u001b[39;00m\n\u001b[1;32m   2806\u001b[0m \u001b[39m    Return the minimum of an array or minimum along an axis.\u001b[39;00m\n\u001b[1;32m   2807\u001b[0m \n\u001b[0;32m   (...)\u001b[0m\n\u001b[1;32m   2916\u001b[0m \u001b[39m    6\u001b[39;00m\n\u001b[1;32m   2917\u001b[0m \u001b[39m    \"\"\"\u001b[39;00m\n\u001b[0;32m-> 2918\u001b[0m     \u001b[39mreturn\u001b[39;00m _wrapreduction(a, np\u001b[39m.\u001b[39;49mminimum, \u001b[39m'\u001b[39;49m\u001b[39mmin\u001b[39;49m\u001b[39m'\u001b[39;49m, axis, \u001b[39mNone\u001b[39;49;00m, out,\n\u001b[1;32m   2919\u001b[0m                           keepdims\u001b[39m=\u001b[39;49mkeepdims, initial\u001b[39m=\u001b[39;49minitial, where\u001b[39m=\u001b[39;49mwhere)\n",
      "File \u001b[0;32m~/.local/lib/python3.8/site-packages/numpy/core/fromnumeric.py:86\u001b[0m, in \u001b[0;36m_wrapreduction\u001b[0;34m(obj, ufunc, method, axis, dtype, out, **kwargs)\u001b[0m\n\u001b[1;32m     83\u001b[0m         \u001b[39melse\u001b[39;00m:\n\u001b[1;32m     84\u001b[0m             \u001b[39mreturn\u001b[39;00m reduction(axis\u001b[39m=\u001b[39maxis, out\u001b[39m=\u001b[39mout, \u001b[39m*\u001b[39m\u001b[39m*\u001b[39mpasskwargs)\n\u001b[0;32m---> 86\u001b[0m \u001b[39mreturn\u001b[39;00m ufunc\u001b[39m.\u001b[39;49mreduce(obj, axis, dtype, out, \u001b[39m*\u001b[39;49m\u001b[39m*\u001b[39;49mpasskwargs)\n",
      "\u001b[0;31mTypeError\u001b[0m: '<=' not supported between instances of 'numpy.ndarray' and 'str'"
     ]
    },
    {
     "data": {
      "image/png": "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",
      "text/plain": [
       "<Figure size 640x480 with 1 Axes>"
      ]
     },
     "metadata": {},
     "output_type": "display_data"
    }
   ],
=======
   "outputs": [],
>>>>>>> 4d326c5e00d9a1bdbb74fe1bc0f669c0cd8de664
   "source": [
    "# plot the 'students_in_the_room_gamble' column\n",
    "plt.hist(df['students_in_the_room_gamble'], bins=20)\n",
    "plt.title('Distribution of Students in the Room Gamble')\n",
    "plt.xlabel('Number of Students')\n",
    "plt.ylabel('Frequency')\n",
    "plt.show()"
   ]
  },
  {
   "cell_type": "markdown",
   "metadata": {
    "id": "ap0Ce0ELxtG9"
   },
   "source": [
    "Clean the stress level column"
   ]
  },
  {
   "cell_type": "code",
<<<<<<< HEAD
   "execution_count": 38,
=======
   "execution_count": null,
>>>>>>> 4d326c5e00d9a1bdbb74fe1bc0f669c0cd8de664
   "metadata": {
    "colab": {
     "base_uri": "https://localhost:8080/"
    },
    "id": "cgnMb7rYxw8v",
    "outputId": "23635925-edd4-45d3-b676-bf6ca20d44c0"
   },
   "outputs": [],
   "source": [
    "# Clean the gamble on amount of students in the room by removi\n",
    "for i in range(len(df['stresslevel'])):\n",
    "    try:\n",
    "        df['stresslevel'][i] = pd.to_numeric(df['stresslevel'][i], errors='raise')\n",
    "    except:\n",
    "        df['stresslevel'][i] = np.nan"
   ]
  },
  {
   "cell_type": "code",
<<<<<<< HEAD
   "execution_count": 39,
=======
   "execution_count": null,
>>>>>>> 4d326c5e00d9a1bdbb74fe1bc0f669c0cd8de664
   "metadata": {
    "colab": {
     "base_uri": "https://localhost:8080/"
    },
    "id": "Cn96fKNKyA_k",
    "outputId": "c248bf1b-4744-4b90-ebb2-a92a4a1ed7e4"
   },
<<<<<<< HEAD
   "outputs": [
    {
     "ename": "UFuncTypeError",
     "evalue": "ufunc 'add' did not contain a loop with signature matching types (dtype('float64'), dtype('<U2')) -> None",
     "output_type": "error",
     "traceback": [
      "\u001b[0;31m---------------------------------------------------------------------------\u001b[0m",
      "\u001b[0;31mUFuncTypeError\u001b[0m                            Traceback (most recent call last)",
      "\u001b[1;32m/home/shreyas/masters_vu/DMT/assignment/dmt-assignment-1/A1_collab.ipynb Cell 24\u001b[0m in \u001b[0;36m3\n\u001b[1;32m      <a href='vscode-notebook-cell:/home/shreyas/masters_vu/DMT/assignment/dmt-assignment-1/A1_collab.ipynb#X32sZmlsZQ%3D%3D?line=0'>1</a>\u001b[0m \u001b[39m# Clean the student gamble outliers, and replace with the mean\u001b[39;00m\n\u001b[1;32m      <a href='vscode-notebook-cell:/home/shreyas/masters_vu/DMT/assignment/dmt-assignment-1/A1_collab.ipynb#X32sZmlsZQ%3D%3D?line=1'>2</a>\u001b[0m \u001b[39m# calculate the z-scores for the 'students_in_the_room_gamble' column\u001b[39;00m\n\u001b[0;32m----> <a href='vscode-notebook-cell:/home/shreyas/masters_vu/DMT/assignment/dmt-assignment-1/A1_collab.ipynb#X32sZmlsZQ%3D%3D?line=2'>3</a>\u001b[0m z_scores \u001b[39m=\u001b[39m np\u001b[39m.\u001b[39mabs((df[\u001b[39m'\u001b[39m\u001b[39mstresslevel\u001b[39m\u001b[39m'\u001b[39m] \u001b[39m-\u001b[39m np\u001b[39m.\u001b[39;49mmean(df[\u001b[39m'\u001b[39;49m\u001b[39mstresslevel\u001b[39;49m\u001b[39m'\u001b[39;49m])) \u001b[39m/\u001b[39m np\u001b[39m.\u001b[39mstd(df[\u001b[39m'\u001b[39m\u001b[39mstresslevel\u001b[39m\u001b[39m'\u001b[39m]))\n\u001b[1;32m      <a href='vscode-notebook-cell:/home/shreyas/masters_vu/DMT/assignment/dmt-assignment-1/A1_collab.ipynb#X32sZmlsZQ%3D%3D?line=4'>5</a>\u001b[0m \u001b[39m# define a threshold for identifying outliers (z-score > 3 for example)\u001b[39;00m\n\u001b[1;32m      <a href='vscode-notebook-cell:/home/shreyas/masters_vu/DMT/assignment/dmt-assignment-1/A1_collab.ipynb#X32sZmlsZQ%3D%3D?line=5'>6</a>\u001b[0m threshold \u001b[39m=\u001b[39m \u001b[39m3\u001b[39m\n",
      "File \u001b[0;32m<__array_function__ internals>:180\u001b[0m, in \u001b[0;36mmean\u001b[0;34m(*args, **kwargs)\u001b[0m\n",
      "File \u001b[0;32m~/.local/lib/python3.8/site-packages/numpy/core/fromnumeric.py:3430\u001b[0m, in \u001b[0;36mmean\u001b[0;34m(a, axis, dtype, out, keepdims, where)\u001b[0m\n\u001b[1;32m   3428\u001b[0m         \u001b[39mpass\u001b[39;00m\n\u001b[1;32m   3429\u001b[0m     \u001b[39melse\u001b[39;00m:\n\u001b[0;32m-> 3430\u001b[0m         \u001b[39mreturn\u001b[39;00m mean(axis\u001b[39m=\u001b[39;49maxis, dtype\u001b[39m=\u001b[39;49mdtype, out\u001b[39m=\u001b[39;49mout, \u001b[39m*\u001b[39;49m\u001b[39m*\u001b[39;49mkwargs)\n\u001b[1;32m   3432\u001b[0m \u001b[39mreturn\u001b[39;00m _methods\u001b[39m.\u001b[39m_mean(a, axis\u001b[39m=\u001b[39maxis, dtype\u001b[39m=\u001b[39mdtype,\n\u001b[1;32m   3433\u001b[0m                       out\u001b[39m=\u001b[39mout, \u001b[39m*\u001b[39m\u001b[39m*\u001b[39mkwargs)\n",
      "File \u001b[0;32m~/.local/lib/python3.8/site-packages/pandas/core/generic.py:11124\u001b[0m, in \u001b[0;36mNDFrame._add_numeric_operations.<locals>.mean\u001b[0;34m(self, axis, skipna, level, numeric_only, **kwargs)\u001b[0m\n\u001b[1;32m  11106\u001b[0m \u001b[39m@doc\u001b[39m(\n\u001b[1;32m  11107\u001b[0m     _num_doc,\n\u001b[1;32m  11108\u001b[0m     desc\u001b[39m=\u001b[39m\u001b[39m\"\u001b[39m\u001b[39mReturn the mean of the values over the requested axis.\u001b[39m\u001b[39m\"\u001b[39m,\n\u001b[0;32m   (...)\u001b[0m\n\u001b[1;32m  11122\u001b[0m     \u001b[39m*\u001b[39m\u001b[39m*\u001b[39mkwargs,\n\u001b[1;32m  11123\u001b[0m ):\n\u001b[0;32m> 11124\u001b[0m     \u001b[39mreturn\u001b[39;00m NDFrame\u001b[39m.\u001b[39;49mmean(\u001b[39mself\u001b[39;49m, axis, skipna, level, numeric_only, \u001b[39m*\u001b[39;49m\u001b[39m*\u001b[39;49mkwargs)\n",
      "File \u001b[0;32m~/.local/lib/python3.8/site-packages/pandas/core/generic.py:10694\u001b[0m, in \u001b[0;36mNDFrame.mean\u001b[0;34m(self, axis, skipna, level, numeric_only, **kwargs)\u001b[0m\n\u001b[1;32m  10686\u001b[0m \u001b[39mdef\u001b[39;00m \u001b[39mmean\u001b[39m(\n\u001b[1;32m  10687\u001b[0m     \u001b[39mself\u001b[39m,\n\u001b[1;32m  10688\u001b[0m     axis: Axis \u001b[39m|\u001b[39m \u001b[39mNone\u001b[39;00m \u001b[39m|\u001b[39m lib\u001b[39m.\u001b[39mNoDefault \u001b[39m=\u001b[39m lib\u001b[39m.\u001b[39mno_default,\n\u001b[0;32m   (...)\u001b[0m\n\u001b[1;32m  10692\u001b[0m     \u001b[39m*\u001b[39m\u001b[39m*\u001b[39mkwargs,\n\u001b[1;32m  10693\u001b[0m ) \u001b[39m-\u001b[39m\u001b[39m>\u001b[39m Series \u001b[39m|\u001b[39m \u001b[39mfloat\u001b[39m:\n\u001b[0;32m> 10694\u001b[0m     \u001b[39mreturn\u001b[39;00m \u001b[39mself\u001b[39;49m\u001b[39m.\u001b[39;49m_stat_function(\n\u001b[1;32m  10695\u001b[0m         \u001b[39m\"\u001b[39;49m\u001b[39mmean\u001b[39;49m\u001b[39m\"\u001b[39;49m, nanops\u001b[39m.\u001b[39;49mnanmean, axis, skipna, level, numeric_only, \u001b[39m*\u001b[39;49m\u001b[39m*\u001b[39;49mkwargs\n\u001b[1;32m  10696\u001b[0m     )\n",
      "File \u001b[0;32m~/.local/lib/python3.8/site-packages/pandas/core/generic.py:10646\u001b[0m, in \u001b[0;36mNDFrame._stat_function\u001b[0;34m(self, name, func, axis, skipna, level, numeric_only, **kwargs)\u001b[0m\n\u001b[1;32m  10636\u001b[0m     warnings\u001b[39m.\u001b[39mwarn(\n\u001b[1;32m  10637\u001b[0m         \u001b[39m\"\u001b[39m\u001b[39mUsing the level keyword in DataFrame and Series aggregations is \u001b[39m\u001b[39m\"\u001b[39m\n\u001b[1;32m  10638\u001b[0m         \u001b[39m\"\u001b[39m\u001b[39mdeprecated and will be removed in a future version. Use groupby \u001b[39m\u001b[39m\"\u001b[39m\n\u001b[0;32m   (...)\u001b[0m\n\u001b[1;32m  10641\u001b[0m         stacklevel\u001b[39m=\u001b[39mfind_stack_level(),\n\u001b[1;32m  10642\u001b[0m     )\n\u001b[1;32m  10643\u001b[0m     \u001b[39mreturn\u001b[39;00m \u001b[39mself\u001b[39m\u001b[39m.\u001b[39m_agg_by_level(\n\u001b[1;32m  10644\u001b[0m         name, axis\u001b[39m=\u001b[39maxis, level\u001b[39m=\u001b[39mlevel, skipna\u001b[39m=\u001b[39mskipna, numeric_only\u001b[39m=\u001b[39mnumeric_only\n\u001b[1;32m  10645\u001b[0m     )\n\u001b[0;32m> 10646\u001b[0m \u001b[39mreturn\u001b[39;00m \u001b[39mself\u001b[39;49m\u001b[39m.\u001b[39;49m_reduce(\n\u001b[1;32m  10647\u001b[0m     func, name\u001b[39m=\u001b[39;49mname, axis\u001b[39m=\u001b[39;49maxis, skipna\u001b[39m=\u001b[39;49mskipna, numeric_only\u001b[39m=\u001b[39;49mnumeric_only\n\u001b[1;32m  10648\u001b[0m )\n",
      "File \u001b[0;32m~/.local/lib/python3.8/site-packages/pandas/core/series.py:4471\u001b[0m, in \u001b[0;36mSeries._reduce\u001b[0;34m(self, op, name, axis, skipna, numeric_only, filter_type, **kwds)\u001b[0m\n\u001b[1;32m   4467\u001b[0m     \u001b[39mraise\u001b[39;00m \u001b[39mNotImplementedError\u001b[39;00m(\n\u001b[1;32m   4468\u001b[0m         \u001b[39mf\u001b[39m\u001b[39m\"\u001b[39m\u001b[39mSeries.\u001b[39m\u001b[39m{\u001b[39;00mname\u001b[39m}\u001b[39;00m\u001b[39m does not implement \u001b[39m\u001b[39m{\u001b[39;00mkwd_name\u001b[39m}\u001b[39;00m\u001b[39m.\u001b[39m\u001b[39m\"\u001b[39m\n\u001b[1;32m   4469\u001b[0m     )\n\u001b[1;32m   4470\u001b[0m \u001b[39mwith\u001b[39;00m np\u001b[39m.\u001b[39merrstate(\u001b[39mall\u001b[39m\u001b[39m=\u001b[39m\u001b[39m\"\u001b[39m\u001b[39mignore\u001b[39m\u001b[39m\"\u001b[39m):\n\u001b[0;32m-> 4471\u001b[0m     \u001b[39mreturn\u001b[39;00m op(delegate, skipna\u001b[39m=\u001b[39;49mskipna, \u001b[39m*\u001b[39;49m\u001b[39m*\u001b[39;49mkwds)\n",
      "File \u001b[0;32m~/.local/lib/python3.8/site-packages/pandas/core/nanops.py:93\u001b[0m, in \u001b[0;36mdisallow.__call__.<locals>._f\u001b[0;34m(*args, **kwargs)\u001b[0m\n\u001b[1;32m     91\u001b[0m \u001b[39mtry\u001b[39;00m:\n\u001b[1;32m     92\u001b[0m     \u001b[39mwith\u001b[39;00m np\u001b[39m.\u001b[39merrstate(invalid\u001b[39m=\u001b[39m\u001b[39m\"\u001b[39m\u001b[39mignore\u001b[39m\u001b[39m\"\u001b[39m):\n\u001b[0;32m---> 93\u001b[0m         \u001b[39mreturn\u001b[39;00m f(\u001b[39m*\u001b[39;49margs, \u001b[39m*\u001b[39;49m\u001b[39m*\u001b[39;49mkwargs)\n\u001b[1;32m     94\u001b[0m \u001b[39mexcept\u001b[39;00m \u001b[39mValueError\u001b[39;00m \u001b[39mas\u001b[39;00m e:\n\u001b[1;32m     95\u001b[0m     \u001b[39m# we want to transform an object array\u001b[39;00m\n\u001b[1;32m     96\u001b[0m     \u001b[39m# ValueError message to the more typical TypeError\u001b[39;00m\n\u001b[1;32m     97\u001b[0m     \u001b[39m# e.g. this is normally a disallowed function on\u001b[39;00m\n\u001b[1;32m     98\u001b[0m     \u001b[39m# object arrays that contain strings\u001b[39;00m\n\u001b[1;32m     99\u001b[0m     \u001b[39mif\u001b[39;00m is_object_dtype(args[\u001b[39m0\u001b[39m]):\n",
      "File \u001b[0;32m~/.local/lib/python3.8/site-packages/pandas/core/nanops.py:155\u001b[0m, in \u001b[0;36mbottleneck_switch.__call__.<locals>.f\u001b[0;34m(values, axis, skipna, **kwds)\u001b[0m\n\u001b[1;32m    153\u001b[0m         result \u001b[39m=\u001b[39m alt(values, axis\u001b[39m=\u001b[39maxis, skipna\u001b[39m=\u001b[39mskipna, \u001b[39m*\u001b[39m\u001b[39m*\u001b[39mkwds)\n\u001b[1;32m    154\u001b[0m \u001b[39melse\u001b[39;00m:\n\u001b[0;32m--> 155\u001b[0m     result \u001b[39m=\u001b[39m alt(values, axis\u001b[39m=\u001b[39;49maxis, skipna\u001b[39m=\u001b[39;49mskipna, \u001b[39m*\u001b[39;49m\u001b[39m*\u001b[39;49mkwds)\n\u001b[1;32m    157\u001b[0m \u001b[39mreturn\u001b[39;00m result\n",
      "File \u001b[0;32m~/.local/lib/python3.8/site-packages/pandas/core/nanops.py:410\u001b[0m, in \u001b[0;36m_datetimelike_compat.<locals>.new_func\u001b[0;34m(values, axis, skipna, mask, **kwargs)\u001b[0m\n\u001b[1;32m    407\u001b[0m \u001b[39mif\u001b[39;00m datetimelike \u001b[39mand\u001b[39;00m mask \u001b[39mis\u001b[39;00m \u001b[39mNone\u001b[39;00m:\n\u001b[1;32m    408\u001b[0m     mask \u001b[39m=\u001b[39m isna(values)\n\u001b[0;32m--> 410\u001b[0m result \u001b[39m=\u001b[39m func(values, axis\u001b[39m=\u001b[39;49maxis, skipna\u001b[39m=\u001b[39;49mskipna, mask\u001b[39m=\u001b[39;49mmask, \u001b[39m*\u001b[39;49m\u001b[39m*\u001b[39;49mkwargs)\n\u001b[1;32m    412\u001b[0m \u001b[39mif\u001b[39;00m datetimelike:\n\u001b[1;32m    413\u001b[0m     result \u001b[39m=\u001b[39m _wrap_results(result, orig_values\u001b[39m.\u001b[39mdtype, fill_value\u001b[39m=\u001b[39miNaT)\n",
      "File \u001b[0;32m~/.local/lib/python3.8/site-packages/pandas/core/nanops.py:698\u001b[0m, in \u001b[0;36mnanmean\u001b[0;34m(values, axis, skipna, mask)\u001b[0m\n\u001b[1;32m    695\u001b[0m     dtype_count \u001b[39m=\u001b[39m dtype\n\u001b[1;32m    697\u001b[0m count \u001b[39m=\u001b[39m _get_counts(values\u001b[39m.\u001b[39mshape, mask, axis, dtype\u001b[39m=\u001b[39mdtype_count)\n\u001b[0;32m--> 698\u001b[0m the_sum \u001b[39m=\u001b[39m _ensure_numeric(values\u001b[39m.\u001b[39;49msum(axis, dtype\u001b[39m=\u001b[39;49mdtype_sum))\n\u001b[1;32m    700\u001b[0m \u001b[39mif\u001b[39;00m axis \u001b[39mis\u001b[39;00m \u001b[39mnot\u001b[39;00m \u001b[39mNone\u001b[39;00m \u001b[39mand\u001b[39;00m \u001b[39mgetattr\u001b[39m(the_sum, \u001b[39m\"\u001b[39m\u001b[39mndim\u001b[39m\u001b[39m\"\u001b[39m, \u001b[39mFalse\u001b[39;00m):\n\u001b[1;32m    701\u001b[0m     count \u001b[39m=\u001b[39m cast(np\u001b[39m.\u001b[39mndarray, count)\n",
      "File \u001b[0;32m~/.local/lib/python3.8/site-packages/numpy/core/_methods.py:48\u001b[0m, in \u001b[0;36m_sum\u001b[0;34m(a, axis, dtype, out, keepdims, initial, where)\u001b[0m\n\u001b[1;32m     46\u001b[0m \u001b[39mdef\u001b[39;00m \u001b[39m_sum\u001b[39m(a, axis\u001b[39m=\u001b[39m\u001b[39mNone\u001b[39;00m, dtype\u001b[39m=\u001b[39m\u001b[39mNone\u001b[39;00m, out\u001b[39m=\u001b[39m\u001b[39mNone\u001b[39;00m, keepdims\u001b[39m=\u001b[39m\u001b[39mFalse\u001b[39;00m,\n\u001b[1;32m     47\u001b[0m          initial\u001b[39m=\u001b[39m_NoValue, where\u001b[39m=\u001b[39m\u001b[39mTrue\u001b[39;00m):\n\u001b[0;32m---> 48\u001b[0m     \u001b[39mreturn\u001b[39;00m umr_sum(a, axis, dtype, out, keepdims, initial, where)\n",
      "\u001b[0;31mUFuncTypeError\u001b[0m: ufunc 'add' did not contain a loop with signature matching types (dtype('float64'), dtype('<U2')) -> None"
     ]
    }
   ],
=======
   "outputs": [],
>>>>>>> 4d326c5e00d9a1bdbb74fe1bc0f669c0cd8de664
   "source": [
    "# Clean the student gamble outliers, and replace with the mean\n",
    "# calculate the z-scores for the 'students_in_the_room_gamble' column\n",
    "z_scores = np.abs((df['stresslevel'] - np.mean(df['stresslevel'])) / np.std(df['stresslevel']))\n",
    "\n",
    "# define a threshold for identifying outliers (z-score > 3 for example)\n",
    "threshold = 3\n",
    "\n",
    "# identify the outliers and replace with the mean value\n",
    "df['stresslevel'][z_scores > threshold] = np.mean(df['stresslevel'])"
   ]
  },
  {
   "cell_type": "code",
   "execution_count": null,
   "metadata": {
    "id": "q5a5Kr5GyXPu"
   },
   "outputs": [],
   "source": [
    "# set a range of 0 to 100 for the stresslevel, and replace outliers with the median (mean was outside of max and min due to outliers)\n",
    "min_value = 0\n",
    "max_value = 100\n",
    "\n",
    "median_value = np.median(df['stresslevel'])\n",
    "\n",
    "replace_value = min_value if median_value < min_value else max_value if median_value > max_value else median_value\n",
    "df['stresslevel'] = np.where((df['stresslevel'] < min_value) | (df['stresslevel'] > max_value), replace_value, df['stresslevel'])"
   ]
  },
  {
   "cell_type": "code",
   "execution_count": null,
   "metadata": {
    "id": "VSkrZq43zJYq"
   },
   "outputs": [],
   "source": [
    "# replace NaN values with a random value between 0 and 100\n",
    "df['stresslevel'] = df['stresslevel'].apply(lambda x: np.random.randint(0, 101) if pd.isna(x) else x)"
   ]
  },
  {
   "cell_type": "code",
   "execution_count": null,
   "metadata": {
    "colab": {
     "base_uri": "https://localhost:8080/",
     "height": 471
    },
    "id": "Pb5chP3orcvP",
    "outputId": "44111952-5d41-461c-8290-4f874dab68b5"
   },
<<<<<<< HEAD
   "outputs": [
    {
     "data": {
      "image/png": "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",
      "text/plain": [
       "<Figure size 640x480 with 1 Axes>"
      ]
     },
     "metadata": {},
     "output_type": "display_data"
    }
   ],
=======
   "outputs": [],
>>>>>>> 4d326c5e00d9a1bdbb74fe1bc0f669c0cd8de664
   "source": [
    "plt.hist(df['stresslevel'], bins=20)\n",
    "plt.title('Stresslevel')\n",
    "plt.xlabel('Stresslevel')\n",
    "plt.ylabel('Frequency')\n",
    "plt.show()"
   ]
  },
  {
   "cell_type": "markdown",
   "metadata": {
    "id": "7K7lIT7SzzeW"
   },
   "source": [
    "Clean the amount of hours per week of sports column"
   ]
  },
  {
   "cell_type": "code",
   "execution_count": null,
   "metadata": {
    "colab": {
     "base_uri": "https://localhost:8080/"
    },
    "id": "rp4QiQv90B0Q",
    "outputId": "76ac33d1-9fa3-4ebe-b3d5-34c054451cee"
   },
<<<<<<< HEAD
   "outputs": [
    {
     "name": "stderr",
     "output_type": "stream",
     "text": [
      "/tmp/ipykernel_16982/1902157130.py:4: SettingWithCopyWarning: \n",
      "A value is trying to be set on a copy of a slice from a DataFrame\n",
      "\n",
      "See the caveats in the documentation: https://pandas.pydata.org/pandas-docs/stable/user_guide/indexing.html#returning-a-view-versus-a-copy\n",
      "/tmp/ipykernel_16982/1902157130.py:6: SettingWithCopyWarning: \n",
      "A value is trying to be set on a copy of a slice from a DataFrame\n",
      "\n",
      "See the caveats in the documentation: https://pandas.pydata.org/pandas-docs/stable/user_guide/indexing.html#returning-a-view-versus-a-copy\n",
      "/tmp/ipykernel_16982/1902157130.py:10: SettingWithCopyWarning: \n",
      "A value is trying to be set on a copy of a slice from a DataFrame\n",
      "\n",
      "See the caveats in the documentation: https://pandas.pydata.org/pandas-docs/stable/user_guide/indexing.html#returning-a-view-versus-a-copy\n"
     ]
    }
   ],
=======
   "outputs": [],
>>>>>>> 4d326c5e00d9a1bdbb74fe1bc0f669c0cd8de664
   "source": [
    "# Clean the gamble on amount of students in the room by replacing every value that cannot be transformed to numeric to nan\n",
    "for i in range(len(df['hours_of_sports_week'])):\n",
    "    try:\n",
    "        df['hours_of_sports_week'][i] = pd.to_numeric(df['hours_of_sports_week'][i], errors='raise')\n",
    "    except:\n",
    "        df['hours_of_sports_week'][i] = np.nan\n",
    "    \n",
    "    # If the amount of sports in hours is smaller than 0, set to nan\n",
    "    if df['hours_of_sports_week'][i] < 0:\n",
    "        df['hours_of_sports_week'][i] = np.nan    "
   ]
  },
  {
   "cell_type": "code",
   "execution_count": null,
   "metadata": {
    "colab": {
     "base_uri": "https://localhost:8080/"
    },
    "id": "9C0ncc6Y0ZW3",
    "outputId": "dd678385-6fa1-423a-bcb0-e16cbe0f9e62"
   },
<<<<<<< HEAD
   "outputs": [
    {
     "name": "stderr",
     "output_type": "stream",
     "text": [
      "/tmp/ipykernel_16982/894670619.py:9: SettingWithCopyWarning: \n",
      "A value is trying to be set on a copy of a slice from a DataFrame\n",
      "\n",
      "See the caveats in the documentation: https://pandas.pydata.org/pandas-docs/stable/user_guide/indexing.html#returning-a-view-versus-a-copy\n"
     ]
    }
   ],
=======
   "outputs": [],
>>>>>>> 4d326c5e00d9a1bdbb74fe1bc0f669c0cd8de664
   "source": [
    "# Clean the student gamble outliers, and replace with the mean\n",
    "# calculate the z-scores for the 'students_in_the_room_gamble' column\n",
    "z_scores = np.abs((df['hours_of_sports_week'] - np.mean(df['hours_of_sports_week'])) / np.std(df['hours_of_sports_week']))\n",
    "\n",
    "# define a threshold for identifying outliers (z-score > 3 for example)\n",
    "threshold = 3\n",
    "\n",
    "# identify the outliers and replace with the mean value\n",
    "df['hours_of_sports_week'][z_scores > threshold] = np.mean(df['hours_of_sports_week'])"
   ]
  },
  {
   "cell_type": "code",
   "execution_count": null,
   "metadata": {
    "id": "UNjNXFUy0fOX"
   },
   "outputs": [],
   "source": [
    "# calculate the mean value of the 'students_in_the_room_gamble' column\n",
    "mean_value = np.mean(df['hours_of_sports_week'])\n",
    "\n",
    "# replace NaN values with the mean value\n",
    "df['hours_of_sports_week'] = df['hours_of_sports_week'].fillna(mean_value)"
   ]
  },
  {
   "cell_type": "code",
   "execution_count": null,
   "metadata": {
    "colab": {
     "base_uri": "https://localhost:8080/",
     "height": 471
    },
    "id": "uKzOtueb05Dd",
    "outputId": "c8739a41-c989-449c-c0f0-afcaae9f8a0e",
    "scrolled": false
   },
   "outputs": [],
   "source": [
    "# plot the 'students_in_the_room_gamble' column\n",
    "plt.hist(df['hours_of_sports_week'], bins=20)\n",
    "plt.title('Hours of sports of students')\n",
    "plt.xlabel('Hours of sports')\n",
    "plt.ylabel('Frequency')\n",
    "plt.show()"
   ]
  },
  {
   "cell_type": "markdown",
   "metadata": {},
   "source": [
    "Cleaning the time to bed column"
   ]
  },
  {
   "cell_type": "code",
   "execution_count": null,
   "metadata": {},
   "outputs": [],
   "source": [
    "# print(np.asarray(df['time_to_bed']))"
   ]
  },
  {
   "cell_type": "code",
   "execution_count": null,
   "metadata": {
    "id": "qpUHOqMN4xnE"
   },
   "outputs": [],
   "source": [
    "try:\n",
    "  df['time_to_bed'] = pd.to_datetime(df['time_to_bed'], format='%H:%M').dt.time\n",
    "except:\n",
    "  pass"
   ]
  },
  {
   "cell_type": "code",
   "execution_count": null,
   "metadata": {
    "id": "1uOGVg2B5CvG"
   },
   "outputs": [],
   "source": [
    "time_pattern = r\"^(0?[0-9]|1[0-9]|2[0-3]):[0-5][0-9]$\"\n",
    "\n",
    "valid_times = [time for time in df['time_to_bed'] if re.match(time_pattern, time)]\n",
    "mean_time = pd.Series(valid_times).apply(lambda x: pd.to_datetime(x, format='%H:%M')).mean().strftime('%H:%M')\n",
    "\n",
    "# Replace each value that does not match the pattern with the mean time value\n",
    "df['time_to_bed'] = df['time_to_bed'].apply(lambda x: mean_time if not re.match(time_pattern, x) else x)\n"
   ]
  },
  {
   "cell_type": "code",
   "execution_count": null,
   "metadata": {
    "colab": {
     "base_uri": "https://localhost:8080/",
     "height": 467
    },
    "id": "2mgg_g7VVdcW",
    "outputId": "7fc08795-41b5-4b07-f313-2c7fad4d23f0",
    "scrolled": true
   },
<<<<<<< HEAD
   "outputs": [
    {
     "data": {
      "text/plain": [
       "<Axes: xlabel='hour_of_time_to_bed', ylabel='count'>"
      ]
     },
     "execution_count": 190,
     "metadata": {},
     "output_type": "execute_result"
    },
    {
     "data": {
      "image/png": "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",
      "text/plain": [
       "<Figure size 640x480 with 1 Axes>"
      ]
     },
     "metadata": {},
     "output_type": "display_data"
    }
   ],
=======
   "outputs": [],
>>>>>>> 4d326c5e00d9a1bdbb74fe1bc0f669c0cd8de664
   "source": [
    "df['hour_of_time_to_bed'] = df['time_to_bed'].apply(lambda x: int(x.split(\":\")[0]))\n",
    "hour_order = [0, 1, 2, 3, 4, 5, 6, 7, 8, 9, 10, 11, 12, 13, 14, 15, 16, 17, 18, 19, 20, 21, 22, 23]\n",
    "sns.countplot(data=df, x='hour_of_time_to_bed', order=hour_order,palette='magma')"
   ]
  },
  {
   "cell_type": "markdown",
   "metadata": {},
   "source": [
    "Cleaning the date of birth column, extracting the year of birth to a new column"
   ]
  },
  {
   "cell_type": "code",
   "execution_count": null,
   "metadata": {},
<<<<<<< HEAD
   "outputs": [
    {
     "data": {
      "text/plain": [
       "array(['1997', '1995', nan, '1996', '1998', '2000', '1999', '0000',\n",
       "       '2002', '2001', '1994', '3311', '1900', '1985', '1992', '1987',\n",
       "       '1990', '1220', '1993', '1405', '2017', '0001', '1981'],\n",
       "      dtype=object)"
      ]
     },
     "execution_count": 191,
     "metadata": {},
     "output_type": "execute_result"
    }
   ],
=======
   "outputs": [],
>>>>>>> 4d326c5e00d9a1bdbb74fe1bc0f669c0cd8de664
   "source": [
    "df['year_of_birth'] = df['birthdate'].str.extract(r'(\\d{4})')\n",
    "df['year_of_birth'].unique()"
   ]
  },
  {
   "cell_type": "markdown",
   "metadata": {},
   "source": [
    "Clean the good_day_1 and good_day_2 column of punctuation marks for further analysis "
   ]
  },
  {
   "cell_type": "code",
   "execution_count": null,
   "metadata": {},
   "outputs": [],
   "source": [
    "def _remove_punctuation(x):\n",
    "    # Remove punctuation marks (excluding whitespace) using regular expressions\n",
    "    clean_text = re.sub(rf\"[{string.punctuation}]\",\"\", str(x))\n",
    "    return clean_text\n",
    "\n",
    "df['good_day_1'] = df['good_day_1'].apply(_remove_punctuation)\n",
    "df['good_day_2'] = df['good_day_2'].apply(_remove_punctuation)"
   ]
  },
  {
   "cell_type": "markdown",
   "metadata": {},
   "source": [
    "# TASK 1C: FEATURE ENGINEERING"
   ]
  },
  {
   "cell_type": "markdown",
   "metadata": {},
   "source": [
    "Creating age column"
   ]
  },
  {
   "cell_type": "code",
   "execution_count": null,
   "metadata": {},
   "outputs": [],
   "source": [
    "def _extract_age(x):\n",
    "    try:\n",
    "        return 2023 - int(x)\n",
    "    except:\n",
    "        return 0\n",
    "\n",
    "df['age'] = df['year_of_birth'].apply(_extract_age)\n"
   ]
  },
  {
   "cell_type": "code",
   "execution_count": null,
   "metadata": {
    "scrolled": false
   },
<<<<<<< HEAD
   "outputs": [
    {
     "data": {
      "text/html": [
       "<div>\n",
       "<style scoped>\n",
       "    .dataframe tbody tr th:only-of-type {\n",
       "        vertical-align: middle;\n",
       "    }\n",
       "\n",
       "    .dataframe tbody tr th {\n",
       "        vertical-align: top;\n",
       "    }\n",
       "\n",
       "    .dataframe thead th {\n",
       "        text-align: right;\n",
       "    }\n",
       "</style>\n",
       "<table border=\"1\" class=\"dataframe\">\n",
       "  <thead>\n",
       "    <tr style=\"text-align: right;\">\n",
       "      <th></th>\n",
       "      <th>send_date</th>\n",
       "      <th>program</th>\n",
       "      <th>taken_machine_learning_course</th>\n",
       "      <th>taken_information_retrieval_course</th>\n",
       "      <th>taken_statistics_course</th>\n",
       "      <th>taken_database_course</th>\n",
       "      <th>gender</th>\n",
       "      <th>have_used_chatgpt</th>\n",
       "      <th>birthdate</th>\n",
       "      <th>students_in_the_room_gamble</th>\n",
       "      <th>stood_up</th>\n",
       "      <th>stresslevel</th>\n",
       "      <th>hours_of_sports_week</th>\n",
       "      <th>random_number</th>\n",
       "      <th>time_to_bed</th>\n",
       "      <th>good_day_1</th>\n",
       "      <th>good_day_2</th>\n",
       "      <th>hour_of_time_to_bed</th>\n",
       "      <th>year_of_birth</th>\n",
       "      <th>age</th>\n",
       "    </tr>\n",
       "  </thead>\n",
       "  <tbody>\n",
       "    <tr>\n",
       "      <th>0</th>\n",
       "      <td>4-4-2023 12:08:33</td>\n",
       "      <td>Artificial Intelligence</td>\n",
       "      <td>yes</td>\n",
       "      <td>0</td>\n",
       "      <td>mu</td>\n",
       "      <td>nee</td>\n",
       "      <td>gender fluid</td>\n",
       "      <td>yes</td>\n",
       "      <td>23/11/1997</td>\n",
       "      <td>319.0</td>\n",
       "      <td>unknown</td>\n",
       "      <td>100.0</td>\n",
       "      <td>0.0</td>\n",
       "      <td>69</td>\n",
       "      <td>11:30</td>\n",
       "      <td>Ashes</td>\n",
       "      <td>Not ashes</td>\n",
       "      <td>11</td>\n",
       "      <td>1997</td>\n",
       "      <td>26</td>\n",
       "    </tr>\n",
       "    <tr>\n",
       "      <th>1</th>\n",
       "      <td>4-4-2023 12:08:36</td>\n",
       "      <td>Artificial Intelligence</td>\n",
       "      <td>no</td>\n",
       "      <td>0</td>\n",
       "      <td>sigma</td>\n",
       "      <td>nee</td>\n",
       "      <td>male</td>\n",
       "      <td>not willing to say</td>\n",
       "      <td>5th August, 1995</td>\n",
       "      <td>600.0</td>\n",
       "      <td>no</td>\n",
       "      <td>60.0</td>\n",
       "      <td>2.0</td>\n",
       "      <td>42</td>\n",
       "      <td>23:00</td>\n",
       "      <td>good food</td>\n",
       "      <td>good sleep</td>\n",
       "      <td>23</td>\n",
       "      <td>1995</td>\n",
       "      <td>28</td>\n",
       "    </tr>\n",
       "    <tr>\n",
       "      <th>2</th>\n",
       "      <td>4-4-2023 12:08:38</td>\n",
       "      <td>Artificial Intelligence</td>\n",
       "      <td>no</td>\n",
       "      <td>0</td>\n",
       "      <td>mu</td>\n",
       "      <td>nee</td>\n",
       "      <td>female</td>\n",
       "      <td>no</td>\n",
       "      <td>21/09</td>\n",
       "      <td>220.0</td>\n",
       "      <td>no</td>\n",
       "      <td>20.0</td>\n",
       "      <td>5.0</td>\n",
       "      <td>17</td>\n",
       "      <td>23:30</td>\n",
       "      <td>Sports</td>\n",
       "      <td>Friends</td>\n",
       "      <td>23</td>\n",
       "      <td>NaN</td>\n",
       "      <td>0</td>\n",
       "    </tr>\n",
       "    <tr>\n",
       "      <th>3</th>\n",
       "      <td>4-4-2023 12:08:52</td>\n",
       "      <td>Data mining</td>\n",
       "      <td>yes</td>\n",
       "      <td>1</td>\n",
       "      <td>mu</td>\n",
       "      <td>ja</td>\n",
       "      <td>male</td>\n",
       "      <td>yes</td>\n",
       "      <td>25-06-1996</td>\n",
       "      <td>100.0</td>\n",
       "      <td>unknown</td>\n",
       "      <td>50.0</td>\n",
       "      <td>5.0</td>\n",
       "      <td>12</td>\n",
       "      <td>23:00</td>\n",
       "      <td>Gym</td>\n",
       "      <td>Piano</td>\n",
       "      <td>23</td>\n",
       "      <td>1996</td>\n",
       "      <td>27</td>\n",
       "    </tr>\n",
       "    <tr>\n",
       "      <th>4</th>\n",
       "      <td>4-4-2023 12:08:59</td>\n",
       "      <td>Quantitative Risk Management</td>\n",
       "      <td>no</td>\n",
       "      <td>0</td>\n",
       "      <td>mu</td>\n",
       "      <td>nee</td>\n",
       "      <td>male</td>\n",
       "      <td>yes</td>\n",
       "      <td>18-08-1998</td>\n",
       "      <td>300.0</td>\n",
       "      <td>no</td>\n",
       "      <td>65.0</td>\n",
       "      <td>10.0</td>\n",
       "      <td>874</td>\n",
       "      <td>23:00</td>\n",
       "      <td>Relax</td>\n",
       "      <td>Sun</td>\n",
       "      <td>23</td>\n",
       "      <td>1998</td>\n",
       "      <td>25</td>\n",
       "    </tr>\n",
       "  </tbody>\n",
       "</table>\n",
       "</div>"
      ],
      "text/plain": [
       "           send_date                       program  \\\n",
       "0  4-4-2023 12:08:33       Artificial Intelligence   \n",
       "1  4-4-2023 12:08:36       Artificial Intelligence   \n",
       "2  4-4-2023 12:08:38       Artificial Intelligence   \n",
       "3  4-4-2023 12:08:52                   Data mining   \n",
       "4  4-4-2023 12:08:59  Quantitative Risk Management   \n",
       "\n",
       "  taken_machine_learning_course taken_information_retrieval_course  \\\n",
       "0                           yes                                  0   \n",
       "1                            no                                  0   \n",
       "2                            no                                  0   \n",
       "3                           yes                                  1   \n",
       "4                            no                                  0   \n",
       "\n",
       "  taken_statistics_course taken_database_course        gender  \\\n",
       "0                      mu                   nee  gender fluid   \n",
       "1                   sigma                   nee          male   \n",
       "2                      mu                   nee        female   \n",
       "3                      mu                    ja          male   \n",
       "4                      mu                   nee          male   \n",
       "\n",
       "    have_used_chatgpt         birthdate  students_in_the_room_gamble stood_up  \\\n",
       "0                 yes        23/11/1997                        319.0  unknown   \n",
       "1  not willing to say  5th August, 1995                        600.0       no   \n",
       "2                  no             21/09                        220.0       no   \n",
       "3                 yes        25-06-1996                        100.0  unknown   \n",
       "4                 yes        18-08-1998                        300.0       no   \n",
       "\n",
       "   stresslevel  hours_of_sports_week random_number time_to_bed good_day_1  \\\n",
       "0        100.0                   0.0            69       11:30      Ashes   \n",
       "1         60.0                   2.0            42       23:00  good food   \n",
       "2         20.0                   5.0            17       23:30     Sports   \n",
       "3         50.0                   5.0            12       23:00        Gym   \n",
       "4         65.0                  10.0           874       23:00      Relax   \n",
       "\n",
       "   good_day_2  hour_of_time_to_bed year_of_birth  age  \n",
       "0   Not ashes                   11          1997   26  \n",
       "1  good sleep                   23          1995   28  \n",
       "2     Friends                   23           NaN    0  \n",
       "3       Piano                   23          1996   27  \n",
       "4         Sun                   23          1998   25  "
      ]
     },
     "execution_count": 194,
     "metadata": {},
     "output_type": "execute_result"
    }
   ],
=======
   "outputs": [],
>>>>>>> 4d326c5e00d9a1bdbb74fe1bc0f669c0cd8de664
   "source": [
    "df.head()"
   ]
  },
  {
   "cell_type": "code",
   "execution_count": null,
   "metadata": {},
   "outputs": [],
   "source": [
    "# convert the 'year_of_birth' column to numerical format\n",
    "df['year_of_birth'] = pd.to_numeric(df['year_of_birth'], errors='coerce')"
   ]
  },
  {
   "cell_type": "code",
   "execution_count": null,
   "metadata": {},
<<<<<<< HEAD
   "outputs": [
    {
     "name": "stderr",
     "output_type": "stream",
     "text": [
      "/tmp/ipykernel_16982/684455948.py:9: SettingWithCopyWarning: \n",
      "A value is trying to be set on a copy of a slice from a DataFrame\n",
      "\n",
      "See the caveats in the documentation: https://pandas.pydata.org/pandas-docs/stable/user_guide/indexing.html#returning-a-view-versus-a-copy\n"
     ]
    }
   ],
=======
   "outputs": [],
>>>>>>> 4d326c5e00d9a1bdbb74fe1bc0f669c0cd8de664
   "source": [
    "# Clean the student gamble outliers, and replace with the mean\n",
    "# calculate the z-scores for the 'students_in_the_room_gamble' column\n",
    "z_scores = np.abs((df['year_of_birth'] - np.mean(df['year_of_birth'])) / np.std(df['year_of_birth']))\n",
    "\n",
    "# define a threshold for identifying outliers (z-score > 3 for example)\n",
    "threshold = 3\n",
    "\n",
    "# identify the outliers and replace with the mean value\n",
    "df['year_of_birth'][z_scores > threshold] = np.median(df['year_of_birth'])"
   ]
  },
  {
   "cell_type": "code",
   "execution_count": null,
   "metadata": {},
   "outputs": [],
   "source": [
    "# fill missing values with the mean value of the column\n",
    "median_birth_year = int(df['year_of_birth'].median())\n",
    "# Choose median, because mean was "
   ]
  },
  {
   "cell_type": "code",
   "execution_count": null,
   "metadata": {
    "scrolled": true
   },
   "outputs": [],
   "source": [
    "df['year_of_birth'] = df['year_of_birth'].fillna(median_birth_year)"
   ]
  },
  {
<<<<<<< HEAD
=======
   "cell_type": "code",
   "execution_count": null,
   "metadata": {},
   "outputs": [],
   "source": [
    "print(np.asarray(df['year_of_birth']))"
   ]
  },
  {
>>>>>>> 4d326c5e00d9a1bdbb74fe1bc0f669c0cd8de664
   "cell_type": "markdown",
   "metadata": {},
   "source": [
    "Analysing the good_day_1 and 2 column , to examine the possible general category "
   ]
  },
  {
   "cell_type": "code",
   "execution_count": null,
   "metadata": {
    "scrolled": true
   },
<<<<<<< HEAD
   "outputs": [
    {
     "data": {
      "text/plain": [
       "array(['Ashes', 'good food', 'Sports', 'Gym', 'Relax', 'Coffee',\n",
       "       'Good code', 'When the sun shines', 'Expierence ',\n",
       "       'Experience a serotonin molecule ', 'You', 'delicious food',\n",
       "       'Netflix and', 'Something surprising emerging', 'Coffee ', 'Sun',\n",
       "       'Sunny weather', 'Thursday ', 'Sunshine', 'Good food ',\n",
       "       'Getting things done', 'No task', 'eat well', 'The sun',\n",
       "       'Good food', 'Eating chocolate', 'Being productive ', 'food ',\n",
       "       'Good night rest', 'Family ', 'blue skies', 'Good weather',\n",
       "       'sunny days', 'Slept well', 'Friends', 'A sunny day ', 'Sunny',\n",
       "       'Feeling productive', 'No obligations', 'good morning routine',\n",
       "       'Family', 'Good weather ', 'food', 'bread', 'coffee',\n",
       "       'Sticking to my timetable ', 'The sun ', 'Working out',\n",
       "       'Nice weather', 'Good results', 'No class', 'Good breakfast',\n",
       "       'A day where I went to the gym', 'Food', 'Vacation',\n",
       "       'good weather ', 'Good meal', 'Music', 'No lecture', 'Holiday ',\n",
       "       'Having some free time for once', 'work done', 'well fed',\n",
       "       'Productive ', 'Gossiping', 'Lekker eten', 'Good sleep',\n",
       "       'Friends and food', 'A nice phish', 'Morning sex',\n",
       "       'warm and sunny', 'Doing yoga', 'Beer', 'being productive',\n",
       "       'Well rested ', 'Data', 'Seeing friends', 'Money',\n",
       "       'The sun shining ', 'nice weather', 'Oatmeal',\n",
       "       'Having a good meal', 'Preheating a sausage roll ',\n",
       "       'Nice breakfast', 'sun and free time', 'Nice weather ',\n",
       "       'Socializing', 'sleeping out', 'Fun', 'Being active',\n",
       "       'Having a good chat with friends ', 'Time to read', 'Clear Skies',\n",
       "       'sunshine', 'Arts  Crafts', 'video game', 'Little stress',\n",
       "       'Did sports ', 'Progress', 'Sport', 'Sleeping in',\n",
       "       'Sun coffee friends', 'enough sleep', 'Lekker eten en slapen',\n",
       "       'Mood', 'The sun shining', 'fixed bugs in the code', 'Training',\n",
       "       'Prayer', 'Friends sport using my brain helping someone',\n",
       "       'Good sleep ', 'Fun activities for workschool',\n",
       "       'Start with a training on the water rowing', 'air', 'Exercise ',\n",
       "       'Doing everything from my ToDo list', 'Relaxing', 'Sleep',\n",
       "       'nothing happens', 'Sunny day', 'sun',\n",
       "       'Getting all my things done ', 'music', 'Being productive',\n",
       "       'Doing an activity or sports', 'Having time to workout',\n",
       "       'a nice weather', 'waking up early and working out',\n",
       "       'No 9 AM lecture', 'Good grade', 'Idk never had any', 'Sleepin',\n",
       "       'Sleeping well', 'Avocado Toast', 'Wake up feeling rested',\n",
       "       'Cold dip in open water', 'Free time to do whatever I want',\n",
       "       'Time off', 'Fun activities', 'Getting paid', 'weather',\n",
       "       'When people gimme foody', 'Sex', 'Going to the gym', 'Weather',\n",
       "       'Sun shining', 'Spending time with someone I love',\n",
       "       'Feeling energetic', 'good weather', 'Eating yummy food ',\n",
       "       'Got a lot done', 'Sunlight', 'warm weather',\n",
       "       'Having a good day of work', 'No stress', 'good sleep',\n",
       "       'Free schedule', 'NO DDL', 'nice weather ', '☕', 'No lectures ',\n",
       "       'no deadlines', 'The weather ', 'Finishing an exam', 'Sun ',\n",
       "       'Happyness', 'Seeing my friends ', 'Nice food ', 'wake up', 'gym',\n",
       "       'Playing sports', 'Pancakes ', 'A sunny day', 'Arsenal wins',\n",
       "       'Sleeping', 'Getting up on time ', 'Sun love and beer',\n",
       "       'Challenge accepted', 'Sunshine ', 'It being my birthday',\n",
       "       'Nice movie', 'Laughing a lot', 'Saturday', 'Sex in the morning',\n",
       "       'Hanging out with friends', 'Winning dota2 rank',\n",
       "       'Sun alcohol sex no study stress or job stress', 'Snacks',\n",
       "       'meeting a new person', 'When Frank Ocean drops a new album',\n",
       "       'start of weekend', 'Meeting friends',\n",
       "       'My code runs without errors before 1700',\n",
       "       'Pleasant atmosphere and weather around me', 'Winning the lottery',\n",
       "       'puppies', 'Having drinks with friends', 'reading bible',\n",
       "       'Getting a win in warzone', 'No arguments with anyone',\n",
       "       'A bit of study  a bit of wine  a bit of sex  a bit of tv  sun but not too hot',\n",
       "       'Good grades', 'Gib vacation pls', 'Friday', 'Go outisde',\n",
       "       'Nice people', 'never before seen trauma ', 'Work'], dtype=object)"
      ]
     },
     "execution_count": 199,
     "metadata": {},
     "output_type": "execute_result"
    }
   ],
=======
   "outputs": [],
>>>>>>> 4d326c5e00d9a1bdbb74fe1bc0f669c0cd8de664
   "source": [
    "df['good_day_1'].unique()"
   ]
  },
  {
   "cell_type": "code",
   "execution_count": null,
   "metadata": {},
   "outputs": [],
   "source": [
    "import nltk\n",
    "# run below only once to download the wordnet if not present on system\n",
    "# nltk.download('wordnet')\n",
    "from nltk.corpus import wordnet as wn\n",
    "from nltk.stem import WordNetLemmatizer\n"
   ]
  },
  {
   "cell_type": "code",
   "execution_count": null,
   "metadata": {},
   "outputs": [],
   "source": [
    "# In this example, we use the WordNet ontology to find synsets (sets of synonyms) for each word in the group of words. \n",
    "# We then check each lemma (a specific word form) in each synset to see if it matches any of the related terms for each hobby category. \n",
    "# We keep a count of how many matches each category has, and choose the category with the most matches as the predicted category.\n",
    "\n",
    "# Preprocess the group of words to be classified\n",
    "# words_to_classify = \"I love making lasagna\"\n",
    "# preprocessed_words = [word.lower() for word in words_to_classify.split()]\n",
    "\n",
    "def _extract_category(x):\n",
    "    try:\n",
    "        # The keys in below dictionary is a generic categorical aspect of life to which the text entered by user in the good day column is mapped\n",
    "        # The values are list of words that are mapped to the category\n",
    "        generic_category = {\n",
    "            \"weather\": [\"warm\", \"weather\", \"sunny\", \"skies\", \"sun\", \"air\", \"sunset\"],\n",
    "            \"socializing\" : [\"friend\",\"sex\", \"family\", \"people\", \"love\", \"person\", \"socializing\", \"gossiping\", \"company\", \"relationship\", \"you\", \"alone\", \"cat\", \"dog\"],\n",
    "            \"food\" : [\"meal\", \"coffee\", \"tea\", \"food\", \"breakfast\", \"bread\", \"eat\", \"oatmeal\",\"snacks\", \"pizza\", \"lunch\", \"cake\", \"cook\", \"bake\", \"grill\"],\n",
    "            \"drinking\": [\"wine\", \"beer\",  \"drink\",\"alcohol\"],\n",
    "            \"vacation\": [\"holiday\", \"free time\", \"leisure\", \"vacation\", \"weekend\", \"friday\", \"saturday\", \"sunday\"],\n",
    "            \"relaxation\" : [\"sleep\", \"sleeping\", \"nap\", \"rest\", \"relax\", \"experience\", \"no\", \"stress\",\"fun\", \"mood\", \"nothing\", \"chill\", \"free\"],\n",
    "            \"entertainment\" : [\"tv\", \"netflix\", \"music\", \"cricket\", \"ashes\", \"video\", \"game\",\"movie\", \"reading\", \"read\", \"paint\", \"draw\", \"sketch\"], \n",
    "            \"productivity\" :[\"work\", \"done\",\"productive\", \"code\", \"morning\", \"routine\", \"timetable\", \"results\", \"winning\", \"progress\", \"grade\", \"money\", \"successful\", \"productivity\"],\n",
    "            \"physical_exercise\" : [\"yoga\", \"football\", \"gym\",\"sports\", \"active\", \"workout\", \"bike\", \"hike\", \"travel\"]\n",
    "        }\n",
    "\n",
    "        x = x.strip()\n",
    "        preprocessed_words = [word.lower() for word in x.split()]\n",
    "\n",
    "\n",
    "        # Map the preprocessed words to a category using the WordNet ontology\n",
    "        category_counts = {}\n",
    "        for word in preprocessed_words:\n",
    "            # get all the synonyms for the word from wordnet\n",
    "            synsets = wn.synsets(word)\n",
    "            for synset in synsets:\n",
    "                # for each lemma / root form of sysnonmy check if it exists in the list corresponding to each generic_category key\n",
    "                for lemma in synset.lemmas():\n",
    "                    for category, related_terms in generic_category.items():\n",
    "                        if lemma.name() in related_terms:\n",
    "                            category_counts[category] = category_counts.get(category, 0) + 1\n",
    "\n",
    "        # Choose the hobby category with the most matches\n",
    "        predicted_category = max(category_counts, key=category_counts.get)\n",
    "        return predicted_category\n",
    "    except:\n",
    "        return \"NA\""
   ]
  },
  {
   "cell_type": "code",
   "execution_count": null,
   "metadata": {},
<<<<<<< HEAD
   "outputs": [
    {
     "data": {
      "text/plain": [
       "weather              86\n",
       "relaxation           58\n",
       "food                 49\n",
       "NA                   34\n",
       "productivity         27\n",
       "socializing          27\n",
       "entertainment         9\n",
       "physical_exercise     8\n",
       "vacation              4\n",
       "drinking              3\n",
       "Name: good_things_1, dtype: int64"
      ]
     },
     "execution_count": 202,
     "metadata": {},
     "output_type": "execute_result"
    }
   ],
=======
   "outputs": [],
>>>>>>> 4d326c5e00d9a1bdbb74fe1bc0f669c0cd8de664
   "source": [
    "df['good_things_1'] = df['good_day_1'].apply(_extract_category)\n",
    "df['good_things_1'].value_counts()"
   ]
  },
  {
   "cell_type": "code",
   "execution_count": null,
   "metadata": {},
<<<<<<< HEAD
   "outputs": [
    {
     "data": {
      "text/plain": [
       "NA                   60\n",
       "relaxation           59\n",
       "socializing          49\n",
       "food                 39\n",
       "weather              38\n",
       "productivity         26\n",
       "entertainment        17\n",
       "physical_exercise    10\n",
       "drinking              5\n",
       "vacation              2\n",
       "Name: good_things_2, dtype: int64"
      ]
     },
     "execution_count": 203,
     "metadata": {},
     "output_type": "execute_result"
    }
   ],
=======
   "outputs": [],
>>>>>>> 4d326c5e00d9a1bdbb74fe1bc0f669c0cd8de664
   "source": [
    "df['good_things_2'] = df['good_day_2'].apply(_extract_category)\n",
    "df['good_things_2'].value_counts()"
   ]
  },
  {
   "cell_type": "code",
   "execution_count": null,
   "metadata": {},
   "outputs": [],
   "source": [
    "# df[df['good_things_2'] == 'NA']['good_day_2'].tolist()"
   ]
  },
  {
   "cell_type": "code",
   "execution_count": null,
   "metadata": {},
<<<<<<< HEAD
   "outputs": [
    {
     "data": {
      "text/html": [
       "<div>\n",
       "<style scoped>\n",
       "    .dataframe tbody tr th:only-of-type {\n",
       "        vertical-align: middle;\n",
       "    }\n",
       "\n",
       "    .dataframe tbody tr th {\n",
       "        vertical-align: top;\n",
       "    }\n",
       "\n",
       "    .dataframe thead th {\n",
       "        text-align: right;\n",
       "    }\n",
       "</style>\n",
       "<table border=\"1\" class=\"dataframe\">\n",
       "  <thead>\n",
       "    <tr style=\"text-align: right;\">\n",
       "      <th></th>\n",
       "      <th>stresslevel</th>\n",
       "      <th>good_things_1</th>\n",
       "      <th>good_things_2</th>\n",
       "    </tr>\n",
       "  </thead>\n",
       "  <tbody>\n",
       "    <tr>\n",
       "      <th>0</th>\n",
       "      <td>100.0</td>\n",
       "      <td>NA</td>\n",
       "      <td>NA</td>\n",
       "    </tr>\n",
       "    <tr>\n",
       "      <th>1</th>\n",
       "      <td>60.0</td>\n",
       "      <td>food</td>\n",
       "      <td>relaxation</td>\n",
       "    </tr>\n",
       "    <tr>\n",
       "      <th>2</th>\n",
       "      <td>20.0</td>\n",
       "      <td>relaxation</td>\n",
       "      <td>socializing</td>\n",
       "    </tr>\n",
       "    <tr>\n",
       "      <th>3</th>\n",
       "      <td>50.0</td>\n",
       "      <td>physical_exercise</td>\n",
       "      <td>NA</td>\n",
       "    </tr>\n",
       "    <tr>\n",
       "      <th>4</th>\n",
       "      <td>65.0</td>\n",
       "      <td>relaxation</td>\n",
       "      <td>weather</td>\n",
       "    </tr>\n",
       "    <tr>\n",
       "      <th>...</th>\n",
       "      <td>...</td>\n",
       "      <td>...</td>\n",
       "      <td>...</td>\n",
       "    </tr>\n",
       "    <tr>\n",
       "      <th>300</th>\n",
       "      <td>70.0</td>\n",
       "      <td>productivity</td>\n",
       "      <td>productivity</td>\n",
       "    </tr>\n",
       "    <tr>\n",
       "      <th>301</th>\n",
       "      <td>10.0</td>\n",
       "      <td>socializing</td>\n",
       "      <td>NA</td>\n",
       "    </tr>\n",
       "    <tr>\n",
       "      <th>302</th>\n",
       "      <td>28.0</td>\n",
       "      <td>relaxation</td>\n",
       "      <td>NA</td>\n",
       "    </tr>\n",
       "    <tr>\n",
       "      <th>303</th>\n",
       "      <td>50.0</td>\n",
       "      <td>productivity</td>\n",
       "      <td>socializing</td>\n",
       "    </tr>\n",
       "    <tr>\n",
       "      <th>304</th>\n",
       "      <td>80.0</td>\n",
       "      <td>food</td>\n",
       "      <td>relaxation</td>\n",
       "    </tr>\n",
       "  </tbody>\n",
       "</table>\n",
       "<p>305 rows × 3 columns</p>\n",
       "</div>"
      ],
      "text/plain": [
       "     stresslevel      good_things_1 good_things_2\n",
       "0          100.0                 NA            NA\n",
       "1           60.0               food    relaxation\n",
       "2           20.0         relaxation   socializing\n",
       "3           50.0  physical_exercise            NA\n",
       "4           65.0         relaxation       weather\n",
       "..           ...                ...           ...\n",
       "300         70.0       productivity  productivity\n",
       "301         10.0        socializing            NA\n",
       "302         28.0         relaxation            NA\n",
       "303         50.0       productivity   socializing\n",
       "304         80.0               food    relaxation\n",
       "\n",
       "[305 rows x 3 columns]"
      ]
     },
     "execution_count": 205,
     "metadata": {},
     "output_type": "execute_result"
    }
   ],
=======
   "outputs": [],
>>>>>>> 4d326c5e00d9a1bdbb74fe1bc0f669c0cd8de664
   "source": [
    "df[['stresslevel', 'good_things_1','good_things_2']]"
   ]
  },
  {
   "cell_type": "code",
   "execution_count": null,
   "metadata": {},
   "outputs": [],
   "source": [
    "# Create a frequency plot\n",
    "sns.histplot(data = df['good_things_1'], kde=False)\n",
    "\n",
    "# Set plot title and axis labels\n",
    "plt.title('Distribution of good things 1')\n",
    "plt.xlabel('Value')\n",
    "plt.ylabel('Frequency')\n",
    "plt.xticks(rotation=60)\n",
    "plt.show()"
   ]
  },
  {
   "cell_type": "code",
   "execution_count": null,
   "metadata": {},
   "outputs": [],
   "source": [
    "# Create a frequency plot\n",
    "sns.histplot(data = df['good_things_2'], kde=False)\n",
    "\n",
    "# Set plot title and axis labels\n",
    "plt.title('Distribution of good things 2')\n",
    "plt.xlabel('Value')\n",
    "plt.ylabel('Frequency')\n",
    "plt.xticks(rotation=60)\n",
    "plt.show()"
   ]
  },
  {
   "cell_type": "markdown",
   "metadata": {},
   "source": [
    "Replace NA values for the good_things columns"
   ]
  },
  {
   "cell_type": "code",
   "execution_count": null,
   "metadata": {},
   "outputs": [],
   "source": [
    "'''Replace NA values for good_things_1'''\n",
    "df['good_things_1'] = df['good_things_1'].replace('NA', np.nan)\n",
    "\n",
    "# find the frequency of each category in the column\n",
    "freq_dict = df['good_things_1'].value_counts(normalize=True).to_dict()\n",
    "\n",
    "# remove NaN from the dictionary\n",
    "freq_dict = {k:v for k,v in freq_dict.items() if not pd.isna(k)}\n",
    "\n",
    "# find the top 3 categories\n",
    "top_categories = sorted(freq_dict, key=freq_dict.get, reverse=True)[:3]\n",
    "\n",
    "# randomly choose one of the top 3 categories for each NaN value\n",
    "df['good_things_1'] = df['good_things_1'].apply(lambda x: random.choice(top_categories) if pd.isna(x) else x)"
   ]
  },
  {
   "cell_type": "code",
   "execution_count": null,
   "metadata": {},
   "outputs": [],
<<<<<<< HEAD
   "source": [
    "'''Replace NA values for good_things_2'''\n",
    "df['good_things_2'] = df['good_things_2'].replace('NA', np.nan)\n",
    "\n",
    "# find the frequency of each category in the column\n",
    "freq_dict = df['good_things_2'].value_counts(normalize=True).to_dict()\n",
    "\n",
    "# remove NaN from the dictionary\n",
    "freq_dict = {k:v for k,v in freq_dict.items() if not pd.isna(k)}\n",
    "\n",
    "# find the top 3 categories\n",
    "top_categories = sorted(freq_dict, key=freq_dict.get, reverse=True)[:3]\n",
    "\n",
    "# randomly choose one of the top 3 categories for each NaN value\n",
    "df['good_things_2'] = df['good_things_2'].apply(lambda x: random.choice(top_categories) if pd.isna(x) else x)"
   ]
  },
  {
   "cell_type": "code",
   "execution_count": null,
   "metadata": {
    "scrolled": true
   },
   "outputs": [
    {
     "data": {
      "text/html": [
       "<div>\n",
       "<style scoped>\n",
       "    .dataframe tbody tr th:only-of-type {\n",
       "        vertical-align: middle;\n",
       "    }\n",
       "\n",
       "    .dataframe tbody tr th {\n",
       "        vertical-align: top;\n",
       "    }\n",
       "\n",
       "    .dataframe thead th {\n",
       "        text-align: right;\n",
       "    }\n",
       "</style>\n",
       "<table border=\"1\" class=\"dataframe\">\n",
       "  <thead>\n",
       "    <tr style=\"text-align: right;\">\n",
       "      <th></th>\n",
       "      <th>send_date</th>\n",
       "      <th>program</th>\n",
       "      <th>taken_machine_learning_course</th>\n",
       "      <th>taken_information_retrieval_course</th>\n",
       "      <th>taken_statistics_course</th>\n",
       "      <th>taken_database_course</th>\n",
       "      <th>gender</th>\n",
       "      <th>have_used_chatgpt</th>\n",
       "      <th>birthdate</th>\n",
       "      <th>students_in_the_room_gamble</th>\n",
       "      <th>stood_up</th>\n",
       "      <th>stresslevel</th>\n",
       "      <th>hours_of_sports_week</th>\n",
       "      <th>random_number</th>\n",
       "      <th>time_to_bed</th>\n",
       "      <th>good_day_1</th>\n",
       "      <th>good_day_2</th>\n",
       "      <th>hour_of_time_to_bed</th>\n",
       "      <th>year_of_birth</th>\n",
       "      <th>age</th>\n",
       "      <th>good_things_1</th>\n",
       "      <th>good_things_2</th>\n",
       "    </tr>\n",
       "  </thead>\n",
       "  <tbody>\n",
       "    <tr>\n",
       "      <th>0</th>\n",
       "      <td>4-4-2023 12:08:33</td>\n",
       "      <td>Artificial Intelligence</td>\n",
       "      <td>yes</td>\n",
       "      <td>0</td>\n",
       "      <td>mu</td>\n",
       "      <td>nee</td>\n",
       "      <td>gender fluid</td>\n",
       "      <td>yes</td>\n",
       "      <td>23/11/1997</td>\n",
       "      <td>319.0</td>\n",
       "      <td>unknown</td>\n",
       "      <td>100.0</td>\n",
       "      <td>0.0</td>\n",
       "      <td>69</td>\n",
       "      <td>11:30</td>\n",
       "      <td>Ashes</td>\n",
       "      <td>Not ashes</td>\n",
       "      <td>11</td>\n",
       "      <td>1997.0</td>\n",
       "      <td>26</td>\n",
       "      <td>relaxation</td>\n",
       "      <td>socializing</td>\n",
       "    </tr>\n",
       "    <tr>\n",
       "      <th>1</th>\n",
       "      <td>4-4-2023 12:08:36</td>\n",
       "      <td>Artificial Intelligence</td>\n",
       "      <td>no</td>\n",
       "      <td>0</td>\n",
       "      <td>sigma</td>\n",
       "      <td>nee</td>\n",
       "      <td>male</td>\n",
       "      <td>not willing to say</td>\n",
       "      <td>5th August, 1995</td>\n",
       "      <td>600.0</td>\n",
       "      <td>no</td>\n",
       "      <td>60.0</td>\n",
       "      <td>2.0</td>\n",
       "      <td>42</td>\n",
       "      <td>23:00</td>\n",
       "      <td>good food</td>\n",
       "      <td>good sleep</td>\n",
       "      <td>23</td>\n",
       "      <td>1995.0</td>\n",
       "      <td>28</td>\n",
       "      <td>food</td>\n",
       "      <td>relaxation</td>\n",
       "    </tr>\n",
       "    <tr>\n",
       "      <th>2</th>\n",
       "      <td>4-4-2023 12:08:38</td>\n",
       "      <td>Artificial Intelligence</td>\n",
       "      <td>no</td>\n",
       "      <td>0</td>\n",
       "      <td>mu</td>\n",
       "      <td>nee</td>\n",
       "      <td>female</td>\n",
       "      <td>no</td>\n",
       "      <td>21/09</td>\n",
       "      <td>220.0</td>\n",
       "      <td>no</td>\n",
       "      <td>20.0</td>\n",
       "      <td>5.0</td>\n",
       "      <td>17</td>\n",
       "      <td>23:30</td>\n",
       "      <td>Sports</td>\n",
       "      <td>Friends</td>\n",
       "      <td>23</td>\n",
       "      <td>1999.0</td>\n",
       "      <td>0</td>\n",
       "      <td>relaxation</td>\n",
       "      <td>socializing</td>\n",
       "    </tr>\n",
       "    <tr>\n",
       "      <th>3</th>\n",
       "      <td>4-4-2023 12:08:52</td>\n",
       "      <td>Data mining</td>\n",
       "      <td>yes</td>\n",
       "      <td>1</td>\n",
       "      <td>mu</td>\n",
       "      <td>ja</td>\n",
       "      <td>male</td>\n",
       "      <td>yes</td>\n",
       "      <td>25-06-1996</td>\n",
       "      <td>100.0</td>\n",
       "      <td>unknown</td>\n",
       "      <td>50.0</td>\n",
       "      <td>5.0</td>\n",
       "      <td>12</td>\n",
       "      <td>23:00</td>\n",
       "      <td>Gym</td>\n",
       "      <td>Piano</td>\n",
       "      <td>23</td>\n",
       "      <td>1996.0</td>\n",
       "      <td>27</td>\n",
       "      <td>physical_exercise</td>\n",
       "      <td>food</td>\n",
       "    </tr>\n",
       "    <tr>\n",
       "      <th>4</th>\n",
       "      <td>4-4-2023 12:08:59</td>\n",
       "      <td>Quantitative Risk Management</td>\n",
       "      <td>no</td>\n",
       "      <td>0</td>\n",
       "      <td>mu</td>\n",
       "      <td>nee</td>\n",
       "      <td>male</td>\n",
       "      <td>yes</td>\n",
       "      <td>18-08-1998</td>\n",
       "      <td>300.0</td>\n",
       "      <td>no</td>\n",
       "      <td>65.0</td>\n",
       "      <td>10.0</td>\n",
       "      <td>874</td>\n",
       "      <td>23:00</td>\n",
       "      <td>Relax</td>\n",
       "      <td>Sun</td>\n",
       "      <td>23</td>\n",
       "      <td>1998.0</td>\n",
       "      <td>25</td>\n",
       "      <td>relaxation</td>\n",
       "      <td>weather</td>\n",
       "    </tr>\n",
       "  </tbody>\n",
       "</table>\n",
       "</div>"
      ],
      "text/plain": [
       "           send_date                       program  \\\n",
       "0  4-4-2023 12:08:33       Artificial Intelligence   \n",
       "1  4-4-2023 12:08:36       Artificial Intelligence   \n",
       "2  4-4-2023 12:08:38       Artificial Intelligence   \n",
       "3  4-4-2023 12:08:52                   Data mining   \n",
       "4  4-4-2023 12:08:59  Quantitative Risk Management   \n",
       "\n",
       "  taken_machine_learning_course taken_information_retrieval_course  \\\n",
       "0                           yes                                  0   \n",
       "1                            no                                  0   \n",
       "2                            no                                  0   \n",
       "3                           yes                                  1   \n",
       "4                            no                                  0   \n",
       "\n",
       "  taken_statistics_course taken_database_course        gender  \\\n",
       "0                      mu                   nee  gender fluid   \n",
       "1                   sigma                   nee          male   \n",
       "2                      mu                   nee        female   \n",
       "3                      mu                    ja          male   \n",
       "4                      mu                   nee          male   \n",
       "\n",
       "    have_used_chatgpt         birthdate  students_in_the_room_gamble stood_up  \\\n",
       "0                 yes        23/11/1997                        319.0  unknown   \n",
       "1  not willing to say  5th August, 1995                        600.0       no   \n",
       "2                  no             21/09                        220.0       no   \n",
       "3                 yes        25-06-1996                        100.0  unknown   \n",
       "4                 yes        18-08-1998                        300.0       no   \n",
       "\n",
       "   stresslevel  hours_of_sports_week random_number time_to_bed good_day_1  \\\n",
       "0        100.0                   0.0            69       11:30      Ashes   \n",
       "1         60.0                   2.0            42       23:00  good food   \n",
       "2         20.0                   5.0            17       23:30     Sports   \n",
       "3         50.0                   5.0            12       23:00        Gym   \n",
       "4         65.0                  10.0           874       23:00      Relax   \n",
       "\n",
       "   good_day_2  hour_of_time_to_bed  year_of_birth  age      good_things_1  \\\n",
       "0   Not ashes                   11         1997.0   26         relaxation   \n",
       "1  good sleep                   23         1995.0   28               food   \n",
       "2     Friends                   23         1999.0    0         relaxation   \n",
       "3       Piano                   23         1996.0   27  physical_exercise   \n",
       "4         Sun                   23         1998.0   25         relaxation   \n",
       "\n",
       "  good_things_2  \n",
       "0   socializing  \n",
       "1    relaxation  \n",
       "2   socializing  \n",
       "3          food  \n",
       "4       weather  "
      ]
     },
     "execution_count": 210,
     "metadata": {},
     "output_type": "execute_result"
    }
   ],
=======
>>>>>>> 4d326c5e00d9a1bdbb74fe1bc0f669c0cd8de664
   "source": [
    "df.head()"
   ]
  },
  {
   "cell_type": "markdown",
   "metadata": {},
   "source": [
    "Clean the age column"
   ]
  },
  {
   "cell_type": "code",
   "execution_count": null,
   "metadata": {},
   "outputs": [
    {
     "name": "stdout",
     "output_type": "stream",
     "text": [
      "61\n"
     ]
    }
   ],
   "source": [
    "# select the number of rows where the age is 0\n",
    "num_rows = df[df['age'] == 0].shape[0]\n",
    "\n",
    "print(num_rows)"
   ]
  },
  {
   "cell_type": "code",
   "execution_count": null,
   "metadata": {},
   "outputs": [
    {
     "data": {
      "image/png": "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",
      "text/plain": [
       "<Figure size 640x480 with 1 Axes>"
      ]
     },
     "metadata": {},
     "output_type": "display_data"
    }
   ],
   "source": [
    "# plot a histogram of the age column\n",
    "plt.hist(df['age'])\n",
    "\n",
    "# add labels to the plot\n",
    "plt.title('Age Distribution')\n",
    "plt.xlabel('Age')\n",
    "plt.ylabel('Count')\n",
    "\n",
    "# show the plot\n",
    "plt.show()"
   ]
  },
  {
   "cell_type": "code",
   "execution_count": null,
   "metadata": {},
   "outputs": [
    {
     "name": "stderr",
     "output_type": "stream",
     "text": [
      "/tmp/ipykernel_16982/3237802310.py:9: SettingWithCopyWarning: \n",
      "A value is trying to be set on a copy of a slice from a DataFrame\n",
      "\n",
      "See the caveats in the documentation: https://pandas.pydata.org/pandas-docs/stable/user_guide/indexing.html#returning-a-view-versus-a-copy\n"
     ]
    }
   ],
   "source": [
    "# Clean the student gamble outliers, and replace with the mean\n",
    "# calculate the z-scores for the 'students_in_the_room_gamble' column\n",
    "z_scores = np.abs((df['age'] - np.mean(df['age'])) / np.std(df['age']))\n",
    "\n",
    "# define a threshold for identifying outliers (z-score > 3 for example)\n",
    "threshold = 3\n",
    "\n",
    "# identify the outliers and replace with the mean value\n",
    "df['age'][z_scores > threshold] = np.mean(df['age'])"
   ]
  },
  {
   "cell_type": "code",
   "execution_count": null,
   "metadata": {},
   "outputs": [],
   "source": [
    "# replace 0 values in the age column with the mean age\n",
    "mean_age = df['age'].mean()\n",
    "df['age'] = df['age'].replace(0, int(mean_age))"
   ]
  },
  {
   "cell_type": "code",
   "execution_count": null,
   "metadata": {
    "scrolled": false
   },
   "outputs": [
    {
     "data": {
      "image/png": "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",
      "text/plain": [
       "<Figure size 640x480 with 1 Axes>"
      ]
     },
     "metadata": {},
     "output_type": "display_data"
    }
   ],
   "source": [
    "# plot a histogram of the age column\n",
    "plt.hist(df['age'])\n",
    "\n",
    "# add labels to the plot\n",
    "plt.title('Age Distribution')\n",
    "plt.xlabel('Age')\n",
    "plt.ylabel('Count')\n",
    "\n",
    "# show the plot\n",
    "plt.show()"
   ]
  },
  {
   "cell_type": "code",
   "execution_count": null,
   "metadata": {},
   "outputs": [
    {
     "name": "stderr",
     "output_type": "stream",
     "text": [
      "/tmp/ipykernel_16982/4009633969.py:3: UserWarning: \n",
      "\n",
      "`distplot` is a deprecated function and will be removed in seaborn v0.14.0.\n",
      "\n",
      "Please adapt your code to use either `displot` (a figure-level function with\n",
      "similar flexibility) or `histplot` (an axes-level function for histograms).\n",
      "\n",
      "For a guide to updating your code to use the new functions, please see\n",
      "https://gist.github.com/mwaskom/de44147ed2974457ad6372750bbe5751\n",
      "\n"
     ]
    },
    {
     "data": {
      "text/plain": [
       "<Axes: xlabel='age', ylabel='Density'>"
      ]
     },
     "execution_count": 216,
     "metadata": {},
     "output_type": "execute_result"
    },
    {
     "data": {
      "image/png": "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",
      "text/plain": [
       "<Figure size 640x480 with 1 Axes>"
      ]
     },
     "metadata": {},
     "output_type": "display_data"
    }
   ],
   "source": [
    "# eliminating the outlier age\n",
    "ages  = df[df['age'] < 100]['age']\n",
    "sns.distplot(ages)\n"
   ]
  },
  {
   "cell_type": "markdown",
   "metadata": {},
   "source": [
    "Get number of background courses as column"
   ]
  },
  {
   "cell_type": "code",
   "execution_count": null,
   "metadata": {},
   "outputs": [],
   "source": [
    "df['taken_information_retrieval_course'] = df['taken_information_retrieval_course'].replace({'1': 'yes', '0': 'no'})\n",
    "df['taken_statistics_course'] = df['taken_statistics_course'].replace({'mu': 'yes', 'sigma': 'no'})\n",
    "df['taken_database_course'] = df['taken_database_course'].replace({'ja': 'yes', 'nee': 'no'})"
   ]
  },
  {
   "cell_type": "code",
   "execution_count": null,
   "metadata": {},
   "outputs": [],
   "source": [
    "# Create the column of number of background columns\n",
    "df['background_knowledge'] = df[['taken_machine_learning_course', 'taken_information_retrieval_course', 'taken_statistics_course', 'taken_database_course']].apply(lambda row: row.str.count('yes').sum(), axis=1)"
   ]
  },
  {
   "cell_type": "code",
   "execution_count": null,
   "metadata": {
    "scrolled": true
   },
<<<<<<< HEAD
   "outputs": [
    {
     "data": {
      "text/html": [
       "<div>\n",
       "<style scoped>\n",
       "    .dataframe tbody tr th:only-of-type {\n",
       "        vertical-align: middle;\n",
       "    }\n",
       "\n",
       "    .dataframe tbody tr th {\n",
       "        vertical-align: top;\n",
       "    }\n",
       "\n",
       "    .dataframe thead th {\n",
       "        text-align: right;\n",
       "    }\n",
       "</style>\n",
       "<table border=\"1\" class=\"dataframe\">\n",
       "  <thead>\n",
       "    <tr style=\"text-align: right;\">\n",
       "      <th></th>\n",
       "      <th>send_date</th>\n",
       "      <th>program</th>\n",
       "      <th>taken_machine_learning_course</th>\n",
       "      <th>taken_information_retrieval_course</th>\n",
       "      <th>taken_statistics_course</th>\n",
       "      <th>taken_database_course</th>\n",
       "      <th>gender</th>\n",
       "      <th>have_used_chatgpt</th>\n",
       "      <th>birthdate</th>\n",
       "      <th>students_in_the_room_gamble</th>\n",
       "      <th>stood_up</th>\n",
       "      <th>stresslevel</th>\n",
       "      <th>hours_of_sports_week</th>\n",
       "      <th>random_number</th>\n",
       "      <th>time_to_bed</th>\n",
       "      <th>good_day_1</th>\n",
       "      <th>good_day_2</th>\n",
       "      <th>hour_of_time_to_bed</th>\n",
       "      <th>year_of_birth</th>\n",
       "      <th>age</th>\n",
       "      <th>good_things_1</th>\n",
       "      <th>good_things_2</th>\n",
       "      <th>background_knowledge</th>\n",
       "    </tr>\n",
       "  </thead>\n",
       "  <tbody>\n",
       "    <tr>\n",
       "      <th>0</th>\n",
       "      <td>4-4-2023 12:08:33</td>\n",
       "      <td>Artificial Intelligence</td>\n",
       "      <td>yes</td>\n",
       "      <td>no</td>\n",
       "      <td>yes</td>\n",
       "      <td>no</td>\n",
       "      <td>gender fluid</td>\n",
       "      <td>yes</td>\n",
       "      <td>23/11/1997</td>\n",
       "      <td>319.0</td>\n",
       "      <td>unknown</td>\n",
       "      <td>100.0</td>\n",
       "      <td>0.0</td>\n",
       "      <td>69</td>\n",
       "      <td>11:30</td>\n",
       "      <td>Ashes</td>\n",
       "      <td>Not ashes</td>\n",
       "      <td>11</td>\n",
       "      <td>1997.0</td>\n",
       "      <td>26.0</td>\n",
       "      <td>relaxation</td>\n",
       "      <td>socializing</td>\n",
       "      <td>2</td>\n",
       "    </tr>\n",
       "    <tr>\n",
       "      <th>1</th>\n",
       "      <td>4-4-2023 12:08:36</td>\n",
       "      <td>Artificial Intelligence</td>\n",
       "      <td>no</td>\n",
       "      <td>no</td>\n",
       "      <td>no</td>\n",
       "      <td>no</td>\n",
       "      <td>male</td>\n",
       "      <td>not willing to say</td>\n",
       "      <td>5th August, 1995</td>\n",
       "      <td>600.0</td>\n",
       "      <td>no</td>\n",
       "      <td>60.0</td>\n",
       "      <td>2.0</td>\n",
       "      <td>42</td>\n",
       "      <td>23:00</td>\n",
       "      <td>good food</td>\n",
       "      <td>good sleep</td>\n",
       "      <td>23</td>\n",
       "      <td>1995.0</td>\n",
       "      <td>28.0</td>\n",
       "      <td>food</td>\n",
       "      <td>relaxation</td>\n",
       "      <td>0</td>\n",
       "    </tr>\n",
       "    <tr>\n",
       "      <th>2</th>\n",
       "      <td>4-4-2023 12:08:38</td>\n",
       "      <td>Artificial Intelligence</td>\n",
       "      <td>no</td>\n",
       "      <td>no</td>\n",
       "      <td>yes</td>\n",
       "      <td>no</td>\n",
       "      <td>female</td>\n",
       "      <td>no</td>\n",
       "      <td>21/09</td>\n",
       "      <td>220.0</td>\n",
       "      <td>no</td>\n",
       "      <td>20.0</td>\n",
       "      <td>5.0</td>\n",
       "      <td>17</td>\n",
       "      <td>23:30</td>\n",
       "      <td>Sports</td>\n",
       "      <td>Friends</td>\n",
       "      <td>23</td>\n",
       "      <td>1999.0</td>\n",
       "      <td>20.0</td>\n",
       "      <td>relaxation</td>\n",
       "      <td>socializing</td>\n",
       "      <td>1</td>\n",
       "    </tr>\n",
       "    <tr>\n",
       "      <th>3</th>\n",
       "      <td>4-4-2023 12:08:52</td>\n",
       "      <td>Data mining</td>\n",
       "      <td>yes</td>\n",
       "      <td>yes</td>\n",
       "      <td>yes</td>\n",
       "      <td>yes</td>\n",
       "      <td>male</td>\n",
       "      <td>yes</td>\n",
       "      <td>25-06-1996</td>\n",
       "      <td>100.0</td>\n",
       "      <td>unknown</td>\n",
       "      <td>50.0</td>\n",
       "      <td>5.0</td>\n",
       "      <td>12</td>\n",
       "      <td>23:00</td>\n",
       "      <td>Gym</td>\n",
       "      <td>Piano</td>\n",
       "      <td>23</td>\n",
       "      <td>1996.0</td>\n",
       "      <td>27.0</td>\n",
       "      <td>physical_exercise</td>\n",
       "      <td>food</td>\n",
       "      <td>4</td>\n",
       "    </tr>\n",
       "    <tr>\n",
       "      <th>4</th>\n",
       "      <td>4-4-2023 12:08:59</td>\n",
       "      <td>Quantitative Risk Management</td>\n",
       "      <td>no</td>\n",
       "      <td>no</td>\n",
       "      <td>yes</td>\n",
       "      <td>no</td>\n",
       "      <td>male</td>\n",
       "      <td>yes</td>\n",
       "      <td>18-08-1998</td>\n",
       "      <td>300.0</td>\n",
       "      <td>no</td>\n",
       "      <td>65.0</td>\n",
       "      <td>10.0</td>\n",
       "      <td>874</td>\n",
       "      <td>23:00</td>\n",
       "      <td>Relax</td>\n",
       "      <td>Sun</td>\n",
       "      <td>23</td>\n",
       "      <td>1998.0</td>\n",
       "      <td>25.0</td>\n",
       "      <td>relaxation</td>\n",
       "      <td>weather</td>\n",
       "      <td>1</td>\n",
       "    </tr>\n",
       "  </tbody>\n",
       "</table>\n",
       "</div>"
      ],
      "text/plain": [
       "           send_date                       program  \\\n",
       "0  4-4-2023 12:08:33       Artificial Intelligence   \n",
       "1  4-4-2023 12:08:36       Artificial Intelligence   \n",
       "2  4-4-2023 12:08:38       Artificial Intelligence   \n",
       "3  4-4-2023 12:08:52                   Data mining   \n",
       "4  4-4-2023 12:08:59  Quantitative Risk Management   \n",
       "\n",
       "  taken_machine_learning_course taken_information_retrieval_course  \\\n",
       "0                           yes                                 no   \n",
       "1                            no                                 no   \n",
       "2                            no                                 no   \n",
       "3                           yes                                yes   \n",
       "4                            no                                 no   \n",
       "\n",
       "  taken_statistics_course taken_database_course        gender  \\\n",
       "0                     yes                    no  gender fluid   \n",
       "1                      no                    no          male   \n",
       "2                     yes                    no        female   \n",
       "3                     yes                   yes          male   \n",
       "4                     yes                    no          male   \n",
       "\n",
       "    have_used_chatgpt         birthdate  students_in_the_room_gamble stood_up  \\\n",
       "0                 yes        23/11/1997                        319.0  unknown   \n",
       "1  not willing to say  5th August, 1995                        600.0       no   \n",
       "2                  no             21/09                        220.0       no   \n",
       "3                 yes        25-06-1996                        100.0  unknown   \n",
       "4                 yes        18-08-1998                        300.0       no   \n",
       "\n",
       "   stresslevel  hours_of_sports_week random_number time_to_bed good_day_1  \\\n",
       "0        100.0                   0.0            69       11:30      Ashes   \n",
       "1         60.0                   2.0            42       23:00  good food   \n",
       "2         20.0                   5.0            17       23:30     Sports   \n",
       "3         50.0                   5.0            12       23:00        Gym   \n",
       "4         65.0                  10.0           874       23:00      Relax   \n",
       "\n",
       "   good_day_2  hour_of_time_to_bed  year_of_birth   age      good_things_1  \\\n",
       "0   Not ashes                   11         1997.0  26.0         relaxation   \n",
       "1  good sleep                   23         1995.0  28.0               food   \n",
       "2     Friends                   23         1999.0  20.0         relaxation   \n",
       "3       Piano                   23         1996.0  27.0  physical_exercise   \n",
       "4         Sun                   23         1998.0  25.0         relaxation   \n",
       "\n",
       "  good_things_2  background_knowledge  \n",
       "0   socializing                     2  \n",
       "1    relaxation                     0  \n",
       "2   socializing                     1  \n",
       "3          food                     4  \n",
       "4       weather                     1  "
      ]
     },
     "execution_count": 219,
     "metadata": {},
     "output_type": "execute_result"
    }
   ],
=======
   "outputs": [],
>>>>>>> 4d326c5e00d9a1bdbb74fe1bc0f669c0cd8de664
   "source": [
    "df.head()"
   ]
  },
  {
<<<<<<< HEAD
=======
   "cell_type": "markdown",
   "metadata": {},
   "source": [
    "Clean the age column"
   ]
  },
  {
   "cell_type": "code",
   "execution_count": null,
   "metadata": {},
   "outputs": [],
   "source": [
    "# select the number of rows where the age is 0\n",
    "num_rows = df[df['age'] == 0].shape[0]\n",
    "\n",
    "print(num_rows)"
   ]
  },
  {
   "cell_type": "code",
   "execution_count": null,
   "metadata": {},
   "outputs": [],
   "source": [
    "# plot a histogram of the age column\n",
    "plt.hist(df['age'])\n",
    "\n",
    "# add labels to the plot\n",
    "plt.title('Age Distribution')\n",
    "plt.xlabel('Age')\n",
    "plt.ylabel('Count')\n",
    "\n",
    "# show the plot\n",
    "plt.show()"
   ]
  },
  {
>>>>>>> 4d326c5e00d9a1bdbb74fe1bc0f669c0cd8de664
   "cell_type": "code",
   "execution_count": null,
   "metadata": {},
   "outputs": [],
   "source": [
    "# Drop the original good_day_x columns\n",
    "df = df.drop(['good_day_1', 'good_day_2', 'birthdate', 'year_of_birth'], axis=1)"
   ]
  },
  {
   "cell_type": "code",
   "execution_count": null,
   "metadata": {},
   "outputs": [],
   "source": [
<<<<<<< HEAD
    "# Convert float type columns to int which should be int\n",
    "df['age'] = df['age'].astype(int)\n",
=======
    "# replace 0 values in the age column with the mean age\n",
    "mean_age = df['age'].mean()\n",
    "df['age'] = df['age'].replace(0, int(mean_age))"
   ]
  },
  {
   "cell_type": "code",
   "execution_count": null,
   "metadata": {
    "scrolled": false
   },
   "outputs": [],
   "source": [
    "# plot a histogram of the age column\n",
    "plt.hist(df['age'])\n",
>>>>>>> 4d326c5e00d9a1bdbb74fe1bc0f669c0cd8de664
    "\n",
    "df['students_in_the_room_gamble'] = df['students_in_the_room_gamble'].astype(int)\n",
    "\n",
<<<<<<< HEAD
    "df['hours_of_sports_week'] = df['hours_of_sports_week'].astype(int)"
=======
    "# show the plot\n",
    "plt.show()"
   ]
  },
  {
   "cell_type": "code",
   "execution_count": null,
   "metadata": {},
   "outputs": [],
   "source": [
    "# eliminating the outlier age\n",
    "ages  = df[df['age'] < 100]['age']\n",
    "sns.distplot(ages)\n"
   ]
  },
  {
   "cell_type": "markdown",
   "metadata": {},
   "source": [
    "Get number of background courses as column"
   ]
  },
  {
   "cell_type": "code",
   "execution_count": null,
   "metadata": {},
   "outputs": [],
   "source": [
    "df['taken_information_retrieval_course'] = df['taken_information_retrieval_course'].replace({'1': 'yes', '0': 'no'})\n",
    "df['taken_statistics_course'] = df['taken_statistics_course'].replace({'mu': 'yes', 'sigma': 'no'})\n",
    "df['taken_database_course'] = df['taken_database_course'].replace({'ja': 'yes', 'nee': 'no'})"
   ]
  },
  {
   "cell_type": "code",
   "execution_count": null,
   "metadata": {},
   "outputs": [],
   "source": [
    "# Create the column of number of background columns\n",
    "df['background_knowledge'] = df[['taken_machine_learning_course', 'taken_information_retrieval_course', 'taken_statistics_course', 'taken_database_course']].apply(lambda row: row.str.count('yes').sum(), axis=1)"
>>>>>>> 4d326c5e00d9a1bdbb74fe1bc0f669c0cd8de664
   ]
  },
  {
   "cell_type": "code",
   "execution_count": null,
   "metadata": {
    "scrolled": true
   },
<<<<<<< HEAD
   "outputs": [
    {
     "data": {
      "text/html": [
       "<div>\n",
       "<style scoped>\n",
       "    .dataframe tbody tr th:only-of-type {\n",
       "        vertical-align: middle;\n",
       "    }\n",
       "\n",
       "    .dataframe tbody tr th {\n",
       "        vertical-align: top;\n",
       "    }\n",
       "\n",
       "    .dataframe thead th {\n",
       "        text-align: right;\n",
       "    }\n",
       "</style>\n",
       "<table border=\"1\" class=\"dataframe\">\n",
       "  <thead>\n",
       "    <tr style=\"text-align: right;\">\n",
       "      <th></th>\n",
       "      <th>send_date</th>\n",
       "      <th>program</th>\n",
       "      <th>taken_machine_learning_course</th>\n",
       "      <th>taken_information_retrieval_course</th>\n",
       "      <th>taken_statistics_course</th>\n",
       "      <th>taken_database_course</th>\n",
       "      <th>gender</th>\n",
       "      <th>have_used_chatgpt</th>\n",
       "      <th>students_in_the_room_gamble</th>\n",
       "      <th>stood_up</th>\n",
       "      <th>stresslevel</th>\n",
       "      <th>hours_of_sports_week</th>\n",
       "      <th>random_number</th>\n",
       "      <th>time_to_bed</th>\n",
       "      <th>hour_of_time_to_bed</th>\n",
       "      <th>age</th>\n",
       "      <th>good_things_1</th>\n",
       "      <th>good_things_2</th>\n",
       "      <th>background_knowledge</th>\n",
       "    </tr>\n",
       "  </thead>\n",
       "  <tbody>\n",
       "    <tr>\n",
       "      <th>0</th>\n",
       "      <td>4-4-2023 12:08:33</td>\n",
       "      <td>Artificial Intelligence</td>\n",
       "      <td>yes</td>\n",
       "      <td>no</td>\n",
       "      <td>yes</td>\n",
       "      <td>no</td>\n",
       "      <td>gender fluid</td>\n",
       "      <td>yes</td>\n",
       "      <td>319</td>\n",
       "      <td>unknown</td>\n",
       "      <td>100.0</td>\n",
       "      <td>0</td>\n",
       "      <td>69</td>\n",
       "      <td>11:30</td>\n",
       "      <td>11</td>\n",
       "      <td>26</td>\n",
       "      <td>relaxation</td>\n",
       "      <td>socializing</td>\n",
       "      <td>2</td>\n",
       "    </tr>\n",
       "    <tr>\n",
       "      <th>1</th>\n",
       "      <td>4-4-2023 12:08:36</td>\n",
       "      <td>Artificial Intelligence</td>\n",
       "      <td>no</td>\n",
       "      <td>no</td>\n",
       "      <td>no</td>\n",
       "      <td>no</td>\n",
       "      <td>male</td>\n",
       "      <td>not willing to say</td>\n",
       "      <td>600</td>\n",
       "      <td>no</td>\n",
       "      <td>60.0</td>\n",
       "      <td>2</td>\n",
       "      <td>42</td>\n",
       "      <td>23:00</td>\n",
       "      <td>23</td>\n",
       "      <td>28</td>\n",
       "      <td>food</td>\n",
       "      <td>relaxation</td>\n",
       "      <td>0</td>\n",
       "    </tr>\n",
       "    <tr>\n",
       "      <th>2</th>\n",
       "      <td>4-4-2023 12:08:38</td>\n",
       "      <td>Artificial Intelligence</td>\n",
       "      <td>no</td>\n",
       "      <td>no</td>\n",
       "      <td>yes</td>\n",
       "      <td>no</td>\n",
       "      <td>female</td>\n",
       "      <td>no</td>\n",
       "      <td>220</td>\n",
       "      <td>no</td>\n",
       "      <td>20.0</td>\n",
       "      <td>5</td>\n",
       "      <td>17</td>\n",
       "      <td>23:30</td>\n",
       "      <td>23</td>\n",
       "      <td>20</td>\n",
       "      <td>relaxation</td>\n",
       "      <td>socializing</td>\n",
       "      <td>1</td>\n",
       "    </tr>\n",
       "    <tr>\n",
       "      <th>3</th>\n",
       "      <td>4-4-2023 12:08:52</td>\n",
       "      <td>Data mining</td>\n",
       "      <td>yes</td>\n",
       "      <td>yes</td>\n",
       "      <td>yes</td>\n",
       "      <td>yes</td>\n",
       "      <td>male</td>\n",
       "      <td>yes</td>\n",
       "      <td>100</td>\n",
       "      <td>unknown</td>\n",
       "      <td>50.0</td>\n",
       "      <td>5</td>\n",
       "      <td>12</td>\n",
       "      <td>23:00</td>\n",
       "      <td>23</td>\n",
       "      <td>27</td>\n",
       "      <td>physical_exercise</td>\n",
       "      <td>food</td>\n",
       "      <td>4</td>\n",
       "    </tr>\n",
       "    <tr>\n",
       "      <th>4</th>\n",
       "      <td>4-4-2023 12:08:59</td>\n",
       "      <td>Quantitative Risk Management</td>\n",
       "      <td>no</td>\n",
       "      <td>no</td>\n",
       "      <td>yes</td>\n",
       "      <td>no</td>\n",
       "      <td>male</td>\n",
       "      <td>yes</td>\n",
       "      <td>300</td>\n",
       "      <td>no</td>\n",
       "      <td>65.0</td>\n",
       "      <td>10</td>\n",
       "      <td>874</td>\n",
       "      <td>23:00</td>\n",
       "      <td>23</td>\n",
       "      <td>25</td>\n",
       "      <td>relaxation</td>\n",
       "      <td>weather</td>\n",
       "      <td>1</td>\n",
       "    </tr>\n",
       "  </tbody>\n",
       "</table>\n",
       "</div>"
      ],
      "text/plain": [
       "           send_date                       program  \\\n",
       "0  4-4-2023 12:08:33       Artificial Intelligence   \n",
       "1  4-4-2023 12:08:36       Artificial Intelligence   \n",
       "2  4-4-2023 12:08:38       Artificial Intelligence   \n",
       "3  4-4-2023 12:08:52                   Data mining   \n",
       "4  4-4-2023 12:08:59  Quantitative Risk Management   \n",
       "\n",
       "  taken_machine_learning_course taken_information_retrieval_course  \\\n",
       "0                           yes                                 no   \n",
       "1                            no                                 no   \n",
       "2                            no                                 no   \n",
       "3                           yes                                yes   \n",
       "4                            no                                 no   \n",
       "\n",
       "  taken_statistics_course taken_database_course        gender  \\\n",
       "0                     yes                    no  gender fluid   \n",
       "1                      no                    no          male   \n",
       "2                     yes                    no        female   \n",
       "3                     yes                   yes          male   \n",
       "4                     yes                    no          male   \n",
       "\n",
       "    have_used_chatgpt  students_in_the_room_gamble stood_up  stresslevel  \\\n",
       "0                 yes                          319  unknown        100.0   \n",
       "1  not willing to say                          600       no         60.0   \n",
       "2                  no                          220       no         20.0   \n",
       "3                 yes                          100  unknown         50.0   \n",
       "4                 yes                          300       no         65.0   \n",
       "\n",
       "   hours_of_sports_week random_number time_to_bed  hour_of_time_to_bed  age  \\\n",
       "0                     0            69       11:30                   11   26   \n",
       "1                     2            42       23:00                   23   28   \n",
       "2                     5            17       23:30                   23   20   \n",
       "3                     5            12       23:00                   23   27   \n",
       "4                    10           874       23:00                   23   25   \n",
       "\n",
       "       good_things_1 good_things_2  background_knowledge  \n",
       "0         relaxation   socializing                     2  \n",
       "1               food    relaxation                     0  \n",
       "2         relaxation   socializing                     1  \n",
       "3  physical_exercise          food                     4  \n",
       "4         relaxation       weather                     1  "
      ]
     },
     "execution_count": 222,
     "metadata": {},
     "output_type": "execute_result"
    }
   ],
=======
   "outputs": [],
>>>>>>> 4d326c5e00d9a1bdbb74fe1bc0f669c0cd8de664
   "source": [
    "df.head()"
   ]
  },
  {
   "cell_type": "code",
   "execution_count": null,
   "metadata": {},
   "outputs": [],
   "source": [
    "# Move column background_knowledge to a more appropriate position\n",
    "column = df.pop('background_knowledge')\n",
    "new_position = 6\n",
    "df.insert(new_position, 'background_knowledge', column) "
   ]
  },
  {
   "cell_type": "code",
   "execution_count": null,
   "metadata": {},
   "outputs": [],
   "source": [
    "# Mapping the stress levels to a categorical attribute indicated by \n",
    "# low(0-34) , med(35-64), high(65-100)\n",
    "\n",
    "def _map_stress_to_category(x):\n",
    "\n",
    "    if x >=0 and  x < 60:\n",
    "        return 'low'\n",
    "    # elif x >= 35 and x  < 65:\n",
    "    #     return 'med'\n",
    "    else:\n",
    "        return 'high'\n",
    "\n",
    "df['stress_level'] = df['stresslevel'].apply(_map_stress_to_category)\n"
   ]
  },
  {
   "cell_type": "code",
   "execution_count": null,
<<<<<<< HEAD
   "metadata": {},
   "outputs": [
    {
     "data": {
      "text/plain": [
       "<Axes: xlabel='hour_of_time_to_bed', ylabel='count'>"
      ]
     },
     "execution_count": 225,
     "metadata": {},
     "output_type": "execute_result"
    },
    {
     "data": {
      "image/png": "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",
      "text/plain": [
       "<Figure size 640x480 with 1 Axes>"
      ]
     },
     "metadata": {},
     "output_type": "display_data"
    }
   ],
   "source": [
    "sns.countplot(data=df, x='hour_of_time_to_bed', order=hour_order,palette='magma')"
   ]
  },
  {
   "cell_type": "code",
   "execution_count": null,
   "metadata": {},
   "outputs": [
    {
     "data": {
      "text/html": [
       "<div>\n",
       "<style scoped>\n",
       "    .dataframe tbody tr th:only-of-type {\n",
       "        vertical-align: middle;\n",
       "    }\n",
       "\n",
       "    .dataframe tbody tr th {\n",
       "        vertical-align: top;\n",
       "    }\n",
       "\n",
       "    .dataframe thead th {\n",
       "        text-align: right;\n",
       "    }\n",
       "</style>\n",
       "<table border=\"1\" class=\"dataframe\">\n",
       "  <thead>\n",
       "    <tr style=\"text-align: right;\">\n",
       "      <th></th>\n",
       "      <th>send_date</th>\n",
       "      <th>program</th>\n",
       "      <th>taken_machine_learning_course</th>\n",
       "      <th>taken_information_retrieval_course</th>\n",
       "      <th>taken_statistics_course</th>\n",
       "      <th>taken_database_course</th>\n",
       "      <th>background_knowledge</th>\n",
       "      <th>gender</th>\n",
       "      <th>have_used_chatgpt</th>\n",
       "      <th>students_in_the_room_gamble</th>\n",
       "      <th>stood_up</th>\n",
       "      <th>stresslevel</th>\n",
       "      <th>hours_of_sports_week</th>\n",
       "      <th>random_number</th>\n",
       "      <th>time_to_bed</th>\n",
       "      <th>hour_of_time_to_bed</th>\n",
       "      <th>age</th>\n",
       "      <th>good_things_1</th>\n",
       "      <th>good_things_2</th>\n",
       "      <th>stress_level</th>\n",
       "    </tr>\n",
       "  </thead>\n",
       "  <tbody>\n",
       "    <tr>\n",
       "      <th>0</th>\n",
       "      <td>4-4-2023 12:08:33</td>\n",
       "      <td>Artificial Intelligence</td>\n",
       "      <td>yes</td>\n",
       "      <td>no</td>\n",
       "      <td>yes</td>\n",
       "      <td>no</td>\n",
       "      <td>2</td>\n",
       "      <td>gender fluid</td>\n",
       "      <td>yes</td>\n",
       "      <td>319</td>\n",
       "      <td>unknown</td>\n",
       "      <td>100.0</td>\n",
       "      <td>0</td>\n",
       "      <td>69</td>\n",
       "      <td>11:30</td>\n",
       "      <td>11</td>\n",
       "      <td>26</td>\n",
       "      <td>relaxation</td>\n",
       "      <td>socializing</td>\n",
       "      <td>high</td>\n",
       "    </tr>\n",
       "    <tr>\n",
       "      <th>1</th>\n",
       "      <td>4-4-2023 12:08:36</td>\n",
       "      <td>Artificial Intelligence</td>\n",
       "      <td>no</td>\n",
       "      <td>no</td>\n",
       "      <td>no</td>\n",
       "      <td>no</td>\n",
       "      <td>0</td>\n",
       "      <td>male</td>\n",
       "      <td>not willing to say</td>\n",
       "      <td>600</td>\n",
       "      <td>no</td>\n",
       "      <td>60.0</td>\n",
       "      <td>2</td>\n",
       "      <td>42</td>\n",
       "      <td>23:00</td>\n",
       "      <td>23</td>\n",
       "      <td>28</td>\n",
       "      <td>food</td>\n",
       "      <td>relaxation</td>\n",
       "      <td>high</td>\n",
       "    </tr>\n",
       "    <tr>\n",
       "      <th>2</th>\n",
       "      <td>4-4-2023 12:08:38</td>\n",
       "      <td>Artificial Intelligence</td>\n",
       "      <td>no</td>\n",
       "      <td>no</td>\n",
       "      <td>yes</td>\n",
       "      <td>no</td>\n",
       "      <td>1</td>\n",
       "      <td>female</td>\n",
       "      <td>no</td>\n",
       "      <td>220</td>\n",
       "      <td>no</td>\n",
       "      <td>20.0</td>\n",
       "      <td>5</td>\n",
       "      <td>17</td>\n",
       "      <td>23:30</td>\n",
       "      <td>23</td>\n",
       "      <td>20</td>\n",
       "      <td>relaxation</td>\n",
       "      <td>socializing</td>\n",
       "      <td>low</td>\n",
       "    </tr>\n",
       "    <tr>\n",
       "      <th>3</th>\n",
       "      <td>4-4-2023 12:08:52</td>\n",
       "      <td>Data mining</td>\n",
       "      <td>yes</td>\n",
       "      <td>yes</td>\n",
       "      <td>yes</td>\n",
       "      <td>yes</td>\n",
       "      <td>4</td>\n",
       "      <td>male</td>\n",
       "      <td>yes</td>\n",
       "      <td>100</td>\n",
       "      <td>unknown</td>\n",
       "      <td>50.0</td>\n",
       "      <td>5</td>\n",
       "      <td>12</td>\n",
       "      <td>23:00</td>\n",
       "      <td>23</td>\n",
       "      <td>27</td>\n",
       "      <td>physical_exercise</td>\n",
       "      <td>food</td>\n",
       "      <td>low</td>\n",
       "    </tr>\n",
       "    <tr>\n",
       "      <th>4</th>\n",
       "      <td>4-4-2023 12:08:59</td>\n",
       "      <td>Quantitative Risk Management</td>\n",
       "      <td>no</td>\n",
       "      <td>no</td>\n",
       "      <td>yes</td>\n",
       "      <td>no</td>\n",
       "      <td>1</td>\n",
       "      <td>male</td>\n",
       "      <td>yes</td>\n",
       "      <td>300</td>\n",
       "      <td>no</td>\n",
       "      <td>65.0</td>\n",
       "      <td>10</td>\n",
       "      <td>874</td>\n",
       "      <td>23:00</td>\n",
       "      <td>23</td>\n",
       "      <td>25</td>\n",
       "      <td>relaxation</td>\n",
       "      <td>weather</td>\n",
       "      <td>high</td>\n",
       "    </tr>\n",
       "  </tbody>\n",
       "</table>\n",
       "</div>"
      ],
      "text/plain": [
       "           send_date                       program  \\\n",
       "0  4-4-2023 12:08:33       Artificial Intelligence   \n",
       "1  4-4-2023 12:08:36       Artificial Intelligence   \n",
       "2  4-4-2023 12:08:38       Artificial Intelligence   \n",
       "3  4-4-2023 12:08:52                   Data mining   \n",
       "4  4-4-2023 12:08:59  Quantitative Risk Management   \n",
       "\n",
       "  taken_machine_learning_course taken_information_retrieval_course  \\\n",
       "0                           yes                                 no   \n",
       "1                            no                                 no   \n",
       "2                            no                                 no   \n",
       "3                           yes                                yes   \n",
       "4                            no                                 no   \n",
       "\n",
       "  taken_statistics_course taken_database_course  background_knowledge  \\\n",
       "0                     yes                    no                     2   \n",
       "1                      no                    no                     0   \n",
       "2                     yes                    no                     1   \n",
       "3                     yes                   yes                     4   \n",
       "4                     yes                    no                     1   \n",
       "\n",
       "         gender   have_used_chatgpt  students_in_the_room_gamble stood_up  \\\n",
       "0  gender fluid                 yes                          319  unknown   \n",
       "1          male  not willing to say                          600       no   \n",
       "2        female                  no                          220       no   \n",
       "3          male                 yes                          100  unknown   \n",
       "4          male                 yes                          300       no   \n",
       "\n",
       "   stresslevel  hours_of_sports_week random_number time_to_bed  \\\n",
       "0        100.0                     0            69       11:30   \n",
       "1         60.0                     2            42       23:00   \n",
       "2         20.0                     5            17       23:30   \n",
       "3         50.0                     5            12       23:00   \n",
       "4         65.0                    10           874       23:00   \n",
       "\n",
       "   hour_of_time_to_bed  age      good_things_1 good_things_2 stress_level  \n",
       "0                   11   26         relaxation   socializing         high  \n",
       "1                   23   28               food    relaxation         high  \n",
       "2                   23   20         relaxation   socializing          low  \n",
       "3                   23   27  physical_exercise          food          low  \n",
       "4                   23   25         relaxation       weather         high  "
      ]
     },
     "execution_count": 226,
     "metadata": {},
     "output_type": "execute_result"
    }
   ],
=======
   "metadata": {
    "scrolled": true
   },
   "outputs": [],
>>>>>>> 4d326c5e00d9a1bdbb74fe1bc0f669c0cd8de664
   "source": [
    "df.head()"
   ]
  },
  {
   "cell_type": "code",
   "execution_count": null,
   "metadata": {},
   "outputs": [],
   "source": [
    "# mapping hour of sleep to categorical \n",
    "# 0 - 3 early_midnight\n",
    "# 4 - 6 early_morning\n",
    "# 7 - 12 morning\n",
    "# 13 - 18 afternoon\n",
    "# 19 - 23 night\n",
    "\n",
    "\n",
    "def _map_time_to_bed_to_category(x):\n",
    "\n",
    "    if x >= 0 and x <= 3:\n",
    "        return \"early_midnight\"\n",
    "    elif x >=4 and x <= 7:\n",
    "        return \"early_morning\"\n",
    "    elif x >= 8 and x <= 12:\n",
    "        return \"morning\"\n",
    "    elif x >= 13 and x <= 18:\n",
    "        return \"afternoon\"\n",
    "    else:\n",
    "        return \"night\"\n",
    "\n",
    "df['time_to_bed_category'] = df['hour_of_time_to_bed'].apply(_map_time_to_bed_to_category)\n"
   ]
  },
  {
   "cell_type": "code",
   "execution_count": null,
   "metadata": {},
<<<<<<< HEAD
   "outputs": [
    {
     "data": {
      "text/html": [
       "<div>\n",
       "<style scoped>\n",
       "    .dataframe tbody tr th:only-of-type {\n",
       "        vertical-align: middle;\n",
       "    }\n",
       "\n",
       "    .dataframe tbody tr th {\n",
       "        vertical-align: top;\n",
       "    }\n",
       "\n",
       "    .dataframe thead th {\n",
       "        text-align: right;\n",
       "    }\n",
       "</style>\n",
       "<table border=\"1\" class=\"dataframe\">\n",
       "  <thead>\n",
       "    <tr style=\"text-align: right;\">\n",
       "      <th></th>\n",
       "      <th>send_date</th>\n",
       "      <th>program</th>\n",
       "      <th>taken_machine_learning_course</th>\n",
       "      <th>taken_information_retrieval_course</th>\n",
       "      <th>taken_statistics_course</th>\n",
       "      <th>taken_database_course</th>\n",
       "      <th>background_knowledge</th>\n",
       "      <th>gender</th>\n",
       "      <th>have_used_chatgpt</th>\n",
       "      <th>students_in_the_room_gamble</th>\n",
       "      <th>stood_up</th>\n",
       "      <th>stresslevel</th>\n",
       "      <th>hours_of_sports_week</th>\n",
       "      <th>random_number</th>\n",
       "      <th>time_to_bed</th>\n",
       "      <th>hour_of_time_to_bed</th>\n",
       "      <th>age</th>\n",
       "      <th>good_things_1</th>\n",
       "      <th>good_things_2</th>\n",
       "      <th>stress_level</th>\n",
       "      <th>time_to_bed_category</th>\n",
       "    </tr>\n",
       "  </thead>\n",
       "  <tbody>\n",
       "    <tr>\n",
       "      <th>0</th>\n",
       "      <td>4-4-2023 12:08:33</td>\n",
       "      <td>Artificial Intelligence</td>\n",
       "      <td>yes</td>\n",
       "      <td>no</td>\n",
       "      <td>yes</td>\n",
       "      <td>no</td>\n",
       "      <td>2</td>\n",
       "      <td>gender fluid</td>\n",
       "      <td>yes</td>\n",
       "      <td>319</td>\n",
       "      <td>unknown</td>\n",
       "      <td>100.0</td>\n",
       "      <td>0</td>\n",
       "      <td>69</td>\n",
       "      <td>11:30</td>\n",
       "      <td>11</td>\n",
       "      <td>26</td>\n",
       "      <td>relaxation</td>\n",
       "      <td>socializing</td>\n",
       "      <td>high</td>\n",
       "      <td>morning</td>\n",
       "    </tr>\n",
       "    <tr>\n",
       "      <th>1</th>\n",
       "      <td>4-4-2023 12:08:36</td>\n",
       "      <td>Artificial Intelligence</td>\n",
       "      <td>no</td>\n",
       "      <td>no</td>\n",
       "      <td>no</td>\n",
       "      <td>no</td>\n",
       "      <td>0</td>\n",
       "      <td>male</td>\n",
       "      <td>not willing to say</td>\n",
       "      <td>600</td>\n",
       "      <td>no</td>\n",
       "      <td>60.0</td>\n",
       "      <td>2</td>\n",
       "      <td>42</td>\n",
       "      <td>23:00</td>\n",
       "      <td>23</td>\n",
       "      <td>28</td>\n",
       "      <td>food</td>\n",
       "      <td>relaxation</td>\n",
       "      <td>high</td>\n",
       "      <td>night</td>\n",
       "    </tr>\n",
       "    <tr>\n",
       "      <th>2</th>\n",
       "      <td>4-4-2023 12:08:38</td>\n",
       "      <td>Artificial Intelligence</td>\n",
       "      <td>no</td>\n",
       "      <td>no</td>\n",
       "      <td>yes</td>\n",
       "      <td>no</td>\n",
       "      <td>1</td>\n",
       "      <td>female</td>\n",
       "      <td>no</td>\n",
       "      <td>220</td>\n",
       "      <td>no</td>\n",
       "      <td>20.0</td>\n",
       "      <td>5</td>\n",
       "      <td>17</td>\n",
       "      <td>23:30</td>\n",
       "      <td>23</td>\n",
       "      <td>20</td>\n",
       "      <td>relaxation</td>\n",
       "      <td>socializing</td>\n",
       "      <td>low</td>\n",
       "      <td>night</td>\n",
       "    </tr>\n",
       "    <tr>\n",
       "      <th>3</th>\n",
       "      <td>4-4-2023 12:08:52</td>\n",
       "      <td>Data mining</td>\n",
       "      <td>yes</td>\n",
       "      <td>yes</td>\n",
       "      <td>yes</td>\n",
       "      <td>yes</td>\n",
       "      <td>4</td>\n",
       "      <td>male</td>\n",
       "      <td>yes</td>\n",
       "      <td>100</td>\n",
       "      <td>unknown</td>\n",
       "      <td>50.0</td>\n",
       "      <td>5</td>\n",
       "      <td>12</td>\n",
       "      <td>23:00</td>\n",
       "      <td>23</td>\n",
       "      <td>27</td>\n",
       "      <td>physical_exercise</td>\n",
       "      <td>food</td>\n",
       "      <td>low</td>\n",
       "      <td>night</td>\n",
       "    </tr>\n",
       "    <tr>\n",
       "      <th>4</th>\n",
       "      <td>4-4-2023 12:08:59</td>\n",
       "      <td>Quantitative Risk Management</td>\n",
       "      <td>no</td>\n",
       "      <td>no</td>\n",
       "      <td>yes</td>\n",
       "      <td>no</td>\n",
       "      <td>1</td>\n",
       "      <td>male</td>\n",
       "      <td>yes</td>\n",
       "      <td>300</td>\n",
       "      <td>no</td>\n",
       "      <td>65.0</td>\n",
       "      <td>10</td>\n",
       "      <td>874</td>\n",
       "      <td>23:00</td>\n",
       "      <td>23</td>\n",
       "      <td>25</td>\n",
       "      <td>relaxation</td>\n",
       "      <td>weather</td>\n",
       "      <td>high</td>\n",
       "      <td>night</td>\n",
       "    </tr>\n",
       "  </tbody>\n",
       "</table>\n",
       "</div>"
      ],
      "text/plain": [
       "           send_date                       program  \\\n",
       "0  4-4-2023 12:08:33       Artificial Intelligence   \n",
       "1  4-4-2023 12:08:36       Artificial Intelligence   \n",
       "2  4-4-2023 12:08:38       Artificial Intelligence   \n",
       "3  4-4-2023 12:08:52                   Data mining   \n",
       "4  4-4-2023 12:08:59  Quantitative Risk Management   \n",
       "\n",
       "  taken_machine_learning_course taken_information_retrieval_course  \\\n",
       "0                           yes                                 no   \n",
       "1                            no                                 no   \n",
       "2                            no                                 no   \n",
       "3                           yes                                yes   \n",
       "4                            no                                 no   \n",
       "\n",
       "  taken_statistics_course taken_database_course  background_knowledge  \\\n",
       "0                     yes                    no                     2   \n",
       "1                      no                    no                     0   \n",
       "2                     yes                    no                     1   \n",
       "3                     yes                   yes                     4   \n",
       "4                     yes                    no                     1   \n",
       "\n",
       "         gender   have_used_chatgpt  students_in_the_room_gamble stood_up  \\\n",
       "0  gender fluid                 yes                          319  unknown   \n",
       "1          male  not willing to say                          600       no   \n",
       "2        female                  no                          220       no   \n",
       "3          male                 yes                          100  unknown   \n",
       "4          male                 yes                          300       no   \n",
       "\n",
       "   stresslevel  hours_of_sports_week random_number time_to_bed  \\\n",
       "0        100.0                     0            69       11:30   \n",
       "1         60.0                     2            42       23:00   \n",
       "2         20.0                     5            17       23:30   \n",
       "3         50.0                     5            12       23:00   \n",
       "4         65.0                    10           874       23:00   \n",
       "\n",
       "   hour_of_time_to_bed  age      good_things_1 good_things_2 stress_level  \\\n",
       "0                   11   26         relaxation   socializing         high   \n",
       "1                   23   28               food    relaxation         high   \n",
       "2                   23   20         relaxation   socializing          low   \n",
       "3                   23   27  physical_exercise          food          low   \n",
       "4                   23   25         relaxation       weather         high   \n",
       "\n",
       "  time_to_bed_category  \n",
       "0              morning  \n",
       "1                night  \n",
       "2                night  \n",
       "3                night  \n",
       "4                night  "
      ]
     },
     "execution_count": 228,
     "metadata": {},
     "output_type": "execute_result"
    }
   ],
=======
   "outputs": [],
>>>>>>> 4d326c5e00d9a1bdbb74fe1bc0f669c0cd8de664
   "source": [
    "df.head()"
   ]
  },
  {
   "cell_type": "code",
   "execution_count": null,
   "metadata": {},
   "outputs": [
    {
     "data": {
      "text/plain": [
       "24.462295081967213"
      ]
     },
     "execution_count": 229,
     "metadata": {},
     "output_type": "execute_result"
    }
   ],
   "source": [
    "df['age'].median()\n",
    "df['age'].mean()"
   ]
  },
  {
   "cell_type": "code",
   "execution_count": null,
   "metadata": {},
   "outputs": [],
   "source": [
    "# As we observe median age , creating a column to indicate if age is leass than 25 to use later during classification task\n",
    "df['age_less_than_24'] = df['age'].apply(lambda x: 1 if x < 24 else 0)"
   ]
  },
  {
   "cell_type": "code",
   "execution_count": null,
   "metadata": {},
   "outputs": [
    {
     "name": "stdout",
     "output_type": "stream",
     "text": [
      "Index(['good_drinking', 'good_entertainment', 'good_food',\n",
      "       'good_physical_exercise', 'good_productivity', 'good_relaxation',\n",
      "       'good_socializing', 'good_vacation', 'good_weather'],\n",
      "      dtype='object')\n"
     ]
    },
    {
     "data": {
      "text/plain": [
       "Index(['good_drinking', 'good_entertainment', 'good_food',\n",
       "       'good_physical_exercise', 'good_productivity', 'good_relaxation',\n",
       "       'good_socializing', 'good_vacation', 'good_weather', 'send_date',\n",
       "       'program', 'taken_machine_learning_course',\n",
       "       'taken_information_retrieval_course', 'taken_statistics_course',\n",
       "       'taken_database_course', 'background_knowledge', 'gender',\n",
       "       'have_used_chatgpt', 'students_in_the_room_gamble', 'stood_up',\n",
       "       'stresslevel', 'hours_of_sports_week', 'random_number', 'time_to_bed',\n",
       "       'hour_of_time_to_bed', 'age', 'good_things_1', 'good_things_2',\n",
       "       'stress_level', 'time_to_bed_category', 'age_less_than_24'],\n",
       "      dtype='object')"
      ]
     },
     "execution_count": 231,
     "metadata": {},
     "output_type": "execute_result"
    }
   ],
   "source": [
    "# merging the good things 1 and good things 2 after one hot ecoding them \n",
    "\n",
    "good_things_1_encoded = pd.get_dummies(df['good_things_1'], prefix='good')\n",
    "good_things_2_encoded = pd.get_dummies(df['good_things_2'], prefix='good')\n",
    "# add the corresponding columns\n",
    "encoded_good_things = good_things_1_encoded.add(good_things_2_encoded, axis=1)\n",
    "\n",
    "# print the resulting dataframe\n",
    "print(encoded_good_things.columns)\n",
    "\n",
    "# concatenate the encoded dataframes horizontally\n",
    "df = pd.concat([encoded_good_things, df], axis=1)\n",
    "\n",
    "df.columns"
   ]
  },
  {
   "cell_type": "code",
   "execution_count": null,
   "metadata": {},
   "outputs": [
    {
     "data": {
      "text/plain": [
       "array(['Artificial Intelligence', 'Data mining',\n",
       "       'Quantitative Risk Management', 'Business Analytics',\n",
       "       'Computational Science', 'Computer Science',\n",
       "       'Bioinformatics and Systems Biology', 'aryamaan710@gmail.com',\n",
       "       'Neuroscience', 'Finance', 'Econometrics', '116',\n",
       "       'Human Language Technology', 'CLS',\n",
       "       'Econometrics and Operations Research', 'Masters',\n",
       "       'Information Sciences', 'Data thingy', 'Exchange',\n",
       "       'Biomedical Sciences',\n",
       "       'Management, Policy Analysis and Entrepreneurship in Health and Life Sciences',\n",
       "       'Econometrics and Operations Research ',\n",
       "       'Digital Business and Innovation', 'Hyperbolic Time Chamber',\n",
       "       'PhD', 'Stochastics and financial mathematics',\n",
       "       'High school 3rd grade', 'Big data engineering '], dtype=object)"
      ]
     },
     "execution_count": 242,
     "metadata": {},
     "output_type": "execute_result"
    }
   ],
   "source": [
    "df['program'].unique()"
   ]
  },
  {
   "attachments": {},
   "cell_type": "markdown",
   "metadata": {},
   "source": [
    "# TASK 2A: APPLICATION OF CLASSIFICATION ALGORITHMS"
   ]
  },
  {
   "cell_type": "code",
   "execution_count": null,
   "metadata": {},
   "outputs": [],
   "source": [
    "from sklearn.tree import DecisionTreeClassifier,  export_text\n",
    "from sklearn import tree\n",
    "from sklearn.model_selection import train_test_split\n",
    "from sklearn.metrics import accuracy_score\n",
    "\n",
    "from sklearn.preprocessing import OrdinalEncoder, OneHotEncoder\n",
    "from sklearn.compose import ColumnTransformer\n",
    "from sklearn.preprocessing import LabelEncoder\n",
    "\n",
    "# Preparing the data features and target columns \n",
    "\n",
    "# One hot encoding the features \n",
    "\n",
    "# X -  Features used for training \n",
    "features = ['program','taken_machine_learning_course', 'taken_information_retrieval_course', 'taken_statistics_course',\n",
    "            'taken_database_course', 'gender', 'have_used_chatgpt', 'time_to_bed_category' ,'good_drinking', 'good_entertainment',\n",
    "            'good_food', 'good_physical_exercise', 'good_productivity', 'good_relaxation',\n",
    "            'good_socializing', 'good_vacation', 'good_weather', 'age_less_than_24']\n",
    "            \n",
    "X = df[features]\n",
    "\n",
    "\n",
    "# convert the categorical column to numeric values\n",
    "\n",
    "# cols_to_encode = ['program','taken_machine_learning_course', 'taken_information_retrieval_course', 'taken_statistics_course',\n",
    "        #  'taken_database_course', 'gender', 'have_used_chatgpt', 'time_to_bed_category' ]\n",
    "\n",
    "# excluding gender and course info\n",
    "cols_to_encode = ['program', 'taken_machine_learning_course', 'taken_information_retrieval_course', 'taken_statistics_course',\n",
    "         'taken_database_course','have_used_chatgpt', 'time_to_bed_category' ]\n",
    "\n",
    "\n",
    "X = pd.get_dummies(X, columns=cols_to_encode)\n",
    "X.head()\n",
    "\n",
    "y = df['stress_level'].astype('category')\n",
    "\n",
    "# for multi class classification\n",
    "# oe = OrdinalEncoder(categories = [['low', 'med', 'high']])\n",
    "oe = OrdinalEncoder(categories = [['low',  'high']])"
   ]
  },
  {
   "cell_type": "code",
   "execution_count": null,
   "metadata": {},
   "outputs": [],
   "source": [
    "# # convert the categorical column to numeric values\n",
    "\n",
    "# _cols_to_one_hot_encode = ['program','taken_machine_learning_course', 'taken_information_retrieval_course', 'taken_statistics_course',\n",
    "#          'taken_database_course', 'gender', 'have_used_chatgpt', 'time_to_bed_category' ]\n",
    "\n",
    "\n",
    "# # create a column transformer that specifies which columns to encode\n",
    "# transformer = ColumnTransformer(transformers=[\n",
    "#     ('ordinal', OneHotEncoder(), ['program','taken_machine_learning_course', 'taken_information_retrieval_course', 'taken_statistics_course',\n",
    "#          'taken_database_course', 'gender', 'have_used_chatgpt', 'time_to_bed_category' ])\n",
    "# ], remainder='passthrough')\n",
    "\n",
    "# _encoded_X = transformer.fit_transform(X)\n",
    "# _encoded_X.shape\n"
   ]
  },
  {
   "attachments": {},
   "cell_type": "markdown",
   "metadata": {},
   "source": [
    "encoding the target stress level using ordinal encoder to retain the order of category , low - 0 and high - 2"
   ]
  },
  {
   "cell_type": "code",
   "execution_count": null,
   "metadata": {},
   "outputs": [],
   "source": [
    "# y = df['stress_level'].astype('category')\n",
    "\n",
    "# # for multi class classification\n",
    "# # oe = OrdinalEncoder(categories = [['low', 'med', 'high']])\n",
    "# oe = OrdinalEncoder(categories = [['low',  'high']])\n",
    "\n",
    "\n",
    "# # reshape y to have a second dimension\n",
    "# y = np.array(y).reshape(-1, 1)\n",
    "# # fit the label encoder to the values and transform them\n",
    "# y = oe.fit_transform(y)"
   ]
  },
  {
   "cell_type": "code",
   "execution_count": null,
   "metadata": {},
   "outputs": [
    {
     "data": {
      "text/plain": [
       "(305, 32)"
      ]
     },
     "execution_count": 235,
     "metadata": {},
     "output_type": "execute_result"
    }
   ],
   "source": [
    "X.shape"
   ]
  },
  {
   "attachments": {},
   "cell_type": "markdown",
   "metadata": {},
   "source": [
    "Splitting the features and target into train and test with ration (70-30)"
   ]
  },
  {
   "cell_type": "code",
   "execution_count": null,
   "metadata": {},
   "outputs": [],
   "source": [
    "x_train, x_test, y_train, y_test = train_test_split(X, y, test_size = 0.3, random_state = 0)\n"
   ]
  },
  {
   "cell_type": "code",
   "execution_count": null,
   "metadata": {},
   "outputs": [
    {
     "ename": "ValueError",
     "evalue": "could not convert string to float: 'Business Analytics'",
     "output_type": "error",
     "traceback": [
      "\u001b[0;31m---------------------------------------------------------------------------\u001b[0m",
      "\u001b[0;31mValueError\u001b[0m                                Traceback (most recent call last)",
      "\u001b[1;32m/home/shreyas/masters_vu/DMT/assignment/dmt-assignment-1/A1_collab.ipynb Cell 93\u001b[0m in \u001b[0;36m4\n\u001b[1;32m      <a href='vscode-notebook-cell:/home/shreyas/masters_vu/DMT/assignment/dmt-assignment-1/A1_collab.ipynb#Y161sZmlsZQ%3D%3D?line=0'>1</a>\u001b[0m \u001b[39m# Training the decision tree\u001b[39;00m\n\u001b[1;32m      <a href='vscode-notebook-cell:/home/shreyas/masters_vu/DMT/assignment/dmt-assignment-1/A1_collab.ipynb#Y161sZmlsZQ%3D%3D?line=2'>3</a>\u001b[0m decision_tree \u001b[39m=\u001b[39m DecisionTreeClassifier(max_depth\u001b[39m=\u001b[39m\u001b[39m4\u001b[39m)\n\u001b[0;32m----> <a href='vscode-notebook-cell:/home/shreyas/masters_vu/DMT/assignment/dmt-assignment-1/A1_collab.ipynb#Y161sZmlsZQ%3D%3D?line=3'>4</a>\u001b[0m decision_tree\u001b[39m.\u001b[39;49mfit(x_train, y_train)\n\u001b[1;32m      <a href='vscode-notebook-cell:/home/shreyas/masters_vu/DMT/assignment/dmt-assignment-1/A1_collab.ipynb#Y161sZmlsZQ%3D%3D?line=5'>6</a>\u001b[0m \u001b[39m# Testing \u001b[39;00m\n\u001b[1;32m      <a href='vscode-notebook-cell:/home/shreyas/masters_vu/DMT/assignment/dmt-assignment-1/A1_collab.ipynb#Y161sZmlsZQ%3D%3D?line=6'>7</a>\u001b[0m y_pred \u001b[39m=\u001b[39m decision_tree\u001b[39m.\u001b[39mpredict(x_test)\n",
      "File \u001b[0;32m~/.local/lib/python3.8/site-packages/sklearn/tree/_classes.py:969\u001b[0m, in \u001b[0;36mDecisionTreeClassifier.fit\u001b[0;34m(self, X, y, sample_weight, check_input)\u001b[0m\n\u001b[1;32m    939\u001b[0m \u001b[39mdef\u001b[39;00m \u001b[39mfit\u001b[39m(\u001b[39mself\u001b[39m, X, y, sample_weight\u001b[39m=\u001b[39m\u001b[39mNone\u001b[39;00m, check_input\u001b[39m=\u001b[39m\u001b[39mTrue\u001b[39;00m):\n\u001b[1;32m    940\u001b[0m     \u001b[39m\"\"\"Build a decision tree classifier from the training set (X, y).\u001b[39;00m\n\u001b[1;32m    941\u001b[0m \n\u001b[1;32m    942\u001b[0m \u001b[39m    Parameters\u001b[39;00m\n\u001b[0;32m   (...)\u001b[0m\n\u001b[1;32m    966\u001b[0m \u001b[39m        Fitted estimator.\u001b[39;00m\n\u001b[1;32m    967\u001b[0m \u001b[39m    \"\"\"\u001b[39;00m\n\u001b[0;32m--> 969\u001b[0m     \u001b[39msuper\u001b[39;49m()\u001b[39m.\u001b[39;49mfit(\n\u001b[1;32m    970\u001b[0m         X,\n\u001b[1;32m    971\u001b[0m         y,\n\u001b[1;32m    972\u001b[0m         sample_weight\u001b[39m=\u001b[39;49msample_weight,\n\u001b[1;32m    973\u001b[0m         check_input\u001b[39m=\u001b[39;49mcheck_input,\n\u001b[1;32m    974\u001b[0m     )\n\u001b[1;32m    975\u001b[0m     \u001b[39mreturn\u001b[39;00m \u001b[39mself\u001b[39m\n",
      "File \u001b[0;32m~/.local/lib/python3.8/site-packages/sklearn/tree/_classes.py:172\u001b[0m, in \u001b[0;36mBaseDecisionTree.fit\u001b[0;34m(self, X, y, sample_weight, check_input)\u001b[0m\n\u001b[1;32m    170\u001b[0m check_X_params \u001b[39m=\u001b[39m \u001b[39mdict\u001b[39m(dtype\u001b[39m=\u001b[39mDTYPE, accept_sparse\u001b[39m=\u001b[39m\u001b[39m\"\u001b[39m\u001b[39mcsc\u001b[39m\u001b[39m\"\u001b[39m)\n\u001b[1;32m    171\u001b[0m check_y_params \u001b[39m=\u001b[39m \u001b[39mdict\u001b[39m(ensure_2d\u001b[39m=\u001b[39m\u001b[39mFalse\u001b[39;00m, dtype\u001b[39m=\u001b[39m\u001b[39mNone\u001b[39;00m)\n\u001b[0;32m--> 172\u001b[0m X, y \u001b[39m=\u001b[39m \u001b[39mself\u001b[39;49m\u001b[39m.\u001b[39;49m_validate_data(\n\u001b[1;32m    173\u001b[0m     X, y, validate_separately\u001b[39m=\u001b[39;49m(check_X_params, check_y_params)\n\u001b[1;32m    174\u001b[0m )\n\u001b[1;32m    175\u001b[0m \u001b[39mif\u001b[39;00m issparse(X):\n\u001b[1;32m    176\u001b[0m     X\u001b[39m.\u001b[39msort_indices()\n",
      "File \u001b[0;32m~/.local/lib/python3.8/site-packages/sklearn/base.py:591\u001b[0m, in \u001b[0;36mBaseEstimator._validate_data\u001b[0;34m(self, X, y, reset, validate_separately, **check_params)\u001b[0m\n\u001b[1;32m    589\u001b[0m \u001b[39mif\u001b[39;00m \u001b[39m\"\u001b[39m\u001b[39mestimator\u001b[39m\u001b[39m\"\u001b[39m \u001b[39mnot\u001b[39;00m \u001b[39min\u001b[39;00m check_X_params:\n\u001b[1;32m    590\u001b[0m     check_X_params \u001b[39m=\u001b[39m {\u001b[39m*\u001b[39m\u001b[39m*\u001b[39mdefault_check_params, \u001b[39m*\u001b[39m\u001b[39m*\u001b[39mcheck_X_params}\n\u001b[0;32m--> 591\u001b[0m X \u001b[39m=\u001b[39m check_array(X, input_name\u001b[39m=\u001b[39;49m\u001b[39m\"\u001b[39;49m\u001b[39mX\u001b[39;49m\u001b[39m\"\u001b[39;49m, \u001b[39m*\u001b[39;49m\u001b[39m*\u001b[39;49mcheck_X_params)\n\u001b[1;32m    592\u001b[0m \u001b[39mif\u001b[39;00m \u001b[39m\"\u001b[39m\u001b[39mestimator\u001b[39m\u001b[39m\"\u001b[39m \u001b[39mnot\u001b[39;00m \u001b[39min\u001b[39;00m check_y_params:\n\u001b[1;32m    593\u001b[0m     check_y_params \u001b[39m=\u001b[39m {\u001b[39m*\u001b[39m\u001b[39m*\u001b[39mdefault_check_params, \u001b[39m*\u001b[39m\u001b[39m*\u001b[39mcheck_y_params}\n",
      "File \u001b[0;32m~/.local/lib/python3.8/site-packages/sklearn/utils/validation.py:856\u001b[0m, in \u001b[0;36mcheck_array\u001b[0;34m(array, accept_sparse, accept_large_sparse, dtype, order, copy, force_all_finite, ensure_2d, allow_nd, ensure_min_samples, ensure_min_features, estimator, input_name)\u001b[0m\n\u001b[1;32m    854\u001b[0m         array \u001b[39m=\u001b[39m array\u001b[39m.\u001b[39mastype(dtype, casting\u001b[39m=\u001b[39m\u001b[39m\"\u001b[39m\u001b[39munsafe\u001b[39m\u001b[39m\"\u001b[39m, copy\u001b[39m=\u001b[39m\u001b[39mFalse\u001b[39;00m)\n\u001b[1;32m    855\u001b[0m     \u001b[39melse\u001b[39;00m:\n\u001b[0;32m--> 856\u001b[0m         array \u001b[39m=\u001b[39m np\u001b[39m.\u001b[39;49masarray(array, order\u001b[39m=\u001b[39;49morder, dtype\u001b[39m=\u001b[39;49mdtype)\n\u001b[1;32m    857\u001b[0m \u001b[39mexcept\u001b[39;00m ComplexWarning \u001b[39mas\u001b[39;00m complex_warning:\n\u001b[1;32m    858\u001b[0m     \u001b[39mraise\u001b[39;00m \u001b[39mValueError\u001b[39;00m(\n\u001b[1;32m    859\u001b[0m         \u001b[39m\"\u001b[39m\u001b[39mComplex data not supported\u001b[39m\u001b[39m\\n\u001b[39;00m\u001b[39m{}\u001b[39;00m\u001b[39m\\n\u001b[39;00m\u001b[39m\"\u001b[39m\u001b[39m.\u001b[39mformat(array)\n\u001b[1;32m    860\u001b[0m     ) \u001b[39mfrom\u001b[39;00m \u001b[39mcomplex_warning\u001b[39;00m\n",
      "File \u001b[0;32m~/.local/lib/python3.8/site-packages/pandas/core/generic.py:2064\u001b[0m, in \u001b[0;36mNDFrame.__array__\u001b[0;34m(self, dtype)\u001b[0m\n\u001b[1;32m   2063\u001b[0m \u001b[39mdef\u001b[39;00m \u001b[39m__array__\u001b[39m(\u001b[39mself\u001b[39m, dtype: npt\u001b[39m.\u001b[39mDTypeLike \u001b[39m|\u001b[39m \u001b[39mNone\u001b[39;00m \u001b[39m=\u001b[39m \u001b[39mNone\u001b[39;00m) \u001b[39m-\u001b[39m\u001b[39m>\u001b[39m np\u001b[39m.\u001b[39mndarray:\n\u001b[0;32m-> 2064\u001b[0m     \u001b[39mreturn\u001b[39;00m np\u001b[39m.\u001b[39;49masarray(\u001b[39mself\u001b[39;49m\u001b[39m.\u001b[39;49m_values, dtype\u001b[39m=\u001b[39;49mdtype)\n",
      "\u001b[0;31mValueError\u001b[0m: could not convert string to float: 'Business Analytics'"
     ]
    }
   ],
   "source": [
    "# Training the decision tree\n",
    "\n",
    "decision_tree = DecisionTreeClassifier(max_depth=4)\n",
    "decision_tree.fit(x_train, y_train)\n",
    "\n",
    "# Testing \n",
    "y_pred = decision_tree.predict(x_test)\n",
    "\n"
   ]
  },
  {
   "attachments": {},
   "cell_type": "markdown",
   "metadata": {},
   "source": [
    "# Evaluating performance "
   ]
  },
  {
   "cell_type": "code",
   "execution_count": null,
   "metadata": {},
   "outputs": [
    {
     "name": "stdout",
     "output_type": "stream",
     "text": [
      "Accuracy: 57.608695652173914\n",
      "Confusion Matrix:\n",
      " [[16 18]\n",
      " [21 37]]\n",
      "--------------\n",
      "Original: 60      low\n",
      "52      low\n",
      "59      low\n",
      "136    high\n",
      "300    high\n",
      "Name: stress_level, dtype: category\n",
      "Categories (2, object): ['high', 'low']\n",
      "Predictions: ['low' 'low' 'low' 'high' 'low']\n"
     ]
    }
   ],
   "source": [
    "from sklearn.metrics import classification_report, confusion_matrix, ConfusionMatrixDisplay, accuracy_score\n",
    "print(f'Accuracy: {accuracy_score(y_test, y_pred) * 100}')\n",
    "print(\"Confusion Matrix:\\n\", confusion_matrix(y_test, y_pred))\n",
    "print('--------------')\n",
    "# Print the original labels for comparison\n",
    "print(\"Original:\", y_test[0:5])\n",
    "print(\"Predictions:\", y_pred[0:5])"
   ]
  },
  {
   "cell_type": "code",
   "execution_count": null,
   "metadata": {},
   "outputs": [],
   "source": [
    "# Convert the ordinal encoded predictions back into their original labels\n",
    "# y_pred_labels = oe.inverse_transform(y_pred.reshape(-1, 1))\n",
    "\n",
    "# Print the original labels for comparison\n",
    "# print(\"Original:\", y_test)\n",
    "# print(\"Predictions:\", y_pred)\n",
    "# print(\"Decoded Predictions:\", y_pred_labels)"
   ]
  },
  {
   "cell_type": "code",
   "execution_count": null,
   "metadata": {},
   "outputs": [
    {
     "name": "stdout",
     "output_type": "stream",
     "text": [
      "              precision    recall  f1-score   support\n",
      "\n",
      "        high       0.43      0.47      0.45        34\n",
      "         low       0.67      0.64      0.65        58\n",
      "\n",
      "    accuracy                           0.58        92\n",
      "   macro avg       0.55      0.55      0.55        92\n",
      "weighted avg       0.58      0.58      0.58        92\n",
      "\n"
     ]
    },
    {
     "data": {
      "image/png": "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",
      "text/plain": [
       "<Figure size 640x480 with 2 Axes>"
      ]
     },
     "metadata": {},
     "output_type": "display_data"
    }
   ],
   "source": [
    "print(classification_report(y_test, y_pred))\n",
    "\n",
    "cm = confusion_matrix(y_test, y_pred, labels=decision_tree.classes_)\n",
    "disp = ConfusionMatrixDisplay(confusion_matrix=cm, display_labels=decision_tree.classes_)\n",
    "disp.plot()\n",
    "plt.show()"
   ]
  },
  {
   "cell_type": "code",
   "execution_count": null,
   "metadata": {},
   "outputs": [
    {
     "name": "stdout",
     "output_type": "stream",
     "text": [
      "|--- gender_female <= 0.50\n",
      "|   |--- have_used_chatgpt_not willing to say <= 0.50\n",
      "|   |   |--- taken_information_retrieval_course_yes <= 0.50\n",
      "|   |   |   |--- program_Computer Science <= 0.50\n",
      "|   |   |   |   |--- class: low\n",
      "|   |   |   |--- program_Computer Science >  0.50\n",
      "|   |   |   |   |--- class: high\n",
      "|   |   |--- taken_information_retrieval_course_yes >  0.50\n",
      "|   |   |   |--- program_Business Analytics <= 0.50\n",
      "|   |   |   |   |--- class: low\n",
      "|   |   |   |--- program_Business Analytics >  0.50\n",
      "|   |   |   |   |--- class: high\n",
      "|   |--- have_used_chatgpt_not willing to say >  0.50\n",
      "|   |   |--- taken_statistics_course_no <= 0.50\n",
      "|   |   |   |--- program_Finance <= 0.50\n",
      "|   |   |   |   |--- class: low\n",
      "|   |   |   |--- program_Finance >  0.50\n",
      "|   |   |   |   |--- class: high\n",
      "|   |   |--- taken_statistics_course_no >  0.50\n",
      "|   |   |   |--- class: high\n",
      "|--- gender_female >  0.50\n",
      "|   |--- program_Artificial Intelligence <= 0.50\n",
      "|   |   |--- program_Computational Science <= 0.50\n",
      "|   |   |   |--- taken_information_retrieval_course_yes <= 0.50\n",
      "|   |   |   |   |--- class: high\n",
      "|   |   |   |--- taken_information_retrieval_course_yes >  0.50\n",
      "|   |   |   |   |--- class: high\n",
      "|   |   |--- program_Computational Science >  0.50\n",
      "|   |   |   |--- taken_information_retrieval_course_unknown <= 0.50\n",
      "|   |   |   |   |--- class: low\n",
      "|   |   |   |--- taken_information_retrieval_course_unknown >  0.50\n",
      "|   |   |   |   |--- class: high\n",
      "|   |--- program_Artificial Intelligence >  0.50\n",
      "|   |   |--- age_less_than_24 <= 0.50\n",
      "|   |   |   |--- good_relaxation <= 0.50\n",
      "|   |   |   |   |--- class: low\n",
      "|   |   |   |--- good_relaxation >  0.50\n",
      "|   |   |   |   |--- class: high\n",
      "|   |   |--- age_less_than_24 >  0.50\n",
      "|   |   |   |--- good_food <= 0.50\n",
      "|   |   |   |   |--- class: low\n",
      "|   |   |   |--- good_food >  0.50\n",
      "|   |   |   |   |--- class: high\n",
      "\n"
     ]
    }
   ],
   "source": [
    "# Print the decision tree\n",
    "tree_rules = export_text(decision_tree, feature_names=X.columns.tolist())\n",
    "print(tree_rules)"
   ]
  },
  {
   "cell_type": "code",
   "execution_count": null,
   "metadata": {},
   "outputs": [
    {
     "data": {
      "image/png": "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",
      "text/plain": [
       "<Figure size 2500x2000 with 1 Axes>"
      ]
     },
     "metadata": {},
     "output_type": "display_data"
    }
   ],
   "source": [
    "fig = plt.figure(figsize=(25,20))\n",
    "_ = tree.plot_tree(decision_tree, \n",
    "                   feature_names=X.columns.tolist(),  \n",
    "                   class_names=['low','high'],\n",
    "                   filled=True)"
   ]
  }
 ],
 "metadata": {
  "colab": {
   "provenance": []
  },
  "kernelspec": {
   "display_name": "Python 3",
   "language": "python",
   "name": "python3"
  },
  "language_info": {
   "codemirror_mode": {
    "name": "ipython",
    "version": 3
   },
   "file_extension": ".py",
   "mimetype": "text/x-python",
   "name": "python",
   "nbconvert_exporter": "python",
   "pygments_lexer": "ipython3",
   "version": "3.9.12"
  }
 },
 "nbformat": 4,
 "nbformat_minor": 1
}
