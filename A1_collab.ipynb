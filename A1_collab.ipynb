{
 "cells": [
  {
   "cell_type": "markdown",
   "metadata": {},
   "source": [
    "# Task 1"
   ]
  },
  {
   "cell_type": "markdown",
   "metadata": {},
   "source": [
    "# TASK 1A: EXPLORATORY DATA ANALYSIS"
   ]
  },
  {
   "cell_type": "code",
   "execution_count": 1,
   "metadata": {
    "id": "dIqxVbTkHLsa"
   },
   "outputs": [],
   "source": [
    "import pandas as pd\n",
    "import numpy as np\n",
    "import re\n",
    "import random\n",
    "import string\n",
    "import seaborn as sns\n",
    "from datetime import datetime\n",
    "import matplotlib.pyplot as plt"
   ]
  },
  {
   "cell_type": "code",
   "execution_count": 2,
   "metadata": {
    "id": "D8jddiXcHYHA"
   },
   "outputs": [],
   "source": [
    "df = pd.read_csv('./data/ODI-adapted2.csv', sep=';')"
   ]
  },
  {
   "cell_type": "code",
   "execution_count": 3,
   "metadata": {
    "colab": {
     "base_uri": "https://localhost:8080/"
    },
    "id": "-g6RKUTnKRiq",
    "outputId": "a45fc9dc-b67e-419e-f71d-1eb5ee4786d4"
   },
   "outputs": [
    {
     "data": {
      "text/plain": [
       "Index(['send_date', 'program', 'taken_machine_learning_course',\n",
       "       'taken_information_retrieval_course', 'taken_statistics_course',\n",
       "       'taken_database_course', 'gender', 'have_used_chatgpt', 'birthdate',\n",
       "       'students_in_the_room_gamble', 'stood_up', 'stresslevel',\n",
       "       'hours_of_sports_week', 'random_number', 'time_to_bed', 'good_day_1',\n",
       "       'good_day_2'],\n",
       "      dtype='object')"
      ]
     },
     "execution_count": 3,
     "metadata": {},
     "output_type": "execute_result"
    }
   ],
   "source": [
    "df = df.rename(columns={'Tijdstempel': 'send_date', 'What programme are you in?': 'program', 'Have you taken a course on machine learning?': \n",
    "                        'taken_machine_learning_course', 'Have you taken a course on information retrieval?': 'taken_information_retrieval_course', \n",
    "                        'Have you taken a course on statistics?': 'taken_statistics_course', 'Have you taken a course on databases?': \n",
    "                        'taken_database_course', 'What is your gender?': 'gender', 'I have used ChatGPT to help me with some of my study assignments ': \n",
    "                        'have_used_chatgpt', 'When is your birthday (date)?': 'birthdate', 'How many students do you estimate there are in the room?':\n",
    "                        'students_in_the_room_gamble', 'Did you stand up to come to your previous answer    ?': 'stood_up', 'Give a random number': 'random_number', \n",
    "                        'What is your stress level (0-100)?':'stresslevel', 'How many hours per week do you do sports (in whole hours)? ': 'hours_of_sports_week', \n",
    "                        'Time you went to bed Yesterday': 'time_to_bed', 'What makes a good day for you (1)?': 'good_day_1', 'What makes a good day for you (2)?': \n",
    "                        'good_day_2'})\n",
    "df.columns"
   ]
  },
  {
   "cell_type": "code",
   "execution_count": 4,
   "metadata": {
    "colab": {
     "base_uri": "https://localhost:8080/",
     "height": 363
    },
    "id": "RwRBfPITMfDg",
    "outputId": "c74184db-05ee-463e-ed8e-b3ff49f83256"
   },
   "outputs": [
    {
     "data": {
      "text/html": [
       "<div>\n",
       "<style scoped>\n",
       "    .dataframe tbody tr th:only-of-type {\n",
       "        vertical-align: middle;\n",
       "    }\n",
       "\n",
       "    .dataframe tbody tr th {\n",
       "        vertical-align: top;\n",
       "    }\n",
       "\n",
       "    .dataframe thead th {\n",
       "        text-align: right;\n",
       "    }\n",
       "</style>\n",
       "<table border=\"1\" class=\"dataframe\">\n",
       "  <thead>\n",
       "    <tr style=\"text-align: right;\">\n",
       "      <th></th>\n",
       "      <th>send_date</th>\n",
       "      <th>program</th>\n",
       "      <th>taken_machine_learning_course</th>\n",
       "      <th>taken_information_retrieval_course</th>\n",
       "      <th>taken_statistics_course</th>\n",
       "      <th>taken_database_course</th>\n",
       "      <th>gender</th>\n",
       "      <th>have_used_chatgpt</th>\n",
       "      <th>birthdate</th>\n",
       "      <th>students_in_the_room_gamble</th>\n",
       "      <th>stood_up</th>\n",
       "      <th>stresslevel</th>\n",
       "      <th>hours_of_sports_week</th>\n",
       "      <th>random_number</th>\n",
       "      <th>time_to_bed</th>\n",
       "      <th>good_day_1</th>\n",
       "      <th>good_day_2</th>\n",
       "    </tr>\n",
       "  </thead>\n",
       "  <tbody>\n",
       "    <tr>\n",
       "      <th>0</th>\n",
       "      <td>4-4-2023 12:08:33</td>\n",
       "      <td>Masters - AI</td>\n",
       "      <td>yes</td>\n",
       "      <td>0</td>\n",
       "      <td>mu</td>\n",
       "      <td>nee</td>\n",
       "      <td>gender fluid</td>\n",
       "      <td>yes</td>\n",
       "      <td>23/11/1997</td>\n",
       "      <td>319</td>\n",
       "      <td>unknown</td>\n",
       "      <td>100</td>\n",
       "      <td>0</td>\n",
       "      <td>69</td>\n",
       "      <td>11:30</td>\n",
       "      <td>Ashes</td>\n",
       "      <td>Not ashes</td>\n",
       "    </tr>\n",
       "    <tr>\n",
       "      <th>1</th>\n",
       "      <td>4-4-2023 12:08:36</td>\n",
       "      <td>Artificial Intelligence</td>\n",
       "      <td>no</td>\n",
       "      <td>0</td>\n",
       "      <td>sigma</td>\n",
       "      <td>nee</td>\n",
       "      <td>male</td>\n",
       "      <td>not willing to say</td>\n",
       "      <td>5th August, 1995</td>\n",
       "      <td>600</td>\n",
       "      <td>no</td>\n",
       "      <td>60</td>\n",
       "      <td>2</td>\n",
       "      <td>42</td>\n",
       "      <td>23:00</td>\n",
       "      <td>good food</td>\n",
       "      <td>good sleep</td>\n",
       "    </tr>\n",
       "    <tr>\n",
       "      <th>2</th>\n",
       "      <td>4-4-2023 12:08:38</td>\n",
       "      <td>AI</td>\n",
       "      <td>no</td>\n",
       "      <td>0</td>\n",
       "      <td>mu</td>\n",
       "      <td>nee</td>\n",
       "      <td>female</td>\n",
       "      <td>no</td>\n",
       "      <td>21/09</td>\n",
       "      <td>220</td>\n",
       "      <td>no</td>\n",
       "      <td>20</td>\n",
       "      <td>5</td>\n",
       "      <td>17</td>\n",
       "      <td>23:30</td>\n",
       "      <td>Sports</td>\n",
       "      <td>Friends</td>\n",
       "    </tr>\n",
       "    <tr>\n",
       "      <th>3</th>\n",
       "      <td>4-4-2023 12:08:52</td>\n",
       "      <td>Data mining</td>\n",
       "      <td>yes</td>\n",
       "      <td>1</td>\n",
       "      <td>mu</td>\n",
       "      <td>ja</td>\n",
       "      <td>male</td>\n",
       "      <td>yes</td>\n",
       "      <td>25-06-1996</td>\n",
       "      <td>100</td>\n",
       "      <td>unknown</td>\n",
       "      <td>50</td>\n",
       "      <td>5</td>\n",
       "      <td>12</td>\n",
       "      <td>23:00</td>\n",
       "      <td>Gym</td>\n",
       "      <td>Piano</td>\n",
       "    </tr>\n",
       "    <tr>\n",
       "      <th>4</th>\n",
       "      <td>4-4-2023 12:08:59</td>\n",
       "      <td>Quantitative Risk Management</td>\n",
       "      <td>no</td>\n",
       "      <td>0</td>\n",
       "      <td>mu</td>\n",
       "      <td>nee</td>\n",
       "      <td>male</td>\n",
       "      <td>yes</td>\n",
       "      <td>18-08-1998</td>\n",
       "      <td>300</td>\n",
       "      <td>no</td>\n",
       "      <td>65</td>\n",
       "      <td>10</td>\n",
       "      <td>874</td>\n",
       "      <td>23:00</td>\n",
       "      <td>Relax</td>\n",
       "      <td>Sun</td>\n",
       "    </tr>\n",
       "  </tbody>\n",
       "</table>\n",
       "</div>"
      ],
      "text/plain": [
       "           send_date                       program  \\\n",
       "0  4-4-2023 12:08:33                  Masters - AI   \n",
       "1  4-4-2023 12:08:36       Artificial Intelligence   \n",
       "2  4-4-2023 12:08:38                            AI   \n",
       "3  4-4-2023 12:08:52                   Data mining   \n",
       "4  4-4-2023 12:08:59  Quantitative Risk Management   \n",
       "\n",
       "  taken_machine_learning_course taken_information_retrieval_course  \\\n",
       "0                           yes                                  0   \n",
       "1                            no                                  0   \n",
       "2                            no                                  0   \n",
       "3                           yes                                  1   \n",
       "4                            no                                  0   \n",
       "\n",
       "  taken_statistics_course taken_database_course        gender  \\\n",
       "0                      mu                   nee  gender fluid   \n",
       "1                   sigma                   nee          male   \n",
       "2                      mu                   nee        female   \n",
       "3                      mu                    ja          male   \n",
       "4                      mu                   nee          male   \n",
       "\n",
       "    have_used_chatgpt         birthdate students_in_the_room_gamble stood_up  \\\n",
       "0                 yes        23/11/1997                         319  unknown   \n",
       "1  not willing to say  5th August, 1995                         600       no   \n",
       "2                  no             21/09                         220       no   \n",
       "3                 yes        25-06-1996                         100  unknown   \n",
       "4                 yes        18-08-1998                         300       no   \n",
       "\n",
       "  stresslevel hours_of_sports_week random_number time_to_bed good_day_1  \\\n",
       "0         100                    0            69       11:30      Ashes   \n",
       "1          60                    2            42       23:00  good food   \n",
       "2          20                    5            17       23:30     Sports   \n",
       "3          50                    5            12       23:00        Gym   \n",
       "4          65                   10           874       23:00      Relax   \n",
       "\n",
       "   good_day_2  \n",
       "0   Not ashes  \n",
       "1  good sleep  \n",
       "2     Friends  \n",
       "3       Piano  \n",
       "4         Sun  "
      ]
     },
     "execution_count": 4,
     "metadata": {},
     "output_type": "execute_result"
    }
   ],
   "source": [
    "df.head()"
   ]
  },
  {
   "cell_type": "code",
   "execution_count": 5,
   "metadata": {
    "colab": {
     "base_uri": "https://localhost:8080/"
    },
    "id": "Ek6LKiJCMzfM",
    "outputId": "02a94922-0e02-4a96-9764-346c97cc0673"
   },
   "outputs": [
    {
     "data": {
      "text/plain": [
       "(305, 17)"
      ]
     },
     "execution_count": 5,
     "metadata": {},
     "output_type": "execute_result"
    }
   ],
   "source": [
    "# Print how many rows/columns there are\n",
    "df.shape"
   ]
  },
  {
   "cell_type": "code",
   "execution_count": 6,
   "metadata": {
    "colab": {
     "base_uri": "https://localhost:8080/",
     "height": 427
    },
    "id": "PXS2zgGUhBKN",
    "outputId": "6f2d0005-c43e-4585-8e94-8ac01894c2c4"
   },
   "outputs": [
    {
     "data": {
      "image/png": "[encoded data removed]",
      "text/plain": [
       "<Figure size 432x288 with 1 Axes>"
      ]
     },
     "metadata": {},
     "output_type": "display_data"
    }
   ],
   "source": [
    "# count the number of occurrences of each program in the program column\n",
    "program_counts = df['program'].value_counts()\n",
    "\n",
    "# create a pie chart of the program counts with smaller labels\n",
    "plt.pie(program_counts, labels=program_counts.index, autopct='%1.1f%%', textprops={'fontsize': 8})\n",
    "\n",
    "# add title\n",
    "plt.title('Pie Chart of Programs')\n",
    "\n",
    "# show the plot\n",
    "plt.show()"
   ]
  },
  {
   "cell_type": "code",
   "execution_count": 7,
   "metadata": {
    "colab": {
     "base_uri": "https://localhost:8080/",
     "height": 511
    },
    "id": "4FOZBf5Q2AbP",
    "outputId": "6b15beb3-304c-46a8-f1c2-38d72fe40f0c"
   },
   "outputs": [
    {
     "data": {
      "image/png": "[encoded data removed]",
      "text/plain": [
       "<Figure size 720x360 with 2 Axes>"
      ]
     },
     "metadata": {},
     "output_type": "display_data"
    }
   ],
   "source": [
    "# create a 1x2 grid of subplots\n",
    "fig, axs = plt.subplots(1, 2, figsize=(10, 5))\n",
    "\n",
    "# plot the pie chart of the taken_machine_learning_course column in the left subplot\n",
    "ml_counts = df['taken_machine_learning_course'].value_counts()\n",
    "axs[0].pie(ml_counts, labels=ml_counts.index, autopct='%1.1f%%')\n",
    "axs[0].set_title('Machine Learning Course')\n",
    "\n",
    "# plot the pie chart of the taken_statistics_course column in the right subplot\n",
    "stats_counts = df['taken_statistics_course'].value_counts()\n",
    "axs[1].pie(stats_counts, labels=stats_counts.index, autopct='%1.1f%%')\n",
    "axs[1].set_title('Statistics Course')\n",
    "\n",
    "# add overall title to the plot\n",
    "fig.suptitle('Pie Charts of ML and Statistics Courses')\n",
    "\n",
    "# adjust layout\n",
    "plt.tight_layout()\n",
    "\n",
    "# show the plot\n",
    "plt.show()"
   ]
  },
  {
   "cell_type": "code",
   "execution_count": 8,
   "metadata": {
    "id": "osU16rd7NdqY"
   },
   "outputs": [],
   "source": [
    "# create a regular expression pattern to match all values referring to AI\n",
    "pattern1 = r'(.*Artificial Intelligence.*|.*AI.*|.*Ai.*|.*Artificial.*|.*Artifscial Intelligense.*)'\n",
    "pattern2 = r'(.*CS.*|.*Computer Science.*|.*Computer science.*|.*Masters cs.*|.*computer science.*)'\n",
    "pattern3 = r'(.*Bioinformatics.*|.*Systems Biology.*|.*Bio-informatics.*|.*bioinformatics.*|.*Bionformatics.*)'\n",
    "pattern16 = r'(.*operations research.*|.*& Operations Research.*)'\n",
    "pattern4 = r'(.*Econometrics(?! and Operations Research).*|.*Econometrics MSc.*)'\n",
    "pattern5 = r'(.*Business Analytics.*|.*Master Business Analytics.*|.*BA.*|.*business analytics.*|.*Business analytics.*)'\n",
    "pattern6 = r'(.*PhD.*)'\n",
    "pattern7 = r'(.*Biomedical Sciences.*|.*Biomedical sciences.*)'\n",
    "pattern8 = r'(.*Human Language Technology.*)'\n",
    "pattern9 = r'(.*computational.*|.*Computational Science.*|.*Computational.*)'\n",
    "pattern10 = r'(.*Information Sciences.*)'\n",
    "pattern11 = r'(.*Human language.*)'\n",
    "pattern12 = r'(.*Finance and Technology.*|.*finance and technology.*|.*Finance & Technology.*|.*fintech.*|.*FinTech.*|.*finance & technology.*)'\n",
    "pattern13 = r'(.*Finance.*|.*Economics.*)'\n",
    "pattern14 = r'(.*Digital Business and Innovation.*)'\n",
    "pattern15 = r'(.*Quantitative Risk Management.*|.*QRM.*)'\n",
    "pattern17 = r'(.*exchange.*|.*Exchange.*)'\n",
    "\n",
    "# replace all values matching the pattern with \"AI\" in the program column\n",
    "df['program'].replace(pattern1, 'Artificial Intelligence', regex=True, inplace=True)\n",
    "df['program'].replace(pattern2, 'Computer Science', regex=True, inplace=True)\n",
    "df['program'].replace(pattern3, 'Bioinformatics and Systems Biology', regex=True, inplace=True)\n",
    "df['program'].replace(pattern16, 'Econometrics and Operations Research', regex=True, inplace=True)\n",
    "df['program'].replace(pattern4, 'Econometrics', regex=True, inplace=True)\n",
    "df['program'].replace(pattern5, 'Business Analytics', regex=True, inplace=True)\n",
    "df['program'].replace(pattern6, 'PhD', regex=True, inplace=True)\n",
    "df['program'].replace(pattern7, 'Biomedical Sciences', regex=True, inplace=True)\n",
    "df['program'].replace(pattern8, 'Human Language Technology', regex=True, inplace=True)\n",
    "df['program'].replace(pattern9, 'Computational Science', regex=True, inplace=True)\n",
    "df['program'].replace(pattern10, 'Information Sciences', regex=True, inplace=True)\n",
    "df['program'].replace(pattern11, 'Human Language Technology', regex=True, inplace=True)\n",
    "df['program'].replace(pattern12, 'Finance and Technology', regex=True, inplace=True)\n",
    "df['program'].replace(pattern13, 'Finance', regex=True, inplace=True)\n",
    "df['program'].replace(pattern14, 'Digital Business and Innovation', regex=True, inplace=True)\n",
    "df['program'].replace(pattern15, 'Quantitative Risk Management', regex=True, inplace=True)\n",
    "df['program'].replace(pattern17, 'Exchange', regex=True, inplace=True)"
   ]
  },
  {
   "cell_type": "code",
   "execution_count": 9,
   "metadata": {
    "colab": {
     "base_uri": "https://localhost:8080/"
    },
    "id": "BChdRrTANgDS",
    "outputId": "2c0eaf42-660b-496c-b1c1-8c39dc8899eb"
   },
   "outputs": [
    {
     "data": {
      "text/plain": [
       "28"
      ]
     },
     "execution_count": 9,
     "metadata": {},
     "output_type": "execute_result"
    }
   ],
   "source": [
    "# Plot unique values for programs \n",
    "len(df['program'].unique())"
   ]
  },
  {
   "cell_type": "code",
   "execution_count": 10,
   "metadata": {
    "colab": {
     "base_uri": "https://localhost:8080/"
    },
    "id": "wFbJu8aSJ5S1",
    "outputId": "29e1b9d3-2e6c-4024-8379-900969bbfc2f",
    "scrolled": true
   },
   "outputs": [
    {
     "data": {
      "text/plain": [
       "array(['Artificial Intelligence', 'Data mining',\n",
       "       'Quantitative Risk Management', 'Business Analytics',\n",
       "       'Computational Science', 'Computer Science',\n",
       "       'Bioinformatics and Systems Biology', 'aryamaan710@gmail.com',\n",
       "       'Neuroscience', 'Finance', 'Econometrics', '116',\n",
       "       'Human Language Technology', 'CLS',\n",
       "       'Econometrics and Operations Research', 'Masters',\n",
       "       'Information Sciences', 'Data thingy', 'Exchange',\n",
       "       'Biomedical Sciences',\n",
       "       'Management, Policy Analysis and Entrepreneurship in Health and Life Sciences',\n",
       "       'Econometrics and Operations Research ',\n",
       "       'Digital Business and Innovation', 'Hyperbolic Time Chamber',\n",
       "       'PhD', 'Stochastics and financial mathematics',\n",
       "       'High school 3rd grade', 'Big data engineering '], dtype=object)"
      ]
     },
     "execution_count": 10,
     "metadata": {},
     "output_type": "execute_result"
    }
   ],
   "source": [
    "# Plot unique values for programs \n",
    "df['program'].unique()"
   ]
  },
  {
   "cell_type": "markdown",
   "metadata": {
    "id": "omyl_72-JbS0"
   },
   "source": [
    "# TASK 1B: DATA CLEANING\n"
   ]
  },
  {
   "cell_type": "markdown",
   "metadata": {
    "id": "xFbycL60w7V5"
   },
   "source": [
    "Clean the student gamble column"
   ]
  },
  {
   "cell_type": "code",
   "execution_count": 11,
   "metadata": {
    "id": "Wk8ti5YBtbP5"
   },
   "outputs": [],
   "source": [
    "# Clean the gamble on amount of students in the room by removi\n",
    "for i in range(len(df['students_in_the_room_gamble'])):\n",
    "    try:\n",
    "        df['students_in_the_room_gamble'][i] = pd.to_numeric(df['students_in_the_room_gamble'][i], errors='raise')\n",
    "    except:\n",
    "        df['students_in_the_room_gamble'][i] = np.nan\n",
    "\n",
    "gamble = np.asarray(df['students_in_the_room_gamble'])"
   ]
  },
  {
   "cell_type": "code",
   "execution_count": 12,
   "metadata": {
    "id": "qDF7hcrAvhnH"
   },
   "outputs": [],
   "source": [
    "# Clean the student gamble outliers, and replace with the mean\n",
    "# calculate the z-scores for the 'students_in_the_room_gamble' column\n",
    "z_scores = np.abs((df['students_in_the_room_gamble'] - np.mean(df['students_in_the_room_gamble'])) / np.std(df['students_in_the_room_gamble']))\n",
    "\n",
    "# define a threshold for identifying outliers (z-score > 3 for example)\n",
    "threshold = 3\n",
    "\n",
    "# identify the outliers and replace with the mean value\n",
    "df['students_in_the_room_gamble'][z_scores > threshold] = np.mean(df['students_in_the_room_gamble'])"
   ]
  },
  {
   "cell_type": "code",
   "execution_count": 13,
   "metadata": {
    "id": "GYe80xXmwio9"
   },
   "outputs": [],
   "source": [
    "# calculate the mean value of the 'students_in_the_room_gamble' column\n",
    "mean_value = np.mean(df['students_in_the_room_gamble'])\n",
    "\n",
    "# replace NaN values with the mean value\n",
    "df['students_in_the_room_gamble'] = df['students_in_the_room_gamble'].fillna(mean_value)"
   ]
  },
  {
   "cell_type": "code",
   "execution_count": 14,
   "metadata": {
    "colab": {
     "base_uri": "https://localhost:8080/",
     "height": 471
    },
    "id": "kFhu-Nl7xHI0",
    "outputId": "a0348e4f-7b89-4002-80d3-748961d28729"
   },
   "outputs": [
    {
     "data": {
      "image/png": "[encoded data removed]",
      "text/plain": [
       "<Figure size 432x288 with 1 Axes>"
      ]
     },
     "metadata": {
      "needs_background": "light"
     },
     "output_type": "display_data"
    }
   ],
   "source": [
    "# plot the 'students_in_the_room_gamble' column\n",
    "plt.hist(df['students_in_the_room_gamble'], bins=20)\n",
    "plt.title('Distribution of Students in the Room Gamble')\n",
    "plt.xlabel('Number of Students')\n",
    "plt.ylabel('Frequency')\n",
    "plt.show()"
   ]
  },
  {
   "cell_type": "markdown",
   "metadata": {
    "id": "ap0Ce0ELxtG9"
   },
   "source": [
    "Clean the stress level column"
   ]
  },
  {
   "cell_type": "code",
   "execution_count": 15,
   "metadata": {
    "colab": {
     "base_uri": "https://localhost:8080/"
    },
    "id": "cgnMb7rYxw8v",
    "outputId": "23635925-edd4-45d3-b676-bf6ca20d44c0"
   },
   "outputs": [
    {
     "name": "stderr",
     "output_type": "stream",
     "text": [
      "<ipython-input-15-c735225ea14d>:4: SettingWithCopyWarning: \n",
      "A value is trying to be set on a copy of a slice from a DataFrame\n",
      "\n",
      "See the caveats in the documentation: https://pandas.pydata.org/pandas-docs/stable/user_guide/indexing.html#returning-a-view-versus-a-copy\n",
      "  df['stresslevel'][i] = pd.to_numeric(df['stresslevel'][i], errors='raise')\n",
      "<ipython-input-15-c735225ea14d>:6: SettingWithCopyWarning: \n",
      "A value is trying to be set on a copy of a slice from a DataFrame\n",
      "\n",
      "See the caveats in the documentation: https://pandas.pydata.org/pandas-docs/stable/user_guide/indexing.html#returning-a-view-versus-a-copy\n",
      "  df['stresslevel'][i] = np.nan\n"
     ]
    }
   ],
   "source": [
    "# Clean the gamble on amount of students in the room by removi\n",
    "for i in range(len(df['stresslevel'])):\n",
    "    try:\n",
    "        df['stresslevel'][i] = pd.to_numeric(df['stresslevel'][i], errors='raise')\n",
    "    except:\n",
    "        df['stresslevel'][i] = np.nan"
   ]
  },
  {
   "cell_type": "code",
   "execution_count": 16,
   "metadata": {
    "colab": {
     "base_uri": "https://localhost:8080/"
    },
    "id": "Cn96fKNKyA_k",
    "outputId": "c248bf1b-4744-4b90-ebb2-a92a4a1ed7e4"
   },
   "outputs": [
    {
     "name": "stderr",
     "output_type": "stream",
     "text": [
      "<ipython-input-16-7bf2f5051753>:9: SettingWithCopyWarning: \n",
      "A value is trying to be set on a copy of a slice from a DataFrame\n",
      "\n",
      "See the caveats in the documentation: https://pandas.pydata.org/pandas-docs/stable/user_guide/indexing.html#returning-a-view-versus-a-copy\n",
      "  df['stresslevel'][z_scores > threshold] = np.mean(df['stresslevel'])\n"
     ]
    }
   ],
   "source": [
    "# Clean the student gamble outliers, and replace with the mean\n",
    "# calculate the z-scores for the 'students_in_the_room_gamble' column\n",
    "z_scores = np.abs((df['stresslevel'] - np.mean(df['stresslevel'])) / np.std(df['stresslevel']))\n",
    "\n",
    "# define a threshold for identifying outliers (z-score > 3 for example)\n",
    "threshold = 3\n",
    "\n",
    "# identify the outliers and replace with the mean value\n",
    "df['stresslevel'][z_scores > threshold] = np.mean(df['stresslevel'])"
   ]
  },
  {
   "cell_type": "code",
   "execution_count": 17,
   "metadata": {
    "id": "q5a5Kr5GyXPu"
   },
   "outputs": [],
   "source": [
    "# set a range of 0 to 100 for the stresslevel, and replace outliers with the median (mean was outside of max and min due to outliers)\n",
    "min_value = 0\n",
    "max_value = 100\n",
    "\n",
    "median_value = np.median(df['stresslevel'])\n",
    "\n",
    "replace_value = min_value if median_value < min_value else max_value if median_value > max_value else median_value\n",
    "df['stresslevel'] = np.where((df['stresslevel'] < min_value) | (df['stresslevel'] > max_value), replace_value, df['stresslevel'])"
   ]
  },
  {
   "cell_type": "code",
   "execution_count": 18,
   "metadata": {
    "id": "VSkrZq43zJYq"
   },
   "outputs": [],
   "source": [
    "# replace NaN values with a random value between 0 and 100\n",
    "df['stresslevel'] = df['stresslevel'].apply(lambda x: np.random.randint(0, 101) if pd.isna(x) else x)"
   ]
  },
  {
   "cell_type": "code",
   "execution_count": 19,
   "metadata": {
    "colab": {
     "base_uri": "https://localhost:8080/",
     "height": 471
    },
    "id": "Pb5chP3orcvP",
    "outputId": "44111952-5d41-461c-8290-4f874dab68b5"
   },
   "outputs": [
    {
     "data": {
      "image/png": "[encoded data removed]",
      "text/plain": [
       "<Figure size 432x288 with 1 Axes>"
      ]
     },
     "metadata": {
      "needs_background": "light"
     },
     "output_type": "display_data"
    }
   ],
   "source": [
    "plt.hist(df['stresslevel'], bins=20)\n",
    "plt.title('Stresslevel')\n",
    "plt.xlabel('Stresslevel')\n",
    "plt.ylabel('Frequency')\n",
    "plt.show()"
   ]
  },
  {
   "cell_type": "markdown",
   "metadata": {
    "id": "7K7lIT7SzzeW"
   },
   "source": [
    "Clean the amount of hours per week of sports column"
   ]
  },
  {
   "cell_type": "code",
   "execution_count": 20,
   "metadata": {
    "colab": {
     "base_uri": "https://localhost:8080/"
    },
    "id": "rp4QiQv90B0Q",
    "outputId": "76ac33d1-9fa3-4ebe-b3d5-34c054451cee"
   },
   "outputs": [
    {
     "name": "stderr",
     "output_type": "stream",
     "text": [
      "<ipython-input-20-a2a68411467d>:4: SettingWithCopyWarning: \n",
      "A value is trying to be set on a copy of a slice from a DataFrame\n",
      "\n",
      "See the caveats in the documentation: https://pandas.pydata.org/pandas-docs/stable/user_guide/indexing.html#returning-a-view-versus-a-copy\n",
      "  df['hours_of_sports_week'][i] = pd.to_numeric(df['hours_of_sports_week'][i], errors='raise')\n",
      "<ipython-input-20-a2a68411467d>:6: SettingWithCopyWarning: \n",
      "A value is trying to be set on a copy of a slice from a DataFrame\n",
      "\n",
      "See the caveats in the documentation: https://pandas.pydata.org/pandas-docs/stable/user_guide/indexing.html#returning-a-view-versus-a-copy\n",
      "  df['hours_of_sports_week'][i] = np.nan\n",
      "<ipython-input-20-a2a68411467d>:10: SettingWithCopyWarning: \n",
      "A value is trying to be set on a copy of a slice from a DataFrame\n",
      "\n",
      "See the caveats in the documentation: https://pandas.pydata.org/pandas-docs/stable/user_guide/indexing.html#returning-a-view-versus-a-copy\n",
      "  df['hours_of_sports_week'][i] = np.nan\n"
     ]
    }
   ],
   "source": [
    "# Clean the gamble on amount of students in the room by replacing every value that cannot be transformed to numeric to nan\n",
    "for i in range(len(df['hours_of_sports_week'])):\n",
    "    try:\n",
    "        df['hours_of_sports_week'][i] = pd.to_numeric(df['hours_of_sports_week'][i], errors='raise')\n",
    "    except:\n",
    "        df['hours_of_sports_week'][i] = np.nan\n",
    "    \n",
    "    # If the amount of sports in hours is smaller than 0, set to nan\n",
    "    if df['hours_of_sports_week'][i] < 0:\n",
    "        df['hours_of_sports_week'][i] = np.nan    "
   ]
  },
  {
   "cell_type": "code",
   "execution_count": 21,
   "metadata": {
    "colab": {
     "base_uri": "https://localhost:8080/"
    },
    "id": "9C0ncc6Y0ZW3",
    "outputId": "dd678385-6fa1-423a-bcb0-e16cbe0f9e62"
   },
   "outputs": [
    {
     "name": "stderr",
     "output_type": "stream",
     "text": [
      "<ipython-input-21-71beb3ff3687>:9: SettingWithCopyWarning: \n",
      "A value is trying to be set on a copy of a slice from a DataFrame\n",
      "\n",
      "See the caveats in the documentation: https://pandas.pydata.org/pandas-docs/stable/user_guide/indexing.html#returning-a-view-versus-a-copy\n",
      "  df['hours_of_sports_week'][z_scores > threshold] = np.mean(df['hours_of_sports_week'])\n"
     ]
    }
   ],
   "source": [
    "# Clean the student gamble outliers, and replace with the mean\n",
    "# calculate the z-scores for the 'students_in_the_room_gamble' column\n",
    "z_scores = np.abs((df['hours_of_sports_week'] - np.mean(df['hours_of_sports_week'])) / np.std(df['hours_of_sports_week']))\n",
    "\n",
    "# define a threshold for identifying outliers (z-score > 3 for example)\n",
    "threshold = 3\n",
    "\n",
    "# identify the outliers and replace with the mean value\n",
    "df['hours_of_sports_week'][z_scores > threshold] = np.mean(df['hours_of_sports_week'])"
   ]
  },
  {
   "cell_type": "code",
   "execution_count": 22,
   "metadata": {
    "id": "UNjNXFUy0fOX"
   },
   "outputs": [],
   "source": [
    "# calculate the mean value of the 'students_in_the_room_gamble' column\n",
    "mean_value = np.mean(df['hours_of_sports_week'])\n",
    "\n",
    "# replace NaN values with the mean value\n",
    "df['hours_of_sports_week'] = df['hours_of_sports_week'].fillna(mean_value)"
   ]
  },
  {
   "cell_type": "code",
   "execution_count": 23,
   "metadata": {
    "colab": {
     "base_uri": "https://localhost:8080/",
     "height": 471
    },
    "id": "uKzOtueb05Dd",
    "outputId": "c8739a41-c989-449c-c0f0-afcaae9f8a0e",
    "scrolled": false
   },
   "outputs": [
    {
     "data": {
      "image/png": "[encoded data removed]",
      "text/plain": [
       "<Figure size 432x288 with 1 Axes>"
      ]
     },
     "metadata": {
      "needs_background": "light"
     },
     "output_type": "display_data"
    }
   ],
   "source": [
    "# plot the 'students_in_the_room_gamble' column\n",
    "plt.hist(df['hours_of_sports_week'], bins=20)\n",
    "plt.title('Hours of sports of students')\n",
    "plt.xlabel('Hours of sports')\n",
    "plt.ylabel('Frequency')\n",
    "plt.show()"
   ]
  },
  {
   "cell_type": "markdown",
   "metadata": {},
   "source": [
    "Cleaning the time to bed column"
   ]
  },
  {
   "cell_type": "code",
   "execution_count": 24,
   "metadata": {},
   "outputs": [
    {
     "name": "stdout",
     "output_type": "stream",
     "text": [
      "['11:30' '23:00' '23:30' '23:00' '23:00' '00:00' '23:00' '00:00' '22:30'\n",
      " '00:00' '00:15' '07:00' '04:00' '02:00' '04:30' '23:00' '00:00' '22:45'\n",
      " '12:30' '00:15' '22:30' '04:00' '00:00' '12:00' '00:30' '00:00' '02:00'\n",
      " '02:00' '02:45' '01:00' '00:30' '22:20' '00:00' '11:30' '02:00' '00:00'\n",
      " '22:30' '23:30' '06:00' '23:30' '01:00' '04:00' 'after midnight' '11:30'\n",
      " '01:00' '00:00' '12:30' '12:00' '00:00' '00:30' '02:00' '00:00' '00:00'\n",
      " '00:30' '01:40' '22:00' '01:00' '02:00' '02:00' '01:00' '00:15' '02:00'\n",
      " '05:30' '00:00' '12:00' '22:00' '00:30' '00:30' '01:00' '00:00' '23:30'\n",
      " '00:30' '23:00' '23:30' '22:30' '23:00' '22:30' '23:00' '01:00' '04:00'\n",
      " '23:30' '23:40' '23:00' '00:00' '23:00' '22:00' '00:30' '12:15' '02:00'\n",
      " '00:00' '21:30' '23:59' '23:30' '23:30' 'late ' '03:00' '00:00' '02:35'\n",
      " '22:00' '00:00' '23:00' '23:15' '22:50' '01:20' '23:15' '01:00' '22:00'\n",
      " '23:30' '12:30' '03:00' '23:00' '00:25' '00:20' '01:00' '23:30' '02:00'\n",
      " '23:59' '30' '23:45' '22:30' '22:00' '01:00' '22:16' '00:00' '21:53'\n",
      " '02:00' '00:30' '02:30' '00:00' '01:00' '23:00' '200' '22:30' '01:00'\n",
      " '23:00' '23:30' '00:22' '00:00' '00:00' '23:30' '02:45' '00:30' '23:00'\n",
      " '00:00' '00:00' '23:00' '23:30' '23:00' '02:00' '00:00' '23:00' '00:30'\n",
      " '23:30' '21:00' '23:58' '23:00' '00:30' '00:30' '23:30' '00:26' '23:00'\n",
      " '11,1' '01:00' '00:00' '00:30' '02:00' '02:00' '12:00' '23:00' '21:00'\n",
      " '02:00' '12:30' '02:00' '01:00' '01:00' '00:30' '22:30'\n",
      " 'Did not slept on the couch' '00:30' '00:00' '23:50' '23:30' '23:00'\n",
      " '23:30' '02:00' '22:30' '23:00' '02:00' '01:00'\n",
      " 'When the moon was at the highest point' '01:00' '00:00' '23:50' '01:00'\n",
      " '02:01' '00:40' '23:59' '22:00' '01:30' '2' '02:00' '01:50' '22:00'\n",
      " '23:30' '23:00' '23:45' '01:00' '01:00' '01:00' '01:30' '02:00' '23:00'\n",
      " '01:00' '4 hours' '01:00' '00:40' '23:30' '01:30' '22:30' '00:00' '00:30'\n",
      " '01:00' '23:00' '00:30' '03:00' '02:00' '01:00' '23:30' '01:00' '23:00'\n",
      " '00:00' '02:00' 'late' '00:00' '2' '01:00' 'late' 'half past twelve'\n",
      " '23:00' '00:30' '01:00' '03:00' '11:30' '01:00' '00:20' '22:53' '22:00'\n",
      " '02:00' '02:00' '23:30' '01:00' '00:30' '00:00' '03:00' 'I didnt ' '2'\n",
      " '01:00' '00:40' '01:00' '23:20' '01:30' '23:17' 'Non of ya business'\n",
      " '03:00' '2' '23:00' '23:00' '22:30' '00:00' '00:00' '02:30' '23:00'\n",
      " '00:00' '03:00' '00:30' '23:45' '02:30' '23:45' '13:00' '02:00' '03:00'\n",
      " '00:30' '1' '01:30' '01:00' '01:00' '01:00' '00:00' '21:30' '11:00'\n",
      " '11:30' '02:30' '12:00' '23:00' '12:00' '02:00' '23:30' '23:00' '03:00'\n",
      " '01:00' '01:09' '04:00' 'after your dad went ' '04:30' '22:00']\n"
     ]
    }
   ],
   "source": [
    "print(np.asarray(df['time_to_bed']))"
   ]
  },
  {
   "cell_type": "code",
   "execution_count": 25,
   "metadata": {
    "id": "qpUHOqMN4xnE"
   },
   "outputs": [],
   "source": [
    "try:\n",
    "  df['time_to_bed'] = pd.to_datetime(df['time_to_bed'], format='%H:%M').dt.time\n",
    "except:\n",
    "  pass"
   ]
  },
  {
   "cell_type": "code",
   "execution_count": 26,
   "metadata": {
    "id": "1uOGVg2B5CvG"
   },
   "outputs": [],
   "source": [
    "time_pattern = r\"^(0?[0-9]|1[0-9]|2[0-3]):[0-5][0-9]$\"\n",
    "\n",
    "valid_times = [time for time in df['time_to_bed'] if re.match(time_pattern, time)]\n",
    "mean_time = pd.Series(valid_times).apply(lambda x: pd.to_datetime(x, format='%H:%M')).mean().strftime('%H:%M')\n",
    "\n",
    "# Replace each value that does not match the pattern with the mean time value\n",
    "df['time_to_bed'] = df['time_to_bed'].apply(lambda x: mean_time if not re.match(time_pattern, x) else x)\n"
   ]
  },
  {
   "cell_type": "code",
   "execution_count": 27,
   "metadata": {
    "colab": {
     "base_uri": "https://localhost:8080/",
     "height": 467
    },
    "id": "2mgg_g7VVdcW",
    "outputId": "7fc08795-41b5-4b07-f313-2c7fad4d23f0",
    "scrolled": true
   },
   "outputs": [
    {
     "name": "stdout",
     "output_type": "stream",
     "text": [
      "['11:30' '23:00' '23:30' '23:00' '23:00' '00:00' '23:00' '00:00' '22:30'\n",
      " '00:00' '00:15' '07:00' '04:00' '02:00' '04:30' '23:00' '00:00' '22:45'\n",
      " '12:30' '00:15' '22:30' '04:00' '00:00' '12:00' '00:30' '00:00' '02:00'\n",
      " '02:00' '02:45' '01:00' '00:30' '22:20' '00:00' '11:30' '02:00' '00:00'\n",
      " '22:30' '23:30' '06:00' '23:30' '01:00' '04:00' '09:36' '11:30' '01:00'\n",
      " '00:00' '12:30' '12:00' '00:00' '00:30' '02:00' '00:00' '00:00' '00:30'\n",
      " '01:40' '22:00' '01:00' '02:00' '02:00' '01:00' '00:15' '02:00' '05:30'\n",
      " '00:00' '12:00' '22:00' '00:30' '00:30' '01:00' '00:00' '23:30' '00:30'\n",
      " '23:00' '23:30' '22:30' '23:00' '22:30' '23:00' '01:00' '04:00' '23:30'\n",
      " '23:40' '23:00' '00:00' '23:00' '22:00' '00:30' '12:15' '02:00' '00:00'\n",
      " '21:30' '23:59' '23:30' '23:30' '09:36' '03:00' '00:00' '02:35' '22:00'\n",
      " '00:00' '23:00' '23:15' '22:50' '01:20' '23:15' '01:00' '22:00' '23:30'\n",
      " '12:30' '03:00' '23:00' '00:25' '00:20' '01:00' '23:30' '02:00' '23:59'\n",
      " '09:36' '23:45' '22:30' '22:00' '01:00' '22:16' '00:00' '21:53' '02:00'\n",
      " '00:30' '02:30' '00:00' '01:00' '23:00' '09:36' '22:30' '01:00' '23:00'\n",
      " '23:30' '00:22' '00:00' '00:00' '23:30' '02:45' '00:30' '23:00' '00:00'\n",
      " '00:00' '23:00' '23:30' '23:00' '02:00' '00:00' '23:00' '00:30' '23:30'\n",
      " '21:00' '23:58' '23:00' '00:30' '00:30' '23:30' '00:26' '23:00' '09:36'\n",
      " '01:00' '00:00' '00:30' '02:00' '02:00' '12:00' '23:00' '21:00' '02:00'\n",
      " '12:30' '02:00' '01:00' '01:00' '00:30' '22:30' '09:36' '00:30' '00:00'\n",
      " '23:50' '23:30' '23:00' '23:30' '02:00' '22:30' '23:00' '02:00' '01:00'\n",
      " '09:36' '01:00' '00:00' '23:50' '01:00' '02:01' '00:40' '23:59' '22:00'\n",
      " '01:30' '09:36' '02:00' '01:50' '22:00' '23:30' '23:00' '23:45' '01:00'\n",
      " '01:00' '01:00' '01:30' '02:00' '23:00' '01:00' '09:36' '01:00' '00:40'\n",
      " '23:30' '01:30' '22:30' '00:00' '00:30' '01:00' '23:00' '00:30' '03:00'\n",
      " '02:00' '01:00' '23:30' '01:00' '23:00' '00:00' '02:00' '09:36' '00:00'\n",
      " '09:36' '01:00' '09:36' '09:36' '23:00' '00:30' '01:00' '03:00' '11:30'\n",
      " '01:00' '00:20' '22:53' '22:00' '02:00' '02:00' '23:30' '01:00' '00:30'\n",
      " '00:00' '03:00' '09:36' '09:36' '01:00' '00:40' '01:00' '23:20' '01:30'\n",
      " '23:17' '09:36' '03:00' '09:36' '23:00' '23:00' '22:30' '00:00' '00:00'\n",
      " '02:30' '23:00' '00:00' '03:00' '00:30' '23:45' '02:30' '23:45' '13:00'\n",
      " '02:00' '03:00' '00:30' '09:36' '01:30' '01:00' '01:00' '01:00' '00:00'\n",
      " '21:30' '11:00' '11:30' '02:30' '12:00' '23:00' '12:00' '02:00' '23:30'\n",
      " '23:00' '03:00' '01:00' '01:09' '04:00' '09:36' '04:30' '22:00']\n"
     ]
    }
   ],
   "source": [
    "print(np.asarray(df['time_to_bed']))"
   ]
  },
  {
   "cell_type": "markdown",
   "metadata": {},
   "source": [
    "Cleaning the date of birth column, extracting the year of birth to a new column"
   ]
  },
  {
   "cell_type": "code",
   "execution_count": 28,
   "metadata": {},
   "outputs": [
    {
     "data": {
      "text/plain": [
       "array(['1997', '1995', nan, '1996', '1998', '2000', '1999', '0000',\n",
       "       '2002', '2001', '1994', '3311', '1900', '1985', '1992', '1987',\n",
       "       '1990', '1220', '1993', '1405', '2017', '0001', '1981'],\n",
       "      dtype=object)"
      ]
     },
     "execution_count": 28,
     "metadata": {},
     "output_type": "execute_result"
    }
   ],
   "source": [
    "df['year_of_birth'] = df['birthdate'].str.extract(r'(\\d{4})')\n",
    "df['year_of_birth'].unique()"
   ]
  },
  {
   "cell_type": "markdown",
   "metadata": {},
   "source": [
    "Clean the good_day_1 and good_day_2 column of punctuation marks for further analysis "
   ]
  },
  {
   "cell_type": "code",
   "execution_count": 29,
   "metadata": {},
   "outputs": [],
   "source": [
    "def _remove_punctuation(x):\n",
    "    # Remove punctuation marks (excluding whitespace) using regular expressions\n",
    "    clean_text = re.sub(rf\"[{string.punctuation}]\",\"\", str(x))\n",
    "    return clean_text\n",
    "\n",
    "df['good_day_1'] = df['good_day_1'].apply(_remove_punctuation)\n",
    "df['good_day_2'] = df['good_day_2'].apply(_remove_punctuation)"
   ]
  },
  {
   "cell_type": "markdown",
   "metadata": {},
   "source": [
    "# TASK 1C: FEATURE ENGINEERING"
   ]
  },
  {
   "cell_type": "markdown",
   "metadata": {},
   "source": [
    "Creating age column"
   ]
  },
  {
   "cell_type": "code",
   "execution_count": 30,
   "metadata": {},
   "outputs": [],
   "source": [
    "def _extract_age(x):\n",
    "    try:\n",
    "        return 2023 - int(x)\n",
    "    except:\n",
    "        return 0\n",
    "\n",
    "df['age'] = df['year_of_birth'].apply(_extract_age)\n"
   ]
  },
  {
   "cell_type": "code",
   "execution_count": 31,
   "metadata": {
    "scrolled": false
   },
   "outputs": [
    {
     "data": {
      "text/html": [
       "<div>\n",
       "<style scoped>\n",
       "    .dataframe tbody tr th:only-of-type {\n",
       "        vertical-align: middle;\n",
       "    }\n",
       "\n",
       "    .dataframe tbody tr th {\n",
       "        vertical-align: top;\n",
       "    }\n",
       "\n",
       "    .dataframe thead th {\n",
       "        text-align: right;\n",
       "    }\n",
       "</style>\n",
       "<table border=\"1\" class=\"dataframe\">\n",
       "  <thead>\n",
       "    <tr style=\"text-align: right;\">\n",
       "      <th></th>\n",
       "      <th>send_date</th>\n",
       "      <th>program</th>\n",
       "      <th>taken_machine_learning_course</th>\n",
       "      <th>taken_information_retrieval_course</th>\n",
       "      <th>taken_statistics_course</th>\n",
       "      <th>taken_database_course</th>\n",
       "      <th>gender</th>\n",
       "      <th>have_used_chatgpt</th>\n",
       "      <th>birthdate</th>\n",
       "      <th>students_in_the_room_gamble</th>\n",
       "      <th>stood_up</th>\n",
       "      <th>stresslevel</th>\n",
       "      <th>hours_of_sports_week</th>\n",
       "      <th>random_number</th>\n",
       "      <th>time_to_bed</th>\n",
       "      <th>good_day_1</th>\n",
       "      <th>good_day_2</th>\n",
       "      <th>year_of_birth</th>\n",
       "      <th>age</th>\n",
       "    </tr>\n",
       "  </thead>\n",
       "  <tbody>\n",
       "    <tr>\n",
       "      <th>0</th>\n",
       "      <td>4-4-2023 12:08:33</td>\n",
       "      <td>Artificial Intelligence</td>\n",
       "      <td>yes</td>\n",
       "      <td>0</td>\n",
       "      <td>mu</td>\n",
       "      <td>nee</td>\n",
       "      <td>gender fluid</td>\n",
       "      <td>yes</td>\n",
       "      <td>23/11/1997</td>\n",
       "      <td>319.0</td>\n",
       "      <td>unknown</td>\n",
       "      <td>100.0</td>\n",
       "      <td>0.0</td>\n",
       "      <td>69</td>\n",
       "      <td>11:30</td>\n",
       "      <td>Ashes</td>\n",
       "      <td>Not ashes</td>\n",
       "      <td>1997</td>\n",
       "      <td>26</td>\n",
       "    </tr>\n",
       "    <tr>\n",
       "      <th>1</th>\n",
       "      <td>4-4-2023 12:08:36</td>\n",
       "      <td>Artificial Intelligence</td>\n",
       "      <td>no</td>\n",
       "      <td>0</td>\n",
       "      <td>sigma</td>\n",
       "      <td>nee</td>\n",
       "      <td>male</td>\n",
       "      <td>not willing to say</td>\n",
       "      <td>5th August, 1995</td>\n",
       "      <td>600.0</td>\n",
       "      <td>no</td>\n",
       "      <td>60.0</td>\n",
       "      <td>2.0</td>\n",
       "      <td>42</td>\n",
       "      <td>23:00</td>\n",
       "      <td>good food</td>\n",
       "      <td>good sleep</td>\n",
       "      <td>1995</td>\n",
       "      <td>28</td>\n",
       "    </tr>\n",
       "    <tr>\n",
       "      <th>2</th>\n",
       "      <td>4-4-2023 12:08:38</td>\n",
       "      <td>Artificial Intelligence</td>\n",
       "      <td>no</td>\n",
       "      <td>0</td>\n",
       "      <td>mu</td>\n",
       "      <td>nee</td>\n",
       "      <td>female</td>\n",
       "      <td>no</td>\n",
       "      <td>21/09</td>\n",
       "      <td>220.0</td>\n",
       "      <td>no</td>\n",
       "      <td>20.0</td>\n",
       "      <td>5.0</td>\n",
       "      <td>17</td>\n",
       "      <td>23:30</td>\n",
       "      <td>Sports</td>\n",
       "      <td>Friends</td>\n",
       "      <td>NaN</td>\n",
       "      <td>0</td>\n",
       "    </tr>\n",
       "    <tr>\n",
       "      <th>3</th>\n",
       "      <td>4-4-2023 12:08:52</td>\n",
       "      <td>Data mining</td>\n",
       "      <td>yes</td>\n",
       "      <td>1</td>\n",
       "      <td>mu</td>\n",
       "      <td>ja</td>\n",
       "      <td>male</td>\n",
       "      <td>yes</td>\n",
       "      <td>25-06-1996</td>\n",
       "      <td>100.0</td>\n",
       "      <td>unknown</td>\n",
       "      <td>50.0</td>\n",
       "      <td>5.0</td>\n",
       "      <td>12</td>\n",
       "      <td>23:00</td>\n",
       "      <td>Gym</td>\n",
       "      <td>Piano</td>\n",
       "      <td>1996</td>\n",
       "      <td>27</td>\n",
       "    </tr>\n",
       "    <tr>\n",
       "      <th>4</th>\n",
       "      <td>4-4-2023 12:08:59</td>\n",
       "      <td>Quantitative Risk Management</td>\n",
       "      <td>no</td>\n",
       "      <td>0</td>\n",
       "      <td>mu</td>\n",
       "      <td>nee</td>\n",
       "      <td>male</td>\n",
       "      <td>yes</td>\n",
       "      <td>18-08-1998</td>\n",
       "      <td>300.0</td>\n",
       "      <td>no</td>\n",
       "      <td>65.0</td>\n",
       "      <td>10.0</td>\n",
       "      <td>874</td>\n",
       "      <td>23:00</td>\n",
       "      <td>Relax</td>\n",
       "      <td>Sun</td>\n",
       "      <td>1998</td>\n",
       "      <td>25</td>\n",
       "    </tr>\n",
       "  </tbody>\n",
       "</table>\n",
       "</div>"
      ],
      "text/plain": [
       "           send_date                       program  \\\n",
       "0  4-4-2023 12:08:33       Artificial Intelligence   \n",
       "1  4-4-2023 12:08:36       Artificial Intelligence   \n",
       "2  4-4-2023 12:08:38       Artificial Intelligence   \n",
       "3  4-4-2023 12:08:52                   Data mining   \n",
       "4  4-4-2023 12:08:59  Quantitative Risk Management   \n",
       "\n",
       "  taken_machine_learning_course taken_information_retrieval_course  \\\n",
       "0                           yes                                  0   \n",
       "1                            no                                  0   \n",
       "2                            no                                  0   \n",
       "3                           yes                                  1   \n",
       "4                            no                                  0   \n",
       "\n",
       "  taken_statistics_course taken_database_course        gender  \\\n",
       "0                      mu                   nee  gender fluid   \n",
       "1                   sigma                   nee          male   \n",
       "2                      mu                   nee        female   \n",
       "3                      mu                    ja          male   \n",
       "4                      mu                   nee          male   \n",
       "\n",
       "    have_used_chatgpt         birthdate  students_in_the_room_gamble stood_up  \\\n",
       "0                 yes        23/11/1997                        319.0  unknown   \n",
       "1  not willing to say  5th August, 1995                        600.0       no   \n",
       "2                  no             21/09                        220.0       no   \n",
       "3                 yes        25-06-1996                        100.0  unknown   \n",
       "4                 yes        18-08-1998                        300.0       no   \n",
       "\n",
       "   stresslevel  hours_of_sports_week random_number time_to_bed good_day_1  \\\n",
       "0        100.0                   0.0            69       11:30      Ashes   \n",
       "1         60.0                   2.0            42       23:00  good food   \n",
       "2         20.0                   5.0            17       23:30     Sports   \n",
       "3         50.0                   5.0            12       23:00        Gym   \n",
       "4         65.0                  10.0           874       23:00      Relax   \n",
       "\n",
       "   good_day_2 year_of_birth  age  \n",
       "0   Not ashes          1997   26  \n",
       "1  good sleep          1995   28  \n",
       "2     Friends           NaN    0  \n",
       "3       Piano          1996   27  \n",
       "4         Sun          1998   25  "
      ]
     },
     "execution_count": 31,
     "metadata": {},
     "output_type": "execute_result"
    }
   ],
   "source": [
    "df.head()"
   ]
  },
  {
   "cell_type": "code",
   "execution_count": 32,
   "metadata": {},
   "outputs": [],
   "source": [
    "# convert the 'year_of_birth' column to numerical format\n",
    "df['year_of_birth'] = pd.to_numeric(df['year_of_birth'], errors='coerce')"
   ]
  },
  {
   "cell_type": "code",
   "execution_count": 33,
   "metadata": {},
   "outputs": [
    {
     "name": "stderr",
     "output_type": "stream",
     "text": [
      "<ipython-input-33-71e06739244d>:9: SettingWithCopyWarning: \n",
      "A value is trying to be set on a copy of a slice from a DataFrame\n",
      "\n",
      "See the caveats in the documentation: https://pandas.pydata.org/pandas-docs/stable/user_guide/indexing.html#returning-a-view-versus-a-copy\n",
      "  df['year_of_birth'][z_scores > threshold] = np.median(df['year_of_birth'])\n"
     ]
    }
   ],
   "source": [
    "# Clean the student gamble outliers, and replace with the mean\n",
    "# calculate the z-scores for the 'students_in_the_room_gamble' column\n",
    "z_scores = np.abs((df['year_of_birth'] - np.mean(df['year_of_birth'])) / np.std(df['year_of_birth']))\n",
    "\n",
    "# define a threshold for identifying outliers (z-score > 3 for example)\n",
    "threshold = 3\n",
    "\n",
    "# identify the outliers and replace with the mean value\n",
    "df['year_of_birth'][z_scores > threshold] = np.median(df['year_of_birth'])"
   ]
  },
  {
   "cell_type": "code",
   "execution_count": 34,
   "metadata": {},
   "outputs": [],
   "source": [
    "# fill missing values with the mean value of the column\n",
    "median_birth_year = int(df['year_of_birth'].median())\n",
    "# Choose median, because mean was "
   ]
  },
  {
   "cell_type": "code",
   "execution_count": 35,
   "metadata": {
    "scrolled": true
   },
   "outputs": [],
   "source": [
    "df['year_of_birth'] = df['year_of_birth'].fillna(median_birth_year)"
   ]
  },
  {
   "cell_type": "code",
   "execution_count": 36,
   "metadata": {},
   "outputs": [
    {
     "name": "stdout",
     "output_type": "stream",
     "text": [
      "[1997. 1995. 1999. 1996. 1998. 2000. 1999. 2000. 1996. 1998. 1999. 1999.\n",
      " 1999. 1999. 1999. 2000. 1999. 1999. 1997. 2000. 1999. 1999. 1997. 1999.\n",
      " 1997. 1998. 2002. 1997. 2000. 2002. 2000. 1997. 1999. 1999. 1998. 1998.\n",
      " 1999. 1998. 2001. 1999. 1997. 2001. 2001. 1998. 1996. 1999. 1994. 1998.\n",
      " 2000. 1998. 2000. 1998. 2000. 1998. 1998. 1999. 1996. 1999. 1999. 1997.\n",
      " 1999. 2000. 1998. 1999. 2000. 2000. 1999. 2000. 1997. 1997. 1999. 2001.\n",
      " 1997. 1999. 1996. 1999. 1998. 1999. 1999. 2000. 1996. 1999. 2001. 1999.\n",
      " 1999. 2000. 2000. 1999. 1997. 2000. 1999. 1999. 1997. 2000. 1999. 1999.\n",
      " 1999. 1999. 2000. 1999. 1998. 1999. 1997. 1999. 2000. 1997. 1900. 1998.\n",
      " 1999. 1997. 1999. 1997. 1997. 1999. 2000. 1999. 1999. 1997. 1999. 1997.\n",
      " 2000. 2000. 1997. 1994. 1985. 1997. 1997. 1999. 1998. 1999. 1999. 1999.\n",
      " 1999. 1999. 2001. 1998. 1992. 1998. 1987. 2001. 1997. 1999. 1999. 1998.\n",
      " 1999. 2001. 1999. 1999. 1999. 1995. 1997. 2000. 2000. 1999. 2001. 1999.\n",
      " 1999. 1999. 1990. 1998. 2000. 1999. 2000. 2000. 1998. 1999. 1997. 2000.\n",
      " 1998. 1998. 1998. 1999. 2000. 1999. 1998. 2001. 1999. 1999. 1995. 1999.\n",
      " 1999. 2001. 1999. 2000. 1999. 2000. 1999. 1900. 1990. 1999. 1995. 1999.\n",
      " 1999. 1999. 1999. 1999. 2001. 2000. 1999. 1998. 1996. 2000. 1998. 1999.\n",
      " 1999. 1999. 1998. 1999. 2000. 1998. 1997. 1999. 2000. 1999. 2001. 2000.\n",
      " 1993. 2000. 2001. 1999. 1999. 1995. 1999. 1999. 1999. 1997. 2000. 2001.\n",
      " 1999. 1997. 1405. 2000. 2000. 1999. 1998. 2000. 1999. 2001. 1999. 2002.\n",
      " 2001. 1999. 2000. 1999. 1996. 1999. 1998. 1999. 1999. 1998. 1999. 1999.\n",
      " 1997. 1999. 2017. 1999. 1999. 1997. 1999. 1998. 1993. 1999. 2000. 1999.\n",
      " 1999. 2000. 2000. 1999. 1999. 2001. 2000. 1999. 1999. 1999. 1997. 2000.\n",
      " 1999. 1997. 1997. 2001. 1999. 1999. 1999. 1999. 1999. 1996. 1999. 2000.\n",
      " 1981. 1999. 1999. 1999. 2000. 2000. 1997. 1999. 1999. 1994. 1996. 2000.\n",
      " 1996. 1996. 1996. 1999. 1999.]\n"
     ]
    }
   ],
   "source": [
    "print(np.asarray(df['year_of_birth']))"
   ]
  },
  {
   "cell_type": "markdown",
   "metadata": {},
   "source": [
    "Analysing the good_day_1 and 2 column , to examine the possible general category "
   ]
  },
  {
   "cell_type": "code",
   "execution_count": 37,
   "metadata": {
    "scrolled": true
   },
   "outputs": [
    {
     "data": {
      "text/plain": [
       "array(['Ashes', 'good food', 'Sports', 'Gym', 'Relax', 'Coffee',\n",
       "       'Good code', 'When the sun shines', 'Expierence ',\n",
       "       'Experience a serotonin molecule ', 'You', 'delicious food',\n",
       "       'Netflix and', 'Something surprising emerging', 'Coffee ', 'Sun',\n",
       "       'Sunny weather', 'Thursday ', 'Sunshine', 'Good food ',\n",
       "       'Getting things done', 'No task', 'eat well', 'The sun',\n",
       "       'Good food', 'Eating chocolate', 'Being productive ', 'food ',\n",
       "       'Good night rest', 'Family ', 'blue skies', 'Good weather',\n",
       "       'sunny days', 'Slept well', 'Friends', 'A sunny day ', 'Sunny',\n",
       "       'Feeling productive', 'No obligations', 'good morning routine',\n",
       "       'Family', 'Good weather ', 'food', 'bread', 'coffee',\n",
       "       'Sticking to my timetable ', 'The sun ', 'Working out',\n",
       "       'Nice weather', 'Good results', 'No class', 'Good breakfast',\n",
       "       'A day where I went to the gym', 'Food', 'Vacation',\n",
       "       'good weather ', 'Good meal', 'Music', 'No lecture', 'Holiday ',\n",
       "       'Having some free time for once', 'work done', 'well fed',\n",
       "       'Productive ', 'Gossiping', 'Lekker eten', 'Good sleep',\n",
       "       'Friends and food', 'A nice phish', 'Morning sex',\n",
       "       'warm and sunny', 'Doing yoga', 'Beer', 'being productive',\n",
       "       'Well rested ', 'Data', 'Seeing friends', 'Money',\n",
       "       'The sun shining ', 'nice weather', 'Oatmeal',\n",
       "       'Having a good meal', 'Preheating a sausage roll ',\n",
       "       'Nice breakfast', 'sun and free time', 'Nice weather ',\n",
       "       'Socializing', 'sleeping out', 'Fun', 'Being active',\n",
       "       'Having a good chat with friends ', 'Time to read', 'Clear Skies',\n",
       "       'sunshine', 'Arts  Crafts', 'video game', 'Little stress',\n",
       "       'Did sports ', 'Progress', 'Sport', 'Sleeping in',\n",
       "       'Sun coffee friends', 'enough sleep', 'Lekker eten en slapen',\n",
       "       'Mood', 'The sun shining', 'fixed bugs in the code', 'Training',\n",
       "       'Prayer', 'Friends sport using my brain helping someone',\n",
       "       'Good sleep ', 'Fun activities for workschool',\n",
       "       'Start with a training on the water rowing', 'air', 'Exercise ',\n",
       "       'Doing everything from my ToDo list', 'Relaxing', 'Sleep',\n",
       "       'nothing happens', 'Sunny day', 'sun',\n",
       "       'Getting all my things done ', 'music', 'Being productive',\n",
       "       'Doing an activity or sports', 'Having time to workout',\n",
       "       'a nice weather', 'waking up early and working out',\n",
       "       'No 9 AM lecture', 'Good grade', 'Idk never had any', 'Sleepin',\n",
       "       'Sleeping well', 'Avocado Toast', 'Wake up feeling rested',\n",
       "       'Cold dip in open water', 'Free time to do whatever I want',\n",
       "       'Time off', 'Fun activities', 'Getting paid', 'weather',\n",
       "       'When people gimme foody', 'Sex', 'Going to the gym', 'Weather',\n",
       "       'Sun shining', 'Spending time with someone I love',\n",
       "       'Feeling energetic', 'good weather', 'Eating yummy food ',\n",
       "       'Got a lot done', 'Sunlight', 'warm weather',\n",
       "       'Having a good day of work', 'No stress', 'good sleep',\n",
       "       'Free schedule', 'NO DDL', 'nice weather ', '☕', 'No lectures ',\n",
       "       'no deadlines', 'The weather ', 'Finishing an exam', 'Sun ',\n",
       "       'Happyness', 'Seeing my friends ', 'Nice food ', 'wake up', 'gym',\n",
       "       'Playing sports', 'Pancakes ', 'A sunny day', 'Arsenal wins',\n",
       "       'Sleeping', 'Getting up on time ', 'Sun love and beer',\n",
       "       'Challenge accepted', 'Sunshine ', 'It being my birthday',\n",
       "       'Nice movie', 'Laughing a lot', 'Saturday', 'Sex in the morning',\n",
       "       'Hanging out with friends', 'Winning dota2 rank',\n",
       "       'Sun alcohol sex no study stress or job stress', 'Snacks',\n",
       "       'meeting a new person', 'When Frank Ocean drops a new album',\n",
       "       'start of weekend', 'Meeting friends',\n",
       "       'My code runs without errors before 1700',\n",
       "       'Pleasant atmosphere and weather around me', 'Winning the lottery',\n",
       "       'puppies', 'Having drinks with friends', 'reading bible',\n",
       "       'Getting a win in warzone', 'No arguments with anyone',\n",
       "       'A bit of study  a bit of wine  a bit of sex  a bit of tv  sun but not too hot',\n",
       "       'Good grades', 'Gib vacation pls', 'Friday', 'Go outisde',\n",
       "       'Nice people', 'never before seen trauma ', 'Work'], dtype=object)"
      ]
     },
     "execution_count": 37,
     "metadata": {},
     "output_type": "execute_result"
    }
   ],
   "source": [
    "df['good_day_1'].unique()"
   ]
  },
  {
   "cell_type": "code",
   "execution_count": 38,
   "metadata": {},
   "outputs": [],
   "source": [
    "import nltk\n",
    "# run below only once to download the wordnet if not present on system\n",
    "# nltk.download('wordnet')\n",
    "from nltk.corpus import wordnet as wn\n",
    "from nltk.stem import WordNetLemmatizer\n"
   ]
  },
  {
   "cell_type": "code",
   "execution_count": 39,
   "metadata": {},
   "outputs": [],
   "source": [
    "# In this example, we use the WordNet ontology to find synsets (sets of synonyms) for each word in the group of words. \n",
    "# We then check each lemma (a specific word form) in each synset to see if it matches any of the related terms for each hobby category. \n",
    "# We keep a count of how many matches each category has, and choose the category with the most matches as the predicted category.\n",
    "\n",
    "# Preprocess the group of words to be classified\n",
    "# words_to_classify = \"I love making lasagna\"\n",
    "# preprocessed_words = [word.lower() for word in words_to_classify.split()]\n",
    "\n",
    "def _extract_category(x):\n",
    "    try:\n",
    "        # The keys in below dictionary is a generic categorical aspect of life to which the text entered by user in the good day column is mapped\n",
    "        # The values are list of words that are mapped to the category\n",
    "        generic_category = {\n",
    "            \"weather\": [\"warm\", \"weather\", \"sunny\", \"skies\", \"sun\", \"air\", \"sunset\"],\n",
    "            \"socializing\" : [\"friend\",\"sex\", \"family\", \"people\", \"love\", \"person\", \"socializing\", \"gossiping\", \"company\", \"relationship\", \"you\", \"alone\", \"cat\", \"dog\"],\n",
    "            \"food\" : [\"meal\", \"coffee\", \"tea\", \"food\", \"breakfast\", \"bread\", \"eat\", \"oatmeal\",\"snacks\", \"pizza\", \"lunch\", \"cake\", \"cook\", \"bake\", \"grill\"],\n",
    "            \"drinking\": [\"wine\", \"beer\",  \"drink\",\"alcohol\"],\n",
    "            \"vacation\": [\"holiday\", \"free time\", \"leisure\", \"vacation\", \"weekend\", \"friday\", \"saturday\", \"sunday\"],\n",
    "            \"relaxation\" : [\"sleep\", \"sleeping\", \"nap\", \"rest\", \"relax\", \"experience\", \"no\", \"stress\",\"fun\", \"mood\", \"nothing\", \"chill\", \"free\"],\n",
    "            \"entertainment\" : [\"tv\", \"netflix\", \"music\", \"cricket\", \"ashes\", \"video\", \"game\",\"movie\", \"reading\", \"read\", \"paint\", \"draw\", \"sketch\"], \n",
    "            \"productivity\" :[\"work\", \"done\",\"productive\", \"code\", \"morning\", \"routine\", \"timetable\", \"results\", \"winning\", \"progress\", \"grade\", \"money\", \"successful\", \"productivity\"],\n",
    "            \"physical_exercise\" : [\"yoga\", \"football\", \"gym\",\"sports\", \"active\", \"workout\", \"bike\", \"hike\", \"travel\"]\n",
    "        }\n",
    "\n",
    "        x = x.strip()\n",
    "        preprocessed_words = [word.lower() for word in x.split()]\n",
    "\n",
    "\n",
    "        # Map the preprocessed words to a category using the WordNet ontology\n",
    "        category_counts = {}\n",
    "        for word in preprocessed_words:\n",
    "            # get all the synonyms for the word from wordnet\n",
    "            synsets = wn.synsets(word)\n",
    "            for synset in synsets:\n",
    "                # for each lemma / root form of sysnonmy check if it exists in the list corresponding to each generic_category key\n",
    "                for lemma in synset.lemmas():\n",
    "                    for category, related_terms in generic_category.items():\n",
    "                        if lemma.name() in related_terms:\n",
    "                            category_counts[category] = category_counts.get(category, 0) + 1\n",
    "\n",
    "        # Choose the hobby category with the most matches\n",
    "        predicted_category = max(category_counts, key=category_counts.get)\n",
    "        return predicted_category\n",
    "    except:\n",
    "        return \"NA\""
   ]
  },
  {
   "cell_type": "code",
   "execution_count": 40,
   "metadata": {},
   "outputs": [
    {
     "data": {
      "text/plain": [
       "weather              86\n",
       "relaxation           58\n",
       "food                 49\n",
       "NA                   34\n",
       "productivity         27\n",
       "socializing          27\n",
       "entertainment         9\n",
       "physical_exercise     8\n",
       "vacation              4\n",
       "drinking              3\n",
       "Name: good_things_1, dtype: int64"
      ]
     },
     "execution_count": 40,
     "metadata": {},
     "output_type": "execute_result"
    }
   ],
   "source": [
    "df['good_things_1'] = df['good_day_1'].apply(_extract_category)\n",
    "df['good_things_1'].value_counts()"
   ]
  },
  {
   "cell_type": "code",
   "execution_count": 41,
   "metadata": {},
   "outputs": [
    {
     "data": {
      "text/plain": [
       "NA                   60\n",
       "relaxation           59\n",
       "socializing          49\n",
       "food                 39\n",
       "weather              38\n",
       "productivity         26\n",
       "entertainment        17\n",
       "physical_exercise    10\n",
       "drinking              5\n",
       "vacation              2\n",
       "Name: good_things_2, dtype: int64"
      ]
     },
     "execution_count": 41,
     "metadata": {},
     "output_type": "execute_result"
    }
   ],
   "source": [
    "df['good_things_2'] = df['good_day_2'].apply(_extract_category)\n",
    "df['good_things_2'].value_counts()"
   ]
  },
  {
   "cell_type": "code",
   "execution_count": 42,
   "metadata": {},
   "outputs": [],
   "source": [
    "# df[df['good_things_2'] == 'NA']['good_day_2'].tolist()"
   ]
  },
  {
   "cell_type": "code",
   "execution_count": 43,
   "metadata": {},
   "outputs": [
    {
     "data": {
      "text/html": [
       "<div>\n",
       "<style scoped>\n",
       "    .dataframe tbody tr th:only-of-type {\n",
       "        vertical-align: middle;\n",
       "    }\n",
       "\n",
       "    .dataframe tbody tr th {\n",
       "        vertical-align: top;\n",
       "    }\n",
       "\n",
       "    .dataframe thead th {\n",
       "        text-align: right;\n",
       "    }\n",
       "</style>\n",
       "<table border=\"1\" class=\"dataframe\">\n",
       "  <thead>\n",
       "    <tr style=\"text-align: right;\">\n",
       "      <th></th>\n",
       "      <th>stresslevel</th>\n",
       "      <th>good_things_1</th>\n",
       "      <th>good_things_2</th>\n",
       "    </tr>\n",
       "  </thead>\n",
       "  <tbody>\n",
       "    <tr>\n",
       "      <th>0</th>\n",
       "      <td>100.0</td>\n",
       "      <td>NA</td>\n",
       "      <td>NA</td>\n",
       "    </tr>\n",
       "    <tr>\n",
       "      <th>1</th>\n",
       "      <td>60.0</td>\n",
       "      <td>food</td>\n",
       "      <td>relaxation</td>\n",
       "    </tr>\n",
       "    <tr>\n",
       "      <th>2</th>\n",
       "      <td>20.0</td>\n",
       "      <td>relaxation</td>\n",
       "      <td>socializing</td>\n",
       "    </tr>\n",
       "    <tr>\n",
       "      <th>3</th>\n",
       "      <td>50.0</td>\n",
       "      <td>physical_exercise</td>\n",
       "      <td>NA</td>\n",
       "    </tr>\n",
       "    <tr>\n",
       "      <th>4</th>\n",
       "      <td>65.0</td>\n",
       "      <td>relaxation</td>\n",
       "      <td>weather</td>\n",
       "    </tr>\n",
       "    <tr>\n",
       "      <th>...</th>\n",
       "      <td>...</td>\n",
       "      <td>...</td>\n",
       "      <td>...</td>\n",
       "    </tr>\n",
       "    <tr>\n",
       "      <th>300</th>\n",
       "      <td>70.0</td>\n",
       "      <td>productivity</td>\n",
       "      <td>productivity</td>\n",
       "    </tr>\n",
       "    <tr>\n",
       "      <th>301</th>\n",
       "      <td>10.0</td>\n",
       "      <td>socializing</td>\n",
       "      <td>NA</td>\n",
       "    </tr>\n",
       "    <tr>\n",
       "      <th>302</th>\n",
       "      <td>59.0</td>\n",
       "      <td>relaxation</td>\n",
       "      <td>NA</td>\n",
       "    </tr>\n",
       "    <tr>\n",
       "      <th>303</th>\n",
       "      <td>50.0</td>\n",
       "      <td>productivity</td>\n",
       "      <td>socializing</td>\n",
       "    </tr>\n",
       "    <tr>\n",
       "      <th>304</th>\n",
       "      <td>80.0</td>\n",
       "      <td>food</td>\n",
       "      <td>relaxation</td>\n",
       "    </tr>\n",
       "  </tbody>\n",
       "</table>\n",
       "<p>305 rows × 3 columns</p>\n",
       "</div>"
      ],
      "text/plain": [
       "     stresslevel      good_things_1 good_things_2\n",
       "0          100.0                 NA            NA\n",
       "1           60.0               food    relaxation\n",
       "2           20.0         relaxation   socializing\n",
       "3           50.0  physical_exercise            NA\n",
       "4           65.0         relaxation       weather\n",
       "..           ...                ...           ...\n",
       "300         70.0       productivity  productivity\n",
       "301         10.0        socializing            NA\n",
       "302         59.0         relaxation            NA\n",
       "303         50.0       productivity   socializing\n",
       "304         80.0               food    relaxation\n",
       "\n",
       "[305 rows x 3 columns]"
      ]
     },
     "execution_count": 43,
     "metadata": {},
     "output_type": "execute_result"
    }
   ],
   "source": [
    "df[['stresslevel', 'good_things_1','good_things_2']]"
   ]
  },
  {
   "cell_type": "code",
   "execution_count": 44,
   "metadata": {},
   "outputs": [
    {
     "data": {
      "image/png": "[encoded data removed]",
      "text/plain": [
       "<Figure size 432x288 with 1 Axes>"
      ]
     },
     "metadata": {
      "needs_background": "light"
     },
     "output_type": "display_data"
    }
   ],
   "source": [
    "# Create a frequency plot\n",
    "sns.histplot(data = df['good_things_1'], kde=False)\n",
    "\n",
    "# Set plot title and axis labels\n",
    "plt.title('Distribution of good things 1')\n",
    "plt.xlabel('Value')\n",
    "plt.ylabel('Frequency')\n",
    "plt.xticks(rotation=60)\n",
    "plt.show()"
   ]
  },
  {
   "cell_type": "code",
   "execution_count": 45,
   "metadata": {},
   "outputs": [
    {
     "data": {
      "image/png": "[encoded data removed]",
      "text/plain": [
       "<Figure size 432x288 with 1 Axes>"
      ]
     },
     "metadata": {
      "needs_background": "light"
     },
     "output_type": "display_data"
    }
   ],
   "source": [
    "# Create a frequency plot\n",
    "sns.histplot(data = df['good_things_2'], kde=False)\n",
    "\n",
    "# Set plot title and axis labels\n",
    "plt.title('Distribution of good things 2')\n",
    "plt.xlabel('Value')\n",
    "plt.ylabel('Frequency')\n",
    "plt.xticks(rotation=60)\n",
    "plt.show()"
   ]
  },
  {
   "cell_type": "markdown",
   "metadata": {},
   "source": [
    "Need to further 1 hot encode these for classification and regression tasks"
   ]
  },
  {
   "cell_type": "code",
   "execution_count": 46,
   "metadata": {},
   "outputs": [
    {
     "data": {
      "text/html": [
       "<div>\n",
       "<style scoped>\n",
       "    .dataframe tbody tr th:only-of-type {\n",
       "        vertical-align: middle;\n",
       "    }\n",
       "\n",
       "    .dataframe tbody tr th {\n",
       "        vertical-align: top;\n",
       "    }\n",
       "\n",
       "    .dataframe thead th {\n",
       "        text-align: right;\n",
       "    }\n",
       "</style>\n",
       "<table border=\"1\" class=\"dataframe\">\n",
       "  <thead>\n",
       "    <tr style=\"text-align: right;\">\n",
       "      <th></th>\n",
       "      <th>send_date</th>\n",
       "      <th>program</th>\n",
       "      <th>taken_machine_learning_course</th>\n",
       "      <th>taken_information_retrieval_course</th>\n",
       "      <th>taken_statistics_course</th>\n",
       "      <th>taken_database_course</th>\n",
       "      <th>gender</th>\n",
       "      <th>have_used_chatgpt</th>\n",
       "      <th>birthdate</th>\n",
       "      <th>students_in_the_room_gamble</th>\n",
       "      <th>...</th>\n",
       "      <th>stresslevel</th>\n",
       "      <th>hours_of_sports_week</th>\n",
       "      <th>random_number</th>\n",
       "      <th>time_to_bed</th>\n",
       "      <th>good_day_1</th>\n",
       "      <th>good_day_2</th>\n",
       "      <th>year_of_birth</th>\n",
       "      <th>age</th>\n",
       "      <th>good_things_1</th>\n",
       "      <th>good_things_2</th>\n",
       "    </tr>\n",
       "  </thead>\n",
       "  <tbody>\n",
       "    <tr>\n",
       "      <th>0</th>\n",
       "      <td>4-4-2023 12:08:33</td>\n",
       "      <td>Artificial Intelligence</td>\n",
       "      <td>yes</td>\n",
       "      <td>0</td>\n",
       "      <td>mu</td>\n",
       "      <td>nee</td>\n",
       "      <td>gender fluid</td>\n",
       "      <td>yes</td>\n",
       "      <td>23/11/1997</td>\n",
       "      <td>319.0</td>\n",
       "      <td>...</td>\n",
       "      <td>100.0</td>\n",
       "      <td>0.0</td>\n",
       "      <td>69</td>\n",
       "      <td>11:30</td>\n",
       "      <td>Ashes</td>\n",
       "      <td>Not ashes</td>\n",
       "      <td>1997.0</td>\n",
       "      <td>26</td>\n",
       "      <td>NA</td>\n",
       "      <td>NA</td>\n",
       "    </tr>\n",
       "    <tr>\n",
       "      <th>1</th>\n",
       "      <td>4-4-2023 12:08:36</td>\n",
       "      <td>Artificial Intelligence</td>\n",
       "      <td>no</td>\n",
       "      <td>0</td>\n",
       "      <td>sigma</td>\n",
       "      <td>nee</td>\n",
       "      <td>male</td>\n",
       "      <td>not willing to say</td>\n",
       "      <td>5th August, 1995</td>\n",
       "      <td>600.0</td>\n",
       "      <td>...</td>\n",
       "      <td>60.0</td>\n",
       "      <td>2.0</td>\n",
       "      <td>42</td>\n",
       "      <td>23:00</td>\n",
       "      <td>good food</td>\n",
       "      <td>good sleep</td>\n",
       "      <td>1995.0</td>\n",
       "      <td>28</td>\n",
       "      <td>food</td>\n",
       "      <td>relaxation</td>\n",
       "    </tr>\n",
       "    <tr>\n",
       "      <th>2</th>\n",
       "      <td>4-4-2023 12:08:38</td>\n",
       "      <td>Artificial Intelligence</td>\n",
       "      <td>no</td>\n",
       "      <td>0</td>\n",
       "      <td>mu</td>\n",
       "      <td>nee</td>\n",
       "      <td>female</td>\n",
       "      <td>no</td>\n",
       "      <td>21/09</td>\n",
       "      <td>220.0</td>\n",
       "      <td>...</td>\n",
       "      <td>20.0</td>\n",
       "      <td>5.0</td>\n",
       "      <td>17</td>\n",
       "      <td>23:30</td>\n",
       "      <td>Sports</td>\n",
       "      <td>Friends</td>\n",
       "      <td>1999.0</td>\n",
       "      <td>0</td>\n",
       "      <td>relaxation</td>\n",
       "      <td>socializing</td>\n",
       "    </tr>\n",
       "    <tr>\n",
       "      <th>3</th>\n",
       "      <td>4-4-2023 12:08:52</td>\n",
       "      <td>Data mining</td>\n",
       "      <td>yes</td>\n",
       "      <td>1</td>\n",
       "      <td>mu</td>\n",
       "      <td>ja</td>\n",
       "      <td>male</td>\n",
       "      <td>yes</td>\n",
       "      <td>25-06-1996</td>\n",
       "      <td>100.0</td>\n",
       "      <td>...</td>\n",
       "      <td>50.0</td>\n",
       "      <td>5.0</td>\n",
       "      <td>12</td>\n",
       "      <td>23:00</td>\n",
       "      <td>Gym</td>\n",
       "      <td>Piano</td>\n",
       "      <td>1996.0</td>\n",
       "      <td>27</td>\n",
       "      <td>physical_exercise</td>\n",
       "      <td>NA</td>\n",
       "    </tr>\n",
       "    <tr>\n",
       "      <th>4</th>\n",
       "      <td>4-4-2023 12:08:59</td>\n",
       "      <td>Quantitative Risk Management</td>\n",
       "      <td>no</td>\n",
       "      <td>0</td>\n",
       "      <td>mu</td>\n",
       "      <td>nee</td>\n",
       "      <td>male</td>\n",
       "      <td>yes</td>\n",
       "      <td>18-08-1998</td>\n",
       "      <td>300.0</td>\n",
       "      <td>...</td>\n",
       "      <td>65.0</td>\n",
       "      <td>10.0</td>\n",
       "      <td>874</td>\n",
       "      <td>23:00</td>\n",
       "      <td>Relax</td>\n",
       "      <td>Sun</td>\n",
       "      <td>1998.0</td>\n",
       "      <td>25</td>\n",
       "      <td>relaxation</td>\n",
       "      <td>weather</td>\n",
       "    </tr>\n",
       "  </tbody>\n",
       "</table>\n",
       "<p>5 rows × 21 columns</p>\n",
       "</div>"
      ],
      "text/plain": [
       "           send_date                       program  \\\n",
       "0  4-4-2023 12:08:33       Artificial Intelligence   \n",
       "1  4-4-2023 12:08:36       Artificial Intelligence   \n",
       "2  4-4-2023 12:08:38       Artificial Intelligence   \n",
       "3  4-4-2023 12:08:52                   Data mining   \n",
       "4  4-4-2023 12:08:59  Quantitative Risk Management   \n",
       "\n",
       "  taken_machine_learning_course taken_information_retrieval_course  \\\n",
       "0                           yes                                  0   \n",
       "1                            no                                  0   \n",
       "2                            no                                  0   \n",
       "3                           yes                                  1   \n",
       "4                            no                                  0   \n",
       "\n",
       "  taken_statistics_course taken_database_course        gender  \\\n",
       "0                      mu                   nee  gender fluid   \n",
       "1                   sigma                   nee          male   \n",
       "2                      mu                   nee        female   \n",
       "3                      mu                    ja          male   \n",
       "4                      mu                   nee          male   \n",
       "\n",
       "    have_used_chatgpt         birthdate  students_in_the_room_gamble  ...  \\\n",
       "0                 yes        23/11/1997                        319.0  ...   \n",
       "1  not willing to say  5th August, 1995                        600.0  ...   \n",
       "2                  no             21/09                        220.0  ...   \n",
       "3                 yes        25-06-1996                        100.0  ...   \n",
       "4                 yes        18-08-1998                        300.0  ...   \n",
       "\n",
       "  stresslevel  hours_of_sports_week  random_number time_to_bed good_day_1  \\\n",
       "0       100.0                   0.0             69       11:30      Ashes   \n",
       "1        60.0                   2.0             42       23:00  good food   \n",
       "2        20.0                   5.0             17       23:30     Sports   \n",
       "3        50.0                   5.0             12       23:00        Gym   \n",
       "4        65.0                  10.0            874       23:00      Relax   \n",
       "\n",
       "   good_day_2 year_of_birth  age      good_things_1 good_things_2  \n",
       "0   Not ashes        1997.0   26                 NA            NA  \n",
       "1  good sleep        1995.0   28               food    relaxation  \n",
       "2     Friends        1999.0    0         relaxation   socializing  \n",
       "3       Piano        1996.0   27  physical_exercise            NA  \n",
       "4         Sun        1998.0   25         relaxation       weather  \n",
       "\n",
       "[5 rows x 21 columns]"
      ]
     },
     "execution_count": 46,
     "metadata": {},
     "output_type": "execute_result"
    }
   ],
   "source": [
    "df.head()"
   ]
  },
  {
   "cell_type": "markdown",
   "metadata": {},
   "source": [
    "Replace NA values for the good_things columns"
   ]
  },
  {
   "cell_type": "code",
   "execution_count": 47,
   "metadata": {},
   "outputs": [],
   "source": [
    "'''Replace NA values for good_things_1'''\n",
    "df['good_things_1'] = df['good_things_1'].replace('NA', np.nan)\n",
    "\n",
    "# find the frequency of each category in the column\n",
    "freq_dict = df['good_things_1'].value_counts(normalize=True).to_dict()\n",
    "\n",
    "# remove NaN from the dictionary\n",
    "freq_dict = {k:v for k,v in freq_dict.items() if not pd.isna(k)}\n",
    "\n",
    "# find the top 3 categories\n",
    "top_categories = sorted(freq_dict, key=freq_dict.get, reverse=True)[:3]\n",
    "\n",
    "# randomly choose one of the top 3 categories for each NaN value\n",
    "df['good_things_1'] = df['good_things_1'].apply(lambda x: random.choice(top_categories) if pd.isna(x) else x)"
   ]
  },
  {
   "cell_type": "code",
   "execution_count": 48,
   "metadata": {},
   "outputs": [],
   "source": [
    "'''Replace NA values for good_things_2'''\n",
    "df['good_things_2'] = df['good_things_2'].replace('NA', np.nan)\n",
    "\n",
    "# find the frequency of each category in the column\n",
    "freq_dict = df['good_things_2'].value_counts(normalize=True).to_dict()\n",
    "\n",
    "# remove NaN from the dictionary\n",
    "freq_dict = {k:v for k,v in freq_dict.items() if not pd.isna(k)}\n",
    "\n",
    "# find the top 3 categories\n",
    "top_categories = sorted(freq_dict, key=freq_dict.get, reverse=True)[:3]\n",
    "\n",
    "# randomly choose one of the top 3 categories for each NaN value\n",
    "df['good_things_2'] = df['good_things_2'].apply(lambda x: random.choice(top_categories) if pd.isna(x) else x)"
   ]
  },
  {
   "cell_type": "code",
   "execution_count": 49,
   "metadata": {
    "scrolled": true
   },
   "outputs": [
    {
     "data": {
      "text/html": [
       "<div>\n",
       "<style scoped>\n",
       "    .dataframe tbody tr th:only-of-type {\n",
       "        vertical-align: middle;\n",
       "    }\n",
       "\n",
       "    .dataframe tbody tr th {\n",
       "        vertical-align: top;\n",
       "    }\n",
       "\n",
       "    .dataframe thead th {\n",
       "        text-align: right;\n",
       "    }\n",
       "</style>\n",
       "<table border=\"1\" class=\"dataframe\">\n",
       "  <thead>\n",
       "    <tr style=\"text-align: right;\">\n",
       "      <th></th>\n",
       "      <th>send_date</th>\n",
       "      <th>program</th>\n",
       "      <th>taken_machine_learning_course</th>\n",
       "      <th>taken_information_retrieval_course</th>\n",
       "      <th>taken_statistics_course</th>\n",
       "      <th>taken_database_course</th>\n",
       "      <th>gender</th>\n",
       "      <th>have_used_chatgpt</th>\n",
       "      <th>birthdate</th>\n",
       "      <th>students_in_the_room_gamble</th>\n",
       "      <th>...</th>\n",
       "      <th>stresslevel</th>\n",
       "      <th>hours_of_sports_week</th>\n",
       "      <th>random_number</th>\n",
       "      <th>time_to_bed</th>\n",
       "      <th>good_day_1</th>\n",
       "      <th>good_day_2</th>\n",
       "      <th>year_of_birth</th>\n",
       "      <th>age</th>\n",
       "      <th>good_things_1</th>\n",
       "      <th>good_things_2</th>\n",
       "    </tr>\n",
       "  </thead>\n",
       "  <tbody>\n",
       "    <tr>\n",
       "      <th>0</th>\n",
       "      <td>4-4-2023 12:08:33</td>\n",
       "      <td>Artificial Intelligence</td>\n",
       "      <td>yes</td>\n",
       "      <td>0</td>\n",
       "      <td>mu</td>\n",
       "      <td>nee</td>\n",
       "      <td>gender fluid</td>\n",
       "      <td>yes</td>\n",
       "      <td>23/11/1997</td>\n",
       "      <td>319.0</td>\n",
       "      <td>...</td>\n",
       "      <td>100.0</td>\n",
       "      <td>0.0</td>\n",
       "      <td>69</td>\n",
       "      <td>11:30</td>\n",
       "      <td>Ashes</td>\n",
       "      <td>Not ashes</td>\n",
       "      <td>1997.0</td>\n",
       "      <td>26</td>\n",
       "      <td>weather</td>\n",
       "      <td>food</td>\n",
       "    </tr>\n",
       "    <tr>\n",
       "      <th>1</th>\n",
       "      <td>4-4-2023 12:08:36</td>\n",
       "      <td>Artificial Intelligence</td>\n",
       "      <td>no</td>\n",
       "      <td>0</td>\n",
       "      <td>sigma</td>\n",
       "      <td>nee</td>\n",
       "      <td>male</td>\n",
       "      <td>not willing to say</td>\n",
       "      <td>5th August, 1995</td>\n",
       "      <td>600.0</td>\n",
       "      <td>...</td>\n",
       "      <td>60.0</td>\n",
       "      <td>2.0</td>\n",
       "      <td>42</td>\n",
       "      <td>23:00</td>\n",
       "      <td>good food</td>\n",
       "      <td>good sleep</td>\n",
       "      <td>1995.0</td>\n",
       "      <td>28</td>\n",
       "      <td>food</td>\n",
       "      <td>relaxation</td>\n",
       "    </tr>\n",
       "    <tr>\n",
       "      <th>2</th>\n",
       "      <td>4-4-2023 12:08:38</td>\n",
       "      <td>Artificial Intelligence</td>\n",
       "      <td>no</td>\n",
       "      <td>0</td>\n",
       "      <td>mu</td>\n",
       "      <td>nee</td>\n",
       "      <td>female</td>\n",
       "      <td>no</td>\n",
       "      <td>21/09</td>\n",
       "      <td>220.0</td>\n",
       "      <td>...</td>\n",
       "      <td>20.0</td>\n",
       "      <td>5.0</td>\n",
       "      <td>17</td>\n",
       "      <td>23:30</td>\n",
       "      <td>Sports</td>\n",
       "      <td>Friends</td>\n",
       "      <td>1999.0</td>\n",
       "      <td>0</td>\n",
       "      <td>relaxation</td>\n",
       "      <td>socializing</td>\n",
       "    </tr>\n",
       "    <tr>\n",
       "      <th>3</th>\n",
       "      <td>4-4-2023 12:08:52</td>\n",
       "      <td>Data mining</td>\n",
       "      <td>yes</td>\n",
       "      <td>1</td>\n",
       "      <td>mu</td>\n",
       "      <td>ja</td>\n",
       "      <td>male</td>\n",
       "      <td>yes</td>\n",
       "      <td>25-06-1996</td>\n",
       "      <td>100.0</td>\n",
       "      <td>...</td>\n",
       "      <td>50.0</td>\n",
       "      <td>5.0</td>\n",
       "      <td>12</td>\n",
       "      <td>23:00</td>\n",
       "      <td>Gym</td>\n",
       "      <td>Piano</td>\n",
       "      <td>1996.0</td>\n",
       "      <td>27</td>\n",
       "      <td>physical_exercise</td>\n",
       "      <td>food</td>\n",
       "    </tr>\n",
       "    <tr>\n",
       "      <th>4</th>\n",
       "      <td>4-4-2023 12:08:59</td>\n",
       "      <td>Quantitative Risk Management</td>\n",
       "      <td>no</td>\n",
       "      <td>0</td>\n",
       "      <td>mu</td>\n",
       "      <td>nee</td>\n",
       "      <td>male</td>\n",
       "      <td>yes</td>\n",
       "      <td>18-08-1998</td>\n",
       "      <td>300.0</td>\n",
       "      <td>...</td>\n",
       "      <td>65.0</td>\n",
       "      <td>10.0</td>\n",
       "      <td>874</td>\n",
       "      <td>23:00</td>\n",
       "      <td>Relax</td>\n",
       "      <td>Sun</td>\n",
       "      <td>1998.0</td>\n",
       "      <td>25</td>\n",
       "      <td>relaxation</td>\n",
       "      <td>weather</td>\n",
       "    </tr>\n",
       "  </tbody>\n",
       "</table>\n",
       "<p>5 rows × 21 columns</p>\n",
       "</div>"
      ],
      "text/plain": [
       "           send_date                       program  \\\n",
       "0  4-4-2023 12:08:33       Artificial Intelligence   \n",
       "1  4-4-2023 12:08:36       Artificial Intelligence   \n",
       "2  4-4-2023 12:08:38       Artificial Intelligence   \n",
       "3  4-4-2023 12:08:52                   Data mining   \n",
       "4  4-4-2023 12:08:59  Quantitative Risk Management   \n",
       "\n",
       "  taken_machine_learning_course taken_information_retrieval_course  \\\n",
       "0                           yes                                  0   \n",
       "1                            no                                  0   \n",
       "2                            no                                  0   \n",
       "3                           yes                                  1   \n",
       "4                            no                                  0   \n",
       "\n",
       "  taken_statistics_course taken_database_course        gender  \\\n",
       "0                      mu                   nee  gender fluid   \n",
       "1                   sigma                   nee          male   \n",
       "2                      mu                   nee        female   \n",
       "3                      mu                    ja          male   \n",
       "4                      mu                   nee          male   \n",
       "\n",
       "    have_used_chatgpt         birthdate  students_in_the_room_gamble  ...  \\\n",
       "0                 yes        23/11/1997                        319.0  ...   \n",
       "1  not willing to say  5th August, 1995                        600.0  ...   \n",
       "2                  no             21/09                        220.0  ...   \n",
       "3                 yes        25-06-1996                        100.0  ...   \n",
       "4                 yes        18-08-1998                        300.0  ...   \n",
       "\n",
       "  stresslevel  hours_of_sports_week  random_number time_to_bed good_day_1  \\\n",
       "0       100.0                   0.0             69       11:30      Ashes   \n",
       "1        60.0                   2.0             42       23:00  good food   \n",
       "2        20.0                   5.0             17       23:30     Sports   \n",
       "3        50.0                   5.0             12       23:00        Gym   \n",
       "4        65.0                  10.0            874       23:00      Relax   \n",
       "\n",
       "   good_day_2 year_of_birth  age      good_things_1 good_things_2  \n",
       "0   Not ashes        1997.0   26            weather          food  \n",
       "1  good sleep        1995.0   28               food    relaxation  \n",
       "2     Friends        1999.0    0         relaxation   socializing  \n",
       "3       Piano        1996.0   27  physical_exercise          food  \n",
       "4         Sun        1998.0   25         relaxation       weather  \n",
       "\n",
       "[5 rows x 21 columns]"
      ]
     },
     "execution_count": 49,
     "metadata": {},
     "output_type": "execute_result"
    }
   ],
   "source": [
    "df.head()"
   ]
  },
  {
   "cell_type": "markdown",
   "metadata": {},
   "source": [
    "Clean the age column"
   ]
  },
  {
   "cell_type": "code",
   "execution_count": 50,
   "metadata": {},
   "outputs": [
    {
     "name": "stdout",
     "output_type": "stream",
     "text": [
      "61\n"
     ]
    }
   ],
   "source": [
    "# select the number of rows where the age is 0\n",
    "num_rows = df[df['age'] == 0].shape[0]\n",
    "\n",
    "print(num_rows)"
   ]
  },
  {
   "cell_type": "code",
   "execution_count": 51,
   "metadata": {},
   "outputs": [
    {
     "data": {
      "image/png": "[encoded data removed]",
      "text/plain": [
       "<Figure size 432x288 with 1 Axes>"
      ]
     },
     "metadata": {
      "needs_background": "light"
     },
     "output_type": "display_data"
    }
   ],
   "source": [
    "# plot a histogram of the age column\n",
    "plt.hist(df['age'])\n",
    "\n",
    "# add labels to the plot\n",
    "plt.title('Age Distribution')\n",
    "plt.xlabel('Age')\n",
    "plt.ylabel('Count')\n",
    "\n",
    "# show the plot\n",
    "plt.show()"
   ]
  },
  {
   "cell_type": "code",
   "execution_count": 52,
   "metadata": {},
   "outputs": [
    {
     "name": "stderr",
     "output_type": "stream",
     "text": [
      "<ipython-input-52-dda0a08fe0ef>:9: SettingWithCopyWarning: \n",
      "A value is trying to be set on a copy of a slice from a DataFrame\n",
      "\n",
      "See the caveats in the documentation: https://pandas.pydata.org/pandas-docs/stable/user_guide/indexing.html#returning-a-view-versus-a-copy\n",
      "  df['age'][z_scores > threshold] = np.mean(df['age'])\n"
     ]
    }
   ],
   "source": [
    "# Clean the student gamble outliers, and replace with the mean\n",
    "# calculate the z-scores for the 'students_in_the_room_gamble' column\n",
    "z_scores = np.abs((df['age'] - np.mean(df['age'])) / np.std(df['age']))\n",
    "\n",
    "# define a threshold for identifying outliers (z-score > 3 for example)\n",
    "threshold = 3\n",
    "\n",
    "# identify the outliers and replace with the mean value\n",
    "df['age'][z_scores > threshold] = np.mean(df['age'])"
   ]
  },
  {
   "cell_type": "code",
   "execution_count": 55,
   "metadata": {},
   "outputs": [],
   "source": [
    "# replace 0 values in the age column with the mean age\n",
    "mean_age = df['age'].mean()\n",
    "df['age'] = df['age'].replace(0, int(mean_age))"
   ]
  },
  {
   "cell_type": "code",
   "execution_count": 56,
   "metadata": {},
   "outputs": [
    {
     "data": {
      "image/png": "[encoded data removed]",
      "text/plain": [
       "<Figure size 432x288 with 1 Axes>"
      ]
     },
     "metadata": {
      "needs_background": "light"
     },
     "output_type": "display_data"
    }
   ],
   "source": [
    "# plot a histogram of the age column\n",
    "plt.hist(df['age'])\n",
    "\n",
    "# add labels to the plot\n",
    "plt.title('Age Distribution')\n",
    "plt.xlabel('Age')\n",
    "plt.ylabel('Count')\n",
    "\n",
    "# show the plot\n",
    "plt.show()"
   ]
  },
  {
   "cell_type": "code",
   "execution_count": 57,
   "metadata": {},
   "outputs": [
    {
     "data": {
      "text/html": [
       "<div>\n",
       "<style scoped>\n",
       "    .dataframe tbody tr th:only-of-type {\n",
       "        vertical-align: middle;\n",
       "    }\n",
       "\n",
       "    .dataframe tbody tr th {\n",
       "        vertical-align: top;\n",
       "    }\n",
       "\n",
       "    .dataframe thead th {\n",
       "        text-align: right;\n",
       "    }\n",
       "</style>\n",
       "<table border=\"1\" class=\"dataframe\">\n",
       "  <thead>\n",
       "    <tr style=\"text-align: right;\">\n",
       "      <th></th>\n",
       "      <th>send_date</th>\n",
       "      <th>program</th>\n",
       "      <th>taken_machine_learning_course</th>\n",
       "      <th>taken_information_retrieval_course</th>\n",
       "      <th>taken_statistics_course</th>\n",
       "      <th>taken_database_course</th>\n",
       "      <th>gender</th>\n",
       "      <th>have_used_chatgpt</th>\n",
       "      <th>birthdate</th>\n",
       "      <th>students_in_the_room_gamble</th>\n",
       "      <th>...</th>\n",
       "      <th>stresslevel</th>\n",
       "      <th>hours_of_sports_week</th>\n",
       "      <th>random_number</th>\n",
       "      <th>time_to_bed</th>\n",
       "      <th>good_day_1</th>\n",
       "      <th>good_day_2</th>\n",
       "      <th>year_of_birth</th>\n",
       "      <th>age</th>\n",
       "      <th>good_things_1</th>\n",
       "      <th>good_things_2</th>\n",
       "    </tr>\n",
       "  </thead>\n",
       "  <tbody>\n",
       "    <tr>\n",
       "      <th>0</th>\n",
       "      <td>4-4-2023 12:08:33</td>\n",
       "      <td>Artificial Intelligence</td>\n",
       "      <td>yes</td>\n",
       "      <td>0</td>\n",
       "      <td>mu</td>\n",
       "      <td>nee</td>\n",
       "      <td>gender fluid</td>\n",
       "      <td>yes</td>\n",
       "      <td>23/11/1997</td>\n",
       "      <td>319.0</td>\n",
       "      <td>...</td>\n",
       "      <td>100.0</td>\n",
       "      <td>0.0</td>\n",
       "      <td>69</td>\n",
       "      <td>11:30</td>\n",
       "      <td>Ashes</td>\n",
       "      <td>Not ashes</td>\n",
       "      <td>1997.0</td>\n",
       "      <td>26.000000</td>\n",
       "      <td>weather</td>\n",
       "      <td>food</td>\n",
       "    </tr>\n",
       "    <tr>\n",
       "      <th>1</th>\n",
       "      <td>4-4-2023 12:08:36</td>\n",
       "      <td>Artificial Intelligence</td>\n",
       "      <td>no</td>\n",
       "      <td>0</td>\n",
       "      <td>sigma</td>\n",
       "      <td>nee</td>\n",
       "      <td>male</td>\n",
       "      <td>not willing to say</td>\n",
       "      <td>5th August, 1995</td>\n",
       "      <td>600.0</td>\n",
       "      <td>...</td>\n",
       "      <td>60.0</td>\n",
       "      <td>2.0</td>\n",
       "      <td>42</td>\n",
       "      <td>23:00</td>\n",
       "      <td>good food</td>\n",
       "      <td>good sleep</td>\n",
       "      <td>1995.0</td>\n",
       "      <td>28.000000</td>\n",
       "      <td>food</td>\n",
       "      <td>relaxation</td>\n",
       "    </tr>\n",
       "    <tr>\n",
       "      <th>2</th>\n",
       "      <td>4-4-2023 12:08:38</td>\n",
       "      <td>Artificial Intelligence</td>\n",
       "      <td>no</td>\n",
       "      <td>0</td>\n",
       "      <td>mu</td>\n",
       "      <td>nee</td>\n",
       "      <td>female</td>\n",
       "      <td>no</td>\n",
       "      <td>21/09</td>\n",
       "      <td>220.0</td>\n",
       "      <td>...</td>\n",
       "      <td>20.0</td>\n",
       "      <td>5.0</td>\n",
       "      <td>17</td>\n",
       "      <td>23:30</td>\n",
       "      <td>Sports</td>\n",
       "      <td>Friends</td>\n",
       "      <td>1999.0</td>\n",
       "      <td>20.472454</td>\n",
       "      <td>relaxation</td>\n",
       "      <td>socializing</td>\n",
       "    </tr>\n",
       "    <tr>\n",
       "      <th>3</th>\n",
       "      <td>4-4-2023 12:08:52</td>\n",
       "      <td>Data mining</td>\n",
       "      <td>yes</td>\n",
       "      <td>1</td>\n",
       "      <td>mu</td>\n",
       "      <td>ja</td>\n",
       "      <td>male</td>\n",
       "      <td>yes</td>\n",
       "      <td>25-06-1996</td>\n",
       "      <td>100.0</td>\n",
       "      <td>...</td>\n",
       "      <td>50.0</td>\n",
       "      <td>5.0</td>\n",
       "      <td>12</td>\n",
       "      <td>23:00</td>\n",
       "      <td>Gym</td>\n",
       "      <td>Piano</td>\n",
       "      <td>1996.0</td>\n",
       "      <td>27.000000</td>\n",
       "      <td>physical_exercise</td>\n",
       "      <td>food</td>\n",
       "    </tr>\n",
       "    <tr>\n",
       "      <th>4</th>\n",
       "      <td>4-4-2023 12:08:59</td>\n",
       "      <td>Quantitative Risk Management</td>\n",
       "      <td>no</td>\n",
       "      <td>0</td>\n",
       "      <td>mu</td>\n",
       "      <td>nee</td>\n",
       "      <td>male</td>\n",
       "      <td>yes</td>\n",
       "      <td>18-08-1998</td>\n",
       "      <td>300.0</td>\n",
       "      <td>...</td>\n",
       "      <td>65.0</td>\n",
       "      <td>10.0</td>\n",
       "      <td>874</td>\n",
       "      <td>23:00</td>\n",
       "      <td>Relax</td>\n",
       "      <td>Sun</td>\n",
       "      <td>1998.0</td>\n",
       "      <td>25.000000</td>\n",
       "      <td>relaxation</td>\n",
       "      <td>weather</td>\n",
       "    </tr>\n",
       "  </tbody>\n",
       "</table>\n",
       "<p>5 rows × 21 columns</p>\n",
       "</div>"
      ],
      "text/plain": [
       "           send_date                       program  \\\n",
       "0  4-4-2023 12:08:33       Artificial Intelligence   \n",
       "1  4-4-2023 12:08:36       Artificial Intelligence   \n",
       "2  4-4-2023 12:08:38       Artificial Intelligence   \n",
       "3  4-4-2023 12:08:52                   Data mining   \n",
       "4  4-4-2023 12:08:59  Quantitative Risk Management   \n",
       "\n",
       "  taken_machine_learning_course taken_information_retrieval_course  \\\n",
       "0                           yes                                  0   \n",
       "1                            no                                  0   \n",
       "2                            no                                  0   \n",
       "3                           yes                                  1   \n",
       "4                            no                                  0   \n",
       "\n",
       "  taken_statistics_course taken_database_course        gender  \\\n",
       "0                      mu                   nee  gender fluid   \n",
       "1                   sigma                   nee          male   \n",
       "2                      mu                   nee        female   \n",
       "3                      mu                    ja          male   \n",
       "4                      mu                   nee          male   \n",
       "\n",
       "    have_used_chatgpt         birthdate  students_in_the_room_gamble  ...  \\\n",
       "0                 yes        23/11/1997                        319.0  ...   \n",
       "1  not willing to say  5th August, 1995                        600.0  ...   \n",
       "2                  no             21/09                        220.0  ...   \n",
       "3                 yes        25-06-1996                        100.0  ...   \n",
       "4                 yes        18-08-1998                        300.0  ...   \n",
       "\n",
       "  stresslevel  hours_of_sports_week  random_number time_to_bed good_day_1  \\\n",
       "0       100.0                   0.0             69       11:30      Ashes   \n",
       "1        60.0                   2.0             42       23:00  good food   \n",
       "2        20.0                   5.0             17       23:30     Sports   \n",
       "3        50.0                   5.0             12       23:00        Gym   \n",
       "4        65.0                  10.0            874       23:00      Relax   \n",
       "\n",
       "   good_day_2 year_of_birth        age      good_things_1 good_things_2  \n",
       "0   Not ashes        1997.0  26.000000            weather          food  \n",
       "1  good sleep        1995.0  28.000000               food    relaxation  \n",
       "2     Friends        1999.0  20.472454         relaxation   socializing  \n",
       "3       Piano        1996.0  27.000000  physical_exercise          food  \n",
       "4         Sun        1998.0  25.000000         relaxation       weather  \n",
       "\n",
       "[5 rows x 21 columns]"
      ]
     },
     "execution_count": 57,
     "metadata": {},
     "output_type": "execute_result"
    }
   ],
   "source": [
    "df.head()"
   ]
  },
  {
   "cell_type": "code",
   "execution_count": null,
   "metadata": {},
   "outputs": [],
   "source": []
  }
 ],
 "metadata": {
  "colab": {
   "provenance": []
  },
  "kernelspec": {
   "display_name": "Python 3",
   "language": "python",
   "name": "python3"
  },
  "language_info": {
   "codemirror_mode": {
    "name": "ipython",
    "version": 3
   },
   "file_extension": ".py",
   "mimetype": "text/x-python",
   "name": "python",
   "nbconvert_exporter": "python",
   "pygments_lexer": "ipython3",
   "version": "3.9.12"
  }
 },
 "nbformat": 4,
 "nbformat_minor": 1
}
