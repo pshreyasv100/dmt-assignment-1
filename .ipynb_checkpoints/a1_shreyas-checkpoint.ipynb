{
 "cells": [
  {
   "cell_type": "markdown",
   "metadata": {},
   "source": [
    "# Task 1"
   ]
  },
  {
   "cell_type": "markdown",
   "metadata": {},
   "source": [
    "# TASK 1A: EXPLORATORY DATA ANALYSIS"
   ]
  },
  {
   "cell_type": "code",
   "execution_count": 1,
   "metadata": {
    "id": "dIqxVbTkHLsa"
   },
   "outputs": [],
   "source": [
    "import pandas as pd\n",
    "import numpy as np\n",
    "import re\n",
    "import random\n",
    "import string\n",
    "import seaborn as sns\n",
    "from datetime import datetime\n",
    "import matplotlib.pyplot as plt"
   ]
  },
  {
   "cell_type": "code",
   "execution_count": 2,
   "metadata": {
    "id": "D8jddiXcHYHA"
   },
   "outputs": [],
   "source": [
    "df = pd.read_csv('./data/ODI-adapted2.csv', sep=';')"
   ]
  },
  {
   "cell_type": "code",
   "execution_count": 3,
   "metadata": {
    "colab": {
     "base_uri": "https://localhost:8080/"
    },
    "id": "-g6RKUTnKRiq",
    "outputId": "a45fc9dc-b67e-419e-f71d-1eb5ee4786d4"
   },
   "outputs": [
    {
     "data": {
      "text/plain": [
       "Index(['send_date', 'program', 'taken_machine_learning_course',\n",
       "       'taken_information_retrieval_course', 'taken_statistics_course',\n",
       "       'taken_database_course', 'gender', 'have_used_chatgpt', 'birthdate',\n",
       "       'students_in_the_room_gamble', 'stood_up', 'stresslevel',\n",
       "       'hours_of_sports_week', 'random_number', 'time_to_bed', 'good_day_1',\n",
       "       'good_day_2'],\n",
       "      dtype='object')"
      ]
     },
     "execution_count": 3,
     "metadata": {},
     "output_type": "execute_result"
    }
   ],
   "source": [
    "df = df.rename(columns={'Tijdstempel': 'send_date', 'What programme are you in?': 'program', 'Have you taken a course on machine learning?': \n",
    "                        'taken_machine_learning_course', 'Have you taken a course on information retrieval?': 'taken_information_retrieval_course', \n",
    "                        'Have you taken a course on statistics?': 'taken_statistics_course', 'Have you taken a course on databases?': \n",
    "                        'taken_database_course', 'What is your gender?': 'gender', 'I have used ChatGPT to help me with some of my study assignments ': \n",
    "                        'have_used_chatgpt', 'When is your birthday (date)?': 'birthdate', 'How many students do you estimate there are in the room?':\n",
    "                        'students_in_the_room_gamble', 'Did you stand up to come to your previous answer    ?': 'stood_up', 'Give a random number': 'random_number', \n",
    "                        'What is your stress level (0-100)?':'stresslevel', 'How many hours per week do you do sports (in whole hours)? ': 'hours_of_sports_week', \n",
    "                        'Time you went to bed Yesterday': 'time_to_bed', 'What makes a good day for you (1)?': 'good_day_1', 'What makes a good day for you (2)?': \n",
    "                        'good_day_2'})\n",
    "df.columns"
   ]
  },
  {
   "cell_type": "code",
   "execution_count": 4,
   "metadata": {
    "colab": {
     "base_uri": "https://localhost:8080/",
     "height": 363
    },
    "id": "RwRBfPITMfDg",
    "outputId": "c74184db-05ee-463e-ed8e-b3ff49f83256"
   },
   "outputs": [
    {
     "data": {
      "text/html": [
       "<div>\n",
       "<style scoped>\n",
       "    .dataframe tbody tr th:only-of-type {\n",
       "        vertical-align: middle;\n",
       "    }\n",
       "\n",
       "    .dataframe tbody tr th {\n",
       "        vertical-align: top;\n",
       "    }\n",
       "\n",
       "    .dataframe thead th {\n",
       "        text-align: right;\n",
       "    }\n",
       "</style>\n",
       "<table border=\"1\" class=\"dataframe\">\n",
       "  <thead>\n",
       "    <tr style=\"text-align: right;\">\n",
       "      <th></th>\n",
       "      <th>send_date</th>\n",
       "      <th>program</th>\n",
       "      <th>taken_machine_learning_course</th>\n",
       "      <th>taken_information_retrieval_course</th>\n",
       "      <th>taken_statistics_course</th>\n",
       "      <th>taken_database_course</th>\n",
       "      <th>gender</th>\n",
       "      <th>have_used_chatgpt</th>\n",
       "      <th>birthdate</th>\n",
       "      <th>students_in_the_room_gamble</th>\n",
       "      <th>stood_up</th>\n",
       "      <th>stresslevel</th>\n",
       "      <th>hours_of_sports_week</th>\n",
       "      <th>random_number</th>\n",
       "      <th>time_to_bed</th>\n",
       "      <th>good_day_1</th>\n",
       "      <th>good_day_2</th>\n",
       "    </tr>\n",
       "  </thead>\n",
       "  <tbody>\n",
       "    <tr>\n",
       "      <th>0</th>\n",
       "      <td>4-4-2023 12:08:33</td>\n",
       "      <td>Masters - AI</td>\n",
       "      <td>yes</td>\n",
       "      <td>0</td>\n",
       "      <td>mu</td>\n",
       "      <td>nee</td>\n",
       "      <td>gender fluid</td>\n",
       "      <td>yes</td>\n",
       "      <td>23/11/1997</td>\n",
       "      <td>319</td>\n",
       "      <td>unknown</td>\n",
       "      <td>100</td>\n",
       "      <td>0</td>\n",
       "      <td>69</td>\n",
       "      <td>11:30</td>\n",
       "      <td>Ashes</td>\n",
       "      <td>Not ashes</td>\n",
       "    </tr>\n",
       "    <tr>\n",
       "      <th>1</th>\n",
       "      <td>4-4-2023 12:08:36</td>\n",
       "      <td>Artificial Intelligence</td>\n",
       "      <td>no</td>\n",
       "      <td>0</td>\n",
       "      <td>sigma</td>\n",
       "      <td>nee</td>\n",
       "      <td>male</td>\n",
       "      <td>not willing to say</td>\n",
       "      <td>5th August, 1995</td>\n",
       "      <td>600</td>\n",
       "      <td>no</td>\n",
       "      <td>60</td>\n",
       "      <td>2</td>\n",
       "      <td>42</td>\n",
       "      <td>23:00</td>\n",
       "      <td>good food</td>\n",
       "      <td>good sleep</td>\n",
       "    </tr>\n",
       "    <tr>\n",
       "      <th>2</th>\n",
       "      <td>4-4-2023 12:08:38</td>\n",
       "      <td>AI</td>\n",
       "      <td>no</td>\n",
       "      <td>0</td>\n",
       "      <td>mu</td>\n",
       "      <td>nee</td>\n",
       "      <td>female</td>\n",
       "      <td>no</td>\n",
       "      <td>21/09</td>\n",
       "      <td>220</td>\n",
       "      <td>no</td>\n",
       "      <td>20</td>\n",
       "      <td>5</td>\n",
       "      <td>17</td>\n",
       "      <td>23:30</td>\n",
       "      <td>Sports</td>\n",
       "      <td>Friends</td>\n",
       "    </tr>\n",
       "    <tr>\n",
       "      <th>3</th>\n",
       "      <td>4-4-2023 12:08:52</td>\n",
       "      <td>Data mining</td>\n",
       "      <td>yes</td>\n",
       "      <td>1</td>\n",
       "      <td>mu</td>\n",
       "      <td>ja</td>\n",
       "      <td>male</td>\n",
       "      <td>yes</td>\n",
       "      <td>25-06-1996</td>\n",
       "      <td>100</td>\n",
       "      <td>unknown</td>\n",
       "      <td>50</td>\n",
       "      <td>5</td>\n",
       "      <td>12</td>\n",
       "      <td>23:00</td>\n",
       "      <td>Gym</td>\n",
       "      <td>Piano</td>\n",
       "    </tr>\n",
       "    <tr>\n",
       "      <th>4</th>\n",
       "      <td>4-4-2023 12:08:59</td>\n",
       "      <td>Quantitative Risk Management</td>\n",
       "      <td>no</td>\n",
       "      <td>0</td>\n",
       "      <td>mu</td>\n",
       "      <td>nee</td>\n",
       "      <td>male</td>\n",
       "      <td>yes</td>\n",
       "      <td>18-08-1998</td>\n",
       "      <td>300</td>\n",
       "      <td>no</td>\n",
       "      <td>65</td>\n",
       "      <td>10</td>\n",
       "      <td>874</td>\n",
       "      <td>23:00</td>\n",
       "      <td>Relax</td>\n",
       "      <td>Sun</td>\n",
       "    </tr>\n",
       "  </tbody>\n",
       "</table>\n",
       "</div>"
      ],
      "text/plain": [
       "           send_date                       program  \\\n",
       "0  4-4-2023 12:08:33                  Masters - AI   \n",
       "1  4-4-2023 12:08:36       Artificial Intelligence   \n",
       "2  4-4-2023 12:08:38                            AI   \n",
       "3  4-4-2023 12:08:52                   Data mining   \n",
       "4  4-4-2023 12:08:59  Quantitative Risk Management   \n",
       "\n",
       "  taken_machine_learning_course taken_information_retrieval_course  \\\n",
       "0                           yes                                  0   \n",
       "1                            no                                  0   \n",
       "2                            no                                  0   \n",
       "3                           yes                                  1   \n",
       "4                            no                                  0   \n",
       "\n",
       "  taken_statistics_course taken_database_course        gender  \\\n",
       "0                      mu                   nee  gender fluid   \n",
       "1                   sigma                   nee          male   \n",
       "2                      mu                   nee        female   \n",
       "3                      mu                    ja          male   \n",
       "4                      mu                   nee          male   \n",
       "\n",
       "    have_used_chatgpt         birthdate students_in_the_room_gamble stood_up  \\\n",
       "0                 yes        23/11/1997                         319  unknown   \n",
       "1  not willing to say  5th August, 1995                         600       no   \n",
       "2                  no             21/09                         220       no   \n",
       "3                 yes        25-06-1996                         100  unknown   \n",
       "4                 yes        18-08-1998                         300       no   \n",
       "\n",
       "  stresslevel hours_of_sports_week random_number time_to_bed good_day_1  \\\n",
       "0         100                    0            69       11:30      Ashes   \n",
       "1          60                    2            42       23:00  good food   \n",
       "2          20                    5            17       23:30     Sports   \n",
       "3          50                    5            12       23:00        Gym   \n",
       "4          65                   10           874       23:00      Relax   \n",
       "\n",
       "   good_day_2  \n",
       "0   Not ashes  \n",
       "1  good sleep  \n",
       "2     Friends  \n",
       "3       Piano  \n",
       "4         Sun  "
      ]
     },
     "execution_count": 4,
     "metadata": {},
     "output_type": "execute_result"
    }
   ],
   "source": [
    "pd.set_option('display.max_columns', None)\n",
    "df.head()"
   ]
  },
  {
   "cell_type": "code",
   "execution_count": 5,
   "metadata": {
    "colab": {
     "base_uri": "https://localhost:8080/"
    },
    "id": "Ek6LKiJCMzfM",
    "outputId": "02a94922-0e02-4a96-9764-346c97cc0673"
   },
   "outputs": [
    {
     "data": {
      "text/plain": [
       "(305, 17)"
      ]
     },
     "execution_count": 5,
     "metadata": {},
     "output_type": "execute_result"
    }
   ],
   "source": [
    "# Print how many rows/columns there are\n",
    "df.shape"
   ]
  },
  {
   "cell_type": "code",
   "execution_count": 6,
   "metadata": {
    "colab": {
     "base_uri": "https://localhost:8080/",
     "height": 427
    },
    "id": "PXS2zgGUhBKN",
    "outputId": "6f2d0005-c43e-4585-8e94-8ac01894c2c4"
   },
   "outputs": [
    {
     "data": {
      "image/png": "[encoded data removed]",
      "text/plain": [
       "<Figure size 432x288 with 1 Axes>"
      ]
     },
     "metadata": {},
     "output_type": "display_data"
    }
   ],
   "source": [
    "# count the number of occurrences of each program in the program column\n",
    "program_counts = df['program'].value_counts()\n",
    "\n",
    "# create a pie chart of the program counts with smaller labels\n",
    "plt.pie(program_counts, labels=program_counts.index, autopct='%1.1f%%', textprops={'fontsize': 8})\n",
    "\n",
    "# add title\n",
    "plt.title('Pie Chart of Programs')\n",
    "\n",
    "# show the plot\n",
    "plt.show()"
   ]
  },
  {
   "cell_type": "code",
   "execution_count": 7,
   "metadata": {
    "colab": {
     "base_uri": "https://localhost:8080/",
     "height": 511
    },
    "id": "4FOZBf5Q2AbP",
    "outputId": "6b15beb3-304c-46a8-f1c2-38d72fe40f0c"
   },
   "outputs": [
    {
     "data": {
      "image/png": "[encoded data removed]",
      "text/plain": [
       "<Figure size 720x360 with 2 Axes>"
      ]
     },
     "metadata": {},
     "output_type": "display_data"
    }
   ],
   "source": [
    "# create a 1x2 grid of subplots\n",
    "fig, axs = plt.subplots(1, 2, figsize=(10, 5))\n",
    "\n",
    "# plot the pie chart of the taken_machine_learning_course column in the left subplot\n",
    "ml_counts = df['taken_machine_learning_course'].value_counts()\n",
    "axs[0].pie(ml_counts, labels=ml_counts.index, autopct='%1.1f%%')\n",
    "axs[0].set_title('Machine Learning Course')\n",
    "\n",
    "# plot the pie chart of the taken_statistics_course column in the right subplot\n",
    "stats_counts = df['taken_statistics_course'].value_counts()\n",
    "axs[1].pie(stats_counts, labels=stats_counts.index, autopct='%1.1f%%')\n",
    "axs[1].set_title('Statistics Course')\n",
    "\n",
    "# add overall title to the plot\n",
    "fig.suptitle('Pie Charts of ML and Statistics Courses')\n",
    "\n",
    "# adjust layout\n",
    "plt.tight_layout()\n",
    "\n",
    "# show the plot\n",
    "plt.show()"
   ]
  },
  {
   "cell_type": "code",
   "execution_count": 8,
   "metadata": {
    "id": "osU16rd7NdqY"
   },
   "outputs": [],
   "source": [
    "# create a regular expression pattern to match all values referring to AI\n",
    "pattern1 = r'(.*Artificial Intelligence.*|.*AI.*|.*Ai.*|.*Artificial.*|.*Artifscial Intelligense.*)'\n",
    "pattern2 = r'(.*CS.*|.*Computer Science.*|.*Computer science.*|.*Masters cs.*|.*computer science.*)'\n",
    "pattern3 = r'(.*Bioinformatics.*|.*Systems Biology.*|.*Bio-informatics.*|.*bioinformatics.*|.*Bionformatics.*)'\n",
    "pattern16 = r'(.*operations research.*|.*& Operations Research.*)'\n",
    "pattern4 = r'(.*Econometrics(?! and Operations Research).*|.*Econometrics MSc.*)'\n",
    "pattern5 = r'(.*Business Analytics.*|.*Master Business Analytics.*|.*BA.*|.*business analytics.*|.*Business analytics.*)'\n",
    "pattern6 = r'(.*PhD.*)'\n",
    "pattern7 = r'(.*Biomedical Sciences.*|.*Biomedical sciences.*)'\n",
    "pattern8 = r'(.*Human Language Technology.*)'\n",
    "pattern9 = r'(.*computational.*|.*Computational Science.*|.*Computational.*)'\n",
    "pattern10 = r'(.*Information Sciences.*)'\n",
    "pattern11 = r'(.*Human language.*)'\n",
    "pattern12 = r'(.*Finance and Technology.*|.*finance and technology.*|.*Finance & Technology.*|.*fintech.*|.*FinTech.*|.*finance & technology.*)'\n",
    "pattern13 = r'(.*Finance.*|.*Economics.*)'\n",
    "pattern14 = r'(.*Digital Business and Innovation.*)'\n",
    "pattern15 = r'(.*Quantitative Risk Management.*|.*QRM.*)'\n",
    "pattern17 = r'(.*exchange.*|.*Exchange.*)'\n",
    "\n",
    "# replace all values matching the pattern with \"AI\" in the program column\n",
    "df['program'].replace(pattern1, 'Artificial Intelligence', regex=True, inplace=True)\n",
    "df['program'].replace(pattern2, 'Computer Science', regex=True, inplace=True)\n",
    "df['program'].replace(pattern3, 'Bioinformatics and Systems Biology', regex=True, inplace=True)\n",
    "df['program'].replace(pattern16, 'Econometrics and Operations Research', regex=True, inplace=True)\n",
    "df['program'].replace(pattern4, 'Econometrics', regex=True, inplace=True)\n",
    "df['program'].replace(pattern5, 'Business Analytics', regex=True, inplace=True)\n",
    "df['program'].replace(pattern6, 'PhD', regex=True, inplace=True)\n",
    "df['program'].replace(pattern7, 'Biomedical Sciences', regex=True, inplace=True)\n",
    "df['program'].replace(pattern8, 'Human Language Technology', regex=True, inplace=True)\n",
    "df['program'].replace(pattern9, 'Computational Science', regex=True, inplace=True)\n",
    "df['program'].replace(pattern10, 'Information Sciences', regex=True, inplace=True)\n",
    "df['program'].replace(pattern11, 'Human Language Technology', regex=True, inplace=True)\n",
    "df['program'].replace(pattern12, 'Finance and Technology', regex=True, inplace=True)\n",
    "df['program'].replace(pattern13, 'Finance', regex=True, inplace=True)\n",
    "df['program'].replace(pattern14, 'Digital Business and Innovation', regex=True, inplace=True)\n",
    "df['program'].replace(pattern15, 'Quantitative Risk Management', regex=True, inplace=True)\n",
    "df['program'].replace(pattern17, 'Exchange', regex=True, inplace=True)"
   ]
  },
  {
   "cell_type": "code",
   "execution_count": 9,
   "metadata": {
    "colab": {
     "base_uri": "https://localhost:8080/"
    },
    "id": "BChdRrTANgDS",
    "outputId": "2c0eaf42-660b-496c-b1c1-8c39dc8899eb"
   },
   "outputs": [
    {
     "data": {
      "text/plain": [
       "28"
      ]
     },
     "execution_count": 9,
     "metadata": {},
     "output_type": "execute_result"
    }
   ],
   "source": [
    "# Plot unique values for programs \n",
    "len(df['program'].unique())"
   ]
  },
  {
   "cell_type": "code",
   "execution_count": 10,
   "metadata": {},
   "outputs": [],
   "source": [
    "# List of unwanted values\n",
    "unwanted_values = ['aryamaan710@gmail.com', '116', 'CLS', 'Exchange', 'Hyperbolic Time Chamber', 'High school 3rd grade', 'Data thingy']\n",
    "\n",
    "# Replace unwanted values with NaN\n",
    "df['program'] = df['program'].replace(unwanted_values, np.nan)"
   ]
  },
  {
   "cell_type": "code",
   "execution_count": 11,
   "metadata": {},
   "outputs": [],
   "source": [
    "#Get the three most frequent values in the column\n",
    "top_three_values = df['program'].value_counts().head(3).index.tolist()\n",
    "\n",
    "# Replace NaN values with random choice among the top three values\n",
    "df['program'] = df['program'].fillna(pd.Series(np.random.choice(top_three_values, size=len(df['program'].index))))"
   ]
  },
  {
   "cell_type": "code",
   "execution_count": 12,
   "metadata": {
    "colab": {
     "base_uri": "https://localhost:8080/"
    },
    "id": "wFbJu8aSJ5S1",
    "outputId": "29e1b9d3-2e6c-4024-8379-900969bbfc2f",
    "scrolled": true
   },
   "outputs": [
    {
     "data": {
      "text/plain": [
       "array(['Artificial Intelligence', 'Data mining',\n",
       "       'Quantitative Risk Management', 'Business Analytics',\n",
       "       'Computational Science', 'Computer Science',\n",
       "       'Bioinformatics and Systems Biology', 'Neuroscience', 'Finance',\n",
       "       'Econometrics', 'Human Language Technology',\n",
       "       'Econometrics and Operations Research', 'Masters',\n",
       "       'Information Sciences', 'Biomedical Sciences',\n",
       "       'Management, Policy Analysis and Entrepreneurship in Health and Life Sciences',\n",
       "       'Econometrics and Operations Research ',\n",
       "       'Digital Business and Innovation', 'PhD',\n",
       "       'Stochastics and financial mathematics', 'Big data engineering '],\n",
       "      dtype=object)"
      ]
     },
     "execution_count": 12,
     "metadata": {},
     "output_type": "execute_result"
    }
   ],
   "source": [
    "# Plot unique values for programs \n",
    "df['program'].unique()"
   ]
  },
  {
   "cell_type": "code",
   "execution_count": 13,
   "metadata": {},
   "outputs": [
    {
     "data": {
      "text/plain": [
       "Artificial Intelligence                                                         94\n",
       "Bioinformatics and Systems Biology                                              50\n",
       "Business Analytics                                                              43\n",
       "Computer Science                                                                36\n",
       "Econometrics                                                                    25\n",
       "Computational Science                                                           20\n",
       "Finance                                                                         14\n",
       "Quantitative Risk Management                                                     5\n",
       "Econometrics and Operations Research                                             3\n",
       "Human Language Technology                                                        3\n",
       "PhD                                                                              2\n",
       "Data mining                                                                      1\n",
       "Neuroscience                                                                     1\n",
       "Masters                                                                          1\n",
       "Information Sciences                                                             1\n",
       "Biomedical Sciences                                                              1\n",
       "Management, Policy Analysis and Entrepreneurship in Health and Life Sciences     1\n",
       "Econometrics and Operations Research                                             1\n",
       "Digital Business and Innovation                                                  1\n",
       "Stochastics and financial mathematics                                            1\n",
       "Big data engineering                                                             1\n",
       "Name: program, dtype: int64"
      ]
     },
     "execution_count": 13,
     "metadata": {},
     "output_type": "execute_result"
    }
   ],
   "source": [
    "df['program'].value_counts()"
   ]
  },
  {
   "cell_type": "markdown",
   "metadata": {
    "id": "omyl_72-JbS0"
   },
   "source": [
    "# TASK 1B: DATA CLEANING\n"
   ]
  },
  {
   "cell_type": "markdown",
   "metadata": {},
   "source": [
    "- dropping rows with course count < 5 for simplifying analysis in future"
   ]
  },
  {
   "cell_type": "code",
   "execution_count": 14,
   "metadata": {},
   "outputs": [
    {
     "data": {
      "text/plain": [
       "Artificial Intelligence               94\n",
       "Bioinformatics and Systems Biology    50\n",
       "Business Analytics                    43\n",
       "Computer Science                      36\n",
       "Econometrics                          25\n",
       "Computational Science                 20\n",
       "Finance                               14\n",
       "Name: program, dtype: int64"
      ]
     },
     "execution_count": 14,
     "metadata": {},
     "output_type": "execute_result"
    }
   ],
   "source": [
    "# Set the minimum group size\n",
    "min_group_size = 6\n",
    "group_sizes = df.groupby('program')['program'].transform('size')\n",
    "\n",
    "# Use boolean indexing to select rows where the group size is at least the minimum\n",
    "df = df[group_sizes >= min_group_size]\n",
    "\n",
    "df['program'].value_counts()\n"
   ]
  },
  {
   "cell_type": "markdown",
   "metadata": {
    "id": "xFbycL60w7V5"
   },
   "source": [
    "Clean the student gamble column"
   ]
  },
  {
   "cell_type": "code",
   "execution_count": 15,
   "metadata": {},
   "outputs": [],
   "source": [
    "df['students_in_the_room_gamble'] = pd.to_numeric(df['students_in_the_room_gamble'], errors='coerce')\n",
    "# df['students_in_the_room_gamble'] = df['students_in_the_room_gamble'].astype('Int64')\n"
   ]
  },
  {
   "cell_type": "code",
   "execution_count": 16,
   "metadata": {
    "id": "qDF7hcrAvhnH"
   },
   "outputs": [
    {
     "name": "stderr",
     "output_type": "stream",
     "text": [
      "<ipython-input-16-97c73970e26e>:9: SettingWithCopyWarning: \n",
      "A value is trying to be set on a copy of a slice from a DataFrame\n",
      "\n",
      "See the caveats in the documentation: https://pandas.pydata.org/pandas-docs/stable/user_guide/indexing.html#returning-a-view-versus-a-copy\n",
      "  df['students_in_the_room_gamble'][z_scores > threshold] = np.mean(df['students_in_the_room_gamble'])\n"
     ]
    }
   ],
   "source": [
    "# Clean the student gamble outliers, and replace with the mean\n",
    "# calculate the z-scores for the 'students_in_the_room_gamble' column\n",
    "z_scores = np.abs((df['students_in_the_room_gamble'] - np.nanmean(df['students_in_the_room_gamble'])) / np.nanstd(df['students_in_the_room_gamble']))\n",
    "\n",
    "# define a threshold for identifying outliers (z-score > 3 for example)\n",
    "threshold = 3\n",
    "\n",
    "# identify the outliers and replace with the mean value\n",
    "df['students_in_the_room_gamble'][z_scores > threshold] = np.mean(df['students_in_the_room_gamble'])"
   ]
  },
  {
   "cell_type": "code",
   "execution_count": 17,
   "metadata": {
    "id": "GYe80xXmwio9"
   },
   "outputs": [],
   "source": [
    "# calculate the mean value of the 'students_in_the_room_gamble' column\n",
    "mean_value = np.mean(df['students_in_the_room_gamble'])\n",
    "\n",
    "# replace NaN values with the mean value\n",
    "df['students_in_the_room_gamble'] = df['students_in_the_room_gamble'].fillna(mean_value)"
   ]
  },
  {
   "cell_type": "code",
   "execution_count": 18,
   "metadata": {
    "colab": {
     "base_uri": "https://localhost:8080/",
     "height": 471
    },
    "id": "kFhu-Nl7xHI0",
    "outputId": "a0348e4f-7b89-4002-80d3-748961d28729"
   },
   "outputs": [
    {
     "data": {
      "image/png": "[encoded data removed]",
      "text/plain": [
       "<Figure size 432x288 with 1 Axes>"
      ]
     },
     "metadata": {
      "needs_background": "light"
     },
     "output_type": "display_data"
    }
   ],
   "source": [
    "# plot the 'students_in_the_room_gamble' column\n",
    "plt.hist(df['students_in_the_room_gamble'], bins=20)\n",
    "plt.title('Distribution of Students in the Room Gamble')\n",
    "plt.xlabel('Number of Students')\n",
    "plt.ylabel('Frequency')\n",
    "plt.show()"
   ]
  },
  {
   "cell_type": "markdown",
   "metadata": {
    "id": "ap0Ce0ELxtG9"
   },
   "source": [
    "Clean the stress level column"
   ]
  },
  {
   "cell_type": "code",
   "execution_count": 19,
   "metadata": {},
   "outputs": [],
   "source": [
    "df['stresslevel'] = pd.to_numeric(df['stresslevel'], errors='coerce')\n"
   ]
  },
  {
   "cell_type": "code",
   "execution_count": 20,
   "metadata": {
    "colab": {
     "base_uri": "https://localhost:8080/"
    },
    "id": "Cn96fKNKyA_k",
    "outputId": "c248bf1b-4744-4b90-ebb2-a92a4a1ed7e4"
   },
   "outputs": [
    {
     "name": "stderr",
     "output_type": "stream",
     "text": [
      "<ipython-input-20-7bf2f5051753>:9: SettingWithCopyWarning: \n",
      "A value is trying to be set on a copy of a slice from a DataFrame\n",
      "\n",
      "See the caveats in the documentation: https://pandas.pydata.org/pandas-docs/stable/user_guide/indexing.html#returning-a-view-versus-a-copy\n",
      "  df['stresslevel'][z_scores > threshold] = np.mean(df['stresslevel'])\n"
     ]
    }
   ],
   "source": [
    "# Clean the student gamble outliers, and replace with the mean\n",
    "# calculate the z-scores for the 'students_in_the_room_gamble' column\n",
    "z_scores = np.abs((df['stresslevel'] - np.mean(df['stresslevel'])) / np.std(df['stresslevel']))\n",
    "\n",
    "# define a threshold for identifying outliers (z-score > 3 for example)\n",
    "threshold = 3\n",
    "\n",
    "# identify the outliers and replace with the mean value\n",
    "df['stresslevel'][z_scores > threshold] = np.mean(df['stresslevel'])"
   ]
  },
  {
   "cell_type": "code",
   "execution_count": 21,
   "metadata": {
    "id": "q5a5Kr5GyXPu"
   },
   "outputs": [],
   "source": [
    "# set a range of 0 to 100 for the stresslevel, and replace outliers with the median (mean was outside of max and min due to outliers)\n",
    "min_value = 0\n",
    "max_value = 100\n",
    "\n",
    "median_value = np.median(df['stresslevel'])\n",
    "\n",
    "replace_value = min_value if median_value < min_value else max_value if median_value > max_value else median_value\n",
    "df['stresslevel'] = np.where((df['stresslevel'] < min_value) | (df['stresslevel'] > max_value), replace_value, df['stresslevel'])"
   ]
  },
  {
   "cell_type": "code",
   "execution_count": 22,
   "metadata": {
    "id": "VSkrZq43zJYq"
   },
   "outputs": [],
   "source": [
    "# replace NaN values with a random value between 0 and 100\n",
    "df['stresslevel'] = df['stresslevel'].apply(lambda x: np.random.randint(0, 101) if pd.isna(x) else x)"
   ]
  },
  {
   "cell_type": "code",
   "execution_count": 23,
   "metadata": {
    "colab": {
     "base_uri": "https://localhost:8080/",
     "height": 471
    },
    "id": "Pb5chP3orcvP",
    "outputId": "44111952-5d41-461c-8290-4f874dab68b5"
   },
   "outputs": [
    {
     "data": {
      "image/png": "[encoded data removed]",
      "text/plain": [
       "<Figure size 432x288 with 1 Axes>"
      ]
     },
     "metadata": {
      "needs_background": "light"
     },
     "output_type": "display_data"
    }
   ],
   "source": [
    "plt.hist(df['stresslevel'], bins=20)\n",
    "plt.title('Stresslevel')\n",
    "plt.xlabel('Stresslevel')\n",
    "plt.ylabel('Frequency')\n",
    "plt.show()"
   ]
  },
  {
   "cell_type": "markdown",
   "metadata": {
    "id": "7K7lIT7SzzeW"
   },
   "source": [
    "Clean the amount of hours per week of sports column"
   ]
  },
  {
   "cell_type": "code",
   "execution_count": 24,
   "metadata": {},
   "outputs": [],
   "source": [
    "df['hours_of_sports_week'] = pd.to_numeric(df['hours_of_sports_week'], errors='coerce')\n"
   ]
  },
  {
   "cell_type": "code",
   "execution_count": 25,
   "metadata": {
    "colab": {
     "base_uri": "https://localhost:8080/"
    },
    "id": "9C0ncc6Y0ZW3",
    "outputId": "dd678385-6fa1-423a-bcb0-e16cbe0f9e62"
   },
   "outputs": [
    {
     "name": "stderr",
     "output_type": "stream",
     "text": [
      "<ipython-input-25-71beb3ff3687>:9: SettingWithCopyWarning: \n",
      "A value is trying to be set on a copy of a slice from a DataFrame\n",
      "\n",
      "See the caveats in the documentation: https://pandas.pydata.org/pandas-docs/stable/user_guide/indexing.html#returning-a-view-versus-a-copy\n",
      "  df['hours_of_sports_week'][z_scores > threshold] = np.mean(df['hours_of_sports_week'])\n"
     ]
    }
   ],
   "source": [
    "# Clean the student gamble outliers, and replace with the mean\n",
    "# calculate the z-scores for the 'students_in_the_room_gamble' column\n",
    "z_scores = np.abs((df['hours_of_sports_week'] - np.mean(df['hours_of_sports_week'])) / np.std(df['hours_of_sports_week']))\n",
    "\n",
    "# define a threshold for identifying outliers (z-score > 3 for example)\n",
    "threshold = 3\n",
    "\n",
    "# identify the outliers and replace with the mean value\n",
    "df['hours_of_sports_week'][z_scores > threshold] = np.mean(df['hours_of_sports_week'])"
   ]
  },
  {
   "cell_type": "code",
   "execution_count": 26,
   "metadata": {
    "id": "UNjNXFUy0fOX"
   },
   "outputs": [],
   "source": [
    "# calculate the mean value of the 'students_in_the_room_gamble' column\n",
    "mean_value = np.mean(df['hours_of_sports_week'])\n",
    "\n",
    "# replace NaN values with the mean value\n",
    "df['hours_of_sports_week'] = df['hours_of_sports_week'].fillna(mean_value)"
   ]
  },
  {
   "cell_type": "code",
   "execution_count": 27,
   "metadata": {
    "colab": {
     "base_uri": "https://localhost:8080/",
     "height": 471
    },
    "id": "uKzOtueb05Dd",
    "outputId": "c8739a41-c989-449c-c0f0-afcaae9f8a0e",
    "scrolled": false
   },
   "outputs": [
    {
     "data": {
      "image/png": "[encoded data removed]",
      "text/plain": [
       "<Figure size 432x288 with 1 Axes>"
      ]
     },
     "metadata": {
      "needs_background": "light"
     },
     "output_type": "display_data"
    }
   ],
   "source": [
    "# plot the 'students_in_the_room_gamble' column\n",
    "plt.hist(df['hours_of_sports_week'], bins=20)\n",
    "plt.title('Hours of sports of students')\n",
    "plt.xlabel('Hours of sports')\n",
    "plt.ylabel('Frequency')\n",
    "plt.show()"
   ]
  },
  {
   "cell_type": "markdown",
   "metadata": {},
   "source": [
    "Cleaning the time to bed column"
   ]
  },
  {
   "cell_type": "code",
   "execution_count": 28,
   "metadata": {},
   "outputs": [],
   "source": [
    "# print(np.asarray(df['time_to_bed']))"
   ]
  },
  {
   "cell_type": "code",
   "execution_count": 29,
   "metadata": {
    "id": "qpUHOqMN4xnE"
   },
   "outputs": [],
   "source": [
    "try:\n",
    "  df['time_to_bed'] = pd.to_datetime(df['time_to_bed'], format='%H:%M').dt.time\n",
    "except:\n",
    "  pass"
   ]
  },
  {
   "cell_type": "code",
   "execution_count": 30,
   "metadata": {
    "id": "1uOGVg2B5CvG"
   },
   "outputs": [],
   "source": [
    "time_pattern = r\"^(0?[0-9]|1[0-9]|2[0-3]):[0-5][0-9]$\"\n",
    "\n",
    "valid_times = [time for time in df['time_to_bed'] if re.match(time_pattern, time)]\n",
    "mean_time = pd.Series(valid_times).apply(lambda x: pd.to_datetime(x, format='%H:%M')).mean().strftime('%H:%M')\n",
    "\n",
    "# Replace each value that does not match the pattern with the mean time value\n",
    "df['time_to_bed'] = df['time_to_bed'].apply(lambda x: mean_time if not re.match(time_pattern, x) else x)\n"
   ]
  },
  {
   "cell_type": "code",
   "execution_count": 31,
   "metadata": {
    "colab": {
     "base_uri": "https://localhost:8080/",
     "height": 467
    },
    "id": "2mgg_g7VVdcW",
    "outputId": "7fc08795-41b5-4b07-f313-2c7fad4d23f0",
    "scrolled": true
   },
   "outputs": [
    {
     "data": {
      "text/plain": [
       "<AxesSubplot:xlabel='hour_of_time_to_bed', ylabel='count'>"
      ]
     },
     "execution_count": 31,
     "metadata": {},
     "output_type": "execute_result"
    },
    {
     "data": {
      "image/png": "[encoded data removed]",
      "text/plain": [
       "<Figure size 432x288 with 1 Axes>"
      ]
     },
     "metadata": {
      "needs_background": "light"
     },
     "output_type": "display_data"
    }
   ],
   "source": [
    "df['hour_of_time_to_bed'] = df['time_to_bed'].apply(lambda x: int(x.split(\":\")[0]))\n",
    "hour_order = [0, 1, 2, 3, 4, 5, 6, 7, 8, 9, 10, 11, 12, 13, 14, 15, 16, 17, 18, 19, 20, 21, 22, 23]\n",
    "sns.countplot(data=df, x='hour_of_time_to_bed', order=hour_order,palette='magma')"
   ]
  },
  {
   "cell_type": "markdown",
   "metadata": {},
   "source": [
    "Cleaning the date of birth column, extracting the year of birth to a new column"
   ]
  },
  {
   "cell_type": "code",
   "execution_count": 32,
   "metadata": {},
   "outputs": [
    {
     "data": {
      "text/plain": [
       "array(['1997', '1995', nan, '2000', '1999', '1996', '0000', '1998',\n",
       "       '2002', '2001', '3311', '1900', '1994', '1985', '1992', '1987',\n",
       "       '1990', '1220', '1993', '1405', '2017', '0001', '1981'],\n",
       "      dtype=object)"
      ]
     },
     "execution_count": 32,
     "metadata": {},
     "output_type": "execute_result"
    }
   ],
   "source": [
    "df['year_of_birth'] = df['birthdate'].str.extract(r'(\\d{4})')\n",
    "df['year_of_birth'].unique()"
   ]
  },
  {
   "cell_type": "markdown",
   "metadata": {},
   "source": [
    "Clean the good_day_1 and good_day_2 column of punctuation marks for further analysis "
   ]
  },
  {
   "cell_type": "code",
   "execution_count": 33,
   "metadata": {},
   "outputs": [],
   "source": [
    "def _remove_punctuation(x):\n",
    "    # Remove punctuation marks (excluding whitespace) using regular expressions\n",
    "    clean_text = re.sub(rf\"[{string.punctuation}]\",\"\", str(x))\n",
    "    return clean_text\n",
    "\n",
    "df['good_day_1'] = df['good_day_1'].apply(_remove_punctuation)\n",
    "df['good_day_2'] = df['good_day_2'].apply(_remove_punctuation)"
   ]
  },
  {
   "cell_type": "markdown",
   "metadata": {},
   "source": [
    "# TASK 1C: FEATURE ENGINEERING"
   ]
  },
  {
   "cell_type": "markdown",
   "metadata": {},
   "source": [
    "Creating age column"
   ]
  },
  {
   "cell_type": "code",
   "execution_count": 34,
   "metadata": {},
   "outputs": [],
   "source": [
    "def _extract_age(x):\n",
    "    try:\n",
    "        return 2023 - int(x)\n",
    "    except:\n",
    "        return 0\n",
    "\n",
    "df['age'] = df['year_of_birth'].apply(_extract_age)\n"
   ]
  },
  {
   "cell_type": "code",
   "execution_count": 35,
   "metadata": {
    "scrolled": false
   },
   "outputs": [
    {
     "data": {
      "text/html": [
       "<div>\n",
       "<style scoped>\n",
       "    .dataframe tbody tr th:only-of-type {\n",
       "        vertical-align: middle;\n",
       "    }\n",
       "\n",
       "    .dataframe tbody tr th {\n",
       "        vertical-align: top;\n",
       "    }\n",
       "\n",
       "    .dataframe thead th {\n",
       "        text-align: right;\n",
       "    }\n",
       "</style>\n",
       "<table border=\"1\" class=\"dataframe\">\n",
       "  <thead>\n",
       "    <tr style=\"text-align: right;\">\n",
       "      <th></th>\n",
       "      <th>send_date</th>\n",
       "      <th>program</th>\n",
       "      <th>taken_machine_learning_course</th>\n",
       "      <th>taken_information_retrieval_course</th>\n",
       "      <th>taken_statistics_course</th>\n",
       "      <th>taken_database_course</th>\n",
       "      <th>gender</th>\n",
       "      <th>have_used_chatgpt</th>\n",
       "      <th>birthdate</th>\n",
       "      <th>students_in_the_room_gamble</th>\n",
       "      <th>stood_up</th>\n",
       "      <th>stresslevel</th>\n",
       "      <th>hours_of_sports_week</th>\n",
       "      <th>random_number</th>\n",
       "      <th>time_to_bed</th>\n",
       "      <th>good_day_1</th>\n",
       "      <th>good_day_2</th>\n",
       "      <th>hour_of_time_to_bed</th>\n",
       "      <th>year_of_birth</th>\n",
       "      <th>age</th>\n",
       "    </tr>\n",
       "  </thead>\n",
       "  <tbody>\n",
       "    <tr>\n",
       "      <th>0</th>\n",
       "      <td>4-4-2023 12:08:33</td>\n",
       "      <td>Artificial Intelligence</td>\n",
       "      <td>yes</td>\n",
       "      <td>0</td>\n",
       "      <td>mu</td>\n",
       "      <td>nee</td>\n",
       "      <td>gender fluid</td>\n",
       "      <td>yes</td>\n",
       "      <td>23/11/1997</td>\n",
       "      <td>319.0</td>\n",
       "      <td>unknown</td>\n",
       "      <td>100.0</td>\n",
       "      <td>0.0</td>\n",
       "      <td>69</td>\n",
       "      <td>11:30</td>\n",
       "      <td>Ashes</td>\n",
       "      <td>Not ashes</td>\n",
       "      <td>11</td>\n",
       "      <td>1997</td>\n",
       "      <td>26</td>\n",
       "    </tr>\n",
       "    <tr>\n",
       "      <th>1</th>\n",
       "      <td>4-4-2023 12:08:36</td>\n",
       "      <td>Artificial Intelligence</td>\n",
       "      <td>no</td>\n",
       "      <td>0</td>\n",
       "      <td>sigma</td>\n",
       "      <td>nee</td>\n",
       "      <td>male</td>\n",
       "      <td>not willing to say</td>\n",
       "      <td>5th August, 1995</td>\n",
       "      <td>600.0</td>\n",
       "      <td>no</td>\n",
       "      <td>60.0</td>\n",
       "      <td>2.0</td>\n",
       "      <td>42</td>\n",
       "      <td>23:00</td>\n",
       "      <td>good food</td>\n",
       "      <td>good sleep</td>\n",
       "      <td>23</td>\n",
       "      <td>1995</td>\n",
       "      <td>28</td>\n",
       "    </tr>\n",
       "    <tr>\n",
       "      <th>2</th>\n",
       "      <td>4-4-2023 12:08:38</td>\n",
       "      <td>Artificial Intelligence</td>\n",
       "      <td>no</td>\n",
       "      <td>0</td>\n",
       "      <td>mu</td>\n",
       "      <td>nee</td>\n",
       "      <td>female</td>\n",
       "      <td>no</td>\n",
       "      <td>21/09</td>\n",
       "      <td>220.0</td>\n",
       "      <td>no</td>\n",
       "      <td>20.0</td>\n",
       "      <td>5.0</td>\n",
       "      <td>17</td>\n",
       "      <td>23:30</td>\n",
       "      <td>Sports</td>\n",
       "      <td>Friends</td>\n",
       "      <td>23</td>\n",
       "      <td>NaN</td>\n",
       "      <td>0</td>\n",
       "    </tr>\n",
       "    <tr>\n",
       "      <th>5</th>\n",
       "      <td>4-4-2023 12:08:59</td>\n",
       "      <td>Business Analytics</td>\n",
       "      <td>yes</td>\n",
       "      <td>0</td>\n",
       "      <td>mu</td>\n",
       "      <td>ja</td>\n",
       "      <td>female</td>\n",
       "      <td>yes</td>\n",
       "      <td>13-03-2000</td>\n",
       "      <td>500.0</td>\n",
       "      <td>no</td>\n",
       "      <td>80.0</td>\n",
       "      <td>5.0</td>\n",
       "      <td>13</td>\n",
       "      <td>00:00</td>\n",
       "      <td>Coffee</td>\n",
       "      <td>Sunny weather</td>\n",
       "      <td>0</td>\n",
       "      <td>2000</td>\n",
       "      <td>23</td>\n",
       "    </tr>\n",
       "    <tr>\n",
       "      <th>6</th>\n",
       "      <td>4-4-2023 12:09:02</td>\n",
       "      <td>Artificial Intelligence</td>\n",
       "      <td>yes</td>\n",
       "      <td>0</td>\n",
       "      <td>mu</td>\n",
       "      <td>ja</td>\n",
       "      <td>male</td>\n",
       "      <td>yes</td>\n",
       "      <td>1999-07-21</td>\n",
       "      <td>150.0</td>\n",
       "      <td>no</td>\n",
       "      <td>100.0</td>\n",
       "      <td>7.0</td>\n",
       "      <td>27</td>\n",
       "      <td>23:00</td>\n",
       "      <td>Good code</td>\n",
       "      <td>Good code</td>\n",
       "      <td>23</td>\n",
       "      <td>1999</td>\n",
       "      <td>24</td>\n",
       "    </tr>\n",
       "  </tbody>\n",
       "</table>\n",
       "</div>"
      ],
      "text/plain": [
       "           send_date                  program taken_machine_learning_course  \\\n",
       "0  4-4-2023 12:08:33  Artificial Intelligence                           yes   \n",
       "1  4-4-2023 12:08:36  Artificial Intelligence                            no   \n",
       "2  4-4-2023 12:08:38  Artificial Intelligence                            no   \n",
       "5  4-4-2023 12:08:59       Business Analytics                           yes   \n",
       "6  4-4-2023 12:09:02  Artificial Intelligence                           yes   \n",
       "\n",
       "  taken_information_retrieval_course taken_statistics_course  \\\n",
       "0                                  0                      mu   \n",
       "1                                  0                   sigma   \n",
       "2                                  0                      mu   \n",
       "5                                  0                      mu   \n",
       "6                                  0                      mu   \n",
       "\n",
       "  taken_database_course        gender   have_used_chatgpt         birthdate  \\\n",
       "0                   nee  gender fluid                 yes        23/11/1997   \n",
       "1                   nee          male  not willing to say  5th August, 1995   \n",
       "2                   nee        female                  no             21/09   \n",
       "5                    ja        female                 yes        13-03-2000   \n",
       "6                    ja          male                 yes        1999-07-21   \n",
       "\n",
       "   students_in_the_room_gamble stood_up  stresslevel  hours_of_sports_week  \\\n",
       "0                        319.0  unknown        100.0                   0.0   \n",
       "1                        600.0       no         60.0                   2.0   \n",
       "2                        220.0       no         20.0                   5.0   \n",
       "5                        500.0       no         80.0                   5.0   \n",
       "6                        150.0       no        100.0                   7.0   \n",
       "\n",
       "  random_number time_to_bed good_day_1     good_day_2  hour_of_time_to_bed  \\\n",
       "0            69       11:30      Ashes      Not ashes                   11   \n",
       "1            42       23:00  good food     good sleep                   23   \n",
       "2            17       23:30     Sports        Friends                   23   \n",
       "5            13       00:00     Coffee  Sunny weather                    0   \n",
       "6            27       23:00  Good code      Good code                   23   \n",
       "\n",
       "  year_of_birth  age  \n",
       "0          1997   26  \n",
       "1          1995   28  \n",
       "2           NaN    0  \n",
       "5          2000   23  \n",
       "6          1999   24  "
      ]
     },
     "execution_count": 35,
     "metadata": {},
     "output_type": "execute_result"
    }
   ],
   "source": [
    "df.head()"
   ]
  },
  {
   "cell_type": "code",
   "execution_count": 36,
   "metadata": {},
   "outputs": [],
   "source": [
    "# convert the 'year_of_birth' column to numerical format\n",
    "df['year_of_birth'] = pd.to_numeric(df['year_of_birth'], errors='coerce')"
   ]
  },
  {
   "cell_type": "code",
   "execution_count": 37,
   "metadata": {},
   "outputs": [
    {
     "name": "stderr",
     "output_type": "stream",
     "text": [
      "<ipython-input-37-71e06739244d>:9: SettingWithCopyWarning: \n",
      "A value is trying to be set on a copy of a slice from a DataFrame\n",
      "\n",
      "See the caveats in the documentation: https://pandas.pydata.org/pandas-docs/stable/user_guide/indexing.html#returning-a-view-versus-a-copy\n",
      "  df['year_of_birth'][z_scores > threshold] = np.median(df['year_of_birth'])\n"
     ]
    }
   ],
   "source": [
    "# Clean the student gamble outliers, and replace with the mean\n",
    "# calculate the z-scores for the 'students_in_the_room_gamble' column\n",
    "z_scores = np.abs((df['year_of_birth'] - np.mean(df['year_of_birth'])) / np.std(df['year_of_birth']))\n",
    "\n",
    "# define a threshold for identifying outliers (z-score > 3 for example)\n",
    "threshold = 3\n",
    "\n",
    "# identify the outliers and replace with the mean value\n",
    "df['year_of_birth'][z_scores > threshold] = np.median(df['year_of_birth'])"
   ]
  },
  {
   "cell_type": "code",
   "execution_count": 38,
   "metadata": {},
   "outputs": [],
   "source": [
    "# fill missing values with the mean value of the column\n",
    "median_birth_year = int(df['year_of_birth'].median())\n",
    "# Choose median, because mean was "
   ]
  },
  {
   "cell_type": "code",
   "execution_count": 39,
   "metadata": {
    "scrolled": true
   },
   "outputs": [],
   "source": [
    "df['year_of_birth'] = df['year_of_birth'].fillna(median_birth_year)"
   ]
  },
  {
   "cell_type": "markdown",
   "metadata": {},
   "source": [
    "Analysing the good_day_1 and 2 column , to examine the possible general category "
   ]
  },
  {
   "cell_type": "code",
   "execution_count": 40,
   "metadata": {
    "scrolled": true
   },
   "outputs": [
    {
     "data": {
      "text/plain": [
       "array(['Ashes', 'good food', 'Sports', 'Coffee', 'Good code',\n",
       "       'When the sun shines', 'Expierence ', 'You', 'delicious food',\n",
       "       'Netflix and', 'Something surprising emerging', 'Coffee ', 'Sun',\n",
       "       'Sunny weather', 'Thursday ', 'Sunshine', 'Getting things done',\n",
       "       'No task', 'eat well', 'The sun', 'Good food', 'Eating chocolate',\n",
       "       'Being productive ', 'food ', 'Good night rest', 'Family ',\n",
       "       'blue skies', 'Good weather', 'sunny days', 'Slept well',\n",
       "       'Friends', 'A sunny day ', 'Sunny', 'Feeling productive',\n",
       "       'No obligations', 'good morning routine', 'Family',\n",
       "       'Good weather ', 'food', 'bread', 'Sticking to my timetable ',\n",
       "       'The sun ', 'Working out', 'Nice weather', 'Good results',\n",
       "       'coffee', 'No class', 'Good breakfast',\n",
       "       'A day where I went to the gym', 'Food', 'Vacation', 'Good meal',\n",
       "       'Music', 'Good food ', 'No lecture', 'Holiday ',\n",
       "       'Having some free time for once', 'work done', 'well fed',\n",
       "       'Lekker eten', 'Good sleep', 'Friends and food', 'A nice phish',\n",
       "       'Morning sex', 'warm and sunny', 'Doing yoga', 'Beer',\n",
       "       'being productive', 'Well rested ', 'Data', 'Money',\n",
       "       'The sun shining ', 'nice weather', 'Oatmeal',\n",
       "       'Having a good meal', 'Preheating a sausage roll ',\n",
       "       'Nice breakfast', 'sun and free time', 'Nice weather ',\n",
       "       'Socializing', 'sleeping out', 'Fun', 'Being active',\n",
       "       'Having a good chat with friends ', 'Time to read', 'Clear Skies',\n",
       "       'sunshine', 'Arts  Crafts', 'video game', 'Little stress',\n",
       "       'Did sports ', 'Progress', 'Sport', 'Sleeping in', 'enough sleep',\n",
       "       'Lekker eten en slapen', 'Mood', 'The sun shining',\n",
       "       'fixed bugs in the code', 'Training', 'Prayer', 'Good sleep ',\n",
       "       'Fun activities for workschool',\n",
       "       'Start with a training on the water rowing', 'air', 'Exercise ',\n",
       "       'Doing everything from my ToDo list', 'Relaxing', 'Sleep',\n",
       "       'nothing happens', 'Sunny day', 'sun',\n",
       "       'Getting all my things done ', 'music', 'Being productive',\n",
       "       'Doing an activity or sports', 'a nice weather',\n",
       "       'waking up early and working out', 'Good grade',\n",
       "       'Idk never had any', 'Sleepin', 'Sleeping well', 'Avocado Toast',\n",
       "       'Wake up feeling rested', 'Cold dip in open water',\n",
       "       'Free time to do whatever I want', 'Time off', 'Fun activities',\n",
       "       'Getting paid', 'weather', 'When people gimme foody', 'Sex',\n",
       "       'Going to the gym', 'Weather', 'Sun shining',\n",
       "       'Spending time with someone I love', 'Feeling energetic',\n",
       "       'good weather', 'Eating yummy food ', 'Got a lot done', 'Sunlight',\n",
       "       'warm weather', 'Having a good day of work', 'No stress',\n",
       "       'good sleep', 'Free schedule', 'NO DDL', 'nice weather ', '☕',\n",
       "       'No lectures ', 'no deadlines', 'The weather ', 'Seeing friends',\n",
       "       'Finishing an exam', 'Sun ', 'Happyness', 'Seeing my friends ',\n",
       "       'Nice food ', 'wake up', 'gym', 'Playing sports', 'Pancakes ',\n",
       "       'A sunny day', 'Arsenal wins', 'Sleeping', 'Sun love and beer',\n",
       "       'Sunshine ', 'It being my birthday', 'Nice movie',\n",
       "       'Laughing a lot', 'Saturday', 'Sex in the morning',\n",
       "       'Hanging out with friends',\n",
       "       'Sun alcohol sex no study stress or job stress', 'Snacks',\n",
       "       'meeting a new person', 'When Frank Ocean drops a new album',\n",
       "       'start of weekend', 'Meeting friends',\n",
       "       'Pleasant atmosphere and weather around me', 'Winning the lottery',\n",
       "       'good weather ', 'puppies', 'Having drinks with friends',\n",
       "       'reading bible', 'Getting a win in warzone',\n",
       "       'No arguments with anyone',\n",
       "       'A bit of study  a bit of wine  a bit of sex  a bit of tv  sun but not too hot',\n",
       "       'Good grades', 'Gib vacation pls', 'Friday', 'Go outisde',\n",
       "       'Productive ', 'Nice people', 'never before seen trauma ', 'Work'],\n",
       "      dtype=object)"
      ]
     },
     "execution_count": 40,
     "metadata": {},
     "output_type": "execute_result"
    }
   ],
   "source": [
    "df['good_day_1'].unique()"
   ]
  },
  {
   "cell_type": "code",
   "execution_count": 41,
   "metadata": {},
   "outputs": [],
   "source": [
    "import nltk\n",
    "# run below only once to download the wordnet if not present on system\n",
    "# nltk.download('wordnet')\n",
    "from nltk.corpus import wordnet as wn\n",
    "from nltk.stem import WordNetLemmatizer\n"
   ]
  },
  {
   "cell_type": "code",
   "execution_count": 42,
   "metadata": {},
   "outputs": [],
   "source": [
    "# In this example, we use the WordNet ontology to find synsets (sets of synonyms) for each word in the group of words. \n",
    "# We then check each lemma (a specific word form) in each synset to see if it matches any of the related terms for each hobby category. \n",
    "# We keep a count of how many matches each category has, and choose the category with the most matches as the predicted category.\n",
    "\n",
    "# Preprocess the group of words to be classified\n",
    "# words_to_classify = \"I love making lasagna\"\n",
    "# preprocessed_words = [word.lower() for word in words_to_classify.split()]\n",
    "\n",
    "def _extract_category(x):\n",
    "    try:\n",
    "        # The keys in below dictionary is a generic categorical aspect of life to which the text entered by user in the good day column is mapped\n",
    "        # The values are list of words that are mapped to the category\n",
    "        generic_category = {\n",
    "            \"weather\": [\"warm\", \"weather\", \"sunny\", \"skies\", \"sun\", \"air\", \"sunset\"],\n",
    "            \"socializing\" : [\"friend\",\"sex\", \"family\", \"people\", \"love\", \"person\", \"socializing\", \"gossiping\", \"company\", \"relationship\", \"you\", \"alone\", \"cat\", \"dog\"],\n",
    "            \"food\" : [\"meal\", \"coffee\", \"tea\", \"food\", \"breakfast\", \"bread\", \"eat\", \"oatmeal\",\"snacks\", \"pizza\", \"lunch\", \"cake\", \"cook\", \"bake\", \"grill\"],\n",
    "            \"drinking\": [\"wine\", \"beer\",  \"drink\",\"alcohol\"],\n",
    "            \"vacation\": [\"holiday\", \"free time\", \"leisure\", \"vacation\", \"weekend\", \"friday\", \"saturday\", \"sunday\"],\n",
    "            \"relaxation\" : [\"sleep\", \"sleeping\", \"nap\", \"rest\", \"relax\", \"experience\", \"no\", \"stress\",\"fun\", \"mood\", \"nothing\", \"chill\", \"free\"],\n",
    "            \"entertainment\" : [\"tv\", \"netflix\", \"music\", \"cricket\", \"ashes\", \"video\", \"game\",\"movie\", \"reading\", \"read\", \"paint\", \"draw\", \"sketch\"], \n",
    "            \"productivity\" :[\"work\", \"done\",\"productive\", \"code\", \"morning\", \"routine\", \"timetable\", \"results\", \"winning\", \"progress\", \"grade\", \"money\", \"successful\", \"productivity\"],\n",
    "            \"physical_exercise\" : [\"yoga\", \"football\", \"gym\",\"sports\", \"active\", \"workout\", \"bike\", \"hike\", \"travel\"]\n",
    "        }\n",
    "\n",
    "        x = x.strip()\n",
    "        preprocessed_words = [word.lower() for word in x.split()]\n",
    "\n",
    "\n",
    "        # Map the preprocessed words to a category using the WordNet ontology\n",
    "        category_counts = {}\n",
    "        for word in preprocessed_words:\n",
    "            # get all the synonyms for the word from wordnet\n",
    "            synsets = wn.synsets(word)\n",
    "            for synset in synsets:\n",
    "                # for each lemma / root form of sysnonmy check if it exists in the list corresponding to each generic_category key\n",
    "                for lemma in synset.lemmas():\n",
    "                    for category, related_terms in generic_category.items():\n",
    "                        if lemma.name() in related_terms:\n",
    "                            category_counts[category] = category_counts.get(category, 0) + 1\n",
    "\n",
    "        # Choose the hobby category with the most matches\n",
    "        predicted_category = max(category_counts, key=category_counts.get)\n",
    "        return predicted_category\n",
    "    except:\n",
    "        return \"NA\""
   ]
  },
  {
   "cell_type": "code",
   "execution_count": 43,
   "metadata": {},
   "outputs": [],
   "source": [
    "df['good_things_1'] = df['good_day_1'].apply(_extract_category)\n",
    "df['good_things_2'] = df['good_day_2'].apply(_extract_category)"
   ]
  },
  {
   "cell_type": "code",
   "execution_count": 44,
   "metadata": {},
   "outputs": [
    {
     "data": {
      "text/html": [
       "<div>\n",
       "<style scoped>\n",
       "    .dataframe tbody tr th:only-of-type {\n",
       "        vertical-align: middle;\n",
       "    }\n",
       "\n",
       "    .dataframe tbody tr th {\n",
       "        vertical-align: top;\n",
       "    }\n",
       "\n",
       "    .dataframe thead th {\n",
       "        text-align: right;\n",
       "    }\n",
       "</style>\n",
       "<table border=\"1\" class=\"dataframe\">\n",
       "  <thead>\n",
       "    <tr style=\"text-align: right;\">\n",
       "      <th></th>\n",
       "      <th>stresslevel</th>\n",
       "      <th>good_things_1</th>\n",
       "      <th>good_things_2</th>\n",
       "    </tr>\n",
       "  </thead>\n",
       "  <tbody>\n",
       "    <tr>\n",
       "      <th>0</th>\n",
       "      <td>100.0</td>\n",
       "      <td>NA</td>\n",
       "      <td>NA</td>\n",
       "    </tr>\n",
       "    <tr>\n",
       "      <th>1</th>\n",
       "      <td>60.0</td>\n",
       "      <td>food</td>\n",
       "      <td>relaxation</td>\n",
       "    </tr>\n",
       "    <tr>\n",
       "      <th>2</th>\n",
       "      <td>20.0</td>\n",
       "      <td>relaxation</td>\n",
       "      <td>socializing</td>\n",
       "    </tr>\n",
       "    <tr>\n",
       "      <th>5</th>\n",
       "      <td>80.0</td>\n",
       "      <td>food</td>\n",
       "      <td>weather</td>\n",
       "    </tr>\n",
       "    <tr>\n",
       "      <th>6</th>\n",
       "      <td>100.0</td>\n",
       "      <td>productivity</td>\n",
       "      <td>productivity</td>\n",
       "    </tr>\n",
       "    <tr>\n",
       "      <th>...</th>\n",
       "      <td>...</td>\n",
       "      <td>...</td>\n",
       "      <td>...</td>\n",
       "    </tr>\n",
       "    <tr>\n",
       "      <th>300</th>\n",
       "      <td>70.0</td>\n",
       "      <td>productivity</td>\n",
       "      <td>productivity</td>\n",
       "    </tr>\n",
       "    <tr>\n",
       "      <th>301</th>\n",
       "      <td>10.0</td>\n",
       "      <td>socializing</td>\n",
       "      <td>NA</td>\n",
       "    </tr>\n",
       "    <tr>\n",
       "      <th>302</th>\n",
       "      <td>80.0</td>\n",
       "      <td>relaxation</td>\n",
       "      <td>NA</td>\n",
       "    </tr>\n",
       "    <tr>\n",
       "      <th>303</th>\n",
       "      <td>50.0</td>\n",
       "      <td>productivity</td>\n",
       "      <td>socializing</td>\n",
       "    </tr>\n",
       "    <tr>\n",
       "      <th>304</th>\n",
       "      <td>80.0</td>\n",
       "      <td>food</td>\n",
       "      <td>relaxation</td>\n",
       "    </tr>\n",
       "  </tbody>\n",
       "</table>\n",
       "<p>282 rows × 3 columns</p>\n",
       "</div>"
      ],
      "text/plain": [
       "     stresslevel good_things_1 good_things_2\n",
       "0          100.0            NA            NA\n",
       "1           60.0          food    relaxation\n",
       "2           20.0    relaxation   socializing\n",
       "5           80.0          food       weather\n",
       "6          100.0  productivity  productivity\n",
       "..           ...           ...           ...\n",
       "300         70.0  productivity  productivity\n",
       "301         10.0   socializing            NA\n",
       "302         80.0    relaxation            NA\n",
       "303         50.0  productivity   socializing\n",
       "304         80.0          food    relaxation\n",
       "\n",
       "[282 rows x 3 columns]"
      ]
     },
     "execution_count": 44,
     "metadata": {},
     "output_type": "execute_result"
    }
   ],
   "source": [
    "df[['stresslevel', 'good_things_1','good_things_2']]"
   ]
  },
  {
   "cell_type": "code",
   "execution_count": 45,
   "metadata": {},
   "outputs": [
    {
     "data": {
      "image/png": "[encoded data removed]",
      "text/plain": [
       "<Figure size 432x288 with 1 Axes>"
      ]
     },
     "metadata": {
      "needs_background": "light"
     },
     "output_type": "display_data"
    }
   ],
   "source": [
    "# Create a frequency plot\n",
    "sns.histplot(data = df['good_things_1'], kde=False)\n",
    "\n",
    "# Set plot title and axis labels\n",
    "plt.title('Distribution of good things 1')\n",
    "plt.xlabel('Value')\n",
    "plt.ylabel('Frequency')\n",
    "plt.xticks(rotation=60)\n",
    "plt.show()"
   ]
  },
  {
   "cell_type": "code",
   "execution_count": 46,
   "metadata": {},
   "outputs": [
    {
     "data": {
      "image/png": "[encoded data removed]",
      "text/plain": [
       "<Figure size 432x288 with 1 Axes>"
      ]
     },
     "metadata": {
      "needs_background": "light"
     },
     "output_type": "display_data"
    }
   ],
   "source": [
    "# Create a frequency plot\n",
    "sns.histplot(data = df['good_things_2'], kde=False)\n",
    "\n",
    "# Set plot title and axis labels\n",
    "plt.title('Distribution of good things 2')\n",
    "plt.xlabel('Value')\n",
    "plt.ylabel('Frequency')\n",
    "plt.xticks(rotation=60)\n",
    "plt.show()"
   ]
  },
  {
   "cell_type": "markdown",
   "metadata": {},
   "source": [
    "Replace NA values for the good_things columns"
   ]
  },
  {
   "cell_type": "code",
   "execution_count": 47,
   "metadata": {},
   "outputs": [],
   "source": [
    "'''Replace NA values for good_things_1'''\n",
    "df['good_things_1'] = df['good_things_1'].replace('NA', np.nan)\n",
    "\n",
    "# find the frequency of each category in the column\n",
    "freq_dict = df['good_things_1'].value_counts(normalize=True).to_dict()\n",
    "\n",
    "# remove NaN from the dictionary\n",
    "freq_dict = {k:v for k,v in freq_dict.items() if not pd.isna(k)}\n",
    "\n",
    "# find the top 3 categories\n",
    "top_categories = sorted(freq_dict, key=freq_dict.get, reverse=True)[:3]\n",
    "\n",
    "# randomly choose one of the top 3 categories for each NaN value\n",
    "df['good_things_1'] = df['good_things_1'].apply(lambda x: random.choice(top_categories) if pd.isna(x) else x)"
   ]
  },
  {
   "cell_type": "code",
   "execution_count": 48,
   "metadata": {},
   "outputs": [],
   "source": [
    "'''Replace NA values for good_things_2'''\n",
    "df['good_things_2'] = df['good_things_2'].replace('NA', np.nan)\n",
    "\n",
    "# find the frequency of each category in the column\n",
    "freq_dict = df['good_things_2'].value_counts(normalize=True).to_dict()\n",
    "\n",
    "# remove NaN from the dictionary\n",
    "freq_dict = {k:v for k,v in freq_dict.items() if not pd.isna(k)}\n",
    "\n",
    "# find the top 3 categories\n",
    "top_categories = sorted(freq_dict, key=freq_dict.get, reverse=True)[:3]\n",
    "\n",
    "# randomly choose one of the top 3 categories for each NaN value\n",
    "df['good_things_2'] = df['good_things_2'].apply(lambda x: random.choice(top_categories) if pd.isna(x) else x)"
   ]
  },
  {
   "cell_type": "code",
   "execution_count": 49,
   "metadata": {
    "scrolled": true
   },
   "outputs": [
    {
     "data": {
      "text/html": [
       "<div>\n",
       "<style scoped>\n",
       "    .dataframe tbody tr th:only-of-type {\n",
       "        vertical-align: middle;\n",
       "    }\n",
       "\n",
       "    .dataframe tbody tr th {\n",
       "        vertical-align: top;\n",
       "    }\n",
       "\n",
       "    .dataframe thead th {\n",
       "        text-align: right;\n",
       "    }\n",
       "</style>\n",
       "<table border=\"1\" class=\"dataframe\">\n",
       "  <thead>\n",
       "    <tr style=\"text-align: right;\">\n",
       "      <th></th>\n",
       "      <th>send_date</th>\n",
       "      <th>program</th>\n",
       "      <th>taken_machine_learning_course</th>\n",
       "      <th>taken_information_retrieval_course</th>\n",
       "      <th>taken_statistics_course</th>\n",
       "      <th>taken_database_course</th>\n",
       "      <th>gender</th>\n",
       "      <th>have_used_chatgpt</th>\n",
       "      <th>birthdate</th>\n",
       "      <th>students_in_the_room_gamble</th>\n",
       "      <th>stood_up</th>\n",
       "      <th>stresslevel</th>\n",
       "      <th>hours_of_sports_week</th>\n",
       "      <th>random_number</th>\n",
       "      <th>time_to_bed</th>\n",
       "      <th>good_day_1</th>\n",
       "      <th>good_day_2</th>\n",
       "      <th>hour_of_time_to_bed</th>\n",
       "      <th>year_of_birth</th>\n",
       "      <th>age</th>\n",
       "      <th>good_things_1</th>\n",
       "      <th>good_things_2</th>\n",
       "    </tr>\n",
       "  </thead>\n",
       "  <tbody>\n",
       "    <tr>\n",
       "      <th>0</th>\n",
       "      <td>4-4-2023 12:08:33</td>\n",
       "      <td>Artificial Intelligence</td>\n",
       "      <td>yes</td>\n",
       "      <td>0</td>\n",
       "      <td>mu</td>\n",
       "      <td>nee</td>\n",
       "      <td>gender fluid</td>\n",
       "      <td>yes</td>\n",
       "      <td>23/11/1997</td>\n",
       "      <td>319.0</td>\n",
       "      <td>unknown</td>\n",
       "      <td>100.0</td>\n",
       "      <td>0.0</td>\n",
       "      <td>69</td>\n",
       "      <td>11:30</td>\n",
       "      <td>Ashes</td>\n",
       "      <td>Not ashes</td>\n",
       "      <td>11</td>\n",
       "      <td>1997.0</td>\n",
       "      <td>26</td>\n",
       "      <td>food</td>\n",
       "      <td>socializing</td>\n",
       "    </tr>\n",
       "    <tr>\n",
       "      <th>1</th>\n",
       "      <td>4-4-2023 12:08:36</td>\n",
       "      <td>Artificial Intelligence</td>\n",
       "      <td>no</td>\n",
       "      <td>0</td>\n",
       "      <td>sigma</td>\n",
       "      <td>nee</td>\n",
       "      <td>male</td>\n",
       "      <td>not willing to say</td>\n",
       "      <td>5th August, 1995</td>\n",
       "      <td>600.0</td>\n",
       "      <td>no</td>\n",
       "      <td>60.0</td>\n",
       "      <td>2.0</td>\n",
       "      <td>42</td>\n",
       "      <td>23:00</td>\n",
       "      <td>good food</td>\n",
       "      <td>good sleep</td>\n",
       "      <td>23</td>\n",
       "      <td>1995.0</td>\n",
       "      <td>28</td>\n",
       "      <td>food</td>\n",
       "      <td>relaxation</td>\n",
       "    </tr>\n",
       "    <tr>\n",
       "      <th>2</th>\n",
       "      <td>4-4-2023 12:08:38</td>\n",
       "      <td>Artificial Intelligence</td>\n",
       "      <td>no</td>\n",
       "      <td>0</td>\n",
       "      <td>mu</td>\n",
       "      <td>nee</td>\n",
       "      <td>female</td>\n",
       "      <td>no</td>\n",
       "      <td>21/09</td>\n",
       "      <td>220.0</td>\n",
       "      <td>no</td>\n",
       "      <td>20.0</td>\n",
       "      <td>5.0</td>\n",
       "      <td>17</td>\n",
       "      <td>23:30</td>\n",
       "      <td>Sports</td>\n",
       "      <td>Friends</td>\n",
       "      <td>23</td>\n",
       "      <td>1999.0</td>\n",
       "      <td>0</td>\n",
       "      <td>relaxation</td>\n",
       "      <td>socializing</td>\n",
       "    </tr>\n",
       "    <tr>\n",
       "      <th>5</th>\n",
       "      <td>4-4-2023 12:08:59</td>\n",
       "      <td>Business Analytics</td>\n",
       "      <td>yes</td>\n",
       "      <td>0</td>\n",
       "      <td>mu</td>\n",
       "      <td>ja</td>\n",
       "      <td>female</td>\n",
       "      <td>yes</td>\n",
       "      <td>13-03-2000</td>\n",
       "      <td>500.0</td>\n",
       "      <td>no</td>\n",
       "      <td>80.0</td>\n",
       "      <td>5.0</td>\n",
       "      <td>13</td>\n",
       "      <td>00:00</td>\n",
       "      <td>Coffee</td>\n",
       "      <td>Sunny weather</td>\n",
       "      <td>0</td>\n",
       "      <td>2000.0</td>\n",
       "      <td>23</td>\n",
       "      <td>food</td>\n",
       "      <td>weather</td>\n",
       "    </tr>\n",
       "    <tr>\n",
       "      <th>6</th>\n",
       "      <td>4-4-2023 12:09:02</td>\n",
       "      <td>Artificial Intelligence</td>\n",
       "      <td>yes</td>\n",
       "      <td>0</td>\n",
       "      <td>mu</td>\n",
       "      <td>ja</td>\n",
       "      <td>male</td>\n",
       "      <td>yes</td>\n",
       "      <td>1999-07-21</td>\n",
       "      <td>150.0</td>\n",
       "      <td>no</td>\n",
       "      <td>100.0</td>\n",
       "      <td>7.0</td>\n",
       "      <td>27</td>\n",
       "      <td>23:00</td>\n",
       "      <td>Good code</td>\n",
       "      <td>Good code</td>\n",
       "      <td>23</td>\n",
       "      <td>1999.0</td>\n",
       "      <td>24</td>\n",
       "      <td>productivity</td>\n",
       "      <td>productivity</td>\n",
       "    </tr>\n",
       "  </tbody>\n",
       "</table>\n",
       "</div>"
      ],
      "text/plain": [
       "           send_date                  program taken_machine_learning_course  \\\n",
       "0  4-4-2023 12:08:33  Artificial Intelligence                           yes   \n",
       "1  4-4-2023 12:08:36  Artificial Intelligence                            no   \n",
       "2  4-4-2023 12:08:38  Artificial Intelligence                            no   \n",
       "5  4-4-2023 12:08:59       Business Analytics                           yes   \n",
       "6  4-4-2023 12:09:02  Artificial Intelligence                           yes   \n",
       "\n",
       "  taken_information_retrieval_course taken_statistics_course  \\\n",
       "0                                  0                      mu   \n",
       "1                                  0                   sigma   \n",
       "2                                  0                      mu   \n",
       "5                                  0                      mu   \n",
       "6                                  0                      mu   \n",
       "\n",
       "  taken_database_course        gender   have_used_chatgpt         birthdate  \\\n",
       "0                   nee  gender fluid                 yes        23/11/1997   \n",
       "1                   nee          male  not willing to say  5th August, 1995   \n",
       "2                   nee        female                  no             21/09   \n",
       "5                    ja        female                 yes        13-03-2000   \n",
       "6                    ja          male                 yes        1999-07-21   \n",
       "\n",
       "   students_in_the_room_gamble stood_up  stresslevel  hours_of_sports_week  \\\n",
       "0                        319.0  unknown        100.0                   0.0   \n",
       "1                        600.0       no         60.0                   2.0   \n",
       "2                        220.0       no         20.0                   5.0   \n",
       "5                        500.0       no         80.0                   5.0   \n",
       "6                        150.0       no        100.0                   7.0   \n",
       "\n",
       "  random_number time_to_bed good_day_1     good_day_2  hour_of_time_to_bed  \\\n",
       "0            69       11:30      Ashes      Not ashes                   11   \n",
       "1            42       23:00  good food     good sleep                   23   \n",
       "2            17       23:30     Sports        Friends                   23   \n",
       "5            13       00:00     Coffee  Sunny weather                    0   \n",
       "6            27       23:00  Good code      Good code                   23   \n",
       "\n",
       "   year_of_birth  age good_things_1 good_things_2  \n",
       "0         1997.0   26          food   socializing  \n",
       "1         1995.0   28          food    relaxation  \n",
       "2         1999.0    0    relaxation   socializing  \n",
       "5         2000.0   23          food       weather  \n",
       "6         1999.0   24  productivity  productivity  "
      ]
     },
     "execution_count": 49,
     "metadata": {},
     "output_type": "execute_result"
    }
   ],
   "source": [
    "df.head()"
   ]
  },
  {
   "cell_type": "markdown",
   "metadata": {},
   "source": [
    "Clean the age column"
   ]
  },
  {
   "cell_type": "code",
   "execution_count": 50,
   "metadata": {},
   "outputs": [
    {
     "name": "stdout",
     "output_type": "stream",
     "text": [
      "58\n"
     ]
    }
   ],
   "source": [
    "# select the number of rows where the age is 0\n",
    "num_rows = df[df['age'] == 0].shape[0]\n",
    "\n",
    "print(num_rows)"
   ]
  },
  {
   "cell_type": "code",
   "execution_count": 51,
   "metadata": {},
   "outputs": [
    {
     "name": "stderr",
     "output_type": "stream",
     "text": [
      "<ipython-input-51-dda0a08fe0ef>:9: SettingWithCopyWarning: \n",
      "A value is trying to be set on a copy of a slice from a DataFrame\n",
      "\n",
      "See the caveats in the documentation: https://pandas.pydata.org/pandas-docs/stable/user_guide/indexing.html#returning-a-view-versus-a-copy\n",
      "  df['age'][z_scores > threshold] = np.mean(df['age'])\n"
     ]
    }
   ],
   "source": [
    "# Clean the student gamble outliers, and replace with the mean\n",
    "# calculate the z-scores for the 'students_in_the_room_gamble' column\n",
    "z_scores = np.abs((df['age'] - np.mean(df['age'])) / np.std(df['age']))\n",
    "\n",
    "# define a threshold for identifying outliers (z-score > 3 for example)\n",
    "threshold = 3\n",
    "\n",
    "# identify the outliers and replace with the mean value\n",
    "df['age'][z_scores > threshold] = np.mean(df['age'])"
   ]
  },
  {
   "cell_type": "code",
   "execution_count": 52,
   "metadata": {},
   "outputs": [],
   "source": [
    "# replace 0 values in the age column with the mean age\n",
    "mean_age = df['age'].mean()\n",
    "df['age'] = df['age'].replace(0, int(mean_age))"
   ]
  },
  {
   "cell_type": "code",
   "execution_count": 53,
   "metadata": {},
   "outputs": [
    {
     "name": "stderr",
     "output_type": "stream",
     "text": [
      "<ipython-input-53-b43bef426816>:3: UserWarning: \n",
      "\n",
      "`distplot` is a deprecated function and will be removed in seaborn v0.14.0.\n",
      "\n",
      "Please adapt your code to use either `displot` (a figure-level function with\n",
      "similar flexibility) or `histplot` (an axes-level function for histograms).\n",
      "\n",
      "For a guide to updating your code to use the new functions, please see\n",
      "https://gist.github.com/mwaskom/de44147ed2974457ad6372750bbe5751\n",
      "\n",
      "  sns.distplot(ages)\n"
     ]
    },
    {
     "data": {
      "text/plain": [
       "<AxesSubplot:xlabel='age', ylabel='Density'>"
      ]
     },
     "execution_count": 53,
     "metadata": {},
     "output_type": "execute_result"
    },
    {
     "data": {
      "image/png": "[encoded data removed]",
      "text/plain": [
       "<Figure size 432x288 with 1 Axes>"
      ]
     },
     "metadata": {
      "needs_background": "light"
     },
     "output_type": "display_data"
    }
   ],
   "source": [
    "# eliminating the outlier age\n",
    "ages  = df[df['age'] < 100]['age']\n",
    "sns.distplot(ages)\n"
   ]
  },
  {
   "cell_type": "markdown",
   "metadata": {},
   "source": [
    "Get number of background courses as column"
   ]
  },
  {
   "cell_type": "code",
   "execution_count": 54,
   "metadata": {},
   "outputs": [],
   "source": [
    "df['taken_information_retrieval_course'] = df['taken_information_retrieval_course'].replace({'1': 'yes', '0': 'no'})\n",
    "df['taken_statistics_course'] = df['taken_statistics_course'].replace({'mu': 'yes', 'sigma': 'no'})\n",
    "df['taken_database_course'] = df['taken_database_course'].replace({'ja': 'yes', 'nee': 'no'})"
   ]
  },
  {
   "cell_type": "code",
   "execution_count": 55,
   "metadata": {},
   "outputs": [],
   "source": [
    "# Create the column of number of background columns\n",
    "df['background_knowledge'] = df[['taken_machine_learning_course', 'taken_information_retrieval_course', 'taken_statistics_course', 'taken_database_course']].apply(lambda row: row.str.count('yes').sum(), axis=1)"
   ]
  },
  {
   "cell_type": "code",
   "execution_count": 56,
   "metadata": {
    "scrolled": true
   },
   "outputs": [
    {
     "data": {
      "text/html": [
       "<div>\n",
       "<style scoped>\n",
       "    .dataframe tbody tr th:only-of-type {\n",
       "        vertical-align: middle;\n",
       "    }\n",
       "\n",
       "    .dataframe tbody tr th {\n",
       "        vertical-align: top;\n",
       "    }\n",
       "\n",
       "    .dataframe thead th {\n",
       "        text-align: right;\n",
       "    }\n",
       "</style>\n",
       "<table border=\"1\" class=\"dataframe\">\n",
       "  <thead>\n",
       "    <tr style=\"text-align: right;\">\n",
       "      <th></th>\n",
       "      <th>send_date</th>\n",
       "      <th>program</th>\n",
       "      <th>taken_machine_learning_course</th>\n",
       "      <th>taken_information_retrieval_course</th>\n",
       "      <th>taken_statistics_course</th>\n",
       "      <th>taken_database_course</th>\n",
       "      <th>gender</th>\n",
       "      <th>have_used_chatgpt</th>\n",
       "      <th>birthdate</th>\n",
       "      <th>students_in_the_room_gamble</th>\n",
       "      <th>stood_up</th>\n",
       "      <th>stresslevel</th>\n",
       "      <th>hours_of_sports_week</th>\n",
       "      <th>random_number</th>\n",
       "      <th>time_to_bed</th>\n",
       "      <th>good_day_1</th>\n",
       "      <th>good_day_2</th>\n",
       "      <th>hour_of_time_to_bed</th>\n",
       "      <th>year_of_birth</th>\n",
       "      <th>age</th>\n",
       "      <th>good_things_1</th>\n",
       "      <th>good_things_2</th>\n",
       "      <th>background_knowledge</th>\n",
       "    </tr>\n",
       "  </thead>\n",
       "  <tbody>\n",
       "    <tr>\n",
       "      <th>0</th>\n",
       "      <td>4-4-2023 12:08:33</td>\n",
       "      <td>Artificial Intelligence</td>\n",
       "      <td>yes</td>\n",
       "      <td>no</td>\n",
       "      <td>yes</td>\n",
       "      <td>no</td>\n",
       "      <td>gender fluid</td>\n",
       "      <td>yes</td>\n",
       "      <td>23/11/1997</td>\n",
       "      <td>319.0</td>\n",
       "      <td>unknown</td>\n",
       "      <td>100.0</td>\n",
       "      <td>0.0</td>\n",
       "      <td>69</td>\n",
       "      <td>11:30</td>\n",
       "      <td>Ashes</td>\n",
       "      <td>Not ashes</td>\n",
       "      <td>11</td>\n",
       "      <td>1997.0</td>\n",
       "      <td>26.0</td>\n",
       "      <td>food</td>\n",
       "      <td>socializing</td>\n",
       "      <td>2</td>\n",
       "    </tr>\n",
       "    <tr>\n",
       "      <th>1</th>\n",
       "      <td>4-4-2023 12:08:36</td>\n",
       "      <td>Artificial Intelligence</td>\n",
       "      <td>no</td>\n",
       "      <td>no</td>\n",
       "      <td>no</td>\n",
       "      <td>no</td>\n",
       "      <td>male</td>\n",
       "      <td>not willing to say</td>\n",
       "      <td>5th August, 1995</td>\n",
       "      <td>600.0</td>\n",
       "      <td>no</td>\n",
       "      <td>60.0</td>\n",
       "      <td>2.0</td>\n",
       "      <td>42</td>\n",
       "      <td>23:00</td>\n",
       "      <td>good food</td>\n",
       "      <td>good sleep</td>\n",
       "      <td>23</td>\n",
       "      <td>1995.0</td>\n",
       "      <td>28.0</td>\n",
       "      <td>food</td>\n",
       "      <td>relaxation</td>\n",
       "      <td>0</td>\n",
       "    </tr>\n",
       "    <tr>\n",
       "      <th>2</th>\n",
       "      <td>4-4-2023 12:08:38</td>\n",
       "      <td>Artificial Intelligence</td>\n",
       "      <td>no</td>\n",
       "      <td>no</td>\n",
       "      <td>yes</td>\n",
       "      <td>no</td>\n",
       "      <td>female</td>\n",
       "      <td>no</td>\n",
       "      <td>21/09</td>\n",
       "      <td>220.0</td>\n",
       "      <td>no</td>\n",
       "      <td>20.0</td>\n",
       "      <td>5.0</td>\n",
       "      <td>17</td>\n",
       "      <td>23:30</td>\n",
       "      <td>Sports</td>\n",
       "      <td>Friends</td>\n",
       "      <td>23</td>\n",
       "      <td>1999.0</td>\n",
       "      <td>22.0</td>\n",
       "      <td>relaxation</td>\n",
       "      <td>socializing</td>\n",
       "      <td>1</td>\n",
       "    </tr>\n",
       "    <tr>\n",
       "      <th>5</th>\n",
       "      <td>4-4-2023 12:08:59</td>\n",
       "      <td>Business Analytics</td>\n",
       "      <td>yes</td>\n",
       "      <td>no</td>\n",
       "      <td>yes</td>\n",
       "      <td>yes</td>\n",
       "      <td>female</td>\n",
       "      <td>yes</td>\n",
       "      <td>13-03-2000</td>\n",
       "      <td>500.0</td>\n",
       "      <td>no</td>\n",
       "      <td>80.0</td>\n",
       "      <td>5.0</td>\n",
       "      <td>13</td>\n",
       "      <td>00:00</td>\n",
       "      <td>Coffee</td>\n",
       "      <td>Sunny weather</td>\n",
       "      <td>0</td>\n",
       "      <td>2000.0</td>\n",
       "      <td>23.0</td>\n",
       "      <td>food</td>\n",
       "      <td>weather</td>\n",
       "      <td>3</td>\n",
       "    </tr>\n",
       "    <tr>\n",
       "      <th>6</th>\n",
       "      <td>4-4-2023 12:09:02</td>\n",
       "      <td>Artificial Intelligence</td>\n",
       "      <td>yes</td>\n",
       "      <td>no</td>\n",
       "      <td>yes</td>\n",
       "      <td>yes</td>\n",
       "      <td>male</td>\n",
       "      <td>yes</td>\n",
       "      <td>1999-07-21</td>\n",
       "      <td>150.0</td>\n",
       "      <td>no</td>\n",
       "      <td>100.0</td>\n",
       "      <td>7.0</td>\n",
       "      <td>27</td>\n",
       "      <td>23:00</td>\n",
       "      <td>Good code</td>\n",
       "      <td>Good code</td>\n",
       "      <td>23</td>\n",
       "      <td>1999.0</td>\n",
       "      <td>24.0</td>\n",
       "      <td>productivity</td>\n",
       "      <td>productivity</td>\n",
       "      <td>3</td>\n",
       "    </tr>\n",
       "  </tbody>\n",
       "</table>\n",
       "</div>"
      ],
      "text/plain": [
       "           send_date                  program taken_machine_learning_course  \\\n",
       "0  4-4-2023 12:08:33  Artificial Intelligence                           yes   \n",
       "1  4-4-2023 12:08:36  Artificial Intelligence                            no   \n",
       "2  4-4-2023 12:08:38  Artificial Intelligence                            no   \n",
       "5  4-4-2023 12:08:59       Business Analytics                           yes   \n",
       "6  4-4-2023 12:09:02  Artificial Intelligence                           yes   \n",
       "\n",
       "  taken_information_retrieval_course taken_statistics_course  \\\n",
       "0                                 no                     yes   \n",
       "1                                 no                      no   \n",
       "2                                 no                     yes   \n",
       "5                                 no                     yes   \n",
       "6                                 no                     yes   \n",
       "\n",
       "  taken_database_course        gender   have_used_chatgpt         birthdate  \\\n",
       "0                    no  gender fluid                 yes        23/11/1997   \n",
       "1                    no          male  not willing to say  5th August, 1995   \n",
       "2                    no        female                  no             21/09   \n",
       "5                   yes        female                 yes        13-03-2000   \n",
       "6                   yes          male                 yes        1999-07-21   \n",
       "\n",
       "   students_in_the_room_gamble stood_up  stresslevel  hours_of_sports_week  \\\n",
       "0                        319.0  unknown        100.0                   0.0   \n",
       "1                        600.0       no         60.0                   2.0   \n",
       "2                        220.0       no         20.0                   5.0   \n",
       "5                        500.0       no         80.0                   5.0   \n",
       "6                        150.0       no        100.0                   7.0   \n",
       "\n",
       "  random_number time_to_bed good_day_1     good_day_2  hour_of_time_to_bed  \\\n",
       "0            69       11:30      Ashes      Not ashes                   11   \n",
       "1            42       23:00  good food     good sleep                   23   \n",
       "2            17       23:30     Sports        Friends                   23   \n",
       "5            13       00:00     Coffee  Sunny weather                    0   \n",
       "6            27       23:00  Good code      Good code                   23   \n",
       "\n",
       "   year_of_birth   age good_things_1 good_things_2  background_knowledge  \n",
       "0         1997.0  26.0          food   socializing                     2  \n",
       "1         1995.0  28.0          food    relaxation                     0  \n",
       "2         1999.0  22.0    relaxation   socializing                     1  \n",
       "5         2000.0  23.0          food       weather                     3  \n",
       "6         1999.0  24.0  productivity  productivity                     3  "
      ]
     },
     "execution_count": 56,
     "metadata": {},
     "output_type": "execute_result"
    }
   ],
   "source": [
    "df.head()"
   ]
  },
  {
   "cell_type": "code",
   "execution_count": 57,
   "metadata": {},
   "outputs": [],
   "source": [
    "# Drop the original good_day_x columns\n",
    "df = df.drop(['good_day_1', 'good_day_2', 'birthdate', 'year_of_birth'], axis=1)"
   ]
  },
  {
   "cell_type": "code",
   "execution_count": 58,
   "metadata": {},
   "outputs": [],
   "source": [
    "# Convert float type columns to int which should be int\n",
    "df['age'] = df['age'].astype(int)\n",
    "\n",
    "df['students_in_the_room_gamble'] = df['students_in_the_room_gamble'].astype(int)\n",
    "\n",
    "df['hours_of_sports_week'] = df['hours_of_sports_week'].astype(int)"
   ]
  },
  {
   "cell_type": "code",
   "execution_count": 59,
   "metadata": {
    "scrolled": true
   },
   "outputs": [
    {
     "data": {
      "text/html": [
       "<div>\n",
       "<style scoped>\n",
       "    .dataframe tbody tr th:only-of-type {\n",
       "        vertical-align: middle;\n",
       "    }\n",
       "\n",
       "    .dataframe tbody tr th {\n",
       "        vertical-align: top;\n",
       "    }\n",
       "\n",
       "    .dataframe thead th {\n",
       "        text-align: right;\n",
       "    }\n",
       "</style>\n",
       "<table border=\"1\" class=\"dataframe\">\n",
       "  <thead>\n",
       "    <tr style=\"text-align: right;\">\n",
       "      <th></th>\n",
       "      <th>send_date</th>\n",
       "      <th>program</th>\n",
       "      <th>taken_machine_learning_course</th>\n",
       "      <th>taken_information_retrieval_course</th>\n",
       "      <th>taken_statistics_course</th>\n",
       "      <th>taken_database_course</th>\n",
       "      <th>gender</th>\n",
       "      <th>have_used_chatgpt</th>\n",
       "      <th>students_in_the_room_gamble</th>\n",
       "      <th>stood_up</th>\n",
       "      <th>stresslevel</th>\n",
       "      <th>hours_of_sports_week</th>\n",
       "      <th>random_number</th>\n",
       "      <th>time_to_bed</th>\n",
       "      <th>hour_of_time_to_bed</th>\n",
       "      <th>age</th>\n",
       "      <th>good_things_1</th>\n",
       "      <th>good_things_2</th>\n",
       "      <th>background_knowledge</th>\n",
       "    </tr>\n",
       "  </thead>\n",
       "  <tbody>\n",
       "    <tr>\n",
       "      <th>0</th>\n",
       "      <td>4-4-2023 12:08:33</td>\n",
       "      <td>Artificial Intelligence</td>\n",
       "      <td>yes</td>\n",
       "      <td>no</td>\n",
       "      <td>yes</td>\n",
       "      <td>no</td>\n",
       "      <td>gender fluid</td>\n",
       "      <td>yes</td>\n",
       "      <td>319</td>\n",
       "      <td>unknown</td>\n",
       "      <td>100.0</td>\n",
       "      <td>0</td>\n",
       "      <td>69</td>\n",
       "      <td>11:30</td>\n",
       "      <td>11</td>\n",
       "      <td>26</td>\n",
       "      <td>food</td>\n",
       "      <td>socializing</td>\n",
       "      <td>2</td>\n",
       "    </tr>\n",
       "    <tr>\n",
       "      <th>1</th>\n",
       "      <td>4-4-2023 12:08:36</td>\n",
       "      <td>Artificial Intelligence</td>\n",
       "      <td>no</td>\n",
       "      <td>no</td>\n",
       "      <td>no</td>\n",
       "      <td>no</td>\n",
       "      <td>male</td>\n",
       "      <td>not willing to say</td>\n",
       "      <td>600</td>\n",
       "      <td>no</td>\n",
       "      <td>60.0</td>\n",
       "      <td>2</td>\n",
       "      <td>42</td>\n",
       "      <td>23:00</td>\n",
       "      <td>23</td>\n",
       "      <td>28</td>\n",
       "      <td>food</td>\n",
       "      <td>relaxation</td>\n",
       "      <td>0</td>\n",
       "    </tr>\n",
       "    <tr>\n",
       "      <th>2</th>\n",
       "      <td>4-4-2023 12:08:38</td>\n",
       "      <td>Artificial Intelligence</td>\n",
       "      <td>no</td>\n",
       "      <td>no</td>\n",
       "      <td>yes</td>\n",
       "      <td>no</td>\n",
       "      <td>female</td>\n",
       "      <td>no</td>\n",
       "      <td>220</td>\n",
       "      <td>no</td>\n",
       "      <td>20.0</td>\n",
       "      <td>5</td>\n",
       "      <td>17</td>\n",
       "      <td>23:30</td>\n",
       "      <td>23</td>\n",
       "      <td>22</td>\n",
       "      <td>relaxation</td>\n",
       "      <td>socializing</td>\n",
       "      <td>1</td>\n",
       "    </tr>\n",
       "    <tr>\n",
       "      <th>5</th>\n",
       "      <td>4-4-2023 12:08:59</td>\n",
       "      <td>Business Analytics</td>\n",
       "      <td>yes</td>\n",
       "      <td>no</td>\n",
       "      <td>yes</td>\n",
       "      <td>yes</td>\n",
       "      <td>female</td>\n",
       "      <td>yes</td>\n",
       "      <td>500</td>\n",
       "      <td>no</td>\n",
       "      <td>80.0</td>\n",
       "      <td>5</td>\n",
       "      <td>13</td>\n",
       "      <td>00:00</td>\n",
       "      <td>0</td>\n",
       "      <td>23</td>\n",
       "      <td>food</td>\n",
       "      <td>weather</td>\n",
       "      <td>3</td>\n",
       "    </tr>\n",
       "    <tr>\n",
       "      <th>6</th>\n",
       "      <td>4-4-2023 12:09:02</td>\n",
       "      <td>Artificial Intelligence</td>\n",
       "      <td>yes</td>\n",
       "      <td>no</td>\n",
       "      <td>yes</td>\n",
       "      <td>yes</td>\n",
       "      <td>male</td>\n",
       "      <td>yes</td>\n",
       "      <td>150</td>\n",
       "      <td>no</td>\n",
       "      <td>100.0</td>\n",
       "      <td>7</td>\n",
       "      <td>27</td>\n",
       "      <td>23:00</td>\n",
       "      <td>23</td>\n",
       "      <td>24</td>\n",
       "      <td>productivity</td>\n",
       "      <td>productivity</td>\n",
       "      <td>3</td>\n",
       "    </tr>\n",
       "  </tbody>\n",
       "</table>\n",
       "</div>"
      ],
      "text/plain": [
       "           send_date                  program taken_machine_learning_course  \\\n",
       "0  4-4-2023 12:08:33  Artificial Intelligence                           yes   \n",
       "1  4-4-2023 12:08:36  Artificial Intelligence                            no   \n",
       "2  4-4-2023 12:08:38  Artificial Intelligence                            no   \n",
       "5  4-4-2023 12:08:59       Business Analytics                           yes   \n",
       "6  4-4-2023 12:09:02  Artificial Intelligence                           yes   \n",
       "\n",
       "  taken_information_retrieval_course taken_statistics_course  \\\n",
       "0                                 no                     yes   \n",
       "1                                 no                      no   \n",
       "2                                 no                     yes   \n",
       "5                                 no                     yes   \n",
       "6                                 no                     yes   \n",
       "\n",
       "  taken_database_course        gender   have_used_chatgpt  \\\n",
       "0                    no  gender fluid                 yes   \n",
       "1                    no          male  not willing to say   \n",
       "2                    no        female                  no   \n",
       "5                   yes        female                 yes   \n",
       "6                   yes          male                 yes   \n",
       "\n",
       "   students_in_the_room_gamble stood_up  stresslevel  hours_of_sports_week  \\\n",
       "0                          319  unknown        100.0                     0   \n",
       "1                          600       no         60.0                     2   \n",
       "2                          220       no         20.0                     5   \n",
       "5                          500       no         80.0                     5   \n",
       "6                          150       no        100.0                     7   \n",
       "\n",
       "  random_number time_to_bed  hour_of_time_to_bed  age good_things_1  \\\n",
       "0            69       11:30                   11   26          food   \n",
       "1            42       23:00                   23   28          food   \n",
       "2            17       23:30                   23   22    relaxation   \n",
       "5            13       00:00                    0   23          food   \n",
       "6            27       23:00                   23   24  productivity   \n",
       "\n",
       "  good_things_2  background_knowledge  \n",
       "0   socializing                     2  \n",
       "1    relaxation                     0  \n",
       "2   socializing                     1  \n",
       "5       weather                     3  \n",
       "6  productivity                     3  "
      ]
     },
     "execution_count": 59,
     "metadata": {},
     "output_type": "execute_result"
    }
   ],
   "source": [
    "df.head()"
   ]
  },
  {
   "cell_type": "code",
   "execution_count": 60,
   "metadata": {},
   "outputs": [],
   "source": [
    "# Move column background_knowledge to a more appropriate position\n",
    "column = df.pop('background_knowledge')\n",
    "new_position = 6\n",
    "df.insert(new_position, 'background_knowledge', column) "
   ]
  },
  {
   "cell_type": "code",
   "execution_count": 61,
   "metadata": {},
   "outputs": [],
   "source": [
    "# Mapping the stress levels to a categorical attribute indicated by \n",
    "# low(0-34) , med(35-64), high(65-100)\n",
    "\n",
    "def _map_stress_to_category(x):\n",
    "\n",
    "    if x >=0 and  x < 60:\n",
    "        return 'low'\n",
    "    # elif x >= 35 and x  < 65:\n",
    "    #     return 'med'\n",
    "    else:\n",
    "        return 'high'\n",
    "\n",
    "df['stress_level'] = df['stresslevel'].apply(_map_stress_to_category)\n"
   ]
  },
  {
   "cell_type": "code",
   "execution_count": 62,
   "metadata": {},
   "outputs": [
    {
     "data": {
      "text/plain": [
       "<AxesSubplot:xlabel='hour_of_time_to_bed', ylabel='count'>"
      ]
     },
     "execution_count": 62,
     "metadata": {},
     "output_type": "execute_result"
    },
    {
     "data": {
      "image/png": "[encoded data removed]",
      "text/plain": [
       "<Figure size 432x288 with 1 Axes>"
      ]
     },
     "metadata": {
      "needs_background": "light"
     },
     "output_type": "display_data"
    }
   ],
   "source": [
    "sns.countplot(data=df, x='hour_of_time_to_bed', order=hour_order,palette='magma')"
   ]
  },
  {
   "cell_type": "code",
   "execution_count": 63,
   "metadata": {},
   "outputs": [
    {
     "data": {
      "text/html": [
       "<div>\n",
       "<style scoped>\n",
       "    .dataframe tbody tr th:only-of-type {\n",
       "        vertical-align: middle;\n",
       "    }\n",
       "\n",
       "    .dataframe tbody tr th {\n",
       "        vertical-align: top;\n",
       "    }\n",
       "\n",
       "    .dataframe thead th {\n",
       "        text-align: right;\n",
       "    }\n",
       "</style>\n",
       "<table border=\"1\" class=\"dataframe\">\n",
       "  <thead>\n",
       "    <tr style=\"text-align: right;\">\n",
       "      <th></th>\n",
       "      <th>send_date</th>\n",
       "      <th>program</th>\n",
       "      <th>taken_machine_learning_course</th>\n",
       "      <th>taken_information_retrieval_course</th>\n",
       "      <th>taken_statistics_course</th>\n",
       "      <th>taken_database_course</th>\n",
       "      <th>background_knowledge</th>\n",
       "      <th>gender</th>\n",
       "      <th>have_used_chatgpt</th>\n",
       "      <th>students_in_the_room_gamble</th>\n",
       "      <th>stood_up</th>\n",
       "      <th>stresslevel</th>\n",
       "      <th>hours_of_sports_week</th>\n",
       "      <th>random_number</th>\n",
       "      <th>time_to_bed</th>\n",
       "      <th>hour_of_time_to_bed</th>\n",
       "      <th>age</th>\n",
       "      <th>good_things_1</th>\n",
       "      <th>good_things_2</th>\n",
       "      <th>stress_level</th>\n",
       "    </tr>\n",
       "  </thead>\n",
       "  <tbody>\n",
       "    <tr>\n",
       "      <th>0</th>\n",
       "      <td>4-4-2023 12:08:33</td>\n",
       "      <td>Artificial Intelligence</td>\n",
       "      <td>yes</td>\n",
       "      <td>no</td>\n",
       "      <td>yes</td>\n",
       "      <td>no</td>\n",
       "      <td>2</td>\n",
       "      <td>gender fluid</td>\n",
       "      <td>yes</td>\n",
       "      <td>319</td>\n",
       "      <td>unknown</td>\n",
       "      <td>100.0</td>\n",
       "      <td>0</td>\n",
       "      <td>69</td>\n",
       "      <td>11:30</td>\n",
       "      <td>11</td>\n",
       "      <td>26</td>\n",
       "      <td>food</td>\n",
       "      <td>socializing</td>\n",
       "      <td>high</td>\n",
       "    </tr>\n",
       "    <tr>\n",
       "      <th>1</th>\n",
       "      <td>4-4-2023 12:08:36</td>\n",
       "      <td>Artificial Intelligence</td>\n",
       "      <td>no</td>\n",
       "      <td>no</td>\n",
       "      <td>no</td>\n",
       "      <td>no</td>\n",
       "      <td>0</td>\n",
       "      <td>male</td>\n",
       "      <td>not willing to say</td>\n",
       "      <td>600</td>\n",
       "      <td>no</td>\n",
       "      <td>60.0</td>\n",
       "      <td>2</td>\n",
       "      <td>42</td>\n",
       "      <td>23:00</td>\n",
       "      <td>23</td>\n",
       "      <td>28</td>\n",
       "      <td>food</td>\n",
       "      <td>relaxation</td>\n",
       "      <td>high</td>\n",
       "    </tr>\n",
       "    <tr>\n",
       "      <th>2</th>\n",
       "      <td>4-4-2023 12:08:38</td>\n",
       "      <td>Artificial Intelligence</td>\n",
       "      <td>no</td>\n",
       "      <td>no</td>\n",
       "      <td>yes</td>\n",
       "      <td>no</td>\n",
       "      <td>1</td>\n",
       "      <td>female</td>\n",
       "      <td>no</td>\n",
       "      <td>220</td>\n",
       "      <td>no</td>\n",
       "      <td>20.0</td>\n",
       "      <td>5</td>\n",
       "      <td>17</td>\n",
       "      <td>23:30</td>\n",
       "      <td>23</td>\n",
       "      <td>22</td>\n",
       "      <td>relaxation</td>\n",
       "      <td>socializing</td>\n",
       "      <td>low</td>\n",
       "    </tr>\n",
       "    <tr>\n",
       "      <th>5</th>\n",
       "      <td>4-4-2023 12:08:59</td>\n",
       "      <td>Business Analytics</td>\n",
       "      <td>yes</td>\n",
       "      <td>no</td>\n",
       "      <td>yes</td>\n",
       "      <td>yes</td>\n",
       "      <td>3</td>\n",
       "      <td>female</td>\n",
       "      <td>yes</td>\n",
       "      <td>500</td>\n",
       "      <td>no</td>\n",
       "      <td>80.0</td>\n",
       "      <td>5</td>\n",
       "      <td>13</td>\n",
       "      <td>00:00</td>\n",
       "      <td>0</td>\n",
       "      <td>23</td>\n",
       "      <td>food</td>\n",
       "      <td>weather</td>\n",
       "      <td>high</td>\n",
       "    </tr>\n",
       "    <tr>\n",
       "      <th>6</th>\n",
       "      <td>4-4-2023 12:09:02</td>\n",
       "      <td>Artificial Intelligence</td>\n",
       "      <td>yes</td>\n",
       "      <td>no</td>\n",
       "      <td>yes</td>\n",
       "      <td>yes</td>\n",
       "      <td>3</td>\n",
       "      <td>male</td>\n",
       "      <td>yes</td>\n",
       "      <td>150</td>\n",
       "      <td>no</td>\n",
       "      <td>100.0</td>\n",
       "      <td>7</td>\n",
       "      <td>27</td>\n",
       "      <td>23:00</td>\n",
       "      <td>23</td>\n",
       "      <td>24</td>\n",
       "      <td>productivity</td>\n",
       "      <td>productivity</td>\n",
       "      <td>high</td>\n",
       "    </tr>\n",
       "  </tbody>\n",
       "</table>\n",
       "</div>"
      ],
      "text/plain": [
       "           send_date                  program taken_machine_learning_course  \\\n",
       "0  4-4-2023 12:08:33  Artificial Intelligence                           yes   \n",
       "1  4-4-2023 12:08:36  Artificial Intelligence                            no   \n",
       "2  4-4-2023 12:08:38  Artificial Intelligence                            no   \n",
       "5  4-4-2023 12:08:59       Business Analytics                           yes   \n",
       "6  4-4-2023 12:09:02  Artificial Intelligence                           yes   \n",
       "\n",
       "  taken_information_retrieval_course taken_statistics_course  \\\n",
       "0                                 no                     yes   \n",
       "1                                 no                      no   \n",
       "2                                 no                     yes   \n",
       "5                                 no                     yes   \n",
       "6                                 no                     yes   \n",
       "\n",
       "  taken_database_course  background_knowledge        gender  \\\n",
       "0                    no                     2  gender fluid   \n",
       "1                    no                     0          male   \n",
       "2                    no                     1        female   \n",
       "5                   yes                     3        female   \n",
       "6                   yes                     3          male   \n",
       "\n",
       "    have_used_chatgpt  students_in_the_room_gamble stood_up  stresslevel  \\\n",
       "0                 yes                          319  unknown        100.0   \n",
       "1  not willing to say                          600       no         60.0   \n",
       "2                  no                          220       no         20.0   \n",
       "5                 yes                          500       no         80.0   \n",
       "6                 yes                          150       no        100.0   \n",
       "\n",
       "   hours_of_sports_week random_number time_to_bed  hour_of_time_to_bed  age  \\\n",
       "0                     0            69       11:30                   11   26   \n",
       "1                     2            42       23:00                   23   28   \n",
       "2                     5            17       23:30                   23   22   \n",
       "5                     5            13       00:00                    0   23   \n",
       "6                     7            27       23:00                   23   24   \n",
       "\n",
       "  good_things_1 good_things_2 stress_level  \n",
       "0          food   socializing         high  \n",
       "1          food    relaxation         high  \n",
       "2    relaxation   socializing          low  \n",
       "5          food       weather         high  \n",
       "6  productivity  productivity         high  "
      ]
     },
     "execution_count": 63,
     "metadata": {},
     "output_type": "execute_result"
    }
   ],
   "source": [
    "df.head()"
   ]
  },
  {
   "cell_type": "code",
   "execution_count": 64,
   "metadata": {},
   "outputs": [],
   "source": [
    "# mapping hour of sleep to categorical \n",
    "# 0 - 3 early_midnight\n",
    "# 4 - 6 early_morning\n",
    "# 7 - 12 morning\n",
    "# 13 - 18 afternoon\n",
    "# 19 - 23 night\n",
    "\n",
    "\n",
    "def _map_time_to_bed_to_category(x):\n",
    "\n",
    "    if x >= 0 and x <= 3:\n",
    "        return \"early_midnight\"\n",
    "    elif x >=4 and x <= 7:\n",
    "        return \"early_morning\"\n",
    "    elif x >= 8 and x <= 12:\n",
    "        return \"morning\"\n",
    "    elif x >= 13 and x <= 18:\n",
    "        return \"afternoon\"\n",
    "    else:\n",
    "        return \"night\"\n",
    "\n",
    "df['time_to_bed_category'] = df['hour_of_time_to_bed'].apply(_map_time_to_bed_to_category)\n"
   ]
  },
  {
   "cell_type": "code",
   "execution_count": 65,
   "metadata": {},
   "outputs": [
    {
     "data": {
      "text/plain": [
       "(array([0, 1, 2, 3, 4]),\n",
       " [Text(0, 0, 'night'),\n",
       "  Text(1, 0, 'early_midnight'),\n",
       "  Text(2, 0, 'early_morning'),\n",
       "  Text(3, 0, 'morning'),\n",
       "  Text(4, 0, 'afternoon')])"
      ]
     },
     "execution_count": 65,
     "metadata": {},
     "output_type": "execute_result"
    },
    {
     "data": {
      "image/png": "[encoded data removed]",
      "text/plain": [
       "<Figure size 432x288 with 1 Axes>"
      ]
     },
     "metadata": {
      "needs_background": "light"
     },
     "output_type": "display_data"
    }
   ],
   "source": [
    "sns.countplot(data=df, x='time_to_bed_category', order=[\"night\", \"early_midnight\", \"early_morning\", \"morning\", \"afternoon\"],palette='magma')\n",
    "plt.xticks(rotation=45)\n"
   ]
  },
  {
   "cell_type": "code",
   "execution_count": 66,
   "metadata": {},
   "outputs": [
    {
     "data": {
      "text/plain": [
       "27.02482269503546"
      ]
     },
     "execution_count": 66,
     "metadata": {},
     "output_type": "execute_result"
    }
   ],
   "source": [
    "df['age'].median()\n",
    "df['age'].mean()"
   ]
  },
  {
   "cell_type": "code",
   "execution_count": 67,
   "metadata": {},
   "outputs": [],
   "source": [
    "# As we observe median age , creating a column to indicate if age is leass than 25 to use later during classification task\n",
    "df['age_less_than_24'] = df['age'].apply(lambda x: 1 if x < 24 else 0)"
   ]
  },
  {
   "cell_type": "code",
   "execution_count": 68,
   "metadata": {},
   "outputs": [
    {
     "name": "stdout",
     "output_type": "stream",
     "text": [
      "Index(['good_drinking', 'good_entertainment', 'good_food',\n",
      "       'good_physical_exercise', 'good_productivity', 'good_relaxation',\n",
      "       'good_socializing', 'good_vacation', 'good_weather'],\n",
      "      dtype='object')\n"
     ]
    },
    {
     "data": {
      "text/plain": [
       "Index(['good_drinking', 'good_entertainment', 'good_food',\n",
       "       'good_physical_exercise', 'good_productivity', 'good_relaxation',\n",
       "       'good_socializing', 'good_vacation', 'good_weather', 'send_date',\n",
       "       'program', 'taken_machine_learning_course',\n",
       "       'taken_information_retrieval_course', 'taken_statistics_course',\n",
       "       'taken_database_course', 'background_knowledge', 'gender',\n",
       "       'have_used_chatgpt', 'students_in_the_room_gamble', 'stood_up',\n",
       "       'stresslevel', 'hours_of_sports_week', 'random_number', 'time_to_bed',\n",
       "       'hour_of_time_to_bed', 'age', 'good_things_1', 'good_things_2',\n",
       "       'stress_level', 'time_to_bed_category', 'age_less_than_24'],\n",
       "      dtype='object')"
      ]
     },
     "execution_count": 68,
     "metadata": {},
     "output_type": "execute_result"
    }
   ],
   "source": [
    "# merging the good things 1 and good things 2 after one hot ecoding them \n",
    "\n",
    "good_things_1_encoded = pd.get_dummies(df['good_things_1'], prefix='good')\n",
    "good_things_2_encoded = pd.get_dummies(df['good_things_2'], prefix='good')\n",
    "# add the corresponding columns\n",
    "encoded_good_things = good_things_1_encoded.add(good_things_2_encoded, axis=1)\n",
    "\n",
    "# print the resulting dataframe\n",
    "print(encoded_good_things.columns)\n",
    "\n",
    "# concatenate the encoded dataframes horizontally\n",
    "df = pd.concat([encoded_good_things, df], axis=1)\n",
    "\n",
    "df.columns"
   ]
  },
  {
   "cell_type": "code",
   "execution_count": 69,
   "metadata": {},
   "outputs": [
    {
     "data": {
      "text/plain": [
       "weather              148\n",
       "relaxation           134\n",
       "food                  94\n",
       "socializing           84\n",
       "productivity          49\n",
       "entertainment         24\n",
       "physical_exercise     17\n",
       "drinking               8\n",
       "vacation               6\n",
       "dtype: int64"
      ]
     },
     "execution_count": 69,
     "metadata": {},
     "output_type": "execute_result"
    }
   ],
   "source": [
    "good_things = pd.DataFrame(pd.concat([df['good_things_1'], df['good_things_2']], axis=0))\n",
    "good_things.value_counts()\n",
    "\n",
    "# As observed we can consider the top 5 good things for analysis to avoid overfitting"
   ]
  },
  {
   "cell_type": "code",
   "execution_count": 70,
   "metadata": {},
   "outputs": [
    {
     "data": {
      "text/plain": [
       "Artificial Intelligence               94\n",
       "Bioinformatics and Systems Biology    50\n",
       "Business Analytics                    43\n",
       "Computer Science                      36\n",
       "Econometrics                          25\n",
       "Computational Science                 20\n",
       "Finance                               14\n",
       "Name: program, dtype: int64"
      ]
     },
     "execution_count": 70,
     "metadata": {},
     "output_type": "execute_result"
    }
   ],
   "source": [
    "df['program'].value_counts()"
   ]
  },
  {
   "cell_type": "code",
   "execution_count": 71,
   "metadata": {},
   "outputs": [
    {
     "data": {
      "text/plain": [
       "tech        173\n",
       "non_tech    109\n",
       "Name: course, dtype: int64"
      ]
     },
     "execution_count": 71,
     "metadata": {},
     "output_type": "execute_result"
    }
   ],
   "source": [
    "# Merging courses into tech and non tech to simplify analysis and avoid overfitting\n",
    "\n",
    "def _get_generic_course(x):\n",
    "\n",
    "    if x == 'Artificial Intelligence' or x == 'Computer Science' or x == 'Business Analytics':\n",
    "        return 'tech'\n",
    "    else:\n",
    "        return 'non_tech'\n",
    "\n",
    "\n",
    "df['course'] = df['program'].apply(_get_generic_course)\n",
    "df['course'].value_counts()"
   ]
  },
  {
   "cell_type": "code",
   "execution_count": 72,
   "metadata": {},
   "outputs": [
    {
     "data": {
      "image/png": "[encoded data removed]",
      "text/plain": [
       "<Figure size 432x432 with 1 Axes>"
      ]
     },
     "metadata": {},
     "output_type": "display_data"
    }
   ],
   "source": [
    "# plot the pie chart\n",
    "sns.set(style='whitegrid')\n",
    "plt.figure(figsize=(6,6))\n",
    "plt.pie(['166', '106'], labels=['tech','non_tech'], autopct='%1.1f%%')\n",
    "plt.title('Type of course enrolled in')\n",
    "\n",
    "# show the plot\n",
    "plt.show()"
   ]
  },
  {
   "cell_type": "markdown",
   "metadata": {},
   "source": [
    "# TASK 2A: APPLICATION OF CLASSIFICATION ALGORITHMS"
   ]
  },
  {
   "cell_type": "markdown",
   "metadata": {},
   "source": [
    "## Classifier 1 - Decision Trees"
   ]
  },
  {
   "cell_type": "code",
   "execution_count": 73,
   "metadata": {},
   "outputs": [],
   "source": [
    "from sklearn.tree import DecisionTreeClassifier,  export_text\n",
    "from sklearn import tree\n",
    "from sklearn.model_selection import train_test_split\n",
    "from sklearn.metrics import accuracy_score\n",
    "\n",
    "from sklearn.preprocessing import OrdinalEncoder, OneHotEncoder\n",
    "from sklearn.compose import ColumnTransformer\n",
    "from sklearn.preprocessing import LabelEncoder\n",
    "\n",
    "# Preparing the data features and target columns \n",
    "\n",
    "# One hot encoding the features \n",
    "\n",
    "# X -  Features used for training \n",
    "\n",
    "# Considering top 5 good things for analysis\n",
    "features = ['course','taken_machine_learning_course', 'taken_information_retrieval_course', 'taken_statistics_course',\n",
    "            'taken_database_course','have_used_chatgpt', 'time_to_bed_category' ,\n",
    "            'good_food', 'good_productivity', 'good_relaxation','good_socializing', 'good_weather', 'age_less_than_24']\n",
    "\n",
    "\n",
    "# convert the categorical column to numeric values\n",
    "cols_to_encode = ['course','taken_machine_learning_course', 'taken_information_retrieval_course', 'taken_statistics_course',\n",
    "         'taken_database_course', 'have_used_chatgpt', 'time_to_bed_category' ]\n",
    "            \n",
    "X = df[features]\n",
    "X = pd.get_dummies(X, columns=cols_to_encode)\n",
    "\n",
    "y = df['stress_level'].astype('category')\n"
   ]
  },
  {
   "cell_type": "markdown",
   "metadata": {},
   "source": [
    "encoding the target stress level using ordinal encoder to retain the order of category , low - 0 and high - 2"
   ]
  },
  {
   "cell_type": "code",
   "execution_count": 74,
   "metadata": {},
   "outputs": [],
   "source": [
    "\n",
    "# for multi class classification\n",
    "# oe = OrdinalEncoder(categories = [['low', 'med', 'high']])\n",
    "# oe = OrdinalEncoder(categories = [['low',  'high']])\n",
    "# # for multi class classification\n",
    "# # oe = OrdinalEncoder(categories = [['low', 'med', 'high']])\n",
    "# oe = OrdinalEncoder(categories = [['low',  'high']])\n",
    "\n",
    "\n",
    "# # reshape y to have a second dimension\n",
    "# y = np.array(y).reshape(-1, 1)\n",
    "# # fit the label encoder to the values and transform them\n",
    "# y = oe.fit_transform(y)"
   ]
  },
  {
   "cell_type": "code",
   "execution_count": 75,
   "metadata": {},
   "outputs": [
    {
     "data": {
      "text/plain": [
       "(282, 28)"
      ]
     },
     "execution_count": 75,
     "metadata": {},
     "output_type": "execute_result"
    }
   ],
   "source": [
    "X.shape"
   ]
  },
  {
   "cell_type": "markdown",
   "metadata": {},
   "source": [
    "Splitting the features and target into train and test with ration (70-30)"
   ]
  },
  {
   "cell_type": "code",
   "execution_count": 76,
   "metadata": {},
   "outputs": [],
   "source": [
    "x_train, x_test, y_train, y_test = train_test_split(X, y, test_size = 0.3, random_state = 0)\n"
   ]
  },
  {
   "cell_type": "code",
   "execution_count": 77,
   "metadata": {},
   "outputs": [],
   "source": [
    "# Training the decision tree\n",
    "\n",
    "decision_tree = DecisionTreeClassifier(max_depth=4)\n",
    "decision_tree.fit(x_train, y_train)\n",
    "\n",
    "# Testing \n",
    "y_pred = decision_tree.predict(x_test)\n",
    "\n"
   ]
  },
  {
   "cell_type": "markdown",
   "metadata": {},
   "source": [
    "# Evaluating performance "
   ]
  },
  {
   "cell_type": "code",
   "execution_count": 78,
   "metadata": {},
   "outputs": [
    {
     "name": "stdout",
     "output_type": "stream",
     "text": [
      "Accuracy: 50.588235294117645\n",
      "Confusion Matrix:\n",
      " [[ 5 26]\n",
      " [16 38]]\n",
      "--------------\n",
      "Original: 129    low\n",
      "71     low\n",
      "101    low\n",
      "220    low\n",
      "296    low\n",
      "Name: stress_level, dtype: category\n",
      "Categories (2, object): ['high', 'low']\n",
      "Predictions: ['low' 'low' 'high' 'low' 'low']\n"
     ]
    }
   ],
   "source": [
    "from sklearn.metrics import classification_report, confusion_matrix, ConfusionMatrixDisplay, accuracy_score\n",
    "print(f'Accuracy: {accuracy_score(y_test, y_pred) * 100}')\n",
    "print(\"Confusion Matrix:\\n\", confusion_matrix(y_test, y_pred))\n",
    "print('--------------')\n",
    "# Print the original labels for comparison\n",
    "print(\"Original:\", y_test[0:5])\n",
    "print(\"Predictions:\", y_pred[0:5])"
   ]
  },
  {
   "cell_type": "code",
   "execution_count": 79,
   "metadata": {},
   "outputs": [],
   "source": [
    "# Convert the ordinal encoded predictions back into their original labels\n",
    "# y_pred_labels = oe.inverse_transform(y_pred.reshape(-1, 1))\n",
    "\n",
    "# Print the original labels for comparison\n",
    "# print(\"Original:\", y_test)\n",
    "# print(\"Predictions:\", y_pred)\n",
    "# print(\"Decoded Predictions:\", y_pred_labels)"
   ]
  },
  {
   "cell_type": "code",
   "execution_count": 80,
   "metadata": {},
   "outputs": [
    {
     "name": "stdout",
     "output_type": "stream",
     "text": [
      "              precision    recall  f1-score   support\n",
      "\n",
      "        high       0.24      0.16      0.19        31\n",
      "         low       0.59      0.70      0.64        54\n",
      "\n",
      "    accuracy                           0.51        85\n",
      "   macro avg       0.42      0.43      0.42        85\n",
      "weighted avg       0.46      0.51      0.48        85\n",
      "\n"
     ]
    },
    {
     "data": {
      "image/png": "[encoded data removed]",
      "text/plain": [
       "<Figure size 432x288 with 2 Axes>"
      ]
     },
     "metadata": {},
     "output_type": "display_data"
    }
   ],
   "source": [
    "print(classification_report(y_test, y_pred))\n",
    "\n",
    "cm = confusion_matrix(y_test, y_pred, labels=decision_tree.classes_)\n",
    "disp = ConfusionMatrixDisplay(confusion_matrix=cm, display_labels=decision_tree.classes_)\n",
    "disp.plot()\n",
    "plt.show()"
   ]
  },
  {
   "cell_type": "code",
   "execution_count": 81,
   "metadata": {},
   "outputs": [
    {
     "name": "stdout",
     "output_type": "stream",
     "text": [
      "|--- good_productivity <= 0.50\n",
      "|   |--- have_used_chatgpt_no <= 0.50\n",
      "|   |   |--- time_to_bed_category_early_morning <= 0.50\n",
      "|   |   |   |--- good_socializing <= 0.50\n",
      "|   |   |   |   |--- class: low\n",
      "|   |   |   |--- good_socializing >  0.50\n",
      "|   |   |   |   |--- class: high\n",
      "|   |   |--- time_to_bed_category_early_morning >  0.50\n",
      "|   |   |   |--- class: high\n",
      "|   |--- have_used_chatgpt_no >  0.50\n",
      "|   |   |--- good_relaxation <= 1.50\n",
      "|   |   |   |--- taken_information_retrieval_course_no <= 0.50\n",
      "|   |   |   |   |--- class: low\n",
      "|   |   |   |--- taken_information_retrieval_course_no >  0.50\n",
      "|   |   |   |   |--- class: low\n",
      "|   |   |--- good_relaxation >  1.50\n",
      "|   |   |   |--- class: high\n",
      "|--- good_productivity >  0.50\n",
      "|   |--- taken_information_retrieval_course_no <= 0.50\n",
      "|   |   |--- class: low\n",
      "|   |--- taken_information_retrieval_course_no >  0.50\n",
      "|   |   |--- course_tech <= 0.50\n",
      "|   |   |   |--- class: low\n",
      "|   |   |--- course_tech >  0.50\n",
      "|   |   |   |--- taken_database_course_yes <= 0.50\n",
      "|   |   |   |   |--- class: low\n",
      "|   |   |   |--- taken_database_course_yes >  0.50\n",
      "|   |   |   |   |--- class: high\n",
      "\n"
     ]
    }
   ],
   "source": [
    "# Print the decision tree\n",
    "tree_rules = export_text(decision_tree, feature_names=X.columns.tolist())\n",
    "print(tree_rules)"
   ]
  },
  {
   "cell_type": "code",
   "execution_count": 82,
   "metadata": {},
   "outputs": [
    {
     "data": {
      "image/png": "[encoded data removed]",
      "text/plain": [
       "<Figure size 1800x1440 with 1 Axes>"
      ]
     },
     "metadata": {},
     "output_type": "display_data"
    }
   ],
   "source": [
    "fig = plt.figure(figsize=(25,20))\n",
    "_ = tree.plot_tree(decision_tree, \n",
    "                   feature_names=X.columns.tolist(),  \n",
    "                   class_names=['low','high'],\n",
    "                   filled=True)"
   ]
  },
  {
   "cell_type": "markdown",
   "metadata": {},
   "source": [
    "### Classifier 2 - Random Forest "
   ]
  },
  {
   "cell_type": "code",
   "execution_count": 83,
   "metadata": {},
   "outputs": [
    {
     "name": "stdout",
     "output_type": "stream",
     "text": [
      "Accuracy:  67.05882352941175\n"
     ]
    }
   ],
   "source": [
    "from sklearn.ensemble import RandomForestClassifier\n",
    "from sklearn.datasets import make_classification\n",
    "from sklearn.model_selection import train_test_split\n",
    "from sklearn.metrics import accuracy_score\n",
    "\n",
    "\n",
    "# create a Random Forest Classifier model\n",
    "rfc = RandomForestClassifier(n_estimators=200, random_state=42)\n",
    "\n",
    "# train the model on the training data\n",
    "rfc.fit(x_train, y_train)\n",
    "\n",
    "# predict labels for the test data\n",
    "y_pred = rfc.predict(x_test)\n",
    "\n",
    "# calculate the accuracy of the model\n",
    "accuracy = accuracy_score(y_test, y_pred)\n",
    "print(f\"Accuracy:  {accuracy*100}\")\n"
   ]
  },
  {
   "cell_type": "markdown",
   "metadata": {},
   "source": [
    "## Feature importance"
   ]
  },
  {
   "cell_type": "code",
   "execution_count": 84,
   "metadata": {},
   "outputs": [
    {
     "name": "stdout",
     "output_type": "stream",
     "text": [
      "Feature ranking:\n",
      "good_relaxation : 0.07935625264786524\n",
      "good_weather : 0.07507512752461427\n",
      "good_food : 0.07107457719711877\n",
      "age_less_than_24 : 0.07040117449289633\n",
      "good_socializing : 0.05804103579322375\n",
      "good_productivity : 0.05075003685443856\n",
      "taken_information_retrieval_course_no : 0.0445650372019015\n",
      "taken_information_retrieval_course_yes : 0.04264823976637611\n",
      "time_to_bed_category_early_midnight : 0.042225006408184745\n",
      "have_used_chatgpt_yes : 0.04003198381246351\n",
      "have_used_chatgpt_no : 0.038626024749982626\n",
      "time_to_bed_category_night : 0.03685400072208831\n",
      "course_non_tech : 0.036796415490113324\n",
      "taken_database_course_no : 0.03488064112638025\n",
      "course_tech : 0.03213136728316599\n",
      "taken_database_course_yes : 0.03185565911180931\n",
      "have_used_chatgpt_not willing to say : 0.029375362818828153\n",
      "time_to_bed_category_morning : 0.02821899801414976\n",
      "taken_machine_learning_course_yes : 0.02740334079399144\n",
      "taken_machine_learning_course_no : 0.027111520411678525\n",
      "taken_statistics_course_yes : 0.0235347063836857\n",
      "taken_statistics_course_no : 0.02345272611851658\n",
      "taken_information_retrieval_course_unknown : 0.02212498215768778\n",
      "taken_statistics_course_unknown : 0.01612538848194168\n",
      "time_to_bed_category_early_morning : 0.01117776700864122\n",
      "taken_machine_learning_course_unknown : 0.005531102614932675\n",
      "time_to_bed_category_afternoon : 0.0006315250133239018\n",
      "taken_database_course_unknown : 0.0\n"
     ]
    },
    {
     "data": {
      "image/png": "[encoded data removed]",
      "text/plain": [
       "<Figure size 432x288 with 1 Axes>"
      ]
     },
     "metadata": {},
     "output_type": "display_data"
    }
   ],
   "source": [
    "# get feature importance scores\n",
    "importances = rfc.feature_importances_\n",
    "\n",
    "# sort feature importance scores in descending order\n",
    "indices = sorted(range(len(importances)), key=lambda i: importances[i], reverse=True)\n",
    "feature_names = X.columns.tolist()\n",
    "\n",
    "# print the feature ranking\n",
    "print(\"Feature ranking:\")\n",
    "for i in range(len(importances)):\n",
    "    print(f\"{feature_names[indices[i]]} : {importances[indices[i]]}\")\n",
    "\n",
    "# plot feature importances\n",
    "plt.bar(range(X.shape[1]), importances[indices])\n",
    "plt.xticks(range(X.shape[1]), indices)\n",
    "plt.xlabel(\"Feature index\")\n",
    "plt.ylabel(\"Feature importance score\")\n",
    "plt.show()"
   ]
  },
  {
   "cell_type": "code",
   "execution_count": null,
   "metadata": {},
   "outputs": [],
   "source": []
  }
 ],
 "metadata": {
  "colab": {
   "provenance": []
  },
  "kernelspec": {
   "display_name": "Python 3",
   "language": "python",
   "name": "python3"
  },
  "language_info": {
   "codemirror_mode": {
    "name": "ipython",
    "version": 3
   },
   "file_extension": ".py",
   "mimetype": "text/x-python",
   "name": "python",
   "nbconvert_exporter": "python",
   "pygments_lexer": "ipython3",
   "version": "3.9.12"
  }
 },
 "nbformat": 4,
 "nbformat_minor": 1
}
